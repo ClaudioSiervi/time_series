{
 "cells": [
  {
   "cell_type": "markdown",
   "metadata": {
    "toc": true
   },
   "source": [
    "<h1>Table of Contents<span class=\"tocSkip\"></span></h1>\n",
    "<div class=\"toc\" style=\"margin-top: 1em;\"><ul class=\"toc-item\"><li><span><a href=\"#1.-About-Open-Power-System-Data\" data-toc-modified-id=\"1.-About-Open-Power-System-Data-1\">1. About Open Power System Data</a></span></li><li><span><a href=\"#2.-About-Jupyter-Notebooks-and-GitHub\" data-toc-modified-id=\"2.-About-Jupyter-Notebooks-and-GitHub-2\">2. About Jupyter Notebooks and GitHub</a></span></li><li><span><a href=\"#3.-About-this-datapackage\" data-toc-modified-id=\"3.-About-this-datapackage-3\">3. About this datapackage</a></span></li><li><span><a href=\"#4.-Data-sources\" data-toc-modified-id=\"4.-Data-sources-4\">4. Data sources</a></span></li><li><span><a href=\"#5.-Naming-conventions\" data-toc-modified-id=\"5.-Naming-conventions-5\">5. Naming conventions</a></span></li><li><span><a href=\"#6.-License\" data-toc-modified-id=\"6.-License-6\">6. License</a></span></li></ul></div>"
   ]
  },
  {
   "cell_type": "markdown",
   "metadata": {},
   "source": [
    "<table style=\"width:100%; background-color: #EBF5FB\">\n",
    "  <tr>\n",
    "    <td style=\"border: 1px solid #CFCFCF\">\n",
    "      <b>Time series: Main Notebook</b>\n",
    "      <ul>\n",
    "        <li>Main Notebook</li>\n",
    "        <li><a href=\"processing.ipynb\">Processing Notebook</a></li>\n",
    "      </ul>\n",
    "      <br>This Notebook is part of the <a href=\"http://data.open-power-system-data.org/time_series\">Time series Data Package</a> of <a href=\"http://open-power-system-data.org\">Open Power System Data</a>.\n",
    "    </td>\n",
    "  </tr>\n",
    "</table>"
   ]
  },
  {
   "cell_type": "markdown",
   "metadata": {},
   "source": [
    "# 1. About Open Power System Data"
   ]
  },
  {
   "cell_type": "markdown",
   "metadata": {},
   "source": [
    "This notebook is part of the project [Open Power System Data](http://open-power-system-data.org). Open Power System Data develops a platform for free and open data for electricity system modeling. We collect, check, process, document, and provide data that are publicly available but currently inconvenient to use. \n",
    "More info on Open Power System Data:\n",
    "- [Information on the project on our website](http://open-power-system-data.org)\n",
    "- [Data and metadata on our data platform](http://data.open-power-system-data.org)\n",
    "- [Data processing scripts on our GitHub page](https://github.com/Open-Power-System-Data)"
   ]
  },
  {
   "cell_type": "markdown",
   "metadata": {},
   "source": [
    "# 2. About Jupyter Notebooks and GitHub"
   ]
  },
  {
   "cell_type": "markdown",
   "metadata": {},
   "source": [
    "This file is a [Jupyter Notebook](http://jupyter.org/). A Jupyter Notebook is a file that combines executable programming code with visualizations and comments in markdown format, allowing for an intuitive documentation of the code. We use Jupyter Notebooks for combined coding and documentation. We use Python 3 as programming language. All Notebooks are stored on [GitHub](https://github.com/), a platform for software development, and are publicly available. More information on our IT-concept can be found [here](http://open-power-system-data.org/it). See also our [step-by-step manual](http://open-power-system-data.org/step-by-step) how to use the dataplatform."
   ]
  },
  {
   "cell_type": "markdown",
   "metadata": {},
   "source": [
    "# 3. About this datapackage"
   ]
  },
  {
   "cell_type": "markdown",
   "metadata": {},
   "source": [
    "We provide data in different chunks, or [data packages](http://frictionlessdata.io/data-packages/). The one you are looking at right now, [Time series](http://data.open-power-system-data.org/time_series/), contains various kinds of time series data in 15min, 30min or 60min resolution, namely:\n",
    "- electricity consumption (load)\n",
    "- wind and solar power: capacity, generation forecast, actual generation\n",
    "- day-ahead spot prices\n",
    "\n",
    "The main focus of this datapackage is German data, but we include data from other countries wherever possible.\n",
    "The timeseries become available at different points in time depending on the sources. The full dataset is only available from 2015 onwards.\n",
    "The data has been downloaded from the sources, resampled and merged in a large CSV file with hourly resolution. Additionally, the data available at a higher resolution (some renewables in-feed, 15 minutes) is provided in a separate file."
   ]
  },
  {
   "cell_type": "markdown",
   "metadata": {},
   "source": [
    "# 4. Data sources"
   ]
  },
  {
   "cell_type": "markdown",
   "metadata": {},
   "source": [
    "The main data sources are the various European Transmission System Operators (TSOs) and the [ENTSO-E Data Portal](https://www.entsoe.eu/data/data-portal/Pages/default.aspx). Where no data is available from hte TSOs directly, data are taken from the [ENTSO-E Transparency Plstform](https://transparency.entsoe.eu). A complete list of data sources is provided on the [datapackage information website](http://data.open-power-system-data.org/time_series/). They are also contained in the JSON file that contains all metadata."
   ]
  },
  {
   "cell_type": "markdown",
   "metadata": {},
   "source": [
    "# 5. Naming conventions"
   ]
  },
  {
   "cell_type": "code",
   "execution_count": 1,
   "metadata": {
    "ExecuteTime": {
     "end_time": "2017-07-09T20:05:35.988809Z",
     "start_time": "2017-07-09T20:05:35.964789Z"
    },
    "scrolled": true
   },
   "outputs": [
    {
     "data": {
      "text/html": [
       "<div>\n",
       "<style>\n",
       "    .dataframe thead tr:only-child th {\n",
       "        text-align: right;\n",
       "    }\n",
       "\n",
       "    .dataframe thead th {\n",
       "        text-align: left;\n",
       "    }\n",
       "\n",
       "    .dataframe tbody tr th {\n",
       "        vertical-align: top;\n",
       "    }\n",
       "</style>\n",
       "<table border=\"1\" class=\"dataframe\">\n",
       "  <thead>\n",
       "    <tr style=\"text-align: right;\">\n",
       "      <th></th>\n",
       "      <th></th>\n",
       "      <th></th>\n",
       "      <th></th>\n",
       "    </tr>\n",
       "    <tr>\n",
       "      <th>region</th>\n",
       "      <th>variable</th>\n",
       "      <th>attribute</th>\n",
       "      <th>Explanation</th>\n",
       "    </tr>\n",
       "  </thead>\n",
       "  <tbody>\n",
       "    <tr>\n",
       "      <th rowspan=\"7\" valign=\"top\">ISO-2 digit country code and name of balancing area if applicable, eg. DE_amprion</th>\n",
       "      <th rowspan=\"2\" valign=\"top\">load</th>\n",
       "      <th>old</th>\n",
       "      <th>Hourly Load from ENTSO-E Data Portal</th>\n",
       "    </tr>\n",
       "    <tr>\n",
       "      <th>new</th>\n",
       "      <th>Hourly Load from ENTSO-E Transparency Platform</th>\n",
       "    </tr>\n",
       "    <tr>\n",
       "      <th>price</th>\n",
       "      <th>day_ahead</th>\n",
       "      <th>Day-ahead spot price</th>\n",
       "    </tr>\n",
       "    <tr>\n",
       "      <th rowspan=\"4\" valign=\"top\">solar  / wind-onshore / wind-offshore</th>\n",
       "      <th>generation</th>\n",
       "      <th>Electricity produced py solar power plants</th>\n",
       "    </tr>\n",
       "    <tr>\n",
       "      <th>forecast</th>\n",
       "      <th>Day-ahead generation forecast</th>\n",
       "    </tr>\n",
       "    <tr>\n",
       "      <th>capacity</th>\n",
       "      <th>Installed capacity (actual availability not accounted for)</th>\n",
       "    </tr>\n",
       "    <tr>\n",
       "      <th>profile</th>\n",
       "      <th>Share of installed capacity producing</th>\n",
       "    </tr>\n",
       "  </tbody>\n",
       "</table>\n",
       "</div>"
      ],
      "text/plain": [
       "Empty DataFrame\n",
       "Columns: []\n",
       "Index: [(ISO-2 digit country code and name of balancing area if applicable, eg. DE_amprion, load, old, Hourly Load from ENTSO-E Data Portal), (ISO-2 digit country code and name of balancing area if applicable, eg. DE_amprion, load, new, Hourly Load from ENTSO-E Transparency Platform), (ISO-2 digit country code and name of balancing area if applicable, eg. DE_amprion, price, day_ahead, Day-ahead spot price), (ISO-2 digit country code and name of balancing area if applicable, eg. DE_amprion, solar  / wind-onshore / wind-offshore, generation, Electricity produced py solar power plants), (ISO-2 digit country code and name of balancing area if applicable, eg. DE_amprion, solar  / wind-onshore / wind-offshore, forecast, Day-ahead generation forecast), (ISO-2 digit country code and name of balancing area if applicable, eg. DE_amprion, solar  / wind-onshore / wind-offshore, capacity, Installed capacity (actual availability not accounted for)), (ISO-2 digit country code and name of balancing area if applicable, eg. DE_amprion, solar  / wind-onshore / wind-offshore, profile, Share of installed capacity producing)]"
      ]
     },
     "execution_count": 1,
     "metadata": {},
     "output_type": "execute_result"
    }
   ],
   "source": [
    "import pandas as pd; pd.read_csv('input/notation.csv', index_col=list(range(4)))"
   ]
  },
  {
   "cell_type": "markdown",
   "metadata": {},
   "source": [
    "# 6. License"
   ]
  },
  {
   "cell_type": "markdown",
   "metadata": {},
   "source": [
    "This notebook as well as all other documents in this repository is published under the [MIT License](LICENSE.md)."
   ]
  }
 ],
 "metadata": {
  "anaconda-cloud": {},
  "kernelspec": {
   "display_name": "Python [default]",
   "language": "python",
   "name": "python3"
  },
  "language_info": {
   "codemirror_mode": {
    "name": "ipython",
    "version": 3
   },
   "file_extension": ".py",
   "mimetype": "text/x-python",
   "name": "python",
   "nbconvert_exporter": "python",
   "pygments_lexer": "ipython3",
   "version": "3.6.3"
  },
  "toc": {
   "nav_menu": {
    "height": "120px",
    "width": "252px"
   },
   "number_sections": false,
   "sideBar": true,
   "skip_h1_title": false,
   "toc_cell": true,
   "toc_position": {},
   "toc_section_display": "block",
   "toc_window_display": true
  },
  "varInspector": {
   "cols": {
    "lenName": 16,
    "lenType": 16,
    "lenVar": 40
   },
   "kernels_config": {
    "python": {
     "delete_cmd_postfix": "",
     "delete_cmd_prefix": "del ",
     "library": "var_list.py",
     "varRefreshCmd": "print(var_dic_list())"
    },
    "r": {
     "delete_cmd_postfix": ") ",
     "delete_cmd_prefix": "rm(",
     "library": "var_list.r",
     "varRefreshCmd": "cat(var_dic_list()) "
    }
   },
   "types_to_exclude": [
    "module",
    "function",
    "builtin_function_or_method",
    "instance",
    "_Feature"
   ],
   "window_display": false
  }
 },
 "nbformat": 4,
 "nbformat_minor": 1
}
