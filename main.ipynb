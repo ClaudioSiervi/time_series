{
 "cells": [
  {
   "cell_type": "markdown",
   "metadata": {},
   "source": [
    "# Open Power System Data: time series\n",
    "## About this notebook\n",
    "This is a python script that downloads and processes time-series data from European power systems. Data include electricity consumption (load) from ENTSO-E, wind and solar power generation from various transmission system operators, and wind and solar capacity data from different sources. Processing and data sources are documented in this notebook.\n",
    "\n",
    "The script produces two CSV files containing all data: one on hourly resolution and one in quarter-hourly resolution. The latter containts only those parameters that are available in quarter-hourly resolution.\n",
    "\n",
    "Download all data usually takes several hours. The two output files are about 50 MB each."
   ]
  },
  {
   "cell_type": "markdown",
   "metadata": {},
   "source": [
    "## Data sources\n",
    "For an overview of power system data sources see our [Data Sources](http://open-power-system-data.org/data-sources) project page. \n",
    "\n",
    "We use **load **data from\n",
    "- [ENTSO-E](https://www.entsoe.eu/data/data-portal/consumption/Pages/default.aspx)\n",
    "\n",
    "We use **wind and solar generation** data from\n",
    "- [50Hertz](http://www.50hertz.com/en/Grid-Data)\n",
    "- [Amprion](http://www.amprion.net/en/grid-data)\n",
    "- [TransnetBW](https://www.transnetbw.com/en/key-figures)\n",
    "- [TenneT](http://www.tennettso.de/site/en/Transparency/publications/network-figures/overview)\n",
    "\n",
    "We use **wind and solar capacity** data from\n",
    "- ...\n",
    "\n",
    "We use **spot price** data from\n",
    "- ..."
   ]
  },
  {
   "cell_type": "markdown",
   "metadata": {},
   "source": [
    "## Links to the other Notebooks\n",
    "\n",
    "- [download](https://github.com/Open-Power-System-Data/datapackage_timeseries/blob/master/download.ipynb)\n",
    "- [read](https://github.com/Open-Power-System-Data/datapackage_timeseries/blob/master/read.ipynb)\n",
    "- [processing](https://github.com/Open-Power-System-Data/datapackage_timeseries/blob/master/processing.ipynb)"
   ]
  }
 ],
 "metadata": {
  "kernelspec": {
   "display_name": "Python 3",
   "language": "python",
   "name": "python3"
  },
  "language_info": {
   "codemirror_mode": {
    "name": "ipython",
    "version": 3
   },
   "file_extension": ".py",
   "mimetype": "text/x-python",
   "name": "python",
   "nbconvert_exporter": "python",
   "pygments_lexer": "ipython3",
   "version": "3.4.4"
  }
 },
 "nbformat": 4,
 "nbformat_minor": 0
}
