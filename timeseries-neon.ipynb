{
 "cells": [
  {
   "cell_type": "markdown",
   "metadata": {},
   "source": [
    "# Timeseries download - work in progress\n",
    "\n",
    "So far, this script only downloads solar and wind timeserie from several european TSOs"
   ]
  },
  {
   "cell_type": "markdown",
   "metadata": {},
   "source": [
    "#####Loading some python libraries and defining downloads path inside the notebook's directory on the users computer"
   ]
  },
  {
   "cell_type": "code",
   "execution_count": 7,
   "metadata": {
    "collapsed": true
   },
   "outputs": [],
   "source": [
    "import urllib\n",
    "import os\n",
    "from dateutil import rrule\n",
    "import datetime\n",
    "\n",
    "path = 'downloads/'\n",
    "if not os.path.exists(path): os.makedirs(path)"
   ]
  },
  {
   "cell_type": "markdown",
   "metadata": {},
   "source": [
    "#####This is a python dictionary containing input parameters needed to generate the URLs belonging to the data sources"
   ]
  },
  {
   "cell_type": "code",
   "execution_count": 8,
   "metadata": {
    "collapsed": false
   },
   "outputs": [],
   "source": [
    "conf = {\n",
    "    'TransnetBW': {\n",
    "        'wind': {\n",
    "            'url_template': 'https://www.transnetbw.de/de/kennzahlen/erneuerbare-energien/windenergie?app=wind&activeTab=csv&selectMonatDownload={month}&view=1&download=true',\n",
    "            'bundle': 'special',\n",
    "            'start': '2010-01-01',\n",
    "            'end': '2015-01-01',\n",
    "        }\n",
    "        ,'pv': {\n",
    "            'url_template': 'https://www.transnetbw.de/de/kennzahlen/erneuerbare-energien/fotovoltaik?app=solar&activeTab=csv&selectMonatDownload={month}&view=1&download=true',\n",
    "            'bundle': 'special',\n",
    "            'start': '2011-01-01',\n",
    "            'end': '2015-01-01',\n",
    "        }\n",
    "    }\n",
    "    ,'TenneT': {\n",
    "        'wind': {\n",
    "            'url_template': 'http://www.tennettso.de/site/de/phpbridge?commandpath=Tatsaechliche_und_prognostizierte_Windenergieeinspeisung%2FmonthDataSheetCsv.php&querystring=monat%3D{year}-{month:02d}&contenttype=text%2Fx-csv',\n",
    "            'bundle': 'MONTHLY',\n",
    "            'start': '2005-07-13',\n",
    "            'end': '2015-01-01',\n",
    "        }\n",
    "        ,'pv': {\n",
    "            'url_template': 'http://www.tennettso.de/site/de/phpbridge?commandpath=Tatsaechliche_und_prognostizierte_Solarenergieeinspeisung%2FmonthDataSheetCsv.php&sub=total&querystring=monat%3D{year}-{month:02d}&contenttype=text%2Fx-csv',\n",
    "            'bundle': 'MONTHLY',\n",
    "            'start': '2010-01-01',\n",
    "            'end': '2015-01-01',\n",
    "        }\n",
    "    }\n",
    "    ,'50hertz': {\n",
    "        'wind': {\n",
    "            'url_template': 'http://ws.50hertz.com/web01/api/WindPowerForecast/DownloadFile?fileName={year}.csv&callback=?',\n",
    "            'bundle': 'YEARLY',\n",
    "            'start': '2005-01-01',\n",
    "            'end': '2015-01-01',\n",
    "        }\n",
    "        ,'pv': {\n",
    "            'url_template': 'http://ws.50hertz.com/web01/api/PhotovoltaicForecast/DownloadFile?fileName={year}.csv&callback=?',\n",
    "            'bundle': 'YEARLY',\n",
    "            'start': '2012-01-01',\n",
    "            'end': '2015-01-01',\n",
    "        }\n",
    "    }\n",
    "    ,'RTE': {\n",
    "        'wind_pv': {\n",
    "            'url_template': 'http://clients.rte-france.com/servlets/RealProdServlet?annee={year}',\n",
    "            'bundle': 'YEARLY',\n",
    "            'start': '2014-01-01',\n",
    "            'end': '2015-01-01', \n",
    "        }\n",
    "    }\n",
    "    ,'Svenska_Kraftnaet': {\n",
    "        'wind_pv_1': {\n",
    "            'url_template': 'http://www.svk.se/siteassets/aktorsportalen/statistik/sverigestatistik/n_fot{year}.xls',\n",
    "            'bundle': 'YEARLY',\n",
    "            'start': '2002-01-01',\n",
    "            'end': '2009-01-01',\n",
    "        }\n",
    "        ,'wind_pv_2': {\n",
    "            'url_template': 'http://www.svk.se/siteassets/aktorsportalen/statistik/sverigestatistik/n_fot{year}01-06.xls',\n",
    "            'bundle': 'YEARLY',\n",
    "            'start': '2010-01-01',\n",
    "            'end': '2010-01-01',\n",
    "        }\n",
    "        ,'wind_pv_3': {\n",
    "            'url_template': 'http://www.svk.se/siteassets/aktorsportalen/statistik/sverigestatistik/n_fot{year}-07-12.xls',\n",
    "            'bundle': 'YEARLY',\n",
    "            'start': '2010-01-01',\n",
    "            'end': '2010-01-01',\n",
    "        }\n",
    "        ,'wind_pv_4': {\n",
    "            'url_template': 'http://www.svk.se/siteassets/aktorsportalen/statistik/sverigestatistik/n-fot{year}-01-12.xls',\n",
    "            'bundle': 'YEARLY',\n",
    "            'start': '2011-01-01',\n",
    "            'end': '2011-01-01',\n",
    "        }\n",
    "        ,'wind_pv_5': {\n",
    "            'url_template': 'http://www.svk.se/siteassets/aktorsportalen/statistik/sverigestatistik/n_fot{year}-01-12.xls',\n",
    "            'bundle': 'YEARLY',\n",
    "            'start': '2012-01-01',\n",
    "            'end': '2014-01-01',\n",
    "        }\n",
    "    }\n",
    "    ,'OeMag': {\n",
    "        'wind_1': {\n",
    "            'url_template': 'http://www.oem-ag.at/fileadmin/user_upload/Dokumente/statistik/winderzeugung/winderzeugung_{year}.xls',\n",
    "            'bundle': 'YEARLY',\n",
    "            'start': '2003-01-01',\n",
    "            'end': '2011-01-01',\n",
    "        }\n",
    "        ,'wind_2': {\n",
    "            'url_template': 'http://www.oem-ag.at/fileadmin/user_upload/Dokumente/statistik/winderzeugung/winderzeugung_{year}.xlsx',\n",
    "            'bundle': 'YEARLY',\n",
    "            'start': '2012-01-01',\n",
    "            'end': '2012-01-01',\n",
    "        }\n",
    "    }            \n",
    "}"
   ]
  },
  {
   "cell_type": "markdown",
   "metadata": {},
   "source": [
    "#####Here we iterate over the sources and technology (wind/solar) entries specified above and download the data for all periods (depending on whats specified under 'bundle' either years, days or months) "
   ]
  },
  {
   "cell_type": "code",
   "execution_count": null,
   "metadata": {
    "collapsed": false
   },
   "outputs": [],
   "source": [
    "def download1(url_template, period, source, tech):\n",
    "    name = source+'_'+tech+'_'+period.strftime('%Y-%m-%d')\n",
    "    print('attempting download of ', name)\n",
    "    full_url = url_template.format(year = period.year, month = period.month, day = period.day)\n",
    "    print(full_url)\n",
    "    file = urllib.request.urlopen(full_url)\n",
    "    data = file.read()\n",
    "    with open(path+name+'.csv', 'wb') as output_file:\n",
    "        output_file.write(data)\n",
    "    print('success')\n",
    "    \n",
    "def download2(url_template, count, source, tech):\n",
    "    name = source+'_'+tech+'_'+str(count)\n",
    "    print('attempting download of ', name)\n",
    "    full_url = url_template.format(month = count)\n",
    "    print(full_url)\n",
    "    file = urllib.request.urlopen(full_url)\n",
    "    data = file.read()\n",
    "    with open(path+name+'.csv', 'wb') as output_file:\n",
    "        output_file.write(data)\n",
    "    print('success')\n",
    "        \n",
    "for source, tech in conf.items():\n",
    "    for tech, param in tech.items():\n",
    "        if source == 'TransnetBW': #TransnetBW uses a different format for the months, this requires a different approach\n",
    "            for count in range(0,70): #iterates over range from 0 to 69\n",
    "                download2(param['url_template'], count, source, tech)\n",
    "            continue #jump to the next tech  \n",
    "        start = datetime.datetime.strptime(param['start'], '%Y-%m-%d').date()\n",
    "        end = datetime.datetime.strptime(param['end'], '%Y-%m-%d').date()\n",
    "        if param['bundle'] == 'YEARLY':\n",
    "            for period in rrule.rrule(rrule.YEARLY, dtstart=start, until=end):\n",
    "                download1(param['url_template'], period, source, tech)\n",
    "        if param['bundle'] == 'MONTHLY':\n",
    "            for period in rrule.rrule(rrule.MONTHLY, dtstart=start, until=end):\n",
    "                download1(param['url_template'], period, source, tech)               \n",
    "        if param['bundle'] == 'DAILY':\n",
    "            for period in rrule.rrule(rrule.DAILY, dtstart=start, until=end):\n",
    "                download1(param['url_template'], period, source, tech)"
   ]
  }
 ],
 "metadata": {
  "kernelspec": {
   "display_name": "Python 3",
   "language": "python",
   "name": "python3"
  },
  "language_info": {
   "codemirror_mode": {
    "name": "ipython",
    "version": 3
   },
   "file_extension": ".py",
   "mimetype": "text/x-python",
   "name": "python",
   "nbconvert_exporter": "python",
   "pygments_lexer": "ipython3",
   "version": "3.4.3"
  }
 },
 "nbformat": 4,
 "nbformat_minor": 0
}
