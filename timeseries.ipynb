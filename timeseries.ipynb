{
 "cells": [
  {
   "cell_type": "markdown",
   "metadata": {},
   "source": [
    "# 1. Open Power System Data: time series"
   ]
  },
  {
   "cell_type": "markdown",
   "metadata": {},
   "source": [
    "## 1.1 About this notebook"
   ]
  },
  {
   "cell_type": "markdown",
   "metadata": {},
   "source": [
    "This is a python script that downloads and processes time-series data from European power systems. Data include electricity consumption (load) from ENTSO-E, wind and solar power generation from various transmission system operators, and wind and solar capacity data from different sources. Processing and data sources are documented in this notebook.\n",
    "\n",
    "The script produces two CSV files containing all data: one on hourly resolution and one in quarter-hourly resolution. The latter containts only those parameters that are available in quarter-hourly resolution.\n",
    "\n",
    "Download all data usually takes several hours. The two output files are about 50 MB each.\n",
    "\n"
   ]
  },
  {
   "cell_type": "markdown",
   "metadata": {},
   "source": [
    "## 1.2 Data sources"
   ]
  },
  {
   "cell_type": "markdown",
   "metadata": {},
   "source": [
    "For an overview of power system data sources see our [Data Sources](http://open-power-system-data.org/data-sources) project page. \n",
    "\n",
    "We use **load **data from\n",
    "- [ENTSO-E](https://www.entsoe.eu/data/data-portal/consumption/Pages/default.aspx)\n",
    "\n",
    "We use **wind and solar generation** data from\n",
    "- [50Hertz](http://www.50hertz.com/en/Grid-Data)\n",
    "- [Amprion](http://www.amprion.net/en/grid-data)\n",
    "- [TransnetBW](https://www.transnetbw.com/en/key-figures)\n",
    "- [TenneT](http://www.tennettso.de/site/en/Transparency/publications/network-figures/overview)\n",
    "\n",
    "We use **wind and solar capacity** data from\n",
    "- ...\n",
    "\n",
    "We use **spot price** data from\n",
    "- ..."
   ]
  },
  {
   "cell_type": "markdown",
   "metadata": {},
   "source": [
    "# Table of Contents\n",
    "* [1. Open Power System Data: time series](#1.-Open-Power-System-Data:-time-series)\n",
    "\t* [1.1 About this notebook](#1.1-About-this-notebook)\n",
    "\t* [1.2 Data sources](#1.2-Data-sources)\n",
    "* [2. Settings](#2.-Settings)\n",
    "\t* [2.1 Libraries](#2.1-Libraries)\n",
    "* [3. Downloading the data](#3.-Downloading-the-data)\n",
    "\t* [3.1 Creating a data directory](#3.1-Creating-a-data-directory)\n",
    "\t* [3.2 Parameters for individual data sources](#3.2-Parameters-for-individual-data-sources)\n",
    "\t\t* [3.2.1 ENTSO-E](#3.2.1-ENTSO-E)\n",
    "\t\t* [3.2.2 '50Hertz](#3.2.2-'50Hertz)\n",
    "\t\t* [3.2.3 Amprion](#3.2.3-Amprion)\n",
    "\t\t* [3.2.4 TransnetBW](#3.2.4-TransnetBW)\n",
    "\t\t* [3.2.5 TenneT](#3.2.5-TenneT)\n",
    "\t* [3.3 Creating YAML strings](#3.3-Creating-YAML-strings)\n",
    "\t* [3.4 Downloading files one by one](#3.4-Downloading-files-one-by-one)\n",
    "* [4. Reading in, processing and aggregating the data](#4.-Reading-in,-processing-and-aggregating-the-data)\n",
    "\t* [4.1 Defining individual read funtions for each data source](#4.1-Defining-individual-read-funtions-for-each-data-source)\n",
    "\t\t* [4.1.1 ENTSO-E](#4.1.1-ENTSO-E)\n",
    "\t\t* [4.1.2 '50Hertz](#4.1.2-'50Hertz)\n",
    "\t\t* [4.1.3 Amprion](#4.1.3-Amprion)\n",
    "\t\t* [4.1.4 TransnetBW](#4.1.4-TransnetBW)\n",
    "\t\t* [4.1.5 TenneT](#4.1.5-TenneT)\n",
    "\t* [4.2 Reading files one by one](#4.2-Reading-files-one-by-one)\n",
    "\t\t* [4.2.1 Creat an empty DataFrame](#4.2.1-Creat-an-empty-DataFrame)\n",
    "\t\t* [4.2.2 Apply the processing function one-by-one](#4.2.2-Apply-the-processing-function-one-by-one)\n",
    "\t* [4.3 Display the Dataset](#4.3-Display-the-Dataset)\n",
    "\t* [4.4 Creating German data from individual TSOs](#4.4-Creating-German-data-from-individual-TSOs)\n",
    "\t* [4.5 Create hourly data from 15' data](#4.5-Create-hourly-data-from-15'-data)\n",
    "* [5. Save csv file to disk](#5.-Save-csv-file-to-disk)\n"
   ]
  },
  {
   "cell_type": "markdown",
   "metadata": {},
   "source": [
    "# 2. Settings"
   ]
  },
  {
   "cell_type": "markdown",
   "metadata": {},
   "source": [
    "## 2.1 Libraries"
   ]
  },
  {
   "cell_type": "markdown",
   "metadata": {},
   "source": [
    "Loading some python libraries."
   ]
  },
  {
   "cell_type": "code",
   "execution_count": null,
   "metadata": {
    "collapsed": true
   },
   "outputs": [],
   "source": [
    "from datetime import datetime, date\n",
    "import pytz\n",
    "import yaml\n",
    "import requests\n",
    "import os\n",
    "import numpy as np\n",
    "import pandas as pd\n",
    "import logging"
   ]
  },
  {
   "cell_type": "markdown",
   "metadata": {},
   "source": [
    "Set up a log"
   ]
  },
  {
   "cell_type": "code",
   "execution_count": null,
   "metadata": {
    "collapsed": false
   },
   "outputs": [],
   "source": [
    "logger = logging.getLogger('log')\n",
    "logger.setLevel('INFO')"
   ]
  },
  {
   "cell_type": "markdown",
   "metadata": {},
   "source": [
    "# 3. Downloading the data"
   ]
  },
  {
   "cell_type": "markdown",
   "metadata": {},
   "source": [
    "First, a data directory is created on your local computer. Then, download parameters for each data source are defined, including the URL. These parameters are then turned into a YAML-string. Finally, the download is executed one by one. If all data need to be downloaded, this usually takes several hours."
   ]
  },
  {
   "cell_type": "markdown",
   "metadata": {},
   "source": [
    "## 3.1 Creating a data directory"
   ]
  },
  {
   "cell_type": "markdown",
   "metadata": {},
   "source": [
    "This section creates a folder \"downloadpath\" inside the notebook's directory on the user's local computer for the downloaded data. The folder is labelled with a time stamp."
   ]
  },
  {
   "cell_type": "code",
   "execution_count": null,
   "metadata": {
    "collapsed": false,
    "scrolled": true
   },
   "outputs": [],
   "source": [
    "downloadpath = 'downloads1'\n",
    "if not os.path.exists(downloadpath): os.makedirs(downloadpath)\n",
    "archivepath = os.path.join(\n",
    "    downloadpath, 'archive-' + datetime.now().strftime('%Y-%m-%d')\n",
    "    )"
   ]
  },
  {
   "cell_type": "markdown",
   "metadata": {},
   "source": [
    "Do you want to save a copy of each downloaded file under the original filename? If so, Set ARCHIVE = True, if not, set ARCHIVE = False. The latter has the advantage that it's considerably faster if some files have already been downladed during a previous run, whereas the former will download every file again, because otherwise it's not possible to compare the filenames."
   ]
  },
  {
   "cell_type": "code",
   "execution_count": null,
   "metadata": {
    "collapsed": true
   },
   "outputs": [],
   "source": [
    "ARCHIVE = True"
   ]
  },
  {
   "cell_type": "code",
   "execution_count": null,
   "metadata": {
    "collapsed": true
   },
   "outputs": [],
   "source": [
    "ARCHIVE = False"
   ]
  },
  {
   "cell_type": "markdown",
   "metadata": {},
   "source": [
    "## 3.2 Parameters for individual data sources"
   ]
  },
  {
   "cell_type": "markdown",
   "metadata": {},
   "source": [
    "This section contains a python dictionary for each download source with input parameters needed to generate the URLs for the data."
   ]
  },
  {
   "cell_type": "markdown",
   "metadata": {},
   "source": [
    "### 3.2.1 ENTSO-E"
   ]
  },
  {
   "cell_type": "code",
   "execution_count": null,
   "metadata": {
    "collapsed": false
   },
   "outputs": [],
   "source": [
    "entso = \"\"\"\n",
    "ENTSO-E: \n",
    "    Data_Portal: \n",
    "        url_template: https://www.entsoe.eu/fileadmin/template/other/statistical_database/excel.php\n",
    "        url_params:\n",
    "            pid: '136'\n",
    "            opt_period: '0'\n",
    "            send: send\n",
    "            opt_Response: '99'\n",
    "            dataindx: '0'\n",
    "            opt_Month: '{u_start.month}'\n",
    "            opt_Year: '{u_start.year}'\n",
    "        frequency: M\n",
    "        start: 2006-01-01\n",
    "        end: recent\n",
    "        filetype: xls\n",
    "\"\"\""
   ]
  },
  {
   "cell_type": "markdown",
   "metadata": {},
   "source": [
    "### 3.2.2 '50Hertz"
   ]
  },
  {
   "cell_type": "code",
   "execution_count": null,
   "metadata": {
    "collapsed": true
   },
   "outputs": [],
   "source": [
    "hertz = \"\"\"\n",
    "50Hertz: \n",
    "    wind: \n",
    "        url_template: http://ws.50hertz.com/web01/api/WindPowerForecast/DownloadFile\n",
    "        url_params:\n",
    "            callback: '?'\n",
    "            fileName: '{u_start:%Y}.csv'\n",
    "        frequency: A\n",
    "        start: 2005-01-01\n",
    "        end: recent\n",
    "        filetype: csv\n",
    "    pv: \n",
    "        url_template: http://ws.50hertz.com/web01/api/PhotovoltaicForecast/DownloadFile\n",
    "        url_params:\n",
    "            callback: '?'\n",
    "            fileName: '{u_start:%Y}.csv'\n",
    "        frequency: A\n",
    "        start: 2012-01-01\n",
    "        end: recent\n",
    "        filetype: csv\n",
    "\"\"\""
   ]
  },
  {
   "cell_type": "markdown",
   "metadata": {},
   "source": [
    "### 3.2.3 Amprion"
   ]
  },
  {
   "cell_type": "code",
   "execution_count": null,
   "metadata": {
    "collapsed": false
   },
   "outputs": [],
   "source": [
    "amprion = \"\"\"\n",
    "Amprion:\n",
    "    wind: \n",
    "        url_template: http://amprion.de/applications/applicationfiles/winddaten2.php\n",
    "        url_params:\n",
    "            mode: download\n",
    "            format: csv\n",
    "            start: '{u_start.day}.{u_start.month}.{u_start.year}'\n",
    "            end: '{u_end.day}.{u_end.month}.{u_end.year}' # dates must not be zero-padded\n",
    "        frequency: complete\n",
    "        start: 2008-01-04\n",
    "        end: recent\n",
    "        filetype: csv\n",
    "    pv: \n",
    "        url_template: http://amprion.de/applications/applicationfiles/PV_einspeisung.php\n",
    "        url_params:\n",
    "            mode: download\n",
    "            format: csv\n",
    "            start: '{u_start.day}.{u_start.month}.{u_start.year}'\n",
    "            end: '{u_end.day}.{u_end.month}.{u_end.year}' # dates must not be zero-padded        \n",
    "        frequency: complete\n",
    "        start: 2010-01-07\n",
    "        end: recent\n",
    "        filetype: csv\n",
    "\"\"\""
   ]
  },
  {
   "cell_type": "markdown",
   "metadata": {},
   "source": [
    "### 3.2.4 TransnetBW"
   ]
  },
  {
   "cell_type": "code",
   "execution_count": null,
   "metadata": {
    "collapsed": false
   },
   "outputs": [],
   "source": [
    "transnetbw = \"\"\"\n",
    "TransnetBW: \n",
    "    wind: \n",
    "        url_template: https://www.transnetbw.de/de/kennzahlen/erneuerbare-energien/windenergie\n",
    "        url_params:\n",
    "            app: wind\n",
    "            activeTab: csv\n",
    "            view: '1'\n",
    "            download: 'true'\n",
    "            selectMonatDownload: '{u_transnet}'\n",
    "        frequency: M\n",
    "        start: 2010-01-01\n",
    "        end: recent\n",
    "        filetype: csv\n",
    "    pv: \n",
    "        url_template: https://www.transnetbw.de/de/kennzahlen/erneuerbare-energien/fotovoltaik\n",
    "        url_params:\n",
    "            app: wind\n",
    "            activeTab: csv\n",
    "            view: '1'\n",
    "            download: 'true'\n",
    "            selectMonatDownload: '{u_transnet}'\n",
    "        frequency: M\n",
    "        start: 2011-01-01\n",
    "        end: recent\n",
    "        filetype: csv\n",
    "\"\"\""
   ]
  },
  {
   "cell_type": "markdown",
   "metadata": {},
   "source": [
    "### 3.2.5 TenneT"
   ]
  },
  {
   "cell_type": "code",
   "execution_count": null,
   "metadata": {
    "collapsed": true
   },
   "outputs": [],
   "source": [
    "tennet = \"\"\"\n",
    "TenneT: \n",
    "    wind: \n",
    "        url_template: http://www.tennettso.de/site/de/phpbridge\n",
    "        url_params:\n",
    "            commandpath: Tatsaechliche_und_prognostizierte_Windenergieeinspeisung/monthDataSheetCsv.php\n",
    "            contenttype: text/x-csv\n",
    "            querystring: monat={u_start:%Y-%m}\n",
    "        frequency: M\n",
    "        start: 2006-01-01\n",
    "        end: recent\n",
    "        filetype: csv        \n",
    "    pv: \n",
    "        url_template: http://www.tennettso.de/site/de/phpbridge\n",
    "        url_params:\n",
    "            commandpath: Tatsaechliche_und_prognostizierte_Solarenergieeinspeisung/monthDataSheetCsv.php\n",
    "            sub: total\n",
    "            contenttype: text/x-csv\n",
    "            querystring: monat={u_start:%Y-%m}\n",
    "        frequency: M\n",
    "        start: 2010-01-01\n",
    "        end: recent\n",
    "        filetype: csv  \n",
    "\"\"\""
   ]
  },
  {
   "cell_type": "markdown",
   "metadata": {},
   "source": [
    "## 3.3 Creating YAML strings"
   ]
  },
  {
   "cell_type": "markdown",
   "metadata": {},
   "source": [
    "Loading the parameters for the data sources we wish to include into a [YAML](https://en.wikipedia.org/wiki/YAML)-string."
   ]
  },
  {
   "cell_type": "code",
   "execution_count": null,
   "metadata": {
    "collapsed": false
   },
   "outputs": [],
   "source": [
    "conf = yaml.load(hertz + amprion + tennet + transnetbw + entso)"
   ]
  },
  {
   "cell_type": "markdown",
   "metadata": {},
   "source": [
    "## 3.4 Downloading files one by one"
   ]
  },
  {
   "cell_type": "markdown",
   "metadata": {},
   "source": [
    "In the following we iterate over the sources and technology (wind/solar) entries specified above and download the data for a the period given in the parameters. The filename is chosen so it reveals the files contents.\n",
    "\n",
    "If archive is set to 'True', a copy of each file is also saved under it's original filename. Note that the original file names are often not self-explanatory (called \"data\" or \"January\")."
   ]
  },
  {
   "cell_type": "code",
   "execution_count": null,
   "metadata": {
    "collapsed": false
   },
   "outputs": [],
   "source": [
    "def download(session, source, tech, s, e, **p):\n",
    "    \"\"\"construct URLs from template and parameters, save, and archive.\"\"\"\n",
    "    logger.info(\n",
    "        'Attempting download of: {} {} {:%Y-%m-%d}-{:%Y-%m-%d}'.format(\n",
    "            source, tech, s, e\n",
    "            )\n",
    "        )\n",
    "    work_file = os.path.join(\n",
    "        downloadpath,\n",
    "        source + '_' + tech +'_' +\n",
    "        s.strftime('%Y-%m-%d') + '_'+\n",
    "        e.strftime('%Y-%m-%d') + '.' +\n",
    "        p['filetype']\n",
    "        )\n",
    "    \n",
    "    count = datetime.now().month - s.month + (datetime.now().year - s.year)*12\n",
    "    for key, value in p['url_params'].items():\n",
    "        p['url_params'][key] = value.format(\n",
    "            u_start = s,\n",
    "            u_end = e,\n",
    "            u_transnet = count\n",
    "            )\n",
    "        \n",
    "    if not os.path.exists(work_file) or ARCHIVE:\n",
    "        resp = session.get(p['url_template'], params=p['url_params'])                \n",
    "        logger.info('From URL: %s', resp.url)        \n",
    "        save(resp, work_file)\n",
    "        \n",
    "        if ARCHIVE:        \n",
    "            original_filename = resp.headers['content-disposition'].split(\n",
    "                'filename=')[-1].replace('\"','').replace(';','')                \n",
    "            logger.info(\n",
    "                'Archiving under original filename: %s', original_filename\n",
    "                )\n",
    "            full_archivepath = os.path.join(archivepath, source, tech)\n",
    "            if not os.path.exists(full_archivepath):\n",
    "                os.makedirs(full_archivepath)\n",
    "            archive_file = os.path.join(full_archivepath, original_filename)\n",
    "            save(resp, archive_file)\n",
    "            \n",
    "    else:\n",
    "        logger.info('File already downloaded. Skip to next.')\n",
    "        \n",
    "    return\n",
    "\n",
    "\n",
    "def save(resp, filepath):\n",
    "    \"\"\"save a file from a response-object under a given path\"\"\"\n",
    "    if not os.path.exists(filepath):        \n",
    "        with open(filepath, 'wb') as output_file:\n",
    "            for chunk in resp.iter_content(1024):\n",
    "                output_file.write(chunk)\n",
    "    else:\n",
    "        logger.info('File already exists. Skip to next.')\n",
    "        \n",
    "    return\n",
    "\n",
    "\n",
    "for source, t in conf.items():\n",
    "    for tech, p in t.items():\n",
    "        session = requests.session()\n",
    "#        p['start'] = date(2015,1,1) #uncomment this to set a different start\n",
    "        if p['end'] == 'recent':\n",
    "            p['end'] = date(2015,12,31)\n",
    "\n",
    "        if p['frequency'] == 'complete':\n",
    "            download(session, source, tech, p['start'], p['end'], **p)            \n",
    "        else:\n",
    "            starts = pd.date_range(\n",
    "                start=p['start'], end=p['end'], freq=p['frequency']+'S')\n",
    "            ends = pd.date_range(\n",
    "                start=p['start'], end=p['end'], freq=p['frequency'])\n",
    "            for start, end in zip(starts, ends):\n",
    "                download(session, source, tech, start, end, **p)        \n",
    "                "
   ]
  },
  {
   "cell_type": "markdown",
   "metadata": {},
   "source": [
    "# 4. Reading in, processing and aggregating the data"
   ]
  },
  {
   "cell_type": "markdown",
   "metadata": {},
   "source": [
    "We want to merge the downloadet files into one singe CSV file. \n",
    "\n",
    "Every data source  provides the data in a different format, using different labelling and a specific treatment of dayligh saving times. This requires custom read functionality for every source.\n",
    "\n",
    "We first define individual read functions for each data source. Then, an empty DataFrame is created and and apply the read functions are applied one by one. In the next step, part of the data frame and some descriptive statistics are displayed for error checking. Then, data from the the four German TSOs are aggregated. In the last step, quarter-hourly data is transformed to hourly-data."
   ]
  },
  {
   "cell_type": "markdown",
   "metadata": {},
   "source": [
    "## 4.1 Defining individual read funtions for each data source"
   ]
  },
  {
   "cell_type": "markdown",
   "metadata": {},
   "source": [
    "### 4.1.1 ENTSO-E"
   ]
  },
  {
   "cell_type": "code",
   "execution_count": null,
   "metadata": {
    "collapsed": false
   },
   "outputs": [],
   "source": [
    "def read_entso(filepath, source, tech):\n",
    "    data = pd.read_excel(\n",
    "        io=filepath,\n",
    "        header=9,\n",
    "        skiprows=None,\n",
    "        index_col=[0, 1],\n",
    "        parse_cols = None #None means: parse all columns\n",
    "        )\n",
    "    \n",
    "#    dst_transition_days = [d.date() for d in pytz.timezone(\n",
    "#            'Europe/Berlin')._utc_transition_times[1:]]\n",
    "    dst_transition_times = [d.replace(hour=2) for d in pytz.timezone(\n",
    "            'Europe/Berlin')._utc_transition_times[1:]]\n",
    "    \n",
    "    # The original data has days and countries in the rows and hours in the\n",
    "    # columns.  This rearranges the table, mapping hours on the rows and\n",
    "    # countries on the columns.  \n",
    "    data = data.stack(level=None).unstack(level='Country').reset_index()    \n",
    "    # pythons DataFrame.stack() puts former columnnames in a new index object\n",
    "    # named after their level.\n",
    "    data.rename(columns={'level_1': 'raw_hour'}, inplace=True)\n",
    "    \n",
    "    # Truncate the hours column and replace letters (incating which is which\n",
    "    # during fall dst-transition).  Hours are indexed 1-24 rather then 0-23,\n",
    "    # so we deduct 1.\n",
    "    data['hour'] = (data['raw_hour'].str[:2].str.replace(\n",
    "            'A','').str.replace('B','').astype(int) - 1).astype(str)    \n",
    "    data['dt_index'] = pd.to_datetime(data['Day']+' '+data['hour']+':00')\n",
    "    data.set_index('dt_index', inplace=True)    \n",
    "    \n",
    "    # Drop 2nd occurence of 03:00 appearing in October data except for autumn\n",
    "    # dst-transition\n",
    "    data = data[~((data['raw_hour'] == '3B:00:00') & ~(\n",
    "                data.index.isin(dst_transition_times)))]\n",
    "    # Drop 03:00 for (spring) dst-transition. October data is unaffected because\n",
    "    # the format is 3A:00/3B:00 \n",
    "    data = data[~((data['raw_hour'] == '03:00:00') & (\n",
    "                data.index.isin(dst_transition_times)))]\n",
    "    \n",
    "    data.index = data.index.tz_localize('Europe/Berlin', ambiguous='infer')\n",
    "    data.drop(['Day', 'hour', 'raw_hour'], axis=1, inplace=True)\n",
    "    data.rename(columns=lambda x: 'load_' + x, inplace=True)\n",
    "    data = data.replace(to_replace='n.a.', value=np.nan)\n",
    "    \n",
    "    return data"
   ]
  },
  {
   "cell_type": "markdown",
   "metadata": {},
   "source": [
    "### 4.1.2 '50Hertz"
   ]
  },
  {
   "cell_type": "code",
   "execution_count": null,
   "metadata": {
    "collapsed": true
   },
   "outputs": [],
   "source": [
    "def read_hertz(filepath, source, tech):\n",
    "    data = pd.read_csv(\n",
    "        filepath,\n",
    "        sep=\";\",\n",
    "        header=3,\n",
    "        index_col='dt_index',\n",
    "        names=[\n",
    "            'date',\n",
    "            'time',\n",
    "            source + '_' + tech + '_actual'\n",
    "            ],\n",
    "        parse_dates={'dt_index': ['date', 'time']},\n",
    "        date_parser=None,\n",
    "        dayfirst=True,\n",
    "        decimal=',',\n",
    "        thousands='.',\n",
    "        # truncate values in 'time' column after 5th character\n",
    "        converters={'time': lambda x: x[:5]},\n",
    "        usecols=[0, 1, 3],\n",
    "    )\n",
    "    \n",
    "    # Until 2006 as well as  in 2015, only the wintertime October dst-transition\n",
    "    # (marked by a B in the data) is reported, the summertime hour, (marked by \n",
    "    # an A) is missing in the data.      \n",
    "    if pd.to_datetime(data.index.values[0]).year not in range(2007,2015):\n",
    "        dst_arr = np.zeros(len(data.index), dtype=bool)\n",
    "        data.index = data.index.tz_localize('Europe/Berlin', ambiguous=dst_arr)\n",
    "    else:\n",
    "        data.index = data.index.tz_localize('Europe/Berlin', ambiguous='infer')\n",
    "    \n",
    "    return data            "
   ]
  },
  {
   "cell_type": "markdown",
   "metadata": {},
   "source": [
    "### 4.1.3 Amprion"
   ]
  },
  {
   "cell_type": "code",
   "execution_count": null,
   "metadata": {
    "collapsed": true
   },
   "outputs": [],
   "source": [
    "def read_amprion(filepath, source, tech):\n",
    "    data = pd.read_csv(\n",
    "        filepath,\n",
    "        sep=\";\",\n",
    "        header=0,\n",
    "        index_col='dt_index',\n",
    "        names=[\n",
    "            'date',\n",
    "            'time',\n",
    "            source + '_' + tech + '_forecast',\n",
    "            source + '_' + tech + '_actual'\n",
    "            ],\n",
    "        parse_dates={'dt_index' : ['date', 'time']},\n",
    "        date_parser=None,\n",
    "        dayfirst=True,\n",
    "#        decimal=',', #shouldn't be relevant\n",
    "        thousands=None,\n",
    "        # Truncate values in 'time' column after 5th character.\n",
    "        converters={'time': lambda x: x[:5]},\n",
    "        usecols=[0, 1, 2, 3],        \n",
    "    )\n",
    "\n",
    "    index1 = data.index[data.index.year <= 2009]\n",
    "    index1 = index1.tz_localize('Europe/Berlin', ambiguous='infer')        \n",
    "    index2 = data.index[data.index.year > 2009]\n",
    "    dst_arr = np.ones(len(index2), dtype=bool)\n",
    "    index2 = index2.tz_localize('Europe/Berlin', ambiguous=dst_arr)        \n",
    "    data.index = index1.append(index2)\n",
    "\n",
    "    # dst_arr is a boolean array consisting only of \"True\" entries, telling \n",
    "    # python to treat the hour from 2:00 to 2:59 as summertime.  \n",
    "    \n",
    "    return data"
   ]
  },
  {
   "cell_type": "markdown",
   "metadata": {},
   "source": [
    "### 4.1.4 TransnetBW"
   ]
  },
  {
   "cell_type": "code",
   "execution_count": null,
   "metadata": {
    "collapsed": false
   },
   "outputs": [],
   "source": [
    "def read_transnetbw(filepath, source, tech):\n",
    "    data = pd.read_csv(\n",
    "        filepath,\n",
    "        sep=\";\",\n",
    "        header=0,\n",
    "        index_col=\"dt_index\",\n",
    "        names=[\n",
    "            'date',\n",
    "            'time',\n",
    "            source + '_' + tech + '_forecast',\n",
    "            source + '_' + tech + '_actual'\n",
    "            ],\n",
    "        parse_dates={'dt_index': ['date', 'time']},\n",
    "        date_parser=None,         \n",
    "        dayfirst=True,\n",
    "        decimal=',',\n",
    "        thousands=None,\n",
    "        converters=None,\n",
    "        usecols=[0, 1, 4, 5],\n",
    "    )\n",
    "        \n",
    "    data.index = data.index.tz_localize('Europe/Berlin', ambiguous='infer')\n",
    "    # \"ambigous\" refers to how the October dst-transition hour is handled.  \n",
    "    # ‘infer’ will attempt to infer dst-transition hours based on order.  \n",
    "        \n",
    "    return data"
   ]
  },
  {
   "cell_type": "markdown",
   "metadata": {},
   "source": [
    "### 4.1.5 TenneT"
   ]
  },
  {
   "cell_type": "code",
   "execution_count": null,
   "metadata": {
    "collapsed": false
   },
   "outputs": [],
   "source": [
    "def read_tennet(filepath, source, tech):\n",
    "    data = pd.read_csv(\n",
    "        filepath,\n",
    "        sep=\";\",\n",
    "        encoding='latin_1',\n",
    "        header=3,\n",
    "        index_col=None,\n",
    "        names=[\n",
    "            'date',\n",
    "            'position',\n",
    "            source + '_' + tech + '_forecast',\n",
    "            source + '_' + tech + '_actual',\n",
    "            source + '_' + tech + '_offshore_share'\n",
    "            ],\n",
    "        parse_dates=False,\n",
    "        date_parser=None,\n",
    "        dayfirst=True,\n",
    "#       decimal=',', #shouldn't be relevant\n",
    "        thousands=None,\n",
    "        converters=None,          \n",
    "        usecols=[0, 1, 2, 3, 4],\n",
    "    )\n",
    "\n",
    "    data['date'].fillna(method='ffill', limit = 100, inplace=True)\n",
    "\n",
    "    # The Tennet Data doesn't feature a timestamp column. Instead, the \n",
    "    # quarter-hourly data entries for each day are numbered their position,\n",
    "    # creating an index ranging from 1 to 96 on normal days. This index can be\n",
    "    # used to compute a timestamp.  However, the behaviour for DST switch dates\n",
    "    # needs to be specified seperately as follows:\n",
    "\n",
    "    for i in range(len(data.index)):\n",
    "        # On the day in March when summertime begins, shift the data forward by\n",
    "        # 1 hour, beginning with the 9th quarter-hour, so the index runs again\n",
    "        # up to 96\n",
    "        if (data['position'][i] == 92 and (\n",
    "                (i == len(data.index)-1) or\n",
    "                (data['position'][i + 1] == 1)\n",
    "                )\n",
    "           ):\n",
    "            slicer = data[\n",
    "                (data['date'] == data['date'][i]) &\n",
    "                (data['position'] >= 9)\n",
    "                ].index\n",
    "            data.loc[slicer, 'position'] = data['position'] + 4\n",
    "\n",
    "        if data['position'][i] > 96: # True when summertime ends in October\n",
    "            logger.info('%s th quarter-hour at %s, position %s',data[\n",
    "                    'position'][i], data.ix[i,'date'], (i))  \n",
    "\n",
    "            # Instead of having the quarter-hours' index run up to 100, we want \n",
    "            # to have it set back by 1 hour beginning from the 13th\n",
    "            # quarter-hour, ending at 96\n",
    "            if (data['position'][i] == 100 and not\n",
    "                    (data['position'] == 101).any()):                    \n",
    "                slicer = data[\n",
    "                    (data['date'] == data['date'][i]) &\n",
    "                    (data['position'] >= 13)\n",
    "                    ].index\n",
    "                data.loc[slicer, 'position'] = data['position'] - 4                     \n",
    "\n",
    "            # In 2011 and 2012, there are 101 qaurter hours on the day the \n",
    "            # summertime ends, so 1 too many.  From looking at the data, we\n",
    "            # inferred that the 13'th quarter hour is the culprit, so we drop\n",
    "            # that.  The following entries for that day need to be shifted.\n",
    "            elif data['position'][i] == 101: \n",
    "                data = data[~(\n",
    "                    (data['date'] == data['date'][i]) &\n",
    "                    (data['position'] == 13)\n",
    "                    )]\n",
    "                slicer = data[\n",
    "                    (data['date'] == data['date'][i]) &\n",
    "                    (data['position'] >= 13)\n",
    "                    ].index\n",
    "                data.loc[slicer, 'position'] = data['position'] - 5         \n",
    "\n",
    "    # On 2012-03-25, there are 94 entries, where entries 8 and 10 are probably\n",
    "    # wrong.\n",
    "    if data['date'][0] == '2012-03-01':\n",
    "        data = data[~(\n",
    "            (data['date'] == '2012-03-25') & (\n",
    "                (data['position'] == 8) |\n",
    "                (data['position'] == 10)\n",
    "                )\n",
    "            )]\n",
    "        slicer = data[\n",
    "            (data['date'] == '2012-03-25') & \n",
    "            (data['position'] >= 9)\n",
    "            ].index\n",
    "        data.loc[slicer, 'position'] = [8] + list(range(13, 97))        \n",
    "\n",
    "    # On 2012-09-27, there are 97 entries. Probably, just the 97th entry is wrong\n",
    "    if data['date'][0] == '2012-09-01':\n",
    "        data = data[~(\n",
    "            (data['date'] == '2012-09-27') &\n",
    "            (data['position'] == 97)\n",
    "            )]          \n",
    "\n",
    "    # Here we compute the timestamp from the position and generate the\n",
    "    # datetime-index\n",
    "    data['hour'] = (np.trunc((data['position']-1)/4)).astype(int).astype(str)\n",
    "    data['minute'] = (((data['position']-1)%4)*15).astype(int).astype(str)\n",
    "    data['dt_index'] = pd.to_datetime(\n",
    "        data['date'] + ' ' +\n",
    "        data['hour'] + ':' +\n",
    "        data['minute'],\n",
    "        dayfirst = True\n",
    "        )\n",
    "    data.set_index('dt_index',inplace=True)\n",
    "\n",
    "    # In the years 2006, 2008, and 2009, the dst-transition hour in March\n",
    "    # appears as empty rows in the data.  We delete it from the set in order to\n",
    "    # make the timezone localization work.  \n",
    "    for crucial_date in pd.to_datetime([\n",
    "            '2006-03-26',\n",
    "            '2008-03-30',\n",
    "            '2009-03-29'\n",
    "            ]).date:\n",
    "        if data.index[0].year == crucial_date.year:\n",
    "            data = data[~(\n",
    "                (data.index.date == crucial_date) &\n",
    "                (data.index.hour == 2)\n",
    "                )]\n",
    "\n",
    "    data.index = data.index.tz_localize('Europe/Berlin', ambiguous='infer')\n",
    "\n",
    "#    data = data.drop(['position', 'date', 'hour', 'minute'], axis=1)\n",
    "    if tech == 'wind':\n",
    "        data = data[[\n",
    "            source + '_' + tech + '_forecast',\n",
    "            source + '_' + tech + '_actual',\n",
    "            source + '_' + tech + '_offshore_share'\n",
    "            ]]\n",
    "    if tech == 'pv':\n",
    "        data = data[[\n",
    "            source + '_' + tech + '_forecast',\n",
    "            source + '_' + tech + '_actual',\n",
    "            ]]\n",
    "\n",
    "    return data"
   ]
  },
  {
   "cell_type": "markdown",
   "metadata": {},
   "source": [
    "## 4.2 Reading files one by one"
   ]
  },
  {
   "cell_type": "markdown",
   "metadata": {},
   "source": [
    "### 4.2.1 Creat an empty DataFrame"
   ]
  },
  {
   "cell_type": "markdown",
   "metadata": {},
   "source": [
    "Create an empty DataFrame / reset the DataFrame"
   ]
  },
  {
   "cell_type": "code",
   "execution_count": null,
   "metadata": {
    "collapsed": false
   },
   "outputs": [],
   "source": [
    "resultDataSet = pd.DataFrame()"
   ]
  },
  {
   "cell_type": "markdown",
   "metadata": {},
   "source": [
    "### 4.2.2 Apply the processing function one-by-one"
   ]
  },
  {
   "cell_type": "markdown",
   "metadata": {},
   "source": [
    "For each source/TSO and technology specified in the conf dict, this section finds all the downloaded files in the downloads folder and then calls the matching readData function.\n",
    "The datasets returned by the read function are then merged into one large dataset."
   ]
  },
  {
   "cell_type": "code",
   "execution_count": null,
   "metadata": {
    "collapsed": false
   },
   "outputs": [],
   "source": [
    "conf = yaml.load(hertz + amprion + tennet + transnetbw + entso)"
   ]
  },
  {
   "cell_type": "code",
   "execution_count": null,
   "metadata": {
    "collapsed": false
   },
   "outputs": [],
   "source": [
    "conf = yaml.load(hertz + entso)"
   ]
  },
  {
   "cell_type": "code",
   "execution_count": null,
   "metadata": {
    "collapsed": false,
    "scrolled": true
   },
   "outputs": [],
   "source": [
    "for source, t in conf.items():\n",
    "    for tech, param in t.items():\n",
    "        for filename in os.listdir(downloadpath):\n",
    "            if source in filename and tech in filename:\n",
    "                logger.info('reading %s', filename)\n",
    "                if os.path.getsize(os.path.join(downloadpath, filename)) < 128:\n",
    "                    logger.info('file is smaller than 128 Byte,' +\n",
    "                                'which means it is probably empty')\n",
    "                else:\n",
    "                    filepath = os.path.join(downloadpath, filename)\n",
    "                    if source == 'ENTSO-E':\n",
    "                        dataToAdd = read_entso(filepath, source, tech)\n",
    "                    elif source == 'Svenska_Kraftnaet':\n",
    "                        dataToAdd = read_svenskakraftnaet(filepath, source, tech)\n",
    "                    elif source == '50Hertz':\n",
    "                        dataToAdd = read_hertz(filepath, source, tech)\n",
    "                    elif source == 'Amprion':\n",
    "                        dataToAdd = read_amprion(filepath, source, tech)\n",
    "                    elif source == 'TenneT':\n",
    "                        dataToAdd = read_tennet(filepath, source, tech)\n",
    "                    elif source == 'TransnetBW':\n",
    "                        dataToAdd = read_transnetbw(filepath, source, tech)\n",
    "\n",
    "                    resultDataSet = resultDataSet.combine_first(dataToAdd)\n",
    "#                    resultDataSet.update(dataToAdd)"
   ]
  },
  {
   "cell_type": "markdown",
   "metadata": {},
   "source": [
    "## 4.3 Display the Dataset"
   ]
  },
  {
   "cell_type": "markdown",
   "metadata": {},
   "source": [
    "This section can be executed to display a preview of the merged dataset."
   ]
  },
  {
   "cell_type": "code",
   "execution_count": null,
   "metadata": {
    "collapsed": false,
    "scrolled": true
   },
   "outputs": [],
   "source": [
    "resultDataSet.head()"
   ]
  },
  {
   "cell_type": "code",
   "execution_count": null,
   "metadata": {
    "collapsed": false,
    "scrolled": true
   },
   "outputs": [],
   "source": [
    "resultDataSet.describe()"
   ]
  },
  {
   "cell_type": "code",
   "execution_count": null,
   "metadata": {
    "collapsed": false,
    "scrolled": true
   },
   "outputs": [],
   "source": [
    "resultDataSet.info()"
   ]
  },
  {
   "cell_type": "markdown",
   "metadata": {},
   "source": [
    "## 4.4 Creating German data from individual TSOs"
   ]
  },
  {
   "cell_type": "markdown",
   "metadata": {},
   "source": [
    "The in-feed data for the 4 German controll areas is summed up."
   ]
  },
  {
   "cell_type": "code",
   "execution_count": null,
   "metadata": {
    "collapsed": true
   },
   "outputs": [],
   "source": [
    "resultDataSet['wind_DE'] = (\n",
    "    resultDataSet['50Hertz_wind_actual'] +\n",
    "    resultDataSet['Amprion_wind_actual'] +\n",
    "    resultDataSet['TransnetBW_wind_actual'] +\n",
    "    resultDataSet['TenneT_wind_actual']\n",
    "    )    \n",
    "resultDataSet['pv_DE'] = (\n",
    "    resultDataSet['50Hertz_pv_actual'] +\n",
    "    resultDataSet['Amprion_pv_actual'] +\n",
    "    resultDataSet['TransnetBW_pv_actual'] +\n",
    "    resultDataSet['TenneT_pv_actual']\n",
    "    )"
   ]
  },
  {
   "cell_type": "markdown",
   "metadata": {},
   "source": [
    "## 4.5 Create hourly data from 15' data"
   ]
  },
  {
   "cell_type": "markdown",
   "metadata": {},
   "source": [
    "Most of the renewables in-feed data comes in 15-minute intervals. We resample it to hourly intervals in order to match the load data from ENTSO-E."
   ]
  },
  {
   "cell_type": "code",
   "execution_count": null,
   "metadata": {
    "collapsed": false,
    "scrolled": true
   },
   "outputs": [],
   "source": [
    "DataSet60 = resultDataSet.resample('H', how='mean')"
   ]
  },
  {
   "cell_type": "markdown",
   "metadata": {},
   "source": [
    "The data that is available in 15 minute resolution extracted to be saved separately"
   ]
  },
  {
   "cell_type": "code",
   "execution_count": null,
   "metadata": {
    "collapsed": false
   },
   "outputs": [],
   "source": [
    "DataSet15 = pd.DataFrame()\n",
    "for column in resultDataSet.columns:\n",
    "    if 'load' not in column:\n",
    "        DataSet15[column] = resultDataSet[column]"
   ]
  },
  {
   "cell_type": "markdown",
   "metadata": {},
   "source": [
    "# 5. Save csv file to disk"
   ]
  },
  {
   "cell_type": "markdown",
   "metadata": {},
   "source": [
    "Finally, we write the data to CSV format and save it in the directory of this notebook. Two files are created: one in hourly granularity called \"timeseries60.csv\" (including all data); and one in quarter-hourly granularity called \"timeseries15.csv\" (including only data avaiable at this resultion)."
   ]
  },
  {
   "cell_type": "code",
   "execution_count": null,
   "metadata": {
    "collapsed": false
   },
   "outputs": [],
   "source": [
    "DataSet60.to_csv('timeseries60.csv', sep=',', float_format='%.2f', decimal='.', date_format='%Y-%m-%dT%H:%M:%S%z')"
   ]
  },
  {
   "cell_type": "code",
   "execution_count": null,
   "metadata": {
    "collapsed": false
   },
   "outputs": [],
   "source": [
    "DataSet15.to_csv('timeseries15.csv', sep=',', float_format='%.2f', decimal='.', date_format='%Y-%m-%dT%H:%M:%S%z')"
   ]
  }
 ],
 "metadata": {
  "kernelspec": {
   "display_name": "Python 3",
   "language": "python",
   "name": "python3"
  },
  "language_info": {
   "codemirror_mode": {
    "name": "ipython",
    "version": 3
   },
   "file_extension": ".py",
   "mimetype": "text/x-python",
   "name": "python",
   "nbconvert_exporter": "python",
   "pygments_lexer": "ipython3",
   "version": "3.4.3"
  }
 },
 "nbformat": 4,
 "nbformat_minor": 0
}
