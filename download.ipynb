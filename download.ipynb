{
 "cells": [
  {
   "cell_type": "markdown",
   "metadata": {},
   "source": [
    "# Download\n",
    "\n",
    "Part of the project [Open Power System Data](http://open-power-system-data.org/).\n",
    "\n",
    "Find the latest version of this notebook an [GitHub](https://github.com/Open-Power-System-Data/datapackage_timeseries/blob/master/download.ipynb)\n",
    "\n",
    "Go back to the main notebook ([GitHub](https://github.com/Open-Power-System-Data/datapackage_timeseries/blob/master/main.ipynb) / [local copy](main.ipynb))"
   ]
  },
  {
   "cell_type": "markdown",
   "metadata": {},
   "source": [
    "First, a data directory is created on your local computer. Then, download parameters for each data source are defined, including the URL. These parameters are then turned into a YAML-string. Finally, the download is executed one by one. If all data need to be downloaded, this usually takes several hours."
   ]
  },
  {
   "cell_type": "markdown",
   "metadata": {},
   "source": [
    "# Table of Contents\n",
    "* [1. Preparations](#1.-Preparations)\n",
    "\t* [1.1 Libraries](#1.1-Libraries)\n",
    "\t* [1.2 Set up a log.](#1.2-Set-up-a-log.)\n",
    "\t* [1.3 Create a download directory](#1.3-Create-a-download-directory)\n",
    "* [2. Parameters for individual data sources](#2.-Parameters-for-individual-data-sources)\n",
    "\t* [2.1 ENTSO-E](#2.1-ENTSO-E)\n",
    "\t* [2.2 '50Hertz](#2.2-'50Hertz)\n",
    "\t* [2.3 Amprion](#2.3-Amprion)\n",
    "\t* [2.4 TransnetBW](#2.4-TransnetBW)\n",
    "\t* [2.5 TenneT](#2.5-TenneT)\n",
    "\t* [2.6 OPSD](#2.6-OPSD)\n",
    "* [3. Download files one by one](#3.-Download-files-one-by-one)\n"
   ]
  },
  {
   "cell_type": "markdown",
   "metadata": {},
   "source": [
    "# 1. Preparations"
   ]
  },
  {
   "cell_type": "markdown",
   "metadata": {},
   "source": [
    "## 1.1 Libraries"
   ]
  },
  {
   "cell_type": "markdown",
   "metadata": {},
   "source": [
    "Loading some python libraries."
   ]
  },
  {
   "cell_type": "code",
   "execution_count": null,
   "metadata": {
    "collapsed": true
   },
   "outputs": [],
   "source": [
    "from datetime import datetime, date\n",
    "import yaml\n",
    "import requests\n",
    "import os\n",
    "import pandas as pd\n",
    "import logging\n",
    "import getpass"
   ]
  },
  {
   "cell_type": "markdown",
   "metadata": {},
   "source": [
    "## 1.2 Set up a log."
   ]
  },
  {
   "cell_type": "code",
   "execution_count": null,
   "metadata": {
    "collapsed": true
   },
   "outputs": [],
   "source": [
    "logger = logging.getLogger('log')\n",
    "logger.setLevel('INFO')"
   ]
  },
  {
   "cell_type": "markdown",
   "metadata": {},
   "source": [
    "## 1.3 Create a download directory"
   ]
  },
  {
   "cell_type": "markdown",
   "metadata": {},
   "source": [
    "This section creates a folder \"downloadpath\" inside the notebook's directory on the user's local computer for the downloaded data."
   ]
  },
  {
   "cell_type": "code",
   "execution_count": null,
   "metadata": {
    "collapsed": false
   },
   "outputs": [],
   "source": [
    "downloadpath = 'original_data'\n",
    "os.makedirs(downloadpath, exist_ok=True)"
   ]
  },
  {
   "cell_type": "markdown",
   "metadata": {},
   "source": [
    "# 2. Parameters for individual data sources"
   ]
  },
  {
   "cell_type": "markdown",
   "metadata": {},
   "source": [
    "This section contains a python dictionary for each download source with input parameters needed to generate the URLs for the data."
   ]
  },
  {
   "cell_type": "markdown",
   "metadata": {},
   "source": [
    "## 2.1 ENTSO-E"
   ]
  },
  {
   "cell_type": "code",
   "execution_count": null,
   "metadata": {
    "collapsed": true
   },
   "outputs": [],
   "source": [
    "entso = \"\"\"\n",
    "ENTSO-E: \n",
    "    load: \n",
    "        url_template: https://www.entsoe.eu/fileadmin/template/other/statistical_database/excel.php\n",
    "        url_params_template:\n",
    "            pid: '136'\n",
    "            opt_period: '0'\n",
    "            send: send\n",
    "            opt_Response: '99'\n",
    "            dataindx: '0'\n",
    "            opt_Month: '{u_start.month}'\n",
    "            opt_Year: '{u_start.year}'\n",
    "        frequency: M\n",
    "        start: 2006-01-01\n",
    "        end: recent\n",
    "        filetype: xls\n",
    "\"\"\""
   ]
  },
  {
   "cell_type": "markdown",
   "metadata": {},
   "source": [
    "## 2.2 '50Hertz"
   ]
  },
  {
   "cell_type": "code",
   "execution_count": null,
   "metadata": {
    "collapsed": true
   },
   "outputs": [],
   "source": [
    "hertz = \"\"\"\n",
    "50Hertz: \n",
    "    wind_generation: \n",
    "        url_template: http://ws.50hertz.com/web01/api/WindPowerActual/DownloadFile\n",
    "        url_params_template:\n",
    "            callback: '?'\n",
    "            fileName: '{u_start:%Y}.csv'\n",
    "        frequency: A\n",
    "        start: 2005-01-01\n",
    "        end: recent\n",
    "        filetype: csv\n",
    "    solar_generation: \n",
    "        url_template: http://ws.50hertz.com/web01/api/PhotovoltaicActual/DownloadFile\n",
    "        url_params_template:\n",
    "            callback: '?'\n",
    "            fileName: '{u_start:%Y}.csv'\n",
    "        frequency: A\n",
    "        start: 2012-01-01\n",
    "        end: recent\n",
    "        filetype: csv\n",
    "    wind_forecast: \n",
    "        url_template: http://ws.50hertz.com/web01/api/WindPowerForecast/DownloadFile\n",
    "        url_params_template:\n",
    "            callback: '?'\n",
    "            fileName: '{u_start:%Y}.csv'\n",
    "        frequency: A\n",
    "        start: 2005-01-01\n",
    "        end: recent\n",
    "        filetype: csv\n",
    "    solar_forecast: \n",
    "        url_template: http://ws.50hertz.com/web01/api/PhotovoltaicForecast/DownloadFile\n",
    "        url_params_template:\n",
    "            callback: '?'\n",
    "            fileName: '{u_start:%Y}.csv'\n",
    "        frequency: A\n",
    "        start: 2012-01-01\n",
    "        end: recent\n",
    "        filetype: csv\n",
    "\"\"\""
   ]
  },
  {
   "cell_type": "markdown",
   "metadata": {},
   "source": [
    "## 2.3 Amprion"
   ]
  },
  {
   "cell_type": "code",
   "execution_count": null,
   "metadata": {
    "collapsed": true
   },
   "outputs": [],
   "source": [
    "amprion = \"\"\"\n",
    "Amprion:\n",
    "    wind: \n",
    "        url_template: http://amprion.de/applications/applicationfiles/winddaten2.php\n",
    "        url_params_template:\n",
    "            mode: download\n",
    "            format: csv\n",
    "            start: '{u_start.day}.{u_start.month}.{u_start.year}'\n",
    "            end: '{u_end.day}.{u_end.month}.{u_end.year}' # dates must not be zero-padded\n",
    "        frequency: complete\n",
    "        start: 2008-01-04\n",
    "        end: recent\n",
    "        filetype: csv\n",
    "    solar: \n",
    "        url_template: http://amprion.de/applications/applicationfiles/PV_einspeisung.php\n",
    "        url_params_template:\n",
    "            mode: download\n",
    "            format: csv\n",
    "            start: '{u_start.day}.{u_start.month}.{u_start.year}'\n",
    "            end: '{u_end.day}.{u_end.month}.{u_end.year}' # dates must not be zero-padded        \n",
    "        frequency: complete\n",
    "        start: 2010-01-07\n",
    "        end: recent\n",
    "        filetype: csv\n",
    "\"\"\""
   ]
  },
  {
   "cell_type": "markdown",
   "metadata": {},
   "source": [
    "## 2.4 TransnetBW"
   ]
  },
  {
   "cell_type": "code",
   "execution_count": null,
   "metadata": {
    "collapsed": true
   },
   "outputs": [],
   "source": [
    "transnetbw = \"\"\"\n",
    "TransnetBW: \n",
    "    wind: \n",
    "        url_template: https://www.transnetbw.de/de/kennzahlen/erneuerbare-energien/windenergie\n",
    "        url_params_template:\n",
    "            app: wind\n",
    "            activeTab: csv\n",
    "            view: '1'\n",
    "            download: 'true'\n",
    "            selectMonatDownload: '{u_transnetbw}'\n",
    "        frequency: M\n",
    "        start: 2010-01-01\n",
    "        end: recent\n",
    "        filetype: csv\n",
    "    solar: \n",
    "        url_template: https://www.transnetbw.de/de/kennzahlen/erneuerbare-energien/fotovoltaik\n",
    "        url_params_template:\n",
    "            app: wind\n",
    "            activeTab: csv\n",
    "            view: '1'\n",
    "            download: 'true'\n",
    "            selectMonatDownload: '{u_transnetbw}'\n",
    "        frequency: M\n",
    "        start: 2011-01-01\n",
    "        end: recent\n",
    "        filetype: csv\n",
    "\"\"\""
   ]
  },
  {
   "cell_type": "markdown",
   "metadata": {},
   "source": [
    "## 2.5 TenneT"
   ]
  },
  {
   "cell_type": "code",
   "execution_count": null,
   "metadata": {
    "collapsed": true
   },
   "outputs": [],
   "source": [
    "tennet = \"\"\"\n",
    "TenneT: \n",
    "    wind: \n",
    "        url_template: http://www.tennettso.de/site/de/phpbridge\n",
    "        url_params_template:\n",
    "            commandpath: Tatsaechliche_und_prognostizierte_Windenergieeinspeisung/monthDataSheetCsv.php\n",
    "            contenttype: text/x-csv\n",
    "            querystring: monat={u_start:%Y-%m}\n",
    "        frequency: M\n",
    "        start: 2006-01-01\n",
    "        end: recent\n",
    "        filetype: csv        \n",
    "    solar: \n",
    "        url_template: http://www.tennettso.de/site/de/phpbridge\n",
    "        url_params_template:\n",
    "            commandpath: Tatsaechliche_und_prognostizierte_Solarenergieeinspeisung/monthDataSheetCsv.php\n",
    "            sub: total\n",
    "            contenttype: text/x-csv\n",
    "            querystring: monat={u_start:%Y-%m}\n",
    "        frequency: M\n",
    "        start: 2010-01-01\n",
    "        end: recent\n",
    "        filetype: csv  \n",
    "\"\"\""
   ]
  },
  {
   "cell_type": "markdown",
   "metadata": {},
   "source": [
    "## 2.6 OPSD"
   ]
  },
  {
   "cell_type": "code",
   "execution_count": null,
   "metadata": {
    "collapsed": true
   },
   "outputs": [],
   "source": [
    "opsd = \"\"\"\n",
    "OPSD:\n",
    "    capacities:\n",
    "        url_template: http://data.open-power-system-data.org/datapackage_renewables/2016-03-09/renewable_capacity_germany_timeseries.csv\n",
    "        url_params_template: \n",
    "        frequency: complete\n",
    "        start: 2005-01-01\n",
    "        end: recent\n",
    "        filetype: csv\n",
    "\"\"\""
   ]
  },
  {
   "cell_type": "markdown",
   "metadata": {},
   "source": [
    "# 3. Download files one by one"
   ]
  },
  {
   "cell_type": "markdown",
   "metadata": {},
   "source": [
    "Load the parameters for the data sources we wish to include into a [YAML](https://en.wikipedia.org/wiki/YAML)-string."
   ]
  },
  {
   "cell_type": "code",
   "execution_count": null,
   "metadata": {
    "collapsed": false
   },
   "outputs": [],
   "source": [
    "conf = yaml.load(hertz + amprion + tennet + transnetbw + entso + opsd)"
   ]
  },
  {
   "cell_type": "markdown",
   "metadata": {},
   "source": [
    "In the following we iterate over the sources and resources (load/wind/solar, forecast/generation/capacity) specified above and download the data for a the period given in the parameters. Each file is saved under it's original filename. Note that the original file names are often not self-explanatory (called \"data\" or \"January\"). The files content is revealed by its place in the directory structure."
   ]
  },
  {
   "cell_type": "code",
   "execution_count": null,
   "metadata": {
    "collapsed": false
   },
   "outputs": [],
   "source": [
    "def download(session, source, resource, p, start, end):\n",
    "    \"\"\"construct URLs from template and parameters, download, and save.\"\"\"\n",
    "    \n",
    "    logger.info('Proceed to download: {} {} {:%Y-%m-%d}_{:%Y-%m-%d}'.format(\n",
    "                source, resource, start, end))\n",
    "    \n",
    "    # Get number of months between now and start (required for TransnetBW).\n",
    "    count = datetime.now().month - start.month + (datetime.now().year-start.year)*12\n",
    "\n",
    "    # Create the parameters dict containing timespan info to be pasted with url\n",
    "    if p['url_params_template']:\n",
    "        url_params = {}\n",
    "        for key, value in p['url_params_template'].items():\n",
    "            url_params[key] = value.format(u_start=start,\n",
    "                                           u_end=end,\n",
    "                                           u_transnetbw=count)\n",
    "\n",
    "    # Each file will be saved in a folder of its own, this allows us to preserve\n",
    "    # the original filename when saving to disk.  \n",
    "    container = os.path.join(downloadpath, source, resource,\n",
    "                             start.strftime('%Y-%m-%d') + '_' +\n",
    "                             end.strftime('%Y-%m-%d'))\n",
    "    os.makedirs(container, exist_ok=True)\n",
    "    \n",
    "    # Attempt the download if there is no file yet.  \n",
    "    count_files =  len(os.listdir(container))   \n",
    "    if count_files == 0:\n",
    "        if source == 'OPSD':\n",
    "            password = getpass.getpass('Please enter the beta-user password:')\n",
    "            resp = session.get(p['url_template'], auth=('beta', password))\n",
    "            original_filename = p['url_template'].split('/')[-1]\n",
    "        else:\n",
    "            resp = session.get(p['url_template'], params=url_params)                \n",
    "            original_filename = resp.headers['content-disposition'].split(\n",
    "                'filename=')[-1].replace('\"','').replace(';','')              \n",
    "        logger.info('Downloading from URL: %s Original filename: %s',\n",
    "                    resp.url, original_filename)\n",
    "        filepath = os.path.join(container, original_filename)\n",
    "        with open(filepath, 'wb') as output_file:\n",
    "            for chunk in resp.iter_content(1024):\n",
    "                output_file.write(chunk)                \n",
    "    elif count_files == 1:\n",
    "        logger.info('There is already a file: %s', os.listdir(container)[0])\n",
    "    else:\n",
    "        logger.info('There must not be more than one file in: %s. Please check ',\n",
    "                    container)\n",
    "        \n",
    "    return\n",
    "\n",
    "\n",
    "for source, resources in conf.items():\n",
    "    for resource, p in resources.items():\n",
    "        session = requests.session()\n",
    "#        p['start'] = date(2015,1,1) # uncomment this to set a different start\n",
    "        if p['end'] == 'recent':\n",
    "            p['end'] = date(2015,12,31)\n",
    "\n",
    "        if p['frequency'] == 'complete':\n",
    "            download(session, source, resource, p, start=p['start'], end=p['end'])            \n",
    "        else:\n",
    "            # The files on the servers usually contain the data for subperiods\n",
    "            # of some regular length (i.e. months or yearsavailable \n",
    "            # Create lists of start- and enddates of periods represented in\n",
    "            # individual files to be downloaded.  \n",
    "            starts = pd.date_range(start=p['start'], end=p['end'],\n",
    "                                   freq=p['frequency']+'S')\n",
    "            ends = pd.date_range(start=p['start'], end=p['end'],\n",
    "                                 freq=p['frequency'])\n",
    "            for s, e in zip(starts, ends):\n",
    "                download(session, source, resource, p, start=s, end=e)"
   ]
  },
  {
   "cell_type": "markdown",
   "metadata": {},
   "source": [
    "As a next step, the downloaded files should be read and combined with the read-script ([local copy](read.ipynb) / [GitHub](https://github.com/Open-Power-System-Data/datapackage_timeseries/blob/master/read.ipynb))"
   ]
  }
 ],
 "metadata": {
  "kernelspec": {
   "display_name": "Python 3",
   "language": "python",
   "name": "python3"
  },
  "language_info": {
   "codemirror_mode": {
    "name": "ipython",
    "version": 3
   },
   "file_extension": ".py",
   "mimetype": "text/x-python",
   "name": "python",
   "nbconvert_exporter": "python",
   "pygments_lexer": "ipython3",
   "version": "3.4.4"
  }
 },
 "nbformat": 4,
 "nbformat_minor": 0
}
