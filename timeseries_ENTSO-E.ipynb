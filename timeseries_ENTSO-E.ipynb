{
 "cells": [
  {
   "cell_type": "code",
   "execution_count": 2,
   "metadata": {
    "collapsed": true
   },
   "outputs": [],
   "source": [
    "import pytz\n",
    "import yaml\n",
    "import requests\n",
    "import logging\n",
    "logger = logging.getLogger('log')\n",
    "logger.setLevel('INFO')\n",
    "import os\n",
    "from dateutil.relativedelta import *\n",
    "#from datetime import datetime\n",
    "import datetime\n",
    "import numpy as np\n",
    "import pandas as pd"
   ]
  },
  {
   "cell_type": "code",
   "execution_count": 3,
   "metadata": {
    "collapsed": true
   },
   "outputs": [],
   "source": [
    "downloadpath = 'downloads1/'\n",
    "archivepath = 'archive1/'\n",
    "outputpath = 'output1/'\n",
    "outputfile = 'output1.csv'\n",
    "if not os.path.exists(downloadpath): os.makedirs(downloadpath)\n",
    "if not os.path.exists(outputpath): os.makedirs(outputpath)"
   ]
  },
  {
   "cell_type": "code",
   "execution_count": 4,
   "metadata": {
    "collapsed": false
   },
   "outputs": [],
   "source": [
    "conf = \"\"\"\n",
    "    ENTSO-E: \n",
    "        Data_Portal: \n",
    "            url_template: https://www.entsoe.eu/fileadmin/template/other/statistical_database/excel.php\n",
    "            url_params:\n",
    "                pid: 136\n",
    "                opt_period: 0\n",
    "                opt_Month: ''\n",
    "                opt_Year: ''\n",
    "                send: send\n",
    "                opt_Response: 99\n",
    "                dataindx: 0\n",
    "            url_dates:\n",
    "                opt_Month: '{u_start.month}'\n",
    "                opt_Year: '{u_start.year}'\n",
    "            x_Month: '{u_start.month}'\n",
    "            x_Year: '{u_start.year}'\n",
    "            frequency: M\n",
    "            start: 2006-01-01\n",
    "            end: recent\n",
    "            filetype: xls           \n",
    "\"\"\"\n",
    "conf = yaml.load(conf)"
   ]
  },
  {
   "cell_type": "code",
   "execution_count": 5,
   "metadata": {
    "collapsed": false
   },
   "outputs": [],
   "source": [
    "def make_url(url_template, filetype, source, tech, start, end, session, url_params):\n",
    "    \"\"\"construct URLs from a template, filling in start- and enddates and call download funtion.\"\"\"    \n",
    "    filename = source+'_'+tech+'_'+start.strftime('%Y-%m-%d')+'_'+end.strftime('%Y-%m-%d')\n",
    "\n",
    "    conf['ENTSO-E']['Data_Portal']['url_params']['opt_Month'] = (\n",
    "        conf['ENTSO-E']['Data_Portal']['x_Month'].format(u_start = start, u_end = end)\n",
    "        )\n",
    "    conf['ENTSO-E']['Data_Portal']['url_params']['opt_Year'] = (\n",
    "        conf['ENTSO-E']['Data_Portal']['x_Year'].format(u_start = start, u_end = end)\n",
    "        )\n",
    "    resp = session.get(url_template, params=url_params)\n",
    "    \n",
    "    original_filename = resp.headers['content-disposition'].split('filename=')[-1].replace('\"','').replace(';','')\n",
    "    logger.info('Attempting download of: %s \\n From URL: %s \\n original filename: %s', filename, resp.url, original_filename)\n",
    "    work_file = downloadpath+filename+'.'+filetype\n",
    "    if os.path.exists(work_file):\n",
    "        logger.info('Filename already exists. Skip to next.')\n",
    "    else:\n",
    "        with open(work_file, 'wb') as output_file:\n",
    "            for chunk in resp.iter_content(1024):\n",
    "                output_file.write(chunk)"
   ]
  },
  {
   "cell_type": "code",
   "execution_count": 7,
   "metadata": {
    "collapsed": false,
    "scrolled": true
   },
   "outputs": [
    {
     "name": "stderr",
     "output_type": "stream",
     "text": [
      "INFO:log:Attempting download of: ENTSO-E_Data_Portal_2015-12-01_2015-12-31 \n",
      " From URL: https://www.entsoe.eu/fileadmin/template/other/statistical_database/excel.php?opt_Month=12&opt_Year=2015&pid=136&send=send&dataindx=0&opt_period=0&opt_Response=99 \n",
      " original filename: Statistics.xls\n"
     ]
    }
   ],
   "source": [
    "for source, tech in conf.items():\n",
    "    for tech, parameter in tech.items():\n",
    "        session = requests.session()\n",
    "        g_start = parameter['start']\n",
    "#        g_start = datetime.date(2015,12,1)\n",
    "        if parameter['end'] == 'recent':\n",
    "            g_end = datetime.date(2015,12,31)\n",
    "        else:\n",
    "            g_end = param['end']\n",
    "\n",
    "        break_dates = pd.date_range(start=g_start, end=g_end, freq=parameter['frequency'])\n",
    "        for date in break_dates:\n",
    "            p_start = date.replace(day = 1)\n",
    "            if parameter['frequency'] == 'M':\n",
    "                p_end = p_start + relativedelta(months = 1, days = -1)\n",
    "            if parameter['frequency'] == 'Y':\n",
    "                p_end = p_start + relativedelta(years = 1, days = -1)\n",
    "                \n",
    "            make_url(parameter['url_template'], parameter['filetype'], source, tech, p_start, p_end, session, parameter['url_params'])   \n"
   ]
  },
  {
   "cell_type": "code",
   "execution_count": 27,
   "metadata": {
    "collapsed": false
   },
   "outputs": [],
   "source": [
    "def readData(filePath, source, tech):\n",
    "    data = pd.read_excel(\n",
    "        io = filePath,\n",
    "        header=9,\n",
    "        skiprows = None,\n",
    "        index_col = [0,1],\n",
    "        parse_cols = None #None means: parse all columns\n",
    "        )\n",
    "    \n",
    "#   #Create a list of the dst-transistion hours\n",
    "    dst_transition_times = [d.replace(hour=2) for d in pytz.timezone('Europe/Berlin')._utc_transition_times[1:]]\n",
    "    \n",
    "    #the original data has days and countries in the rows and hours in the columns.\n",
    "    #this rearranges the table, mapping hours on the rows and countries on the columns \n",
    "    data = data.stack(level=None).unstack(level='Country').reset_index()    \n",
    "    #pythons DataFrame.stack() puts former columnnames in a new index object named after their level\n",
    "    data.rename(columns={'level_1': 'raw_hour'}, inplace=True)\n",
    "    \n",
    "    #truncate the hours column and replace letters (incating which is which during fall dst-transition)\n",
    "    #hours are indexed 1-24 rather then 0-23, so we deduct 1\n",
    "    data['hour'] = (data['raw_hour'].str[:2].str.replace('A','').str.replace('B','').astype(int) - 1).astype(str)    \n",
    "    data['dt_index'] = pd.to_datetime(data['Day']+' '+data['hour']+':00', infer_datetime_format = True)\n",
    "    data.set_index('dt_index', inplace=True)    \n",
    "    \n",
    "    # drop 2nd occurence of 03:00 appearing in October data except for autumn dst-transition\n",
    "    data = data[~((data['raw_hour'] == '3B:00:00') & ~(data.index.isin(dst_transition_times)))]\n",
    "    #drop 03:00 for (spring) dst-transition. October data is unaffected because the format is 3A:00/3B:00 \n",
    "    data = data[~((data['raw_hour'] == '03:00:00') & (data.index.isin(dst_transition_times)))]\n",
    "    \n",
    "    data.index = data.index.tz_localize('Europe/Berlin', ambiguous='infer')\n",
    "    data.drop(['Day', 'hour', 'raw_hour'], axis=1, inplace = True)\n",
    "    data.rename(columns=lambda x: 'load_'+x, inplace=True)\n",
    "    return data"
   ]
  },
  {
   "cell_type": "code",
   "execution_count": 30,
   "metadata": {
    "collapsed": false
   },
   "outputs": [
    {
     "name": "stderr",
     "output_type": "stream",
     "text": [
      "INFO:log:reading ENTSO-E_Data_Portal_2006-01-01_2006-01-31.xls\n",
      "INFO:log:reading ENTSO-E_Data_Portal_2006-02-01_2006-02-28.xls\n"
     ]
    },
    {
     "name": "stdout",
     "output_type": "stream",
     "text": [
      "WARNING *** OLE2 inconsistency: SSCS size is 0 but SSAT size is non-zero\n",
      "WARNING *** OLE2 inconsistency: SSCS size is 0 but SSAT size is non-zero"
     ]
    },
    {
     "name": "stderr",
     "output_type": "stream",
     "text": [
      "INFO:log:reading ENTSO-E_Data_Portal_2006-03-01_2006-03-31.xls\n"
     ]
    },
    {
     "name": "stdout",
     "output_type": "stream",
     "text": [
      "\n",
      "WARNING *** OLE2 inconsistency: SSCS size is 0 but SSAT size is non-zero"
     ]
    },
    {
     "name": "stderr",
     "output_type": "stream",
     "text": [
      "INFO:log:reading ENTSO-E_Data_Portal_2006-04-01_2006-04-30.xls\n"
     ]
    },
    {
     "name": "stdout",
     "output_type": "stream",
     "text": [
      "\n",
      "WARNING *** OLE2 inconsistency: SSCS size is 0 but SSAT size is non-zero"
     ]
    },
    {
     "name": "stderr",
     "output_type": "stream",
     "text": [
      "INFO:log:reading ENTSO-E_Data_Portal_2006-05-01_2006-05-31.xls\n"
     ]
    },
    {
     "name": "stdout",
     "output_type": "stream",
     "text": [
      "\n",
      "WARNING *** OLE2 inconsistency: SSCS size is 0 but SSAT size is non-zero"
     ]
    },
    {
     "name": "stderr",
     "output_type": "stream",
     "text": [
      "INFO:log:reading ENTSO-E_Data_Portal_2006-06-01_2006-06-30.xls\n"
     ]
    },
    {
     "name": "stdout",
     "output_type": "stream",
     "text": [
      "\n",
      "WARNING *** OLE2 inconsistency: SSCS size is 0 but SSAT size is non-zero"
     ]
    },
    {
     "name": "stderr",
     "output_type": "stream",
     "text": [
      "INFO:log:reading ENTSO-E_Data_Portal_2006-07-01_2006-07-31.xls\n"
     ]
    },
    {
     "name": "stdout",
     "output_type": "stream",
     "text": [
      "\n",
      "WARNING *** OLE2 inconsistency: SSCS size is 0 but SSAT size is non-zero"
     ]
    },
    {
     "name": "stderr",
     "output_type": "stream",
     "text": [
      "INFO:log:reading ENTSO-E_Data_Portal_2006-08-01_2006-08-31.xls\n"
     ]
    },
    {
     "name": "stdout",
     "output_type": "stream",
     "text": [
      "\n",
      "WARNING *** OLE2 inconsistency: SSCS size is 0 but SSAT size is non-zero"
     ]
    },
    {
     "name": "stderr",
     "output_type": "stream",
     "text": [
      "INFO:log:reading ENTSO-E_Data_Portal_2006-09-01_2006-09-30.xls\n"
     ]
    },
    {
     "name": "stdout",
     "output_type": "stream",
     "text": [
      "\n",
      "WARNING *** OLE2 inconsistency: SSCS size is 0 but SSAT size is non-zero"
     ]
    },
    {
     "name": "stderr",
     "output_type": "stream",
     "text": [
      "INFO:log:reading ENTSO-E_Data_Portal_2006-10-01_2006-10-31.xls\n"
     ]
    },
    {
     "name": "stdout",
     "output_type": "stream",
     "text": [
      "\n",
      "WARNING *** OLE2 inconsistency: SSCS size is 0 but SSAT size is non-zero"
     ]
    },
    {
     "name": "stderr",
     "output_type": "stream",
     "text": [
      "INFO:log:reading ENTSO-E_Data_Portal_2006-11-01_2006-11-30.xls\n"
     ]
    },
    {
     "name": "stdout",
     "output_type": "stream",
     "text": [
      "\n",
      "WARNING *** OLE2 inconsistency: SSCS size is 0 but SSAT size is non-zero"
     ]
    },
    {
     "name": "stderr",
     "output_type": "stream",
     "text": [
      "INFO:log:reading ENTSO-E_Data_Portal_2006-12-01_2006-12-31.xls\n"
     ]
    },
    {
     "name": "stdout",
     "output_type": "stream",
     "text": [
      "\n",
      "WARNING *** OLE2 inconsistency: SSCS size is 0 but SSAT size is non-zero"
     ]
    },
    {
     "name": "stderr",
     "output_type": "stream",
     "text": [
      "INFO:log:reading ENTSO-E_Data_Portal_2007-01-01_2007-01-31.xls\n"
     ]
    },
    {
     "name": "stdout",
     "output_type": "stream",
     "text": [
      "\n",
      "WARNING *** OLE2 inconsistency: SSCS size is 0 but SSAT size is non-zero"
     ]
    },
    {
     "name": "stderr",
     "output_type": "stream",
     "text": [
      "INFO:log:reading ENTSO-E_Data_Portal_2007-02-01_2007-02-28.xls\n"
     ]
    },
    {
     "name": "stdout",
     "output_type": "stream",
     "text": [
      "\n",
      "WARNING *** OLE2 inconsistency: SSCS size is 0 but SSAT size is non-zero"
     ]
    },
    {
     "name": "stderr",
     "output_type": "stream",
     "text": [
      "INFO:log:reading ENTSO-E_Data_Portal_2007-03-01_2007-03-31.xls\n"
     ]
    },
    {
     "name": "stdout",
     "output_type": "stream",
     "text": [
      "\n",
      "WARNING *** OLE2 inconsistency: SSCS size is 0 but SSAT size is non-zero"
     ]
    },
    {
     "name": "stderr",
     "output_type": "stream",
     "text": [
      "INFO:log:reading ENTSO-E_Data_Portal_2007-04-01_2007-04-30.xls\n"
     ]
    },
    {
     "name": "stdout",
     "output_type": "stream",
     "text": [
      "\n",
      "WARNING *** OLE2 inconsistency: SSCS size is 0 but SSAT size is non-zero"
     ]
    },
    {
     "name": "stderr",
     "output_type": "stream",
     "text": [
      "INFO:log:reading ENTSO-E_Data_Portal_2007-05-01_2007-05-31.xls\n"
     ]
    },
    {
     "name": "stdout",
     "output_type": "stream",
     "text": [
      "\n",
      "WARNING *** OLE2 inconsistency: SSCS size is 0 but SSAT size is non-zero"
     ]
    },
    {
     "name": "stderr",
     "output_type": "stream",
     "text": [
      "INFO:log:reading ENTSO-E_Data_Portal_2007-06-01_2007-06-30.xls\n"
     ]
    },
    {
     "name": "stdout",
     "output_type": "stream",
     "text": [
      "\n",
      "WARNING *** OLE2 inconsistency: SSCS size is 0 but SSAT size is non-zero"
     ]
    },
    {
     "name": "stderr",
     "output_type": "stream",
     "text": [
      "INFO:log:reading ENTSO-E_Data_Portal_2007-07-01_2007-07-31.xls\n"
     ]
    },
    {
     "name": "stdout",
     "output_type": "stream",
     "text": [
      "\n",
      "WARNING *** OLE2 inconsistency: SSCS size is 0 but SSAT size is non-zero"
     ]
    },
    {
     "name": "stderr",
     "output_type": "stream",
     "text": [
      "INFO:log:reading ENTSO-E_Data_Portal_2007-08-01_2007-08-31.xls\n"
     ]
    },
    {
     "name": "stdout",
     "output_type": "stream",
     "text": [
      "\n",
      "WARNING *** OLE2 inconsistency: SSCS size is 0 but SSAT size is non-zero"
     ]
    },
    {
     "name": "stderr",
     "output_type": "stream",
     "text": [
      "INFO:log:reading ENTSO-E_Data_Portal_2007-09-01_2007-09-30.xls\n"
     ]
    },
    {
     "name": "stdout",
     "output_type": "stream",
     "text": [
      "\n",
      "WARNING *** OLE2 inconsistency: SSCS size is 0 but SSAT size is non-zero"
     ]
    },
    {
     "name": "stderr",
     "output_type": "stream",
     "text": [
      "INFO:log:reading ENTSO-E_Data_Portal_2007-10-01_2007-10-31.xls\n"
     ]
    },
    {
     "name": "stdout",
     "output_type": "stream",
     "text": [
      "\n",
      "WARNING *** OLE2 inconsistency: SSCS size is 0 but SSAT size is non-zero"
     ]
    },
    {
     "name": "stderr",
     "output_type": "stream",
     "text": [
      "INFO:log:reading ENTSO-E_Data_Portal_2007-11-01_2007-11-30.xls\n"
     ]
    },
    {
     "name": "stdout",
     "output_type": "stream",
     "text": [
      "\n",
      "WARNING *** OLE2 inconsistency: SSCS size is 0 but SSAT size is non-zero"
     ]
    },
    {
     "name": "stderr",
     "output_type": "stream",
     "text": [
      "INFO:log:reading ENTSO-E_Data_Portal_2007-12-01_2007-12-31.xls\n"
     ]
    },
    {
     "name": "stdout",
     "output_type": "stream",
     "text": [
      "\n",
      "WARNING *** OLE2 inconsistency: SSCS size is 0 but SSAT size is non-zero"
     ]
    },
    {
     "name": "stderr",
     "output_type": "stream",
     "text": [
      "INFO:log:reading ENTSO-E_Data_Portal_2008-01-01_2008-01-31.xls\n"
     ]
    },
    {
     "name": "stdout",
     "output_type": "stream",
     "text": [
      "\n",
      "WARNING *** OLE2 inconsistency: SSCS size is 0 but SSAT size is non-zero"
     ]
    },
    {
     "name": "stderr",
     "output_type": "stream",
     "text": [
      "INFO:log:reading ENTSO-E_Data_Portal_2008-02-01_2008-02-29.xls\n"
     ]
    },
    {
     "name": "stdout",
     "output_type": "stream",
     "text": [
      "\n",
      "WARNING *** OLE2 inconsistency: SSCS size is 0 but SSAT size is non-zero"
     ]
    },
    {
     "name": "stderr",
     "output_type": "stream",
     "text": [
      "INFO:log:reading ENTSO-E_Data_Portal_2008-03-01_2008-03-31.xls\n"
     ]
    },
    {
     "name": "stdout",
     "output_type": "stream",
     "text": [
      "\n",
      "WARNING *** OLE2 inconsistency: SSCS size is 0 but SSAT size is non-zero"
     ]
    },
    {
     "name": "stderr",
     "output_type": "stream",
     "text": [
      "INFO:log:reading ENTSO-E_Data_Portal_2008-04-01_2008-04-30.xls\n"
     ]
    },
    {
     "name": "stdout",
     "output_type": "stream",
     "text": [
      "\n",
      "WARNING *** OLE2 inconsistency: SSCS size is 0 but SSAT size is non-zero"
     ]
    },
    {
     "name": "stderr",
     "output_type": "stream",
     "text": [
      "INFO:log:reading ENTSO-E_Data_Portal_2008-05-01_2008-05-31.xls\n"
     ]
    },
    {
     "name": "stdout",
     "output_type": "stream",
     "text": [
      "\n",
      "WARNING *** OLE2 inconsistency: SSCS size is 0 but SSAT size is non-zero"
     ]
    },
    {
     "name": "stderr",
     "output_type": "stream",
     "text": [
      "INFO:log:reading ENTSO-E_Data_Portal_2008-06-01_2008-06-30.xls\n"
     ]
    },
    {
     "name": "stdout",
     "output_type": "stream",
     "text": [
      "\n",
      "WARNING *** OLE2 inconsistency: SSCS size is 0 but SSAT size is non-zero"
     ]
    },
    {
     "name": "stderr",
     "output_type": "stream",
     "text": [
      "INFO:log:reading ENTSO-E_Data_Portal_2008-07-01_2008-07-31.xls\n"
     ]
    },
    {
     "name": "stdout",
     "output_type": "stream",
     "text": [
      "\n",
      "WARNING *** OLE2 inconsistency: SSCS size is 0 but SSAT size is non-zero"
     ]
    },
    {
     "name": "stderr",
     "output_type": "stream",
     "text": [
      "INFO:log:reading ENTSO-E_Data_Portal_2008-08-01_2008-08-31.xls\n"
     ]
    },
    {
     "name": "stdout",
     "output_type": "stream",
     "text": [
      "\n",
      "WARNING *** OLE2 inconsistency: SSCS size is 0 but SSAT size is non-zero"
     ]
    },
    {
     "name": "stderr",
     "output_type": "stream",
     "text": [
      "INFO:log:reading ENTSO-E_Data_Portal_2008-09-01_2008-09-30.xls\n"
     ]
    },
    {
     "name": "stdout",
     "output_type": "stream",
     "text": [
      "\n",
      "WARNING *** OLE2 inconsistency: SSCS size is 0 but SSAT size is non-zero"
     ]
    },
    {
     "name": "stderr",
     "output_type": "stream",
     "text": [
      "INFO:log:reading ENTSO-E_Data_Portal_2008-10-01_2008-10-31.xls\n"
     ]
    },
    {
     "name": "stdout",
     "output_type": "stream",
     "text": [
      "\n",
      "WARNING *** OLE2 inconsistency: SSCS size is 0 but SSAT size is non-zero"
     ]
    },
    {
     "name": "stderr",
     "output_type": "stream",
     "text": [
      "INFO:log:reading ENTSO-E_Data_Portal_2008-11-01_2008-11-30.xls\n"
     ]
    },
    {
     "name": "stdout",
     "output_type": "stream",
     "text": [
      "\n",
      "WARNING *** OLE2 inconsistency: SSCS size is 0 but SSAT size is non-zero"
     ]
    },
    {
     "name": "stderr",
     "output_type": "stream",
     "text": [
      "INFO:log:reading ENTSO-E_Data_Portal_2008-12-01_2008-12-31.xls\n"
     ]
    },
    {
     "name": "stdout",
     "output_type": "stream",
     "text": [
      "\n",
      "WARNING *** OLE2 inconsistency: SSCS size is 0 but SSAT size is non-zero"
     ]
    },
    {
     "name": "stderr",
     "output_type": "stream",
     "text": [
      "INFO:log:reading ENTSO-E_Data_Portal_2009-01-01_2009-01-31.xls\n"
     ]
    },
    {
     "name": "stdout",
     "output_type": "stream",
     "text": [
      "\n",
      "WARNING *** OLE2 inconsistency: SSCS size is 0 but SSAT size is non-zero"
     ]
    },
    {
     "name": "stderr",
     "output_type": "stream",
     "text": [
      "INFO:log:reading ENTSO-E_Data_Portal_2009-02-01_2009-02-28.xls\n"
     ]
    },
    {
     "name": "stdout",
     "output_type": "stream",
     "text": [
      "\n",
      "WARNING *** OLE2 inconsistency: SSCS size is 0 but SSAT size is non-zero"
     ]
    },
    {
     "name": "stderr",
     "output_type": "stream",
     "text": [
      "INFO:log:reading ENTSO-E_Data_Portal_2009-03-01_2009-03-31.xls\n"
     ]
    },
    {
     "name": "stdout",
     "output_type": "stream",
     "text": [
      "\n",
      "WARNING *** OLE2 inconsistency: SSCS size is 0 but SSAT size is non-zero"
     ]
    },
    {
     "name": "stderr",
     "output_type": "stream",
     "text": [
      "INFO:log:reading ENTSO-E_Data_Portal_2009-04-01_2009-04-30.xls\n"
     ]
    },
    {
     "name": "stdout",
     "output_type": "stream",
     "text": [
      "\n",
      "WARNING *** OLE2 inconsistency: SSCS size is 0 but SSAT size is non-zero"
     ]
    },
    {
     "name": "stderr",
     "output_type": "stream",
     "text": [
      "INFO:log:reading ENTSO-E_Data_Portal_2009-05-01_2009-05-31.xls\n"
     ]
    },
    {
     "name": "stdout",
     "output_type": "stream",
     "text": [
      "\n",
      "WARNING *** OLE2 inconsistency: SSCS size is 0 but SSAT size is non-zero"
     ]
    },
    {
     "name": "stderr",
     "output_type": "stream",
     "text": [
      "INFO:log:reading ENTSO-E_Data_Portal_2009-06-01_2009-06-30.xls\n"
     ]
    },
    {
     "name": "stdout",
     "output_type": "stream",
     "text": [
      "\n",
      "WARNING *** OLE2 inconsistency: SSCS size is 0 but SSAT size is non-zero"
     ]
    },
    {
     "name": "stderr",
     "output_type": "stream",
     "text": [
      "INFO:log:reading ENTSO-E_Data_Portal_2009-07-01_2009-07-31.xls\n"
     ]
    },
    {
     "name": "stdout",
     "output_type": "stream",
     "text": [
      "\n",
      "WARNING *** OLE2 inconsistency: SSCS size is 0 but SSAT size is non-zero"
     ]
    },
    {
     "name": "stderr",
     "output_type": "stream",
     "text": [
      "INFO:log:reading ENTSO-E_Data_Portal_2009-08-01_2009-08-31.xls\n"
     ]
    },
    {
     "name": "stdout",
     "output_type": "stream",
     "text": [
      "\n",
      "WARNING *** OLE2 inconsistency: SSCS size is 0 but SSAT size is non-zero"
     ]
    },
    {
     "name": "stderr",
     "output_type": "stream",
     "text": [
      "INFO:log:reading ENTSO-E_Data_Portal_2009-09-01_2009-09-30.xls\n"
     ]
    },
    {
     "name": "stdout",
     "output_type": "stream",
     "text": [
      "\n",
      "WARNING *** OLE2 inconsistency: SSCS size is 0 but SSAT size is non-zero"
     ]
    },
    {
     "name": "stderr",
     "output_type": "stream",
     "text": [
      "INFO:log:reading ENTSO-E_Data_Portal_2009-10-01_2009-10-31.xls\n"
     ]
    },
    {
     "name": "stdout",
     "output_type": "stream",
     "text": [
      "\n",
      "WARNING *** OLE2 inconsistency: SSCS size is 0 but SSAT size is non-zero"
     ]
    },
    {
     "name": "stderr",
     "output_type": "stream",
     "text": [
      "INFO:log:reading ENTSO-E_Data_Portal_2009-11-01_2009-11-30.xls\n"
     ]
    },
    {
     "name": "stdout",
     "output_type": "stream",
     "text": [
      "\n",
      "WARNING *** OLE2 inconsistency: SSCS size is 0 but SSAT size is non-zero"
     ]
    },
    {
     "name": "stderr",
     "output_type": "stream",
     "text": [
      "INFO:log:reading ENTSO-E_Data_Portal_2009-12-01_2009-12-31.xls\n"
     ]
    },
    {
     "name": "stdout",
     "output_type": "stream",
     "text": [
      "\n",
      "WARNING *** OLE2 inconsistency: SSCS size is 0 but SSAT size is non-zero"
     ]
    },
    {
     "name": "stderr",
     "output_type": "stream",
     "text": [
      "INFO:log:reading ENTSO-E_Data_Portal_2010-01-01_2010-01-31.xls\n"
     ]
    },
    {
     "name": "stdout",
     "output_type": "stream",
     "text": [
      "\n",
      "WARNING *** OLE2 inconsistency: SSCS size is 0 but SSAT size is non-zero"
     ]
    },
    {
     "name": "stderr",
     "output_type": "stream",
     "text": [
      "INFO:log:reading ENTSO-E_Data_Portal_2010-02-01_2010-02-28.xls\n"
     ]
    },
    {
     "name": "stdout",
     "output_type": "stream",
     "text": [
      "\n",
      "WARNING *** OLE2 inconsistency: SSCS size is 0 but SSAT size is non-zero"
     ]
    },
    {
     "name": "stderr",
     "output_type": "stream",
     "text": [
      "INFO:log:reading ENTSO-E_Data_Portal_2010-03-01_2010-03-31.xls\n"
     ]
    },
    {
     "name": "stdout",
     "output_type": "stream",
     "text": [
      "\n",
      "WARNING *** OLE2 inconsistency: SSCS size is 0 but SSAT size is non-zero"
     ]
    },
    {
     "name": "stderr",
     "output_type": "stream",
     "text": [
      "INFO:log:reading ENTSO-E_Data_Portal_2010-04-01_2010-04-30.xls\n"
     ]
    },
    {
     "name": "stdout",
     "output_type": "stream",
     "text": [
      "\n",
      "WARNING *** OLE2 inconsistency: SSCS size is 0 but SSAT size is non-zero"
     ]
    },
    {
     "name": "stderr",
     "output_type": "stream",
     "text": [
      "INFO:log:reading ENTSO-E_Data_Portal_2010-05-01_2010-05-31.xls\n"
     ]
    },
    {
     "name": "stdout",
     "output_type": "stream",
     "text": [
      "\n",
      "WARNING *** OLE2 inconsistency: SSCS size is 0 but SSAT size is non-zero"
     ]
    },
    {
     "name": "stderr",
     "output_type": "stream",
     "text": [
      "INFO:log:reading ENTSO-E_Data_Portal_2010-06-01_2010-06-30.xls\n"
     ]
    },
    {
     "name": "stdout",
     "output_type": "stream",
     "text": [
      "\n",
      "WARNING *** OLE2 inconsistency: SSCS size is 0 but SSAT size is non-zero"
     ]
    },
    {
     "name": "stderr",
     "output_type": "stream",
     "text": [
      "INFO:log:reading ENTSO-E_Data_Portal_2010-07-01_2010-07-31.xls\n"
     ]
    },
    {
     "name": "stdout",
     "output_type": "stream",
     "text": [
      "\n",
      "WARNING *** OLE2 inconsistency: SSCS size is 0 but SSAT size is non-zero"
     ]
    },
    {
     "name": "stderr",
     "output_type": "stream",
     "text": [
      "INFO:log:reading ENTSO-E_Data_Portal_2010-08-01_2010-08-31.xls\n"
     ]
    },
    {
     "name": "stdout",
     "output_type": "stream",
     "text": [
      "\n",
      "WARNING *** OLE2 inconsistency: SSCS size is 0 but SSAT size is non-zero"
     ]
    },
    {
     "name": "stderr",
     "output_type": "stream",
     "text": [
      "INFO:log:reading ENTSO-E_Data_Portal_2010-09-01_2010-09-30.xls\n"
     ]
    },
    {
     "name": "stdout",
     "output_type": "stream",
     "text": [
      "\n",
      "WARNING *** OLE2 inconsistency: SSCS size is 0 but SSAT size is non-zero"
     ]
    },
    {
     "name": "stderr",
     "output_type": "stream",
     "text": [
      "INFO:log:reading ENTSO-E_Data_Portal_2010-10-01_2010-10-31.xls\n"
     ]
    },
    {
     "name": "stdout",
     "output_type": "stream",
     "text": [
      "\n",
      "WARNING *** OLE2 inconsistency: SSCS size is 0 but SSAT size is non-zero"
     ]
    },
    {
     "name": "stderr",
     "output_type": "stream",
     "text": [
      "INFO:log:reading ENTSO-E_Data_Portal_2010-11-01_2010-11-30.xls\n"
     ]
    },
    {
     "name": "stdout",
     "output_type": "stream",
     "text": [
      "\n",
      "WARNING *** OLE2 inconsistency: SSCS size is 0 but SSAT size is non-zero"
     ]
    },
    {
     "name": "stderr",
     "output_type": "stream",
     "text": [
      "INFO:log:reading ENTSO-E_Data_Portal_2010-12-01_2010-12-31.xls\n"
     ]
    },
    {
     "name": "stdout",
     "output_type": "stream",
     "text": [
      "\n",
      "WARNING *** OLE2 inconsistency: SSCS size is 0 but SSAT size is non-zero"
     ]
    },
    {
     "name": "stderr",
     "output_type": "stream",
     "text": [
      "INFO:log:reading ENTSO-E_Data_Portal_2011-01-01_2011-01-31.xls\n"
     ]
    },
    {
     "name": "stdout",
     "output_type": "stream",
     "text": [
      "\n",
      "WARNING *** OLE2 inconsistency: SSCS size is 0 but SSAT size is non-zero"
     ]
    },
    {
     "name": "stderr",
     "output_type": "stream",
     "text": [
      "INFO:log:reading ENTSO-E_Data_Portal_2011-02-01_2011-02-28.xls\n"
     ]
    },
    {
     "name": "stdout",
     "output_type": "stream",
     "text": [
      "\n",
      "WARNING *** OLE2 inconsistency: SSCS size is 0 but SSAT size is non-zero"
     ]
    },
    {
     "name": "stderr",
     "output_type": "stream",
     "text": [
      "INFO:log:reading ENTSO-E_Data_Portal_2011-03-01_2011-03-31.xls\n"
     ]
    },
    {
     "name": "stdout",
     "output_type": "stream",
     "text": [
      "\n",
      "WARNING *** OLE2 inconsistency: SSCS size is 0 but SSAT size is non-zero"
     ]
    },
    {
     "name": "stderr",
     "output_type": "stream",
     "text": [
      "INFO:log:reading ENTSO-E_Data_Portal_2011-04-01_2011-04-30.xls\n"
     ]
    },
    {
     "name": "stdout",
     "output_type": "stream",
     "text": [
      "\n",
      "WARNING *** OLE2 inconsistency: SSCS size is 0 but SSAT size is non-zero"
     ]
    },
    {
     "name": "stderr",
     "output_type": "stream",
     "text": [
      "INFO:log:reading ENTSO-E_Data_Portal_2011-05-01_2011-05-31.xls\n"
     ]
    },
    {
     "name": "stdout",
     "output_type": "stream",
     "text": [
      "\n",
      "WARNING *** OLE2 inconsistency: SSCS size is 0 but SSAT size is non-zero"
     ]
    },
    {
     "name": "stderr",
     "output_type": "stream",
     "text": [
      "INFO:log:reading ENTSO-E_Data_Portal_2011-06-01_2011-06-30.xls\n"
     ]
    },
    {
     "name": "stdout",
     "output_type": "stream",
     "text": [
      "\n",
      "WARNING *** OLE2 inconsistency: SSCS size is 0 but SSAT size is non-zero"
     ]
    },
    {
     "name": "stderr",
     "output_type": "stream",
     "text": [
      "INFO:log:reading ENTSO-E_Data_Portal_2011-07-01_2011-07-31.xls\n"
     ]
    },
    {
     "name": "stdout",
     "output_type": "stream",
     "text": [
      "\n",
      "WARNING *** OLE2 inconsistency: SSCS size is 0 but SSAT size is non-zero"
     ]
    },
    {
     "name": "stderr",
     "output_type": "stream",
     "text": [
      "INFO:log:reading ENTSO-E_Data_Portal_2011-08-01_2011-08-31.xls\n"
     ]
    },
    {
     "name": "stdout",
     "output_type": "stream",
     "text": [
      "\n",
      "WARNING *** OLE2 inconsistency: SSCS size is 0 but SSAT size is non-zero"
     ]
    },
    {
     "name": "stderr",
     "output_type": "stream",
     "text": [
      "INFO:log:reading ENTSO-E_Data_Portal_2011-09-01_2011-09-30.xls\n"
     ]
    },
    {
     "name": "stdout",
     "output_type": "stream",
     "text": [
      "\n",
      "WARNING *** OLE2 inconsistency: SSCS size is 0 but SSAT size is non-zero"
     ]
    },
    {
     "name": "stderr",
     "output_type": "stream",
     "text": [
      "INFO:log:reading ENTSO-E_Data_Portal_2011-10-01_2011-10-31.xls\n"
     ]
    },
    {
     "name": "stdout",
     "output_type": "stream",
     "text": [
      "\n",
      "WARNING *** OLE2 inconsistency: SSCS size is 0 but SSAT size is non-zero"
     ]
    },
    {
     "name": "stderr",
     "output_type": "stream",
     "text": [
      "INFO:log:reading ENTSO-E_Data_Portal_2011-11-01_2011-11-30.xls\n"
     ]
    },
    {
     "name": "stdout",
     "output_type": "stream",
     "text": [
      "\n",
      "WARNING *** OLE2 inconsistency: SSCS size is 0 but SSAT size is non-zero"
     ]
    },
    {
     "name": "stderr",
     "output_type": "stream",
     "text": [
      "INFO:log:reading ENTSO-E_Data_Portal_2011-12-01_2011-12-31.xls\n"
     ]
    },
    {
     "name": "stdout",
     "output_type": "stream",
     "text": [
      "\n",
      "WARNING *** OLE2 inconsistency: SSCS size is 0 but SSAT size is non-zero"
     ]
    },
    {
     "name": "stderr",
     "output_type": "stream",
     "text": [
      "INFO:log:reading ENTSO-E_Data_Portal_2012-01-01_2012-01-31.xls\n"
     ]
    },
    {
     "name": "stdout",
     "output_type": "stream",
     "text": [
      "\n",
      "WARNING *** OLE2 inconsistency: SSCS size is 0 but SSAT size is non-zero"
     ]
    },
    {
     "name": "stderr",
     "output_type": "stream",
     "text": [
      "INFO:log:reading ENTSO-E_Data_Portal_2012-02-01_2012-02-29.xls\n"
     ]
    },
    {
     "name": "stdout",
     "output_type": "stream",
     "text": [
      "\n",
      "WARNING *** OLE2 inconsistency: SSCS size is 0 but SSAT size is non-zero"
     ]
    },
    {
     "name": "stderr",
     "output_type": "stream",
     "text": [
      "INFO:log:reading ENTSO-E_Data_Portal_2012-03-01_2012-03-31.xls\n"
     ]
    },
    {
     "name": "stdout",
     "output_type": "stream",
     "text": [
      "\n",
      "WARNING *** OLE2 inconsistency: SSCS size is 0 but SSAT size is non-zero"
     ]
    },
    {
     "name": "stderr",
     "output_type": "stream",
     "text": [
      "INFO:log:reading ENTSO-E_Data_Portal_2012-04-01_2012-04-30.xls\n"
     ]
    },
    {
     "name": "stdout",
     "output_type": "stream",
     "text": [
      "\n",
      "WARNING *** OLE2 inconsistency: SSCS size is 0 but SSAT size is non-zero"
     ]
    },
    {
     "name": "stderr",
     "output_type": "stream",
     "text": [
      "INFO:log:reading ENTSO-E_Data_Portal_2012-05-01_2012-05-31.xls\n"
     ]
    },
    {
     "name": "stdout",
     "output_type": "stream",
     "text": [
      "\n",
      "WARNING *** OLE2 inconsistency: SSCS size is 0 but SSAT size is non-zero"
     ]
    },
    {
     "name": "stderr",
     "output_type": "stream",
     "text": [
      "INFO:log:reading ENTSO-E_Data_Portal_2012-06-01_2012-06-30.xls\n"
     ]
    },
    {
     "name": "stdout",
     "output_type": "stream",
     "text": [
      "\n",
      "WARNING *** OLE2 inconsistency: SSCS size is 0 but SSAT size is non-zero"
     ]
    },
    {
     "name": "stderr",
     "output_type": "stream",
     "text": [
      "INFO:log:reading ENTSO-E_Data_Portal_2012-07-01_2012-07-31.xls\n"
     ]
    },
    {
     "name": "stdout",
     "output_type": "stream",
     "text": [
      "\n",
      "WARNING *** OLE2 inconsistency: SSCS size is 0 but SSAT size is non-zero"
     ]
    },
    {
     "name": "stderr",
     "output_type": "stream",
     "text": [
      "INFO:log:reading ENTSO-E_Data_Portal_2012-08-01_2012-08-31.xls\n"
     ]
    },
    {
     "name": "stdout",
     "output_type": "stream",
     "text": [
      "\n",
      "WARNING *** OLE2 inconsistency: SSCS size is 0 but SSAT size is non-zero"
     ]
    },
    {
     "name": "stderr",
     "output_type": "stream",
     "text": [
      "INFO:log:reading ENTSO-E_Data_Portal_2012-09-01_2012-09-30.xls\n"
     ]
    },
    {
     "name": "stdout",
     "output_type": "stream",
     "text": [
      "\n",
      "WARNING *** OLE2 inconsistency: SSCS size is 0 but SSAT size is non-zero"
     ]
    },
    {
     "name": "stderr",
     "output_type": "stream",
     "text": [
      "INFO:log:reading ENTSO-E_Data_Portal_2012-10-01_2012-10-31.xls\n"
     ]
    },
    {
     "name": "stdout",
     "output_type": "stream",
     "text": [
      "\n",
      "WARNING *** OLE2 inconsistency: SSCS size is 0 but SSAT size is non-zero"
     ]
    },
    {
     "name": "stderr",
     "output_type": "stream",
     "text": [
      "INFO:log:reading ENTSO-E_Data_Portal_2012-11-01_2012-11-30.xls\n"
     ]
    },
    {
     "name": "stdout",
     "output_type": "stream",
     "text": [
      "\n",
      "WARNING *** OLE2 inconsistency: SSCS size is 0 but SSAT size is non-zero"
     ]
    },
    {
     "name": "stderr",
     "output_type": "stream",
     "text": [
      "INFO:log:reading ENTSO-E_Data_Portal_2012-12-01_2012-12-31.xls\n"
     ]
    },
    {
     "name": "stdout",
     "output_type": "stream",
     "text": [
      "\n",
      "WARNING *** OLE2 inconsistency: SSCS size is 0 but SSAT size is non-zero"
     ]
    },
    {
     "name": "stderr",
     "output_type": "stream",
     "text": [
      "INFO:log:reading ENTSO-E_Data_Portal_2013-01-01_2013-01-31.xls\n"
     ]
    },
    {
     "name": "stdout",
     "output_type": "stream",
     "text": [
      "\n",
      "WARNING *** OLE2 inconsistency: SSCS size is 0 but SSAT size is non-zero"
     ]
    },
    {
     "name": "stderr",
     "output_type": "stream",
     "text": [
      "INFO:log:reading ENTSO-E_Data_Portal_2013-02-01_2013-02-28.xls\n"
     ]
    },
    {
     "name": "stdout",
     "output_type": "stream",
     "text": [
      "\n",
      "WARNING *** OLE2 inconsistency: SSCS size is 0 but SSAT size is non-zero"
     ]
    },
    {
     "name": "stderr",
     "output_type": "stream",
     "text": [
      "INFO:log:reading ENTSO-E_Data_Portal_2013-03-01_2013-03-31.xls\n"
     ]
    },
    {
     "name": "stdout",
     "output_type": "stream",
     "text": [
      "\n",
      "WARNING *** OLE2 inconsistency: SSCS size is 0 but SSAT size is non-zero"
     ]
    },
    {
     "name": "stderr",
     "output_type": "stream",
     "text": [
      "INFO:log:reading ENTSO-E_Data_Portal_2013-04-01_2013-04-30.xls\n"
     ]
    },
    {
     "name": "stdout",
     "output_type": "stream",
     "text": [
      "\n",
      "WARNING *** OLE2 inconsistency: SSCS size is 0 but SSAT size is non-zero"
     ]
    },
    {
     "name": "stderr",
     "output_type": "stream",
     "text": [
      "INFO:log:reading ENTSO-E_Data_Portal_2013-05-01_2013-05-31.xls\n"
     ]
    },
    {
     "name": "stdout",
     "output_type": "stream",
     "text": [
      "\n",
      "WARNING *** OLE2 inconsistency: SSCS size is 0 but SSAT size is non-zero"
     ]
    },
    {
     "name": "stderr",
     "output_type": "stream",
     "text": [
      "INFO:log:reading ENTSO-E_Data_Portal_2013-06-01_2013-06-30.xls\n"
     ]
    },
    {
     "name": "stdout",
     "output_type": "stream",
     "text": [
      "\n",
      "WARNING *** OLE2 inconsistency: SSCS size is 0 but SSAT size is non-zero"
     ]
    },
    {
     "name": "stderr",
     "output_type": "stream",
     "text": [
      "INFO:log:reading ENTSO-E_Data_Portal_2013-07-01_2013-07-31.xls\n"
     ]
    },
    {
     "name": "stdout",
     "output_type": "stream",
     "text": [
      "\n",
      "WARNING *** OLE2 inconsistency: SSCS size is 0 but SSAT size is non-zero"
     ]
    },
    {
     "name": "stderr",
     "output_type": "stream",
     "text": [
      "INFO:log:reading ENTSO-E_Data_Portal_2013-08-01_2013-08-31.xls\n"
     ]
    },
    {
     "name": "stdout",
     "output_type": "stream",
     "text": [
      "\n",
      "WARNING *** OLE2 inconsistency: SSCS size is 0 but SSAT size is non-zero"
     ]
    },
    {
     "name": "stderr",
     "output_type": "stream",
     "text": [
      "INFO:log:reading ENTSO-E_Data_Portal_2013-09-01_2013-09-30.xls\n"
     ]
    },
    {
     "name": "stdout",
     "output_type": "stream",
     "text": [
      "\n",
      "WARNING *** OLE2 inconsistency: SSCS size is 0 but SSAT size is non-zero"
     ]
    },
    {
     "name": "stderr",
     "output_type": "stream",
     "text": [
      "INFO:log:reading ENTSO-E_Data_Portal_2013-10-01_2013-10-31.xls\n"
     ]
    },
    {
     "name": "stdout",
     "output_type": "stream",
     "text": [
      "\n",
      "WARNING *** OLE2 inconsistency: SSCS size is 0 but SSAT size is non-zero"
     ]
    },
    {
     "name": "stderr",
     "output_type": "stream",
     "text": [
      "INFO:log:reading ENTSO-E_Data_Portal_2013-11-01_2013-11-30.xls\n"
     ]
    },
    {
     "name": "stdout",
     "output_type": "stream",
     "text": [
      "\n",
      "WARNING *** OLE2 inconsistency: SSCS size is 0 but SSAT size is non-zero"
     ]
    },
    {
     "name": "stderr",
     "output_type": "stream",
     "text": [
      "INFO:log:reading ENTSO-E_Data_Portal_2013-12-01_2013-12-31.xls\n"
     ]
    },
    {
     "name": "stdout",
     "output_type": "stream",
     "text": [
      "\n",
      "WARNING *** OLE2 inconsistency: SSCS size is 0 but SSAT size is non-zero"
     ]
    },
    {
     "name": "stderr",
     "output_type": "stream",
     "text": [
      "INFO:log:reading ENTSO-E_Data_Portal_2014-01-01_2014-01-31.xls\n"
     ]
    },
    {
     "name": "stdout",
     "output_type": "stream",
     "text": [
      "\n",
      "WARNING *** OLE2 inconsistency: SSCS size is 0 but SSAT size is non-zero"
     ]
    },
    {
     "name": "stderr",
     "output_type": "stream",
     "text": [
      "INFO:log:reading ENTSO-E_Data_Portal_2014-02-01_2014-02-28.xls\n"
     ]
    },
    {
     "name": "stdout",
     "output_type": "stream",
     "text": [
      "\n",
      "WARNING *** OLE2 inconsistency: SSCS size is 0 but SSAT size is non-zero"
     ]
    },
    {
     "name": "stderr",
     "output_type": "stream",
     "text": [
      "INFO:log:reading ENTSO-E_Data_Portal_2014-03-01_2014-03-31.xls\n"
     ]
    },
    {
     "name": "stdout",
     "output_type": "stream",
     "text": [
      "\n",
      "WARNING *** OLE2 inconsistency: SSCS size is 0 but SSAT size is non-zero"
     ]
    },
    {
     "name": "stderr",
     "output_type": "stream",
     "text": [
      "INFO:log:reading ENTSO-E_Data_Portal_2014-04-01_2014-04-30.xls\n"
     ]
    },
    {
     "name": "stdout",
     "output_type": "stream",
     "text": [
      "\n",
      "WARNING *** OLE2 inconsistency: SSCS size is 0 but SSAT size is non-zero"
     ]
    },
    {
     "name": "stderr",
     "output_type": "stream",
     "text": [
      "INFO:log:reading ENTSO-E_Data_Portal_2014-05-01_2014-05-31.xls\n"
     ]
    },
    {
     "name": "stdout",
     "output_type": "stream",
     "text": [
      "\n",
      "WARNING *** OLE2 inconsistency: SSCS size is 0 but SSAT size is non-zero"
     ]
    },
    {
     "name": "stderr",
     "output_type": "stream",
     "text": [
      "INFO:log:reading ENTSO-E_Data_Portal_2014-06-01_2014-06-30.xls\n"
     ]
    },
    {
     "name": "stdout",
     "output_type": "stream",
     "text": [
      "\n",
      "WARNING *** OLE2 inconsistency: SSCS size is 0 but SSAT size is non-zero"
     ]
    },
    {
     "name": "stderr",
     "output_type": "stream",
     "text": [
      "INFO:log:reading ENTSO-E_Data_Portal_2014-07-01_2014-07-31.xls\n"
     ]
    },
    {
     "name": "stdout",
     "output_type": "stream",
     "text": [
      "\n",
      "WARNING *** OLE2 inconsistency: SSCS size is 0 but SSAT size is non-zero"
     ]
    },
    {
     "name": "stderr",
     "output_type": "stream",
     "text": [
      "INFO:log:reading ENTSO-E_Data_Portal_2014-08-01_2014-08-31.xls\n"
     ]
    },
    {
     "name": "stdout",
     "output_type": "stream",
     "text": [
      "\n",
      "WARNING *** OLE2 inconsistency: SSCS size is 0 but SSAT size is non-zero"
     ]
    },
    {
     "name": "stderr",
     "output_type": "stream",
     "text": [
      "INFO:log:reading ENTSO-E_Data_Portal_2014-09-01_2014-09-30.xls\n"
     ]
    },
    {
     "name": "stdout",
     "output_type": "stream",
     "text": [
      "\n",
      "WARNING *** OLE2 inconsistency: SSCS size is 0 but SSAT size is non-zero"
     ]
    },
    {
     "name": "stderr",
     "output_type": "stream",
     "text": [
      "INFO:log:reading ENTSO-E_Data_Portal_2014-10-01_2014-10-31.xls\n"
     ]
    },
    {
     "name": "stdout",
     "output_type": "stream",
     "text": [
      "\n",
      "WARNING *** OLE2 inconsistency: SSCS size is 0 but SSAT size is non-zero"
     ]
    },
    {
     "name": "stderr",
     "output_type": "stream",
     "text": [
      "INFO:log:reading ENTSO-E_Data_Portal_2014-11-01_2014-11-30.xls\n"
     ]
    },
    {
     "name": "stdout",
     "output_type": "stream",
     "text": [
      "\n",
      "WARNING *** OLE2 inconsistency: SSCS size is 0 but SSAT size is non-zero"
     ]
    },
    {
     "name": "stderr",
     "output_type": "stream",
     "text": [
      "INFO:log:reading ENTSO-E_Data_Portal_2014-12-01_2014-12-31.xls\n"
     ]
    },
    {
     "name": "stdout",
     "output_type": "stream",
     "text": [
      "\n",
      "WARNING *** OLE2 inconsistency: SSCS size is 0 but SSAT size is non-zero"
     ]
    },
    {
     "name": "stderr",
     "output_type": "stream",
     "text": [
      "INFO:log:reading ENTSO-E_Data_Portal_2015-01-01_2015-01-31.xls\n"
     ]
    },
    {
     "name": "stdout",
     "output_type": "stream",
     "text": [
      "\n",
      "WARNING *** OLE2 inconsistency: SSCS size is 0 but SSAT size is non-zero"
     ]
    },
    {
     "name": "stderr",
     "output_type": "stream",
     "text": [
      "INFO:log:reading ENTSO-E_Data_Portal_2015-02-01_2015-02-28.xls\n"
     ]
    },
    {
     "name": "stdout",
     "output_type": "stream",
     "text": [
      "\n",
      "WARNING *** OLE2 inconsistency: SSCS size is 0 but SSAT size is non-zero"
     ]
    },
    {
     "name": "stderr",
     "output_type": "stream",
     "text": [
      "INFO:log:reading ENTSO-E_Data_Portal_2015-03-01_2015-03-31.xls\n"
     ]
    },
    {
     "name": "stdout",
     "output_type": "stream",
     "text": [
      "\n",
      "WARNING *** OLE2 inconsistency: SSCS size is 0 but SSAT size is non-zero"
     ]
    },
    {
     "name": "stderr",
     "output_type": "stream",
     "text": [
      "INFO:log:reading ENTSO-E_Data_Portal_2015-04-01_2015-04-30.xls\n"
     ]
    },
    {
     "name": "stdout",
     "output_type": "stream",
     "text": [
      "\n",
      "WARNING *** OLE2 inconsistency: SSCS size is 0 but SSAT size is non-zero"
     ]
    },
    {
     "name": "stderr",
     "output_type": "stream",
     "text": [
      "INFO:log:reading ENTSO-E_Data_Portal_2015-05-01_2015-05-31.xls\n"
     ]
    },
    {
     "name": "stdout",
     "output_type": "stream",
     "text": [
      "\n",
      "WARNING *** OLE2 inconsistency: SSCS size is 0 but SSAT size is non-zero"
     ]
    },
    {
     "name": "stderr",
     "output_type": "stream",
     "text": [
      "INFO:log:reading ENTSO-E_Data_Portal_2015-06-01_2015-06-30.xls\n"
     ]
    },
    {
     "name": "stdout",
     "output_type": "stream",
     "text": [
      "\n",
      "WARNING *** OLE2 inconsistency: SSCS size is 0 but SSAT size is non-zero"
     ]
    },
    {
     "name": "stderr",
     "output_type": "stream",
     "text": [
      "INFO:log:reading ENTSO-E_Data_Portal_2015-07-01_2015-07-31.xls\n"
     ]
    },
    {
     "name": "stdout",
     "output_type": "stream",
     "text": [
      "\n",
      "WARNING *** OLE2 inconsistency: SSCS size is 0 but SSAT size is non-zero"
     ]
    },
    {
     "name": "stderr",
     "output_type": "stream",
     "text": [
      "INFO:log:reading ENTSO-E_Data_Portal_2015-08-01_2015-08-31.xls\n"
     ]
    },
    {
     "name": "stdout",
     "output_type": "stream",
     "text": [
      "\n",
      "WARNING *** OLE2 inconsistency: SSCS size is 0 but SSAT size is non-zero"
     ]
    },
    {
     "name": "stderr",
     "output_type": "stream",
     "text": [
      "INFO:log:reading ENTSO-E_Data_Portal_2015-09-01_2015-09-30.xls\n"
     ]
    },
    {
     "name": "stdout",
     "output_type": "stream",
     "text": [
      "\n",
      "WARNING *** OLE2 inconsistency: SSCS size is 0 but SSAT size is non-zero"
     ]
    },
    {
     "name": "stderr",
     "output_type": "stream",
     "text": [
      "INFO:log:reading ENTSO-E_Data_Portal_2015-10-01_2015-10-31.xls\n"
     ]
    },
    {
     "name": "stdout",
     "output_type": "stream",
     "text": [
      "\n",
      "WARNING *** OLE2 inconsistency: SSCS size is 0 but SSAT size is non-zero"
     ]
    },
    {
     "name": "stderr",
     "output_type": "stream",
     "text": [
      "INFO:log:reading ENTSO-E_Data_Portal_2015-11-01_2015-11-30.xls\n"
     ]
    },
    {
     "name": "stdout",
     "output_type": "stream",
     "text": [
      "\n",
      "WARNING *** OLE2 inconsistency: SSCS size is 0 but SSAT size is non-zero"
     ]
    },
    {
     "name": "stderr",
     "output_type": "stream",
     "text": [
      "INFO:log:reading ENTSO-E_Data_Portal_2015-12-01_2015-12-31.xls\n"
     ]
    },
    {
     "name": "stdout",
     "output_type": "stream",
     "text": [
      "\n",
      "WARNING *** OLE2 inconsistency: SSCS size is 0 but SSAT size is non-zero\n"
     ]
    }
   ],
   "source": [
    "resultDataSet = pd.DataFrame()\n",
    "for source, tech in conf.items():\n",
    "    for tech, param in tech.items():\n",
    "        for filename in os.listdir(downloadpath):\n",
    "            if source in filename and tech in filename:\n",
    "                logger.info('reading %s', filename)\n",
    "                dataToAdd = readData(downloadpath + filename, source, tech)\n",
    "                resultDataSet = resultDataSet.combine_first(dataToAdd)"
   ]
  },
  {
   "cell_type": "code",
   "execution_count": 32,
   "metadata": {
    "collapsed": false
   },
   "outputs": [
    {
     "data": {
      "text/html": [
       "<div>\n",
       "<table border=\"1\" class=\"dataframe\">\n",
       "  <thead>\n",
       "    <tr style=\"text-align: right;\">\n",
       "      <th>Country</th>\n",
       "      <th>load_AT</th>\n",
       "      <th>load_BA</th>\n",
       "      <th>load_BE</th>\n",
       "      <th>load_BG</th>\n",
       "      <th>load_CH</th>\n",
       "      <th>load_CS</th>\n",
       "      <th>load_CY</th>\n",
       "      <th>load_CZ</th>\n",
       "      <th>load_DE</th>\n",
       "      <th>load_DK</th>\n",
       "      <th>...</th>\n",
       "      <th>load_NL</th>\n",
       "      <th>load_NO</th>\n",
       "      <th>load_PL</th>\n",
       "      <th>load_PT</th>\n",
       "      <th>load_RO</th>\n",
       "      <th>load_RS</th>\n",
       "      <th>load_SE</th>\n",
       "      <th>load_SI</th>\n",
       "      <th>load_SK</th>\n",
       "      <th>load_UA_W</th>\n",
       "    </tr>\n",
       "    <tr>\n",
       "      <th>dt_index</th>\n",
       "      <th></th>\n",
       "      <th></th>\n",
       "      <th></th>\n",
       "      <th></th>\n",
       "      <th></th>\n",
       "      <th></th>\n",
       "      <th></th>\n",
       "      <th></th>\n",
       "      <th></th>\n",
       "      <th></th>\n",
       "      <th></th>\n",
       "      <th></th>\n",
       "      <th></th>\n",
       "      <th></th>\n",
       "      <th></th>\n",
       "      <th></th>\n",
       "      <th></th>\n",
       "      <th></th>\n",
       "      <th></th>\n",
       "      <th></th>\n",
       "      <th></th>\n",
       "    </tr>\n",
       "  </thead>\n",
       "  <tbody>\n",
       "    <tr>\n",
       "      <th>2006-01-01 00:00:00+01:00</th>\n",
       "      <td>6297</td>\n",
       "      <td>1425</td>\n",
       "      <td>9829</td>\n",
       "      <td>4293</td>\n",
       "      <td>n.a.</td>\n",
       "      <td>5781</td>\n",
       "      <td>NaN</td>\n",
       "      <td>6631</td>\n",
       "      <td>47823</td>\n",
       "      <td>NaN</td>\n",
       "      <td>...</td>\n",
       "      <td>10215</td>\n",
       "      <td>NaN</td>\n",
       "      <td>14268</td>\n",
       "      <td>5159</td>\n",
       "      <td>5957</td>\n",
       "      <td>NaN</td>\n",
       "      <td>NaN</td>\n",
       "      <td>1175</td>\n",
       "      <td>3332</td>\n",
       "      <td>719</td>\n",
       "    </tr>\n",
       "    <tr>\n",
       "      <th>2006-01-01 01:00:00+01:00</th>\n",
       "      <td>6005</td>\n",
       "      <td>1358</td>\n",
       "      <td>9447</td>\n",
       "      <td>4186</td>\n",
       "      <td>n.a.</td>\n",
       "      <td>5747</td>\n",
       "      <td>NaN</td>\n",
       "      <td>6346</td>\n",
       "      <td>47823</td>\n",
       "      <td>NaN</td>\n",
       "      <td>...</td>\n",
       "      <td>9979</td>\n",
       "      <td>NaN</td>\n",
       "      <td>13602</td>\n",
       "      <td>4985</td>\n",
       "      <td>5837</td>\n",
       "      <td>NaN</td>\n",
       "      <td>NaN</td>\n",
       "      <td>1149</td>\n",
       "      <td>3165</td>\n",
       "      <td>695</td>\n",
       "    </tr>\n",
       "    <tr>\n",
       "      <th>2006-01-01 02:00:00+01:00</th>\n",
       "      <td>5743</td>\n",
       "      <td>1283</td>\n",
       "      <td>9062</td>\n",
       "      <td>4026</td>\n",
       "      <td>n.a.</td>\n",
       "      <td>5380</td>\n",
       "      <td>NaN</td>\n",
       "      <td>6365</td>\n",
       "      <td>43444</td>\n",
       "      <td>NaN</td>\n",
       "      <td>...</td>\n",
       "      <td>9460</td>\n",
       "      <td>NaN</td>\n",
       "      <td>13027</td>\n",
       "      <td>4717</td>\n",
       "      <td>5592</td>\n",
       "      <td>NaN</td>\n",
       "      <td>NaN</td>\n",
       "      <td>1098</td>\n",
       "      <td>3040</td>\n",
       "      <td>654</td>\n",
       "    </tr>\n",
       "    <tr>\n",
       "      <th>2006-01-01 03:00:00+01:00</th>\n",
       "      <td>5397</td>\n",
       "      <td>1175</td>\n",
       "      <td>8589</td>\n",
       "      <td>3877</td>\n",
       "      <td>n.a.</td>\n",
       "      <td>4978</td>\n",
       "      <td>NaN</td>\n",
       "      <td>6134</td>\n",
       "      <td>41432</td>\n",
       "      <td>NaN</td>\n",
       "      <td>...</td>\n",
       "      <td>8833</td>\n",
       "      <td>NaN</td>\n",
       "      <td>12606</td>\n",
       "      <td>4356</td>\n",
       "      <td>5383</td>\n",
       "      <td>NaN</td>\n",
       "      <td>NaN</td>\n",
       "      <td>1047</td>\n",
       "      <td>3021</td>\n",
       "      <td>644</td>\n",
       "    </tr>\n",
       "    <tr>\n",
       "      <th>2006-01-01 04:00:00+01:00</th>\n",
       "      <td>5213</td>\n",
       "      <td>1134</td>\n",
       "      <td>8247</td>\n",
       "      <td>3724</td>\n",
       "      <td>n.a.</td>\n",
       "      <td>4735</td>\n",
       "      <td>NaN</td>\n",
       "      <td>6361</td>\n",
       "      <td>40508</td>\n",
       "      <td>NaN</td>\n",
       "      <td>...</td>\n",
       "      <td>8525</td>\n",
       "      <td>NaN</td>\n",
       "      <td>12393</td>\n",
       "      <td>4086</td>\n",
       "      <td>5201</td>\n",
       "      <td>NaN</td>\n",
       "      <td>NaN</td>\n",
       "      <td>1018</td>\n",
       "      <td>2959</td>\n",
       "      <td>638</td>\n",
       "    </tr>\n",
       "    <tr>\n",
       "      <th>2006-01-01 05:00:00+01:00</th>\n",
       "      <td>5190</td>\n",
       "      <td>1155</td>\n",
       "      <td>8045</td>\n",
       "      <td>3589</td>\n",
       "      <td>n.a.</td>\n",
       "      <td>4554</td>\n",
       "      <td>NaN</td>\n",
       "      <td>6186</td>\n",
       "      <td>38865</td>\n",
       "      <td>NaN</td>\n",
       "      <td>...</td>\n",
       "      <td>8458</td>\n",
       "      <td>NaN</td>\n",
       "      <td>12231</td>\n",
       "      <td>3917</td>\n",
       "      <td>5073</td>\n",
       "      <td>NaN</td>\n",
       "      <td>NaN</td>\n",
       "      <td>1018</td>\n",
       "      <td>2907</td>\n",
       "      <td>685</td>\n",
       "    </tr>\n",
       "    <tr>\n",
       "      <th>2006-01-01 06:00:00+01:00</th>\n",
       "      <td>4916</td>\n",
       "      <td>1175</td>\n",
       "      <td>7941</td>\n",
       "      <td>3475</td>\n",
       "      <td>n.a.</td>\n",
       "      <td>4423</td>\n",
       "      <td>NaN</td>\n",
       "      <td>5963</td>\n",
       "      <td>35817</td>\n",
       "      <td>NaN</td>\n",
       "      <td>...</td>\n",
       "      <td>8526</td>\n",
       "      <td>NaN</td>\n",
       "      <td>12119</td>\n",
       "      <td>3839</td>\n",
       "      <td>5005</td>\n",
       "      <td>NaN</td>\n",
       "      <td>NaN</td>\n",
       "      <td>1044</td>\n",
       "      <td>2917</td>\n",
       "      <td>645</td>\n",
       "    </tr>\n",
       "    <tr>\n",
       "      <th>2006-01-01 07:00:00+01:00</th>\n",
       "      <td>5158</td>\n",
       "      <td>1194</td>\n",
       "      <td>7554</td>\n",
       "      <td>3420</td>\n",
       "      <td>n.a.</td>\n",
       "      <td>4416</td>\n",
       "      <td>NaN</td>\n",
       "      <td>5900</td>\n",
       "      <td>35555</td>\n",
       "      <td>NaN</td>\n",
       "      <td>...</td>\n",
       "      <td>8760</td>\n",
       "      <td>NaN</td>\n",
       "      <td>11926</td>\n",
       "      <td>3811</td>\n",
       "      <td>4946</td>\n",
       "      <td>NaN</td>\n",
       "      <td>NaN</td>\n",
       "      <td>1079</td>\n",
       "      <td>2874</td>\n",
       "      <td>651</td>\n",
       "    </tr>\n",
       "    <tr>\n",
       "      <th>2006-01-01 08:00:00+01:00</th>\n",
       "      <td>5405</td>\n",
       "      <td>1292</td>\n",
       "      <td>7525</td>\n",
       "      <td>3468</td>\n",
       "      <td>n.a.</td>\n",
       "      <td>4617</td>\n",
       "      <td>NaN</td>\n",
       "      <td>6070</td>\n",
       "      <td>36263</td>\n",
       "      <td>NaN</td>\n",
       "      <td>...</td>\n",
       "      <td>9171</td>\n",
       "      <td>NaN</td>\n",
       "      <td>11787</td>\n",
       "      <td>3634</td>\n",
       "      <td>4828</td>\n",
       "      <td>NaN</td>\n",
       "      <td>NaN</td>\n",
       "      <td>1115</td>\n",
       "      <td>3014</td>\n",
       "      <td>669</td>\n",
       "    </tr>\n",
       "    <tr>\n",
       "      <th>2006-01-01 09:00:00+01:00</th>\n",
       "      <td>5731</td>\n",
       "      <td>1377</td>\n",
       "      <td>7649</td>\n",
       "      <td>3641</td>\n",
       "      <td>n.a.</td>\n",
       "      <td>4976</td>\n",
       "      <td>NaN</td>\n",
       "      <td>6421</td>\n",
       "      <td>38569</td>\n",
       "      <td>NaN</td>\n",
       "      <td>...</td>\n",
       "      <td>9600</td>\n",
       "      <td>NaN</td>\n",
       "      <td>12098</td>\n",
       "      <td>3610</td>\n",
       "      <td>4680</td>\n",
       "      <td>NaN</td>\n",
       "      <td>NaN</td>\n",
       "      <td>1189</td>\n",
       "      <td>3121</td>\n",
       "      <td>672</td>\n",
       "    </tr>\n",
       "    <tr>\n",
       "      <th>2006-01-01 10:00:00+01:00</th>\n",
       "      <td>6075</td>\n",
       "      <td>1456</td>\n",
       "      <td>7983</td>\n",
       "      <td>3791</td>\n",
       "      <td>n.a.</td>\n",
       "      <td>5224</td>\n",
       "      <td>NaN</td>\n",
       "      <td>6601</td>\n",
       "      <td>41078</td>\n",
       "      <td>NaN</td>\n",
       "      <td>...</td>\n",
       "      <td>10317</td>\n",
       "      <td>NaN</td>\n",
       "      <td>12396</td>\n",
       "      <td>3936</td>\n",
       "      <td>4669</td>\n",
       "      <td>NaN</td>\n",
       "      <td>NaN</td>\n",
       "      <td>1260</td>\n",
       "      <td>3134</td>\n",
       "      <td>682</td>\n",
       "    </tr>\n",
       "    <tr>\n",
       "      <th>2006-01-01 11:00:00+01:00</th>\n",
       "      <td>6385</td>\n",
       "      <td>1498</td>\n",
       "      <td>8334</td>\n",
       "      <td>3840</td>\n",
       "      <td>n.a.</td>\n",
       "      <td>5366</td>\n",
       "      <td>NaN</td>\n",
       "      <td>6514</td>\n",
       "      <td>44206</td>\n",
       "      <td>NaN</td>\n",
       "      <td>...</td>\n",
       "      <td>10865</td>\n",
       "      <td>NaN</td>\n",
       "      <td>12747</td>\n",
       "      <td>4386</td>\n",
       "      <td>4735</td>\n",
       "      <td>NaN</td>\n",
       "      <td>NaN</td>\n",
       "      <td>1304</td>\n",
       "      <td>3182</td>\n",
       "      <td>692</td>\n",
       "    </tr>\n",
       "    <tr>\n",
       "      <th>2006-01-01 12:00:00+01:00</th>\n",
       "      <td>6276</td>\n",
       "      <td>1473</td>\n",
       "      <td>8621</td>\n",
       "      <td>3868</td>\n",
       "      <td>n.a.</td>\n",
       "      <td>5413</td>\n",
       "      <td>NaN</td>\n",
       "      <td>6794</td>\n",
       "      <td>45108</td>\n",
       "      <td>NaN</td>\n",
       "      <td>...</td>\n",
       "      <td>11217</td>\n",
       "      <td>NaN</td>\n",
       "      <td>13013</td>\n",
       "      <td>4708</td>\n",
       "      <td>4682</td>\n",
       "      <td>NaN</td>\n",
       "      <td>NaN</td>\n",
       "      <td>1292</td>\n",
       "      <td>3105</td>\n",
       "      <td>670</td>\n",
       "    </tr>\n",
       "    <tr>\n",
       "      <th>2006-01-01 13:00:00+01:00</th>\n",
       "      <td>6249</td>\n",
       "      <td>1437</td>\n",
       "      <td>8597</td>\n",
       "      <td>3816</td>\n",
       "      <td>n.a.</td>\n",
       "      <td>5319</td>\n",
       "      <td>NaN</td>\n",
       "      <td>6814</td>\n",
       "      <td>44216</td>\n",
       "      <td>NaN</td>\n",
       "      <td>...</td>\n",
       "      <td>11322</td>\n",
       "      <td>NaN</td>\n",
       "      <td>13379</td>\n",
       "      <td>4713</td>\n",
       "      <td>4704</td>\n",
       "      <td>NaN</td>\n",
       "      <td>NaN</td>\n",
       "      <td>1260</td>\n",
       "      <td>3077</td>\n",
       "      <td>648</td>\n",
       "    </tr>\n",
       "    <tr>\n",
       "      <th>2006-01-01 14:00:00+01:00</th>\n",
       "      <td>6247</td>\n",
       "      <td>1426</td>\n",
       "      <td>8410</td>\n",
       "      <td>3708</td>\n",
       "      <td>n.a.</td>\n",
       "      <td>5250</td>\n",
       "      <td>NaN</td>\n",
       "      <td>6923</td>\n",
       "      <td>43870</td>\n",
       "      <td>NaN</td>\n",
       "      <td>...</td>\n",
       "      <td>11305</td>\n",
       "      <td>NaN</td>\n",
       "      <td>13460</td>\n",
       "      <td>4465</td>\n",
       "      <td>4739</td>\n",
       "      <td>NaN</td>\n",
       "      <td>NaN</td>\n",
       "      <td>1231</td>\n",
       "      <td>3090</td>\n",
       "      <td>692</td>\n",
       "    </tr>\n",
       "    <tr>\n",
       "      <th>2006-01-01 15:00:00+01:00</th>\n",
       "      <td>6231</td>\n",
       "      <td>1458</td>\n",
       "      <td>8337</td>\n",
       "      <td>3759</td>\n",
       "      <td>n.a.</td>\n",
       "      <td>5379</td>\n",
       "      <td>NaN</td>\n",
       "      <td>6858</td>\n",
       "      <td>43922</td>\n",
       "      <td>NaN</td>\n",
       "      <td>...</td>\n",
       "      <td>11202</td>\n",
       "      <td>NaN</td>\n",
       "      <td>13877</td>\n",
       "      <td>4393</td>\n",
       "      <td>4747</td>\n",
       "      <td>NaN</td>\n",
       "      <td>NaN</td>\n",
       "      <td>1214</td>\n",
       "      <td>3226</td>\n",
       "      <td>734</td>\n",
       "    </tr>\n",
       "    <tr>\n",
       "      <th>2006-01-01 16:00:00+01:00</th>\n",
       "      <td>6603</td>\n",
       "      <td>1598</td>\n",
       "      <td>8405</td>\n",
       "      <td>3935</td>\n",
       "      <td>n.a.</td>\n",
       "      <td>5701</td>\n",
       "      <td>NaN</td>\n",
       "      <td>7412</td>\n",
       "      <td>46880</td>\n",
       "      <td>NaN</td>\n",
       "      <td>...</td>\n",
       "      <td>11553</td>\n",
       "      <td>NaN</td>\n",
       "      <td>15456</td>\n",
       "      <td>4371</td>\n",
       "      <td>4811</td>\n",
       "      <td>NaN</td>\n",
       "      <td>NaN</td>\n",
       "      <td>1278</td>\n",
       "      <td>3364</td>\n",
       "      <td>834</td>\n",
       "    </tr>\n",
       "    <tr>\n",
       "      <th>2006-01-01 17:00:00+01:00</th>\n",
       "      <td>6979</td>\n",
       "      <td>1677</td>\n",
       "      <td>8992</td>\n",
       "      <td>4459</td>\n",
       "      <td>n.a.</td>\n",
       "      <td>5905</td>\n",
       "      <td>NaN</td>\n",
       "      <td>7130</td>\n",
       "      <td>51673</td>\n",
       "      <td>NaN</td>\n",
       "      <td>...</td>\n",
       "      <td>12691</td>\n",
       "      <td>NaN</td>\n",
       "      <td>16046</td>\n",
       "      <td>4460</td>\n",
       "      <td>5037</td>\n",
       "      <td>NaN</td>\n",
       "      <td>NaN</td>\n",
       "      <td>1374</td>\n",
       "      <td>3348</td>\n",
       "      <td>830</td>\n",
       "    </tr>\n",
       "    <tr>\n",
       "      <th>2006-01-01 18:00:00+01:00</th>\n",
       "      <td>7022</td>\n",
       "      <td>1660</td>\n",
       "      <td>9227</td>\n",
       "      <td>4659</td>\n",
       "      <td>n.a.</td>\n",
       "      <td>5930</td>\n",
       "      <td>NaN</td>\n",
       "      <td>7327</td>\n",
       "      <td>52934</td>\n",
       "      <td>NaN</td>\n",
       "      <td>...</td>\n",
       "      <td>13134</td>\n",
       "      <td>NaN</td>\n",
       "      <td>16165</td>\n",
       "      <td>5439</td>\n",
       "      <td>5638</td>\n",
       "      <td>NaN</td>\n",
       "      <td>NaN</td>\n",
       "      <td>1391</td>\n",
       "      <td>3380</td>\n",
       "      <td>811</td>\n",
       "    </tr>\n",
       "    <tr>\n",
       "      <th>2006-01-01 19:00:00+01:00</th>\n",
       "      <td>6930</td>\n",
       "      <td>1646</td>\n",
       "      <td>9225</td>\n",
       "      <td>4577</td>\n",
       "      <td>n.a.</td>\n",
       "      <td>5927</td>\n",
       "      <td>NaN</td>\n",
       "      <td>7179</td>\n",
       "      <td>52123</td>\n",
       "      <td>NaN</td>\n",
       "      <td>...</td>\n",
       "      <td>13094</td>\n",
       "      <td>NaN</td>\n",
       "      <td>16347</td>\n",
       "      <td>5837</td>\n",
       "      <td>5823</td>\n",
       "      <td>NaN</td>\n",
       "      <td>NaN</td>\n",
       "      <td>1385</td>\n",
       "      <td>3406</td>\n",
       "      <td>776</td>\n",
       "    </tr>\n",
       "    <tr>\n",
       "      <th>2006-01-01 20:00:00+01:00</th>\n",
       "      <td>6560</td>\n",
       "      <td>1604</td>\n",
       "      <td>9084</td>\n",
       "      <td>4411</td>\n",
       "      <td>n.a.</td>\n",
       "      <td>5862</td>\n",
       "      <td>NaN</td>\n",
       "      <td>7005</td>\n",
       "      <td>50288</td>\n",
       "      <td>NaN</td>\n",
       "      <td>...</td>\n",
       "      <td>12719</td>\n",
       "      <td>NaN</td>\n",
       "      <td>16016</td>\n",
       "      <td>5971</td>\n",
       "      <td>5746</td>\n",
       "      <td>NaN</td>\n",
       "      <td>NaN</td>\n",
       "      <td>1359</td>\n",
       "      <td>3349</td>\n",
       "      <td>762</td>\n",
       "    </tr>\n",
       "    <tr>\n",
       "      <th>2006-01-01 21:00:00+01:00</th>\n",
       "      <td>6170</td>\n",
       "      <td>1511</td>\n",
       "      <td>9036</td>\n",
       "      <td>4301</td>\n",
       "      <td>n.a.</td>\n",
       "      <td>5764</td>\n",
       "      <td>NaN</td>\n",
       "      <td>6641</td>\n",
       "      <td>50209</td>\n",
       "      <td>NaN</td>\n",
       "      <td>...</td>\n",
       "      <td>12130</td>\n",
       "      <td>NaN</td>\n",
       "      <td>15329</td>\n",
       "      <td>6044</td>\n",
       "      <td>5726</td>\n",
       "      <td>NaN</td>\n",
       "      <td>NaN</td>\n",
       "      <td>1299</td>\n",
       "      <td>3217</td>\n",
       "      <td>715</td>\n",
       "    </tr>\n",
       "    <tr>\n",
       "      <th>2006-01-01 22:00:00+01:00</th>\n",
       "      <td>6501</td>\n",
       "      <td>1432</td>\n",
       "      <td>9704</td>\n",
       "      <td>4346</td>\n",
       "      <td>n.a.</td>\n",
       "      <td>5583</td>\n",
       "      <td>NaN</td>\n",
       "      <td>6426</td>\n",
       "      <td>51361</td>\n",
       "      <td>NaN</td>\n",
       "      <td>...</td>\n",
       "      <td>11464</td>\n",
       "      <td>NaN</td>\n",
       "      <td>14508</td>\n",
       "      <td>5895</td>\n",
       "      <td>5639</td>\n",
       "      <td>NaN</td>\n",
       "      <td>NaN</td>\n",
       "      <td>1225</td>\n",
       "      <td>3168</td>\n",
       "      <td>678</td>\n",
       "    </tr>\n",
       "    <tr>\n",
       "      <th>2006-01-01 23:00:00+01:00</th>\n",
       "      <td>6168</td>\n",
       "      <td>1328</td>\n",
       "      <td>9840</td>\n",
       "      <td>4335</td>\n",
       "      <td>0</td>\n",
       "      <td>5372</td>\n",
       "      <td>NaN</td>\n",
       "      <td>6278</td>\n",
       "      <td>48050</td>\n",
       "      <td>NaN</td>\n",
       "      <td>...</td>\n",
       "      <td>10482</td>\n",
       "      <td>NaN</td>\n",
       "      <td>13480</td>\n",
       "      <td>5596</td>\n",
       "      <td>5431</td>\n",
       "      <td>NaN</td>\n",
       "      <td>NaN</td>\n",
       "      <td>1142</td>\n",
       "      <td>3095</td>\n",
       "      <td>634</td>\n",
       "    </tr>\n",
       "    <tr>\n",
       "      <th>2006-01-02 00:00:00+01:00</th>\n",
       "      <td>5900</td>\n",
       "      <td>1220</td>\n",
       "      <td>9250</td>\n",
       "      <td>4030</td>\n",
       "      <td>n.a.</td>\n",
       "      <td>5232</td>\n",
       "      <td>NaN</td>\n",
       "      <td>6554</td>\n",
       "      <td>44990</td>\n",
       "      <td>NaN</td>\n",
       "      <td>...</td>\n",
       "      <td>9590</td>\n",
       "      <td>NaN</td>\n",
       "      <td>12773</td>\n",
       "      <td>5015</td>\n",
       "      <td>5139</td>\n",
       "      <td>NaN</td>\n",
       "      <td>NaN</td>\n",
       "      <td>1074</td>\n",
       "      <td>2953</td>\n",
       "      <td>627</td>\n",
       "    </tr>\n",
       "    <tr>\n",
       "      <th>2006-01-02 01:00:00+01:00</th>\n",
       "      <td>5643</td>\n",
       "      <td>1138</td>\n",
       "      <td>8802</td>\n",
       "      <td>3823</td>\n",
       "      <td>n.a.</td>\n",
       "      <td>4935</td>\n",
       "      <td>NaN</td>\n",
       "      <td>6529</td>\n",
       "      <td>43319</td>\n",
       "      <td>NaN</td>\n",
       "      <td>...</td>\n",
       "      <td>9017</td>\n",
       "      <td>NaN</td>\n",
       "      <td>12420</td>\n",
       "      <td>4485</td>\n",
       "      <td>4923</td>\n",
       "      <td>NaN</td>\n",
       "      <td>NaN</td>\n",
       "      <td>1025</td>\n",
       "      <td>2903</td>\n",
       "      <td>624</td>\n",
       "    </tr>\n",
       "    <tr>\n",
       "      <th>2006-01-02 02:00:00+01:00</th>\n",
       "      <td>5524</td>\n",
       "      <td>1105</td>\n",
       "      <td>8401</td>\n",
       "      <td>3678</td>\n",
       "      <td>n.a.</td>\n",
       "      <td>4624</td>\n",
       "      <td>NaN</td>\n",
       "      <td>6461</td>\n",
       "      <td>42327</td>\n",
       "      <td>NaN</td>\n",
       "      <td>...</td>\n",
       "      <td>8758</td>\n",
       "      <td>NaN</td>\n",
       "      <td>12183</td>\n",
       "      <td>4183</td>\n",
       "      <td>4789</td>\n",
       "      <td>NaN</td>\n",
       "      <td>NaN</td>\n",
       "      <td>997</td>\n",
       "      <td>2912</td>\n",
       "      <td>634</td>\n",
       "    </tr>\n",
       "    <tr>\n",
       "      <th>2006-01-02 03:00:00+01:00</th>\n",
       "      <td>5372</td>\n",
       "      <td>1079</td>\n",
       "      <td>8167</td>\n",
       "      <td>3571</td>\n",
       "      <td>n.a.</td>\n",
       "      <td>4393</td>\n",
       "      <td>NaN</td>\n",
       "      <td>6512</td>\n",
       "      <td>41921</td>\n",
       "      <td>NaN</td>\n",
       "      <td>...</td>\n",
       "      <td>8580</td>\n",
       "      <td>NaN</td>\n",
       "      <td>12207</td>\n",
       "      <td>4024</td>\n",
       "      <td>4670</td>\n",
       "      <td>NaN</td>\n",
       "      <td>NaN</td>\n",
       "      <td>984</td>\n",
       "      <td>2903</td>\n",
       "      <td>619</td>\n",
       "    </tr>\n",
       "    <tr>\n",
       "      <th>2006-01-02 04:00:00+01:00</th>\n",
       "      <td>5481</td>\n",
       "      <td>1072</td>\n",
       "      <td>8097</td>\n",
       "      <td>3419</td>\n",
       "      <td>n.a.</td>\n",
       "      <td>4254</td>\n",
       "      <td>NaN</td>\n",
       "      <td>6772</td>\n",
       "      <td>42697</td>\n",
       "      <td>NaN</td>\n",
       "      <td>...</td>\n",
       "      <td>8621</td>\n",
       "      <td>NaN</td>\n",
       "      <td>12450</td>\n",
       "      <td>3984</td>\n",
       "      <td>4656</td>\n",
       "      <td>NaN</td>\n",
       "      <td>NaN</td>\n",
       "      <td>980</td>\n",
       "      <td>3011</td>\n",
       "      <td>635</td>\n",
       "    </tr>\n",
       "    <tr>\n",
       "      <th>2006-01-02 05:00:00+01:00</th>\n",
       "      <td>5941</td>\n",
       "      <td>1106</td>\n",
       "      <td>8259</td>\n",
       "      <td>3486</td>\n",
       "      <td>n.a.</td>\n",
       "      <td>4262</td>\n",
       "      <td>NaN</td>\n",
       "      <td>7153</td>\n",
       "      <td>44602</td>\n",
       "      <td>NaN</td>\n",
       "      <td>...</td>\n",
       "      <td>9062</td>\n",
       "      <td>NaN</td>\n",
       "      <td>13167</td>\n",
       "      <td>4021</td>\n",
       "      <td>4656</td>\n",
       "      <td>NaN</td>\n",
       "      <td>NaN</td>\n",
       "      <td>1012</td>\n",
       "      <td>3143</td>\n",
       "      <td>660</td>\n",
       "    </tr>\n",
       "    <tr>\n",
       "      <th>...</th>\n",
       "      <td>...</td>\n",
       "      <td>...</td>\n",
       "      <td>...</td>\n",
       "      <td>...</td>\n",
       "      <td>...</td>\n",
       "      <td>...</td>\n",
       "      <td>...</td>\n",
       "      <td>...</td>\n",
       "      <td>...</td>\n",
       "      <td>...</td>\n",
       "      <td>...</td>\n",
       "      <td>...</td>\n",
       "      <td>...</td>\n",
       "      <td>...</td>\n",
       "      <td>...</td>\n",
       "      <td>...</td>\n",
       "      <td>...</td>\n",
       "      <td>...</td>\n",
       "      <td>...</td>\n",
       "      <td>...</td>\n",
       "      <td>...</td>\n",
       "    </tr>\n",
       "    <tr>\n",
       "      <th>2015-12-30 18:00:00+01:00</th>\n",
       "      <td>NaN</td>\n",
       "      <td>NaN</td>\n",
       "      <td>NaN</td>\n",
       "      <td>NaN</td>\n",
       "      <td>7931</td>\n",
       "      <td>NaN</td>\n",
       "      <td>NaN</td>\n",
       "      <td>7640</td>\n",
       "      <td>NaN</td>\n",
       "      <td>4907</td>\n",
       "      <td>...</td>\n",
       "      <td>NaN</td>\n",
       "      <td>18450</td>\n",
       "      <td>NaN</td>\n",
       "      <td>6717</td>\n",
       "      <td>NaN</td>\n",
       "      <td>NaN</td>\n",
       "      <td>NaN</td>\n",
       "      <td>NaN</td>\n",
       "      <td>3470</td>\n",
       "      <td>NaN</td>\n",
       "    </tr>\n",
       "    <tr>\n",
       "      <th>2015-12-30 19:00:00+01:00</th>\n",
       "      <td>NaN</td>\n",
       "      <td>NaN</td>\n",
       "      <td>NaN</td>\n",
       "      <td>NaN</td>\n",
       "      <td>7659</td>\n",
       "      <td>NaN</td>\n",
       "      <td>NaN</td>\n",
       "      <td>7505</td>\n",
       "      <td>NaN</td>\n",
       "      <td>4606</td>\n",
       "      <td>...</td>\n",
       "      <td>NaN</td>\n",
       "      <td>18108</td>\n",
       "      <td>NaN</td>\n",
       "      <td>6792</td>\n",
       "      <td>NaN</td>\n",
       "      <td>NaN</td>\n",
       "      <td>NaN</td>\n",
       "      <td>NaN</td>\n",
       "      <td>3435</td>\n",
       "      <td>NaN</td>\n",
       "    </tr>\n",
       "    <tr>\n",
       "      <th>2015-12-30 20:00:00+01:00</th>\n",
       "      <td>NaN</td>\n",
       "      <td>NaN</td>\n",
       "      <td>NaN</td>\n",
       "      <td>NaN</td>\n",
       "      <td>7290</td>\n",
       "      <td>NaN</td>\n",
       "      <td>NaN</td>\n",
       "      <td>7365</td>\n",
       "      <td>NaN</td>\n",
       "      <td>4317</td>\n",
       "      <td>...</td>\n",
       "      <td>NaN</td>\n",
       "      <td>17628</td>\n",
       "      <td>NaN</td>\n",
       "      <td>6806</td>\n",
       "      <td>NaN</td>\n",
       "      <td>NaN</td>\n",
       "      <td>NaN</td>\n",
       "      <td>NaN</td>\n",
       "      <td>3370</td>\n",
       "      <td>NaN</td>\n",
       "    </tr>\n",
       "    <tr>\n",
       "      <th>2015-12-30 21:00:00+01:00</th>\n",
       "      <td>NaN</td>\n",
       "      <td>NaN</td>\n",
       "      <td>NaN</td>\n",
       "      <td>NaN</td>\n",
       "      <td>7114</td>\n",
       "      <td>NaN</td>\n",
       "      <td>NaN</td>\n",
       "      <td>7045</td>\n",
       "      <td>NaN</td>\n",
       "      <td>4062</td>\n",
       "      <td>...</td>\n",
       "      <td>NaN</td>\n",
       "      <td>17142</td>\n",
       "      <td>NaN</td>\n",
       "      <td>6517</td>\n",
       "      <td>NaN</td>\n",
       "      <td>NaN</td>\n",
       "      <td>NaN</td>\n",
       "      <td>NaN</td>\n",
       "      <td>3232</td>\n",
       "      <td>NaN</td>\n",
       "    </tr>\n",
       "    <tr>\n",
       "      <th>2015-12-30 22:00:00+01:00</th>\n",
       "      <td>NaN</td>\n",
       "      <td>NaN</td>\n",
       "      <td>NaN</td>\n",
       "      <td>NaN</td>\n",
       "      <td>7029</td>\n",
       "      <td>NaN</td>\n",
       "      <td>NaN</td>\n",
       "      <td>6680</td>\n",
       "      <td>NaN</td>\n",
       "      <td>3785</td>\n",
       "      <td>...</td>\n",
       "      <td>NaN</td>\n",
       "      <td>16512</td>\n",
       "      <td>NaN</td>\n",
       "      <td>6158</td>\n",
       "      <td>NaN</td>\n",
       "      <td>NaN</td>\n",
       "      <td>NaN</td>\n",
       "      <td>NaN</td>\n",
       "      <td>3111</td>\n",
       "      <td>NaN</td>\n",
       "    </tr>\n",
       "    <tr>\n",
       "      <th>2015-12-30 23:00:00+01:00</th>\n",
       "      <td>NaN</td>\n",
       "      <td>NaN</td>\n",
       "      <td>NaN</td>\n",
       "      <td>NaN</td>\n",
       "      <td>7102</td>\n",
       "      <td>NaN</td>\n",
       "      <td>NaN</td>\n",
       "      <td>6287</td>\n",
       "      <td>NaN</td>\n",
       "      <td>3483</td>\n",
       "      <td>...</td>\n",
       "      <td>NaN</td>\n",
       "      <td>15995</td>\n",
       "      <td>NaN</td>\n",
       "      <td>5803</td>\n",
       "      <td>NaN</td>\n",
       "      <td>NaN</td>\n",
       "      <td>NaN</td>\n",
       "      <td>NaN</td>\n",
       "      <td>2960</td>\n",
       "      <td>NaN</td>\n",
       "    </tr>\n",
       "    <tr>\n",
       "      <th>2015-12-31 00:00:00+01:00</th>\n",
       "      <td>NaN</td>\n",
       "      <td>NaN</td>\n",
       "      <td>NaN</td>\n",
       "      <td>NaN</td>\n",
       "      <td>6858</td>\n",
       "      <td>NaN</td>\n",
       "      <td>NaN</td>\n",
       "      <td>5981</td>\n",
       "      <td>NaN</td>\n",
       "      <td>3225</td>\n",
       "      <td>...</td>\n",
       "      <td>NaN</td>\n",
       "      <td>15464</td>\n",
       "      <td>NaN</td>\n",
       "      <td>5258</td>\n",
       "      <td>NaN</td>\n",
       "      <td>NaN</td>\n",
       "      <td>NaN</td>\n",
       "      <td>NaN</td>\n",
       "      <td>2820</td>\n",
       "      <td>NaN</td>\n",
       "    </tr>\n",
       "    <tr>\n",
       "      <th>2015-12-31 01:00:00+01:00</th>\n",
       "      <td>NaN</td>\n",
       "      <td>NaN</td>\n",
       "      <td>NaN</td>\n",
       "      <td>NaN</td>\n",
       "      <td>7042</td>\n",
       "      <td>NaN</td>\n",
       "      <td>NaN</td>\n",
       "      <td>5967</td>\n",
       "      <td>NaN</td>\n",
       "      <td>3053</td>\n",
       "      <td>...</td>\n",
       "      <td>NaN</td>\n",
       "      <td>15165</td>\n",
       "      <td>NaN</td>\n",
       "      <td>4782</td>\n",
       "      <td>NaN</td>\n",
       "      <td>NaN</td>\n",
       "      <td>NaN</td>\n",
       "      <td>NaN</td>\n",
       "      <td>2691</td>\n",
       "      <td>NaN</td>\n",
       "    </tr>\n",
       "    <tr>\n",
       "      <th>2015-12-31 02:00:00+01:00</th>\n",
       "      <td>NaN</td>\n",
       "      <td>NaN</td>\n",
       "      <td>NaN</td>\n",
       "      <td>NaN</td>\n",
       "      <td>6973</td>\n",
       "      <td>NaN</td>\n",
       "      <td>NaN</td>\n",
       "      <td>5889</td>\n",
       "      <td>NaN</td>\n",
       "      <td>2984</td>\n",
       "      <td>...</td>\n",
       "      <td>NaN</td>\n",
       "      <td>14894</td>\n",
       "      <td>NaN</td>\n",
       "      <td>4451</td>\n",
       "      <td>NaN</td>\n",
       "      <td>NaN</td>\n",
       "      <td>NaN</td>\n",
       "      <td>NaN</td>\n",
       "      <td>2626</td>\n",
       "      <td>NaN</td>\n",
       "    </tr>\n",
       "    <tr>\n",
       "      <th>2015-12-31 03:00:00+01:00</th>\n",
       "      <td>NaN</td>\n",
       "      <td>NaN</td>\n",
       "      <td>NaN</td>\n",
       "      <td>NaN</td>\n",
       "      <td>6794</td>\n",
       "      <td>NaN</td>\n",
       "      <td>NaN</td>\n",
       "      <td>5706</td>\n",
       "      <td>NaN</td>\n",
       "      <td>3023</td>\n",
       "      <td>...</td>\n",
       "      <td>NaN</td>\n",
       "      <td>14798</td>\n",
       "      <td>NaN</td>\n",
       "      <td>4183</td>\n",
       "      <td>NaN</td>\n",
       "      <td>NaN</td>\n",
       "      <td>NaN</td>\n",
       "      <td>NaN</td>\n",
       "      <td>2602</td>\n",
       "      <td>NaN</td>\n",
       "    </tr>\n",
       "    <tr>\n",
       "      <th>2015-12-31 04:00:00+01:00</th>\n",
       "      <td>NaN</td>\n",
       "      <td>NaN</td>\n",
       "      <td>NaN</td>\n",
       "      <td>NaN</td>\n",
       "      <td>6611</td>\n",
       "      <td>NaN</td>\n",
       "      <td>NaN</td>\n",
       "      <td>5666</td>\n",
       "      <td>NaN</td>\n",
       "      <td>3118</td>\n",
       "      <td>...</td>\n",
       "      <td>NaN</td>\n",
       "      <td>14744</td>\n",
       "      <td>NaN</td>\n",
       "      <td>4100</td>\n",
       "      <td>NaN</td>\n",
       "      <td>NaN</td>\n",
       "      <td>NaN</td>\n",
       "      <td>NaN</td>\n",
       "      <td>2660</td>\n",
       "      <td>NaN</td>\n",
       "    </tr>\n",
       "    <tr>\n",
       "      <th>2015-12-31 05:00:00+01:00</th>\n",
       "      <td>NaN</td>\n",
       "      <td>NaN</td>\n",
       "      <td>NaN</td>\n",
       "      <td>NaN</td>\n",
       "      <td>6747</td>\n",
       "      <td>NaN</td>\n",
       "      <td>NaN</td>\n",
       "      <td>5803</td>\n",
       "      <td>NaN</td>\n",
       "      <td>3237</td>\n",
       "      <td>...</td>\n",
       "      <td>NaN</td>\n",
       "      <td>14983</td>\n",
       "      <td>NaN</td>\n",
       "      <td>4086</td>\n",
       "      <td>NaN</td>\n",
       "      <td>NaN</td>\n",
       "      <td>NaN</td>\n",
       "      <td>NaN</td>\n",
       "      <td>2740</td>\n",
       "      <td>NaN</td>\n",
       "    </tr>\n",
       "    <tr>\n",
       "      <th>2015-12-31 06:00:00+01:00</th>\n",
       "      <td>NaN</td>\n",
       "      <td>NaN</td>\n",
       "      <td>NaN</td>\n",
       "      <td>NaN</td>\n",
       "      <td>6559</td>\n",
       "      <td>NaN</td>\n",
       "      <td>NaN</td>\n",
       "      <td>6025</td>\n",
       "      <td>NaN</td>\n",
       "      <td>3350</td>\n",
       "      <td>...</td>\n",
       "      <td>NaN</td>\n",
       "      <td>15516</td>\n",
       "      <td>NaN</td>\n",
       "      <td>4042</td>\n",
       "      <td>NaN</td>\n",
       "      <td>NaN</td>\n",
       "      <td>NaN</td>\n",
       "      <td>NaN</td>\n",
       "      <td>2825</td>\n",
       "      <td>NaN</td>\n",
       "    </tr>\n",
       "    <tr>\n",
       "      <th>2015-12-31 07:00:00+01:00</th>\n",
       "      <td>NaN</td>\n",
       "      <td>NaN</td>\n",
       "      <td>NaN</td>\n",
       "      <td>NaN</td>\n",
       "      <td>6522</td>\n",
       "      <td>NaN</td>\n",
       "      <td>NaN</td>\n",
       "      <td>6210</td>\n",
       "      <td>NaN</td>\n",
       "      <td>3579</td>\n",
       "      <td>...</td>\n",
       "      <td>NaN</td>\n",
       "      <td>16302</td>\n",
       "      <td>NaN</td>\n",
       "      <td>4314</td>\n",
       "      <td>NaN</td>\n",
       "      <td>NaN</td>\n",
       "      <td>NaN</td>\n",
       "      <td>NaN</td>\n",
       "      <td>2892</td>\n",
       "      <td>NaN</td>\n",
       "    </tr>\n",
       "    <tr>\n",
       "      <th>2015-12-31 08:00:00+01:00</th>\n",
       "      <td>NaN</td>\n",
       "      <td>NaN</td>\n",
       "      <td>NaN</td>\n",
       "      <td>NaN</td>\n",
       "      <td>6764</td>\n",
       "      <td>NaN</td>\n",
       "      <td>NaN</td>\n",
       "      <td>6511</td>\n",
       "      <td>NaN</td>\n",
       "      <td>3805</td>\n",
       "      <td>...</td>\n",
       "      <td>NaN</td>\n",
       "      <td>16897</td>\n",
       "      <td>NaN</td>\n",
       "      <td>4476</td>\n",
       "      <td>NaN</td>\n",
       "      <td>NaN</td>\n",
       "      <td>NaN</td>\n",
       "      <td>NaN</td>\n",
       "      <td>3047</td>\n",
       "      <td>NaN</td>\n",
       "    </tr>\n",
       "    <tr>\n",
       "      <th>2015-12-31 09:00:00+01:00</th>\n",
       "      <td>NaN</td>\n",
       "      <td>NaN</td>\n",
       "      <td>NaN</td>\n",
       "      <td>NaN</td>\n",
       "      <td>7044</td>\n",
       "      <td>NaN</td>\n",
       "      <td>NaN</td>\n",
       "      <td>6919</td>\n",
       "      <td>NaN</td>\n",
       "      <td>4057</td>\n",
       "      <td>...</td>\n",
       "      <td>NaN</td>\n",
       "      <td>17437</td>\n",
       "      <td>NaN</td>\n",
       "      <td>5000</td>\n",
       "      <td>NaN</td>\n",
       "      <td>NaN</td>\n",
       "      <td>NaN</td>\n",
       "      <td>NaN</td>\n",
       "      <td>3206</td>\n",
       "      <td>NaN</td>\n",
       "    </tr>\n",
       "    <tr>\n",
       "      <th>2015-12-31 10:00:00+01:00</th>\n",
       "      <td>NaN</td>\n",
       "      <td>NaN</td>\n",
       "      <td>NaN</td>\n",
       "      <td>NaN</td>\n",
       "      <td>7170</td>\n",
       "      <td>NaN</td>\n",
       "      <td>NaN</td>\n",
       "      <td>7212</td>\n",
       "      <td>NaN</td>\n",
       "      <td>4189</td>\n",
       "      <td>...</td>\n",
       "      <td>NaN</td>\n",
       "      <td>17915</td>\n",
       "      <td>NaN</td>\n",
       "      <td>5385</td>\n",
       "      <td>NaN</td>\n",
       "      <td>NaN</td>\n",
       "      <td>NaN</td>\n",
       "      <td>NaN</td>\n",
       "      <td>3287</td>\n",
       "      <td>NaN</td>\n",
       "    </tr>\n",
       "    <tr>\n",
       "      <th>2015-12-31 11:00:00+01:00</th>\n",
       "      <td>NaN</td>\n",
       "      <td>NaN</td>\n",
       "      <td>NaN</td>\n",
       "      <td>NaN</td>\n",
       "      <td>7069</td>\n",
       "      <td>NaN</td>\n",
       "      <td>NaN</td>\n",
       "      <td>7211</td>\n",
       "      <td>NaN</td>\n",
       "      <td>4239</td>\n",
       "      <td>...</td>\n",
       "      <td>NaN</td>\n",
       "      <td>18270</td>\n",
       "      <td>NaN</td>\n",
       "      <td>5584</td>\n",
       "      <td>NaN</td>\n",
       "      <td>NaN</td>\n",
       "      <td>NaN</td>\n",
       "      <td>NaN</td>\n",
       "      <td>3313</td>\n",
       "      <td>NaN</td>\n",
       "    </tr>\n",
       "    <tr>\n",
       "      <th>2015-12-31 12:00:00+01:00</th>\n",
       "      <td>NaN</td>\n",
       "      <td>NaN</td>\n",
       "      <td>NaN</td>\n",
       "      <td>NaN</td>\n",
       "      <td>7498</td>\n",
       "      <td>NaN</td>\n",
       "      <td>NaN</td>\n",
       "      <td>7086</td>\n",
       "      <td>NaN</td>\n",
       "      <td>4251</td>\n",
       "      <td>...</td>\n",
       "      <td>NaN</td>\n",
       "      <td>18511</td>\n",
       "      <td>NaN</td>\n",
       "      <td>5628</td>\n",
       "      <td>NaN</td>\n",
       "      <td>NaN</td>\n",
       "      <td>NaN</td>\n",
       "      <td>NaN</td>\n",
       "      <td>3233</td>\n",
       "      <td>NaN</td>\n",
       "    </tr>\n",
       "    <tr>\n",
       "      <th>2015-12-31 13:00:00+01:00</th>\n",
       "      <td>NaN</td>\n",
       "      <td>NaN</td>\n",
       "      <td>NaN</td>\n",
       "      <td>NaN</td>\n",
       "      <td>7360</td>\n",
       "      <td>NaN</td>\n",
       "      <td>NaN</td>\n",
       "      <td>7035</td>\n",
       "      <td>NaN</td>\n",
       "      <td>4297</td>\n",
       "      <td>...</td>\n",
       "      <td>NaN</td>\n",
       "      <td>18494</td>\n",
       "      <td>NaN</td>\n",
       "      <td>5607</td>\n",
       "      <td>NaN</td>\n",
       "      <td>NaN</td>\n",
       "      <td>NaN</td>\n",
       "      <td>NaN</td>\n",
       "      <td>3280</td>\n",
       "      <td>NaN</td>\n",
       "    </tr>\n",
       "    <tr>\n",
       "      <th>2015-12-31 14:00:00+01:00</th>\n",
       "      <td>NaN</td>\n",
       "      <td>NaN</td>\n",
       "      <td>NaN</td>\n",
       "      <td>NaN</td>\n",
       "      <td>7350</td>\n",
       "      <td>NaN</td>\n",
       "      <td>NaN</td>\n",
       "      <td>7031</td>\n",
       "      <td>NaN</td>\n",
       "      <td>4304</td>\n",
       "      <td>...</td>\n",
       "      <td>NaN</td>\n",
       "      <td>18679</td>\n",
       "      <td>NaN</td>\n",
       "      <td>5453</td>\n",
       "      <td>NaN</td>\n",
       "      <td>NaN</td>\n",
       "      <td>NaN</td>\n",
       "      <td>NaN</td>\n",
       "      <td>3242</td>\n",
       "      <td>NaN</td>\n",
       "    </tr>\n",
       "    <tr>\n",
       "      <th>2015-12-31 15:00:00+01:00</th>\n",
       "      <td>NaN</td>\n",
       "      <td>NaN</td>\n",
       "      <td>NaN</td>\n",
       "      <td>NaN</td>\n",
       "      <td>7001</td>\n",
       "      <td>NaN</td>\n",
       "      <td>NaN</td>\n",
       "      <td>7131</td>\n",
       "      <td>NaN</td>\n",
       "      <td>4412</td>\n",
       "      <td>...</td>\n",
       "      <td>NaN</td>\n",
       "      <td>18940</td>\n",
       "      <td>NaN</td>\n",
       "      <td>5440</td>\n",
       "      <td>NaN</td>\n",
       "      <td>NaN</td>\n",
       "      <td>NaN</td>\n",
       "      <td>NaN</td>\n",
       "      <td>3215</td>\n",
       "      <td>NaN</td>\n",
       "    </tr>\n",
       "    <tr>\n",
       "      <th>2015-12-31 16:00:00+01:00</th>\n",
       "      <td>NaN</td>\n",
       "      <td>NaN</td>\n",
       "      <td>NaN</td>\n",
       "      <td>NaN</td>\n",
       "      <td>7139</td>\n",
       "      <td>NaN</td>\n",
       "      <td>NaN</td>\n",
       "      <td>7279</td>\n",
       "      <td>NaN</td>\n",
       "      <td>4710</td>\n",
       "      <td>...</td>\n",
       "      <td>NaN</td>\n",
       "      <td>19085</td>\n",
       "      <td>NaN</td>\n",
       "      <td>5335</td>\n",
       "      <td>NaN</td>\n",
       "      <td>NaN</td>\n",
       "      <td>NaN</td>\n",
       "      <td>NaN</td>\n",
       "      <td>3320</td>\n",
       "      <td>NaN</td>\n",
       "    </tr>\n",
       "    <tr>\n",
       "      <th>2015-12-31 17:00:00+01:00</th>\n",
       "      <td>NaN</td>\n",
       "      <td>NaN</td>\n",
       "      <td>NaN</td>\n",
       "      <td>NaN</td>\n",
       "      <td>7467</td>\n",
       "      <td>NaN</td>\n",
       "      <td>NaN</td>\n",
       "      <td>7297</td>\n",
       "      <td>NaN</td>\n",
       "      <td>4904</td>\n",
       "      <td>...</td>\n",
       "      <td>NaN</td>\n",
       "      <td>18935</td>\n",
       "      <td>NaN</td>\n",
       "      <td>5372</td>\n",
       "      <td>NaN</td>\n",
       "      <td>NaN</td>\n",
       "      <td>NaN</td>\n",
       "      <td>NaN</td>\n",
       "      <td>3355</td>\n",
       "      <td>NaN</td>\n",
       "    </tr>\n",
       "    <tr>\n",
       "      <th>2015-12-31 18:00:00+01:00</th>\n",
       "      <td>NaN</td>\n",
       "      <td>NaN</td>\n",
       "      <td>NaN</td>\n",
       "      <td>NaN</td>\n",
       "      <td>7373</td>\n",
       "      <td>NaN</td>\n",
       "      <td>NaN</td>\n",
       "      <td>6996</td>\n",
       "      <td>NaN</td>\n",
       "      <td>4668</td>\n",
       "      <td>...</td>\n",
       "      <td>NaN</td>\n",
       "      <td>18399</td>\n",
       "      <td>NaN</td>\n",
       "      <td>6175</td>\n",
       "      <td>NaN</td>\n",
       "      <td>NaN</td>\n",
       "      <td>NaN</td>\n",
       "      <td>NaN</td>\n",
       "      <td>3260</td>\n",
       "      <td>NaN</td>\n",
       "    </tr>\n",
       "    <tr>\n",
       "      <th>2015-12-31 19:00:00+01:00</th>\n",
       "      <td>NaN</td>\n",
       "      <td>NaN</td>\n",
       "      <td>NaN</td>\n",
       "      <td>NaN</td>\n",
       "      <td>7089</td>\n",
       "      <td>NaN</td>\n",
       "      <td>NaN</td>\n",
       "      <td>6719</td>\n",
       "      <td>NaN</td>\n",
       "      <td>4202</td>\n",
       "      <td>...</td>\n",
       "      <td>NaN</td>\n",
       "      <td>17551</td>\n",
       "      <td>NaN</td>\n",
       "      <td>6308</td>\n",
       "      <td>NaN</td>\n",
       "      <td>NaN</td>\n",
       "      <td>NaN</td>\n",
       "      <td>NaN</td>\n",
       "      <td>3158</td>\n",
       "      <td>NaN</td>\n",
       "    </tr>\n",
       "    <tr>\n",
       "      <th>2015-12-31 20:00:00+01:00</th>\n",
       "      <td>NaN</td>\n",
       "      <td>NaN</td>\n",
       "      <td>NaN</td>\n",
       "      <td>NaN</td>\n",
       "      <td>6988</td>\n",
       "      <td>NaN</td>\n",
       "      <td>NaN</td>\n",
       "      <td>6468</td>\n",
       "      <td>NaN</td>\n",
       "      <td>3878</td>\n",
       "      <td>...</td>\n",
       "      <td>NaN</td>\n",
       "      <td>16926</td>\n",
       "      <td>NaN</td>\n",
       "      <td>6024</td>\n",
       "      <td>NaN</td>\n",
       "      <td>NaN</td>\n",
       "      <td>NaN</td>\n",
       "      <td>NaN</td>\n",
       "      <td>3073</td>\n",
       "      <td>NaN</td>\n",
       "    </tr>\n",
       "    <tr>\n",
       "      <th>2015-12-31 21:00:00+01:00</th>\n",
       "      <td>NaN</td>\n",
       "      <td>NaN</td>\n",
       "      <td>NaN</td>\n",
       "      <td>NaN</td>\n",
       "      <td>6868</td>\n",
       "      <td>NaN</td>\n",
       "      <td>NaN</td>\n",
       "      <td>6329</td>\n",
       "      <td>NaN</td>\n",
       "      <td>3719</td>\n",
       "      <td>...</td>\n",
       "      <td>NaN</td>\n",
       "      <td>16458</td>\n",
       "      <td>NaN</td>\n",
       "      <td>5447</td>\n",
       "      <td>NaN</td>\n",
       "      <td>NaN</td>\n",
       "      <td>NaN</td>\n",
       "      <td>NaN</td>\n",
       "      <td>2997</td>\n",
       "      <td>NaN</td>\n",
       "    </tr>\n",
       "    <tr>\n",
       "      <th>2015-12-31 22:00:00+01:00</th>\n",
       "      <td>NaN</td>\n",
       "      <td>NaN</td>\n",
       "      <td>NaN</td>\n",
       "      <td>NaN</td>\n",
       "      <td>6906</td>\n",
       "      <td>NaN</td>\n",
       "      <td>NaN</td>\n",
       "      <td>6171</td>\n",
       "      <td>NaN</td>\n",
       "      <td>3556</td>\n",
       "      <td>...</td>\n",
       "      <td>NaN</td>\n",
       "      <td>16155</td>\n",
       "      <td>NaN</td>\n",
       "      <td>5111</td>\n",
       "      <td>NaN</td>\n",
       "      <td>NaN</td>\n",
       "      <td>NaN</td>\n",
       "      <td>NaN</td>\n",
       "      <td>2971</td>\n",
       "      <td>NaN</td>\n",
       "    </tr>\n",
       "    <tr>\n",
       "      <th>2015-12-31 23:00:00+01:00</th>\n",
       "      <td>NaN</td>\n",
       "      <td>NaN</td>\n",
       "      <td>NaN</td>\n",
       "      <td>NaN</td>\n",
       "      <td>6897</td>\n",
       "      <td>NaN</td>\n",
       "      <td>NaN</td>\n",
       "      <td>6040</td>\n",
       "      <td>NaN</td>\n",
       "      <td>3424</td>\n",
       "      <td>...</td>\n",
       "      <td>NaN</td>\n",
       "      <td>15756</td>\n",
       "      <td>NaN</td>\n",
       "      <td>4960</td>\n",
       "      <td>NaN</td>\n",
       "      <td>NaN</td>\n",
       "      <td>NaN</td>\n",
       "      <td>NaN</td>\n",
       "      <td>2934</td>\n",
       "      <td>NaN</td>\n",
       "    </tr>\n",
       "  </tbody>\n",
       "</table>\n",
       "<p>87648 rows × 38 columns</p>\n",
       "</div>"
      ],
      "text/plain": [
       "Country                    load_AT  load_BA  load_BE load_BG load_CH  load_CS  \\\n",
       "dt_index                                                                        \n",
       "2006-01-01 00:00:00+01:00     6297     1425     9829    4293    n.a.     5781   \n",
       "2006-01-01 01:00:00+01:00     6005     1358     9447    4186    n.a.     5747   \n",
       "2006-01-01 02:00:00+01:00     5743     1283     9062    4026    n.a.     5380   \n",
       "2006-01-01 03:00:00+01:00     5397     1175     8589    3877    n.a.     4978   \n",
       "2006-01-01 04:00:00+01:00     5213     1134     8247    3724    n.a.     4735   \n",
       "2006-01-01 05:00:00+01:00     5190     1155     8045    3589    n.a.     4554   \n",
       "2006-01-01 06:00:00+01:00     4916     1175     7941    3475    n.a.     4423   \n",
       "2006-01-01 07:00:00+01:00     5158     1194     7554    3420    n.a.     4416   \n",
       "2006-01-01 08:00:00+01:00     5405     1292     7525    3468    n.a.     4617   \n",
       "2006-01-01 09:00:00+01:00     5731     1377     7649    3641    n.a.     4976   \n",
       "2006-01-01 10:00:00+01:00     6075     1456     7983    3791    n.a.     5224   \n",
       "2006-01-01 11:00:00+01:00     6385     1498     8334    3840    n.a.     5366   \n",
       "2006-01-01 12:00:00+01:00     6276     1473     8621    3868    n.a.     5413   \n",
       "2006-01-01 13:00:00+01:00     6249     1437     8597    3816    n.a.     5319   \n",
       "2006-01-01 14:00:00+01:00     6247     1426     8410    3708    n.a.     5250   \n",
       "2006-01-01 15:00:00+01:00     6231     1458     8337    3759    n.a.     5379   \n",
       "2006-01-01 16:00:00+01:00     6603     1598     8405    3935    n.a.     5701   \n",
       "2006-01-01 17:00:00+01:00     6979     1677     8992    4459    n.a.     5905   \n",
       "2006-01-01 18:00:00+01:00     7022     1660     9227    4659    n.a.     5930   \n",
       "2006-01-01 19:00:00+01:00     6930     1646     9225    4577    n.a.     5927   \n",
       "2006-01-01 20:00:00+01:00     6560     1604     9084    4411    n.a.     5862   \n",
       "2006-01-01 21:00:00+01:00     6170     1511     9036    4301    n.a.     5764   \n",
       "2006-01-01 22:00:00+01:00     6501     1432     9704    4346    n.a.     5583   \n",
       "2006-01-01 23:00:00+01:00     6168     1328     9840    4335       0     5372   \n",
       "2006-01-02 00:00:00+01:00     5900     1220     9250    4030    n.a.     5232   \n",
       "2006-01-02 01:00:00+01:00     5643     1138     8802    3823    n.a.     4935   \n",
       "2006-01-02 02:00:00+01:00     5524     1105     8401    3678    n.a.     4624   \n",
       "2006-01-02 03:00:00+01:00     5372     1079     8167    3571    n.a.     4393   \n",
       "2006-01-02 04:00:00+01:00     5481     1072     8097    3419    n.a.     4254   \n",
       "2006-01-02 05:00:00+01:00     5941     1106     8259    3486    n.a.     4262   \n",
       "...                            ...      ...      ...     ...     ...      ...   \n",
       "2015-12-30 18:00:00+01:00      NaN      NaN      NaN     NaN    7931      NaN   \n",
       "2015-12-30 19:00:00+01:00      NaN      NaN      NaN     NaN    7659      NaN   \n",
       "2015-12-30 20:00:00+01:00      NaN      NaN      NaN     NaN    7290      NaN   \n",
       "2015-12-30 21:00:00+01:00      NaN      NaN      NaN     NaN    7114      NaN   \n",
       "2015-12-30 22:00:00+01:00      NaN      NaN      NaN     NaN    7029      NaN   \n",
       "2015-12-30 23:00:00+01:00      NaN      NaN      NaN     NaN    7102      NaN   \n",
       "2015-12-31 00:00:00+01:00      NaN      NaN      NaN     NaN    6858      NaN   \n",
       "2015-12-31 01:00:00+01:00      NaN      NaN      NaN     NaN    7042      NaN   \n",
       "2015-12-31 02:00:00+01:00      NaN      NaN      NaN     NaN    6973      NaN   \n",
       "2015-12-31 03:00:00+01:00      NaN      NaN      NaN     NaN    6794      NaN   \n",
       "2015-12-31 04:00:00+01:00      NaN      NaN      NaN     NaN    6611      NaN   \n",
       "2015-12-31 05:00:00+01:00      NaN      NaN      NaN     NaN    6747      NaN   \n",
       "2015-12-31 06:00:00+01:00      NaN      NaN      NaN     NaN    6559      NaN   \n",
       "2015-12-31 07:00:00+01:00      NaN      NaN      NaN     NaN    6522      NaN   \n",
       "2015-12-31 08:00:00+01:00      NaN      NaN      NaN     NaN    6764      NaN   \n",
       "2015-12-31 09:00:00+01:00      NaN      NaN      NaN     NaN    7044      NaN   \n",
       "2015-12-31 10:00:00+01:00      NaN      NaN      NaN     NaN    7170      NaN   \n",
       "2015-12-31 11:00:00+01:00      NaN      NaN      NaN     NaN    7069      NaN   \n",
       "2015-12-31 12:00:00+01:00      NaN      NaN      NaN     NaN    7498      NaN   \n",
       "2015-12-31 13:00:00+01:00      NaN      NaN      NaN     NaN    7360      NaN   \n",
       "2015-12-31 14:00:00+01:00      NaN      NaN      NaN     NaN    7350      NaN   \n",
       "2015-12-31 15:00:00+01:00      NaN      NaN      NaN     NaN    7001      NaN   \n",
       "2015-12-31 16:00:00+01:00      NaN      NaN      NaN     NaN    7139      NaN   \n",
       "2015-12-31 17:00:00+01:00      NaN      NaN      NaN     NaN    7467      NaN   \n",
       "2015-12-31 18:00:00+01:00      NaN      NaN      NaN     NaN    7373      NaN   \n",
       "2015-12-31 19:00:00+01:00      NaN      NaN      NaN     NaN    7089      NaN   \n",
       "2015-12-31 20:00:00+01:00      NaN      NaN      NaN     NaN    6988      NaN   \n",
       "2015-12-31 21:00:00+01:00      NaN      NaN      NaN     NaN    6868      NaN   \n",
       "2015-12-31 22:00:00+01:00      NaN      NaN      NaN     NaN    6906      NaN   \n",
       "2015-12-31 23:00:00+01:00      NaN      NaN      NaN     NaN    6897      NaN   \n",
       "\n",
       "Country                   load_CY  load_CZ  load_DE  load_DK    ...      \\\n",
       "dt_index                                                        ...       \n",
       "2006-01-01 00:00:00+01:00     NaN     6631    47823      NaN    ...       \n",
       "2006-01-01 01:00:00+01:00     NaN     6346    47823      NaN    ...       \n",
       "2006-01-01 02:00:00+01:00     NaN     6365    43444      NaN    ...       \n",
       "2006-01-01 03:00:00+01:00     NaN     6134    41432      NaN    ...       \n",
       "2006-01-01 04:00:00+01:00     NaN     6361    40508      NaN    ...       \n",
       "2006-01-01 05:00:00+01:00     NaN     6186    38865      NaN    ...       \n",
       "2006-01-01 06:00:00+01:00     NaN     5963    35817      NaN    ...       \n",
       "2006-01-01 07:00:00+01:00     NaN     5900    35555      NaN    ...       \n",
       "2006-01-01 08:00:00+01:00     NaN     6070    36263      NaN    ...       \n",
       "2006-01-01 09:00:00+01:00     NaN     6421    38569      NaN    ...       \n",
       "2006-01-01 10:00:00+01:00     NaN     6601    41078      NaN    ...       \n",
       "2006-01-01 11:00:00+01:00     NaN     6514    44206      NaN    ...       \n",
       "2006-01-01 12:00:00+01:00     NaN     6794    45108      NaN    ...       \n",
       "2006-01-01 13:00:00+01:00     NaN     6814    44216      NaN    ...       \n",
       "2006-01-01 14:00:00+01:00     NaN     6923    43870      NaN    ...       \n",
       "2006-01-01 15:00:00+01:00     NaN     6858    43922      NaN    ...       \n",
       "2006-01-01 16:00:00+01:00     NaN     7412    46880      NaN    ...       \n",
       "2006-01-01 17:00:00+01:00     NaN     7130    51673      NaN    ...       \n",
       "2006-01-01 18:00:00+01:00     NaN     7327    52934      NaN    ...       \n",
       "2006-01-01 19:00:00+01:00     NaN     7179    52123      NaN    ...       \n",
       "2006-01-01 20:00:00+01:00     NaN     7005    50288      NaN    ...       \n",
       "2006-01-01 21:00:00+01:00     NaN     6641    50209      NaN    ...       \n",
       "2006-01-01 22:00:00+01:00     NaN     6426    51361      NaN    ...       \n",
       "2006-01-01 23:00:00+01:00     NaN     6278    48050      NaN    ...       \n",
       "2006-01-02 00:00:00+01:00     NaN     6554    44990      NaN    ...       \n",
       "2006-01-02 01:00:00+01:00     NaN     6529    43319      NaN    ...       \n",
       "2006-01-02 02:00:00+01:00     NaN     6461    42327      NaN    ...       \n",
       "2006-01-02 03:00:00+01:00     NaN     6512    41921      NaN    ...       \n",
       "2006-01-02 04:00:00+01:00     NaN     6772    42697      NaN    ...       \n",
       "2006-01-02 05:00:00+01:00     NaN     7153    44602      NaN    ...       \n",
       "...                           ...      ...      ...      ...    ...       \n",
       "2015-12-30 18:00:00+01:00     NaN     7640      NaN     4907    ...       \n",
       "2015-12-30 19:00:00+01:00     NaN     7505      NaN     4606    ...       \n",
       "2015-12-30 20:00:00+01:00     NaN     7365      NaN     4317    ...       \n",
       "2015-12-30 21:00:00+01:00     NaN     7045      NaN     4062    ...       \n",
       "2015-12-30 22:00:00+01:00     NaN     6680      NaN     3785    ...       \n",
       "2015-12-30 23:00:00+01:00     NaN     6287      NaN     3483    ...       \n",
       "2015-12-31 00:00:00+01:00     NaN     5981      NaN     3225    ...       \n",
       "2015-12-31 01:00:00+01:00     NaN     5967      NaN     3053    ...       \n",
       "2015-12-31 02:00:00+01:00     NaN     5889      NaN     2984    ...       \n",
       "2015-12-31 03:00:00+01:00     NaN     5706      NaN     3023    ...       \n",
       "2015-12-31 04:00:00+01:00     NaN     5666      NaN     3118    ...       \n",
       "2015-12-31 05:00:00+01:00     NaN     5803      NaN     3237    ...       \n",
       "2015-12-31 06:00:00+01:00     NaN     6025      NaN     3350    ...       \n",
       "2015-12-31 07:00:00+01:00     NaN     6210      NaN     3579    ...       \n",
       "2015-12-31 08:00:00+01:00     NaN     6511      NaN     3805    ...       \n",
       "2015-12-31 09:00:00+01:00     NaN     6919      NaN     4057    ...       \n",
       "2015-12-31 10:00:00+01:00     NaN     7212      NaN     4189    ...       \n",
       "2015-12-31 11:00:00+01:00     NaN     7211      NaN     4239    ...       \n",
       "2015-12-31 12:00:00+01:00     NaN     7086      NaN     4251    ...       \n",
       "2015-12-31 13:00:00+01:00     NaN     7035      NaN     4297    ...       \n",
       "2015-12-31 14:00:00+01:00     NaN     7031      NaN     4304    ...       \n",
       "2015-12-31 15:00:00+01:00     NaN     7131      NaN     4412    ...       \n",
       "2015-12-31 16:00:00+01:00     NaN     7279      NaN     4710    ...       \n",
       "2015-12-31 17:00:00+01:00     NaN     7297      NaN     4904    ...       \n",
       "2015-12-31 18:00:00+01:00     NaN     6996      NaN     4668    ...       \n",
       "2015-12-31 19:00:00+01:00     NaN     6719      NaN     4202    ...       \n",
       "2015-12-31 20:00:00+01:00     NaN     6468      NaN     3878    ...       \n",
       "2015-12-31 21:00:00+01:00     NaN     6329      NaN     3719    ...       \n",
       "2015-12-31 22:00:00+01:00     NaN     6171      NaN     3556    ...       \n",
       "2015-12-31 23:00:00+01:00     NaN     6040      NaN     3424    ...       \n",
       "\n",
       "Country                    load_NL load_NO  load_PL  load_PT  load_RO load_RS  \\\n",
       "dt_index                                                                        \n",
       "2006-01-01 00:00:00+01:00    10215     NaN    14268     5159     5957     NaN   \n",
       "2006-01-01 01:00:00+01:00     9979     NaN    13602     4985     5837     NaN   \n",
       "2006-01-01 02:00:00+01:00     9460     NaN    13027     4717     5592     NaN   \n",
       "2006-01-01 03:00:00+01:00     8833     NaN    12606     4356     5383     NaN   \n",
       "2006-01-01 04:00:00+01:00     8525     NaN    12393     4086     5201     NaN   \n",
       "2006-01-01 05:00:00+01:00     8458     NaN    12231     3917     5073     NaN   \n",
       "2006-01-01 06:00:00+01:00     8526     NaN    12119     3839     5005     NaN   \n",
       "2006-01-01 07:00:00+01:00     8760     NaN    11926     3811     4946     NaN   \n",
       "2006-01-01 08:00:00+01:00     9171     NaN    11787     3634     4828     NaN   \n",
       "2006-01-01 09:00:00+01:00     9600     NaN    12098     3610     4680     NaN   \n",
       "2006-01-01 10:00:00+01:00    10317     NaN    12396     3936     4669     NaN   \n",
       "2006-01-01 11:00:00+01:00    10865     NaN    12747     4386     4735     NaN   \n",
       "2006-01-01 12:00:00+01:00    11217     NaN    13013     4708     4682     NaN   \n",
       "2006-01-01 13:00:00+01:00    11322     NaN    13379     4713     4704     NaN   \n",
       "2006-01-01 14:00:00+01:00    11305     NaN    13460     4465     4739     NaN   \n",
       "2006-01-01 15:00:00+01:00    11202     NaN    13877     4393     4747     NaN   \n",
       "2006-01-01 16:00:00+01:00    11553     NaN    15456     4371     4811     NaN   \n",
       "2006-01-01 17:00:00+01:00    12691     NaN    16046     4460     5037     NaN   \n",
       "2006-01-01 18:00:00+01:00    13134     NaN    16165     5439     5638     NaN   \n",
       "2006-01-01 19:00:00+01:00    13094     NaN    16347     5837     5823     NaN   \n",
       "2006-01-01 20:00:00+01:00    12719     NaN    16016     5971     5746     NaN   \n",
       "2006-01-01 21:00:00+01:00    12130     NaN    15329     6044     5726     NaN   \n",
       "2006-01-01 22:00:00+01:00    11464     NaN    14508     5895     5639     NaN   \n",
       "2006-01-01 23:00:00+01:00    10482     NaN    13480     5596     5431     NaN   \n",
       "2006-01-02 00:00:00+01:00     9590     NaN    12773     5015     5139     NaN   \n",
       "2006-01-02 01:00:00+01:00     9017     NaN    12420     4485     4923     NaN   \n",
       "2006-01-02 02:00:00+01:00     8758     NaN    12183     4183     4789     NaN   \n",
       "2006-01-02 03:00:00+01:00     8580     NaN    12207     4024     4670     NaN   \n",
       "2006-01-02 04:00:00+01:00     8621     NaN    12450     3984     4656     NaN   \n",
       "2006-01-02 05:00:00+01:00     9062     NaN    13167     4021     4656     NaN   \n",
       "...                            ...     ...      ...      ...      ...     ...   \n",
       "2015-12-30 18:00:00+01:00      NaN   18450      NaN     6717      NaN     NaN   \n",
       "2015-12-30 19:00:00+01:00      NaN   18108      NaN     6792      NaN     NaN   \n",
       "2015-12-30 20:00:00+01:00      NaN   17628      NaN     6806      NaN     NaN   \n",
       "2015-12-30 21:00:00+01:00      NaN   17142      NaN     6517      NaN     NaN   \n",
       "2015-12-30 22:00:00+01:00      NaN   16512      NaN     6158      NaN     NaN   \n",
       "2015-12-30 23:00:00+01:00      NaN   15995      NaN     5803      NaN     NaN   \n",
       "2015-12-31 00:00:00+01:00      NaN   15464      NaN     5258      NaN     NaN   \n",
       "2015-12-31 01:00:00+01:00      NaN   15165      NaN     4782      NaN     NaN   \n",
       "2015-12-31 02:00:00+01:00      NaN   14894      NaN     4451      NaN     NaN   \n",
       "2015-12-31 03:00:00+01:00      NaN   14798      NaN     4183      NaN     NaN   \n",
       "2015-12-31 04:00:00+01:00      NaN   14744      NaN     4100      NaN     NaN   \n",
       "2015-12-31 05:00:00+01:00      NaN   14983      NaN     4086      NaN     NaN   \n",
       "2015-12-31 06:00:00+01:00      NaN   15516      NaN     4042      NaN     NaN   \n",
       "2015-12-31 07:00:00+01:00      NaN   16302      NaN     4314      NaN     NaN   \n",
       "2015-12-31 08:00:00+01:00      NaN   16897      NaN     4476      NaN     NaN   \n",
       "2015-12-31 09:00:00+01:00      NaN   17437      NaN     5000      NaN     NaN   \n",
       "2015-12-31 10:00:00+01:00      NaN   17915      NaN     5385      NaN     NaN   \n",
       "2015-12-31 11:00:00+01:00      NaN   18270      NaN     5584      NaN     NaN   \n",
       "2015-12-31 12:00:00+01:00      NaN   18511      NaN     5628      NaN     NaN   \n",
       "2015-12-31 13:00:00+01:00      NaN   18494      NaN     5607      NaN     NaN   \n",
       "2015-12-31 14:00:00+01:00      NaN   18679      NaN     5453      NaN     NaN   \n",
       "2015-12-31 15:00:00+01:00      NaN   18940      NaN     5440      NaN     NaN   \n",
       "2015-12-31 16:00:00+01:00      NaN   19085      NaN     5335      NaN     NaN   \n",
       "2015-12-31 17:00:00+01:00      NaN   18935      NaN     5372      NaN     NaN   \n",
       "2015-12-31 18:00:00+01:00      NaN   18399      NaN     6175      NaN     NaN   \n",
       "2015-12-31 19:00:00+01:00      NaN   17551      NaN     6308      NaN     NaN   \n",
       "2015-12-31 20:00:00+01:00      NaN   16926      NaN     6024      NaN     NaN   \n",
       "2015-12-31 21:00:00+01:00      NaN   16458      NaN     5447      NaN     NaN   \n",
       "2015-12-31 22:00:00+01:00      NaN   16155      NaN     5111      NaN     NaN   \n",
       "2015-12-31 23:00:00+01:00      NaN   15756      NaN     4960      NaN     NaN   \n",
       "\n",
       "Country                   load_SE load_SI  load_SK  load_UA_W  \n",
       "dt_index                                                       \n",
       "2006-01-01 00:00:00+01:00     NaN    1175     3332        719  \n",
       "2006-01-01 01:00:00+01:00     NaN    1149     3165        695  \n",
       "2006-01-01 02:00:00+01:00     NaN    1098     3040        654  \n",
       "2006-01-01 03:00:00+01:00     NaN    1047     3021        644  \n",
       "2006-01-01 04:00:00+01:00     NaN    1018     2959        638  \n",
       "2006-01-01 05:00:00+01:00     NaN    1018     2907        685  \n",
       "2006-01-01 06:00:00+01:00     NaN    1044     2917        645  \n",
       "2006-01-01 07:00:00+01:00     NaN    1079     2874        651  \n",
       "2006-01-01 08:00:00+01:00     NaN    1115     3014        669  \n",
       "2006-01-01 09:00:00+01:00     NaN    1189     3121        672  \n",
       "2006-01-01 10:00:00+01:00     NaN    1260     3134        682  \n",
       "2006-01-01 11:00:00+01:00     NaN    1304     3182        692  \n",
       "2006-01-01 12:00:00+01:00     NaN    1292     3105        670  \n",
       "2006-01-01 13:00:00+01:00     NaN    1260     3077        648  \n",
       "2006-01-01 14:00:00+01:00     NaN    1231     3090        692  \n",
       "2006-01-01 15:00:00+01:00     NaN    1214     3226        734  \n",
       "2006-01-01 16:00:00+01:00     NaN    1278     3364        834  \n",
       "2006-01-01 17:00:00+01:00     NaN    1374     3348        830  \n",
       "2006-01-01 18:00:00+01:00     NaN    1391     3380        811  \n",
       "2006-01-01 19:00:00+01:00     NaN    1385     3406        776  \n",
       "2006-01-01 20:00:00+01:00     NaN    1359     3349        762  \n",
       "2006-01-01 21:00:00+01:00     NaN    1299     3217        715  \n",
       "2006-01-01 22:00:00+01:00     NaN    1225     3168        678  \n",
       "2006-01-01 23:00:00+01:00     NaN    1142     3095        634  \n",
       "2006-01-02 00:00:00+01:00     NaN    1074     2953        627  \n",
       "2006-01-02 01:00:00+01:00     NaN    1025     2903        624  \n",
       "2006-01-02 02:00:00+01:00     NaN     997     2912        634  \n",
       "2006-01-02 03:00:00+01:00     NaN     984     2903        619  \n",
       "2006-01-02 04:00:00+01:00     NaN     980     3011        635  \n",
       "2006-01-02 05:00:00+01:00     NaN    1012     3143        660  \n",
       "...                           ...     ...      ...        ...  \n",
       "2015-12-30 18:00:00+01:00     NaN     NaN     3470        NaN  \n",
       "2015-12-30 19:00:00+01:00     NaN     NaN     3435        NaN  \n",
       "2015-12-30 20:00:00+01:00     NaN     NaN     3370        NaN  \n",
       "2015-12-30 21:00:00+01:00     NaN     NaN     3232        NaN  \n",
       "2015-12-30 22:00:00+01:00     NaN     NaN     3111        NaN  \n",
       "2015-12-30 23:00:00+01:00     NaN     NaN     2960        NaN  \n",
       "2015-12-31 00:00:00+01:00     NaN     NaN     2820        NaN  \n",
       "2015-12-31 01:00:00+01:00     NaN     NaN     2691        NaN  \n",
       "2015-12-31 02:00:00+01:00     NaN     NaN     2626        NaN  \n",
       "2015-12-31 03:00:00+01:00     NaN     NaN     2602        NaN  \n",
       "2015-12-31 04:00:00+01:00     NaN     NaN     2660        NaN  \n",
       "2015-12-31 05:00:00+01:00     NaN     NaN     2740        NaN  \n",
       "2015-12-31 06:00:00+01:00     NaN     NaN     2825        NaN  \n",
       "2015-12-31 07:00:00+01:00     NaN     NaN     2892        NaN  \n",
       "2015-12-31 08:00:00+01:00     NaN     NaN     3047        NaN  \n",
       "2015-12-31 09:00:00+01:00     NaN     NaN     3206        NaN  \n",
       "2015-12-31 10:00:00+01:00     NaN     NaN     3287        NaN  \n",
       "2015-12-31 11:00:00+01:00     NaN     NaN     3313        NaN  \n",
       "2015-12-31 12:00:00+01:00     NaN     NaN     3233        NaN  \n",
       "2015-12-31 13:00:00+01:00     NaN     NaN     3280        NaN  \n",
       "2015-12-31 14:00:00+01:00     NaN     NaN     3242        NaN  \n",
       "2015-12-31 15:00:00+01:00     NaN     NaN     3215        NaN  \n",
       "2015-12-31 16:00:00+01:00     NaN     NaN     3320        NaN  \n",
       "2015-12-31 17:00:00+01:00     NaN     NaN     3355        NaN  \n",
       "2015-12-31 18:00:00+01:00     NaN     NaN     3260        NaN  \n",
       "2015-12-31 19:00:00+01:00     NaN     NaN     3158        NaN  \n",
       "2015-12-31 20:00:00+01:00     NaN     NaN     3073        NaN  \n",
       "2015-12-31 21:00:00+01:00     NaN     NaN     2997        NaN  \n",
       "2015-12-31 22:00:00+01:00     NaN     NaN     2971        NaN  \n",
       "2015-12-31 23:00:00+01:00     NaN     NaN     2934        NaN  \n",
       "\n",
       "[87648 rows x 38 columns]"
      ]
     },
     "execution_count": 32,
     "metadata": {},
     "output_type": "execute_result"
    }
   ],
   "source": [
    "resultDataSet"
   ]
  },
  {
   "cell_type": "code",
   "execution_count": 649,
   "metadata": {
    "collapsed": true
   },
   "outputs": [],
   "source": [
    "resultDataSet.to_csv(outputpath+outputfile, sep=';', float_format='%.2f', decimal=',')"
   ]
  }
 ],
 "metadata": {
  "kernelspec": {
   "display_name": "Python 3",
   "language": "python",
   "name": "python3"
  },
  "language_info": {
   "codemirror_mode": {
    "name": "ipython",
    "version": 3
   },
   "file_extension": ".py",
   "mimetype": "text/x-python",
   "name": "python",
   "nbconvert_exporter": "python",
   "pygments_lexer": "ipython3",
   "version": "3.4.3"
  }
 },
 "nbformat": 4,
 "nbformat_minor": 0
}
