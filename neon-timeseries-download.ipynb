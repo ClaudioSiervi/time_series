{
 "cells": [
  {
   "cell_type": "markdown",
   "metadata": {},
   "source": [
    "# Timeseries download - work in progress\n",
    "\n",
    "So far, this script only downloads solar and wind timeserie from several european TSOs"
   ]
  },
  {
   "cell_type": "markdown",
   "metadata": {},
   "source": [
    "# Libraries\n",
    "Loading some python libraries"
   ]
  },
  {
   "cell_type": "code",
   "execution_count": 83,
   "metadata": {
    "collapsed": false
   },
   "outputs": [],
   "source": [
    "import yaml\n",
    "import requests\n",
    "import logging\n",
    "logger = logging.getLogger('notebook')\n",
    "logger.setLevel('INFO')\n",
    "import os\n",
    "from dateutil.rrule import *\n",
    "from dateutil.relativedelta import *\n",
    "from datetime import datetime"
   ]
  },
  {
   "cell_type": "markdown",
   "metadata": {},
   "source": [
    "# Folder path\n",
    "This section creates a folder inside the notebook's directory on the users computer where data are downloaded to."
   ]
  },
  {
   "cell_type": "code",
   "execution_count": 22,
   "metadata": {
    "collapsed": true
   },
   "outputs": [],
   "source": [
    "path = 'downloads/'\n",
    "if not os.path.exists(path): os.makedirs(path)"
   ]
  },
  {
   "cell_type": "markdown",
   "metadata": {},
   "source": [
    "# Parameters for download sources\n",
    "This is a python dictionary containing input parameters needed to generate the URLs belonging to the data sources"
   ]
  },
  {
   "cell_type": "code",
   "execution_count": 5,
   "metadata": {
    "collapsed": false
   },
   "outputs": [],
   "source": [
    "conf = \"\"\"\n",
    "    Fingrid: \n",
    "        wind: \n",
    "            url_template: http://www.fingrid.fi/en/electricity-market/load-and-generation/windpower/Pages/default.aspx/Excel/TimeSeries.xls?beginDate=20150101&endDate=20151231&variables=H4sIAAAAAAAEAO29B2AcSZYlJi9tynt_SvVK1-B0oQiAYBMk2JBAEOzBiM3mkuwdaUcjKasqgcplVmVdZhZAzO2dvPfee--999577733ujudTif33_8_XGZkAWz2zkrayZ4hgKrIHz9-fB8_Ih7_ZFYX2aTMmyP769nyvDp6_CJb5EfPzn7_N1999fzsJ788--L49_99vv3m8V3-_PHZ8jKv25_MynV-dJ6VTf74rv_RY_7xrKoXWfu6rYvlxdGPj378x3ce3-1_8firZdG-yd-1R198d353_viu_fvxm6It86PvFstZuqqu8jq9yJd5nbVFtUy3uPWdx3el0ePnxTI_qcqqTu96f3y7XZRHP_7k5MnDHeo8_Pjx63l19eWyvH62btd1_jRrMzOWyDdA3aeP_bM5-n8AhQmq0kUBAAA1&cultureId=en-US&dataTimePrecision=5\n",
    "            bundle: MONTHLY\n",
    "            start: 2014-11-28\n",
    "            end: recent\n",
    "            filetype: xls\n",
    "    Elia: \n",
    "        wind1: \n",
    "            url_template: http://publications.elia.be/Publications/Publications/WindForecasting.v2.svc/ExportForecastData?beginDate={u_start:%Y-%m-%d}T23%3A00%3A00.000Z&endDate={u_end:%Y-%m-%d}T23%3A00%3A00.000Z&isOffshore=&isEliaConnected=\n",
    "            bundle: MONTHLY\n",
    "            start: 2012-01-01\n",
    "            end: 2012-03-01\n",
    "            filetype: xls        \n",
    "        wind2: \n",
    "            url_template: http://publications.elia.be/Publications/Publications/WindForecasting.v2.svc/ExportForecastData?beginDate={u_start:%Y-%m-%d}T23%3A00%3A00.000Z&endDate={u_end:%Y-%m-%d}T22%3A00%3A00.000Z&isOffshore=&isEliaConnected=\n",
    "            bundle: MONTHLY\n",
    "            start: 2012-03-01\n",
    "            end: 2012-04-01\n",
    "            filetype: xls        \n",
    "        wind3: \n",
    "            url_template: http://publications.elia.be/Publications/Publications/WindForecasting.v2.svc/ExportForecastData?beginDate={u_start:%Y-%m-%d}T22%3A00%3A00.000Z&endDate={u_end:%Y-%m-%d}T22%3A00%3A00.000Z&isOffshore=&isEliaConnected=\n",
    "            bundle: MONTHLY\n",
    "            start: 2012-04-01\n",
    "            end: recent\n",
    "            filetype: xls                \n",
    "        pv: \n",
    "            url_template: http://publications.elia.be/Publications/Publications/SolarForecasting.v3.svc/ExportSolarForecastGraph?dateFrom={u_start:%Y-%m-%d}T23%3A00%3A00.000Z&dateTo={u_end:%Y-%m-%d}T23%3A00%3A00.000Z&sourceId=1\n",
    "            bundle: MONTHLY\n",
    "            start: 2012-11-14\n",
    "            end: recent\n",
    "            filetype: xls     \n",
    "    Amprion:\n",
    "        wind1: \n",
    "            url_template: http://amprion.de/applications/applicationfiles/winddaten2.php?mode=download&format=csv&start={u_start.day}.{u_start.month}.{u_start.year}&end={u_end.day}.{u_end.month}.{u_end.year}\n",
    "            bundle: complete\n",
    "            start: 2008-01-04\n",
    "            end: recent\n",
    "            filetype: csv \n",
    "        wind2: \n",
    "            url_template: http://preview.amprion.de/applications/applicationfiles/winddaten.php?mode=download&format=csv&start={u_start.day}.{u_start.month}.{u_start.year}&end={u_end.day}.{u_end.month}.{u_end.year}\n",
    "            bundle: complete\n",
    "            start: 2006-01-03\n",
    "            end: 2008-03-31\n",
    "            filetype: csv \n",
    "        pv: \n",
    "            url_template: http://amprion.de/applications/applicationfiles/PV_einspeisung.php?mode=download&format=csv&start={u_start.day}.{u_start.month}.{u_start.year}&end={u_end.day}.{u_end.month}.{u_end.year}\n",
    "            bundle: complete\n",
    "            start: 2010-01-07\n",
    "            end: recent\n",
    "            filetype: csv      \n",
    "    CEPS: \n",
    "        wind_pv: \n",
    "            url_template: http://www.ceps.cz/_layouts/15/Ceps/_Pages/GraphData.aspx?mode=xlsx&from={u_start:%m.%d.%Y}%2012:00:00%20AM&to={u_end:%m/%d/%Y}%2011:59:59%20PM&hasinterval=False&sol=26&lang=ENG&agr=QH&fnc=SUM&ver=RT&para1=all&\n",
    "            bundle: complete\n",
    "            start: 2012-01-01\n",
    "            end: recent\n",
    "            filetype: xlsx      \n",
    "    TransnetBW: \n",
    "        wind: \n",
    "            url_template: https://www.transnetbw.de/de/kennzahlen/erneuerbare-energien/windenergie?app=wind&activeTab=csv&selectMonatDownload={month}&view=1&download=true\n",
    "            bundle: special\n",
    "            start: 2010-01-01\n",
    "            end: recent\n",
    "            filetype: csv       \n",
    "        pv: \n",
    "            url_template: https://www.transnetbw.de/de/kennzahlen/erneuerbare-energien/fotovoltaik?app=solar&activeTab=csv&selectMonatDownload={month}&view=1&download=true\n",
    "            bundle: special\n",
    "            start: 2011-01-01\n",
    "            end: recent\n",
    "            filetype: csv   \n",
    "    TenneT: \n",
    "        wind: \n",
    "            url_template: http://www.tennettso.de/site/de/phpbridge?commandpath=Tatsaechliche_und_prognostizierte_Windenergieeinspeisung%2FmonthDataSheetCsv.php&querystring=monat%3D{u_start:%Y-%m}&contenttype=text%2Fx-csv\n",
    "            bundle: MONTHLY\n",
    "            start: 2006-01-01\n",
    "            end: recent\n",
    "            filetype: csv\n",
    "        \n",
    "        pv: \n",
    "            url_template: http://www.tennettso.de/site/de/phpbridge?commandpath=Tatsaechliche_und_prognostizierte_Solarenergieeinspeisung%2FmonthDataSheetCsv.php&sub=total&querystring=monat%3D{u_start:%Y-%m}&contenttype=text%2Fx-csv\n",
    "            bundle: MONTHLY\n",
    "            start: 2010-01-01\n",
    "            end: recent\n",
    "            filetype: csv   \n",
    "    50hertz: \n",
    "        wind: \n",
    "            url_template: http://ws.50hertz.com/web01/api/WindPowerForecast/DownloadFile?fileName={u_start:%Y}.csv&callback=?\n",
    "            bundle: YEARLY\n",
    "            start: 2005-01-01\n",
    "            end: recent\n",
    "            filetype: csv        \n",
    "        pv: \n",
    "            url_template: http://ws.50hertz.com/web01/api/PhotovoltaicForecast/DownloadFile?fileName={u_start:%Y}.csv&callback=?\n",
    "            bundle: YEARLY\n",
    "            start: 2012-01-01\n",
    "            end: recent\n",
    "            filetype: csv  \n",
    "    RTE: \n",
    "        wind_pv: \n",
    "            url_template: http://clients.rte-france.com/servlets/RealProdServlet?annee={u_start:%Y}\n",
    "            bundle: YEARLY\n",
    "            start: 2014-01-01\n",
    "            end: recent \n",
    "            filetype: zip #xls \n",
    "    Svenska_Kraftnaet: \n",
    "        wind_pv_1: \n",
    "            url_template: http://www.svk.se/siteassets/aktorsportalen/statistik/sverigestatistik/n_fot{u_start:%Y}.xls\n",
    "            bundle: YEARLY\n",
    "            start: 2002-01-01\n",
    "            end: 2009-01-01\n",
    "            filetype: xls        \n",
    "        wind_pv_2: \n",
    "            url_template: http://www.svk.se/siteassets/aktorsportalen/statistik/sverigestatistik/n_fot201001-06.xls\n",
    "            bundle: YEARLY\n",
    "            start: 2010-01-01\n",
    "            end: 2010-01-01\n",
    "            filetype: xls        \n",
    "        wind_pv_3: \n",
    "            url_template: http://www.svk.se/siteassets/aktorsportalen/statistik/sverigestatistik/n_fot2010-07-12.xls\n",
    "            bundle: YEARLY\n",
    "            start: 2010-01-01\n",
    "            end: 2010-01-01\n",
    "            filetype: xls       \n",
    "        wind_pv_4: \n",
    "            url_template: http://www.svk.se/siteassets/aktorsportalen/statistik/sverigestatistik/n-fot2011-01-12.xls\n",
    "            bundle: YEARLY\n",
    "            start: 2011-01-01\n",
    "            end: 2011-01-01\n",
    "            filetype: xls        \n",
    "        wind_pv_5: \n",
    "            url_template: http://www.svk.se/siteassets/aktorsportalen/statistik/sverigestatistik/n_fot{u_start:%Y}-01-12.xls\n",
    "            bundle: YEARLY\n",
    "            start: 2012-01-01\n",
    "            end: 2014-01-01\n",
    "            filetype: xls    \n",
    "    OeMag: \n",
    "        wind_1: \n",
    "            url_template: http://www.oem-ag.at/fileadmin/user_upload/Dokumente/statistik/winderzeugung/winderzeugung_{u_start:%Y}.xls\n",
    "            bundle: YEARLY\n",
    "            start: 2003-01-01\n",
    "            end: 2011-01-01\n",
    "            filetype: xls        \n",
    "        wind_2: \n",
    "            url_template: http://www.oem-ag.at/fileadmin/user_upload/Dokumente/statistik/winderzeugung/winderzeugung_{u_start:%Y}.xlsx\n",
    "            bundle: YEARLY\n",
    "            start: 2012-01-01\n",
    "            end: 2013-12-31\n",
    "            filetype: xlsx\n",
    "        wind_3: \n",
    "            url_template: http://www.oem-ag.at/fileadmin/user_upload/Dokumente/statistik/winderzeugung/Winderzeugung_{u_start:%Y}.xlsx\n",
    "            bundle: YEARLY\n",
    "            start: 2013-01-01\n",
    "            end: 2013-12-31\n",
    "            filetype: xlsx\n",
    "\"\"\"\n",
    "conf = yaml.load(conf)"
   ]
  },
  {
   "cell_type": "markdown",
   "metadata": {},
   "source": [
    "This section is for testing only and contains only those TSOs were there are still some problems with the download"
   ]
  },
  {
   "cell_type": "code",
   "execution_count": 82,
   "metadata": {
    "collapsed": false
   },
   "outputs": [],
   "source": [
    "conf = \"\"\"\n",
    "    Elia: \n",
    "        wind1: \n",
    "            url_template: http://publications.elia.be/Publications/Publications/WindForecasting.v2.svc/ExportForecastData?beginDate={u_start:%Y-%m-%d}T23%3A00%3A00.000Z&endDate={u_end:%Y-%m-%d}T23%3A00%3A00.000Z&isOffshore=&isEliaConnected=\n",
    "            bundle: MONTHLY\n",
    "            start: 2012-01-01  #the data starts from 2012-19-01\n",
    "            end: 2012-03-01\n",
    "            filetype: xls        \n",
    "        wind2: \n",
    "            url_template: http://publications.elia.be/Publications/Publications/WindForecasting.v2.svc/ExportForecastData?beginDate={u_start:%Y-%m-%d}T23%3A00%3A00.000Z&endDate={u_end:%Y-%m-%d}T22%3A00%3A00.000Z&isOffshore=&isEliaConnected=\n",
    "            bundle: MONTHLY\n",
    "            start: 2012-03-01\n",
    "            end: 2012-04-01\n",
    "            filetype: xls        \n",
    "        wind3: \n",
    "            url_template: http://publications.elia.be/Publications/Publications/WindForecasting.v2.svc/ExportForecastData?beginDate={u_start:%Y-%m-%d}T22%3A00%3A00.000Z&endDate={u_end:%Y-%m-%d}T22%3A00%3A00.000Z&isOffshore=&isEliaConnected=\n",
    "            bundle: MONTHLY\n",
    "            start: 2012-04-01\n",
    "            end: recent\n",
    "            filetype: xls                \n",
    "        pv: \n",
    "            url_template: http://publications.elia.be/Publications/Publications/SolarForecasting.v3.svc/ExportSolarForecastGraph?dateFrom={u_start:%Y-%m-%d}T23%3A00%3A00.000Z&dateTo={u_end:%Y-%m-%d}T23%3A00%3A00.000Z&sourceId=1\n",
    "            bundle: MONTHLY\n",
    "            start: 2012-11-14\n",
    "            end: recent\n",
    "            filetype: xls             \n",
    "\"\"\"\n",
    "conf = yaml.load(conf)"
   ]
  },
  {
   "cell_type": "markdown",
   "metadata": {},
   "source": [
    "# Some Functions\n",
    "\n",
    "In this section we define some functions that generate URLS from parameters\n",
    "\n",
    "This is the code that is used to make URLS for all files (takes Y min at 50 kBit)"
   ]
  },
  {
   "cell_type": "code",
   "execution_count": 26,
   "metadata": {
    "collapsed": true
   },
   "outputs": [],
   "source": [
    "def make_url(i, url_template, filetype, source, tech, start, end):\n",
    "    \"\"\"construct URLs from a template, filling in start- and enddates and call download funtion.\"\"\"    \n",
    "    filename = source+'_'+tech+'_'+start.strftime('%Y-%m-%d')+'_'+end.strftime('%Y-%m-%d')\n",
    "    full_url = url_template.format(u_start = start, u_end = end)\n",
    "    download(full_url, filename, filetype)"
   ]
  },
  {
   "cell_type": "markdown",
   "metadata": {},
   "source": [
    "This is for testing only: only one file per source is downloaded (takes X min at 50 kBit)"
   ]
  },
  {
   "cell_type": "code",
   "execution_count": 7,
   "metadata": {
    "collapsed": true
   },
   "outputs": [],
   "source": [
    "def make_url(i, url_template, filetype, source, tech, start, end):\n",
    "    \"\"\"construct URLs from a template, filling in start- and enddates and call download funtion.\"\"\"\n",
    "    if i < 1: #for purpose of faster testing, limit number of files downloaded per technology per TSO to 1\n",
    "        filename = source+'_'+tech+'_'+start.strftime('%Y-%m-%d')+'_'+end.strftime('%Y-%m-%d')\n",
    "        full_url = url_template.format(u_start = start, u_end = end)\n",
    "        download(full_url, filename, filetype)\n",
    "        i+=1\n",
    "        return i\n",
    "    else:\n",
    "        return i"
   ]
  },
  {
   "cell_type": "markdown",
   "metadata": {},
   "source": [
    "TransnetBW requires to make URLs in a different fashion:"
   ]
  },
  {
   "cell_type": "code",
   "execution_count": 27,
   "metadata": {
    "collapsed": true
   },
   "outputs": [],
   "source": [
    "def make_url_TransnetBW(i, url_template, filetype, count, source, tech):\n",
    "    \"\"\"construct URLs from a template, filling in counter and call download funtion.\"\"\"   \n",
    "    filename = source+'_'+tech+'_'+str(count)\n",
    "    full_url = url_template.format(month = count)\n",
    "    download(full_url, filename, filetype)"
   ]
  },
  {
   "cell_type": "code",
   "execution_count": 8,
   "metadata": {
    "collapsed": true
   },
   "outputs": [],
   "source": [
    "def make_url_TransnetBW(i, url_template, filetype, count, source, tech):\n",
    "    \"\"\"construct URLs from a template, filling in counter and call download funtion.\"\"\"   \n",
    "    if i < 1: #for purpose of faster testing, limit number of files downloaded per technology per TSO to 1\n",
    "        filename = source+'_'+tech+'_'+str(count)\n",
    "        full_url = url_template.format(month = count)\n",
    "        download(full_url, filename, filetype)\n",
    "        i+=1\n",
    "        return i\n",
    "    else:\n",
    "        return i"
   ]
  },
  {
   "cell_type": "markdown",
   "metadata": {},
   "source": [
    "This does the actual download:\n",
    "\n",
    "Most of the time, the original filename can be accessed through the ‘content-dispotision’ header.\n",
    "Sometimes (TenneT, RTE) the filename is wrapped in quotes or succeeded by a semi-colon which need to be deleted to make a valid filename\n",
    "Sometimes (OeMag, Sverige Krafnät, Fingrid) the filename is not included in the header. In these cases, we get it from the URL template. The Filename should follow after the last '/', but before the last '?'. The '?', if present, is a seperator idicating the use of query strings, maybe we can exploit that.\n",
    "The try ... except statements are for error handling. If the commands after 'try' run the error specified after 'except', the code after 'except' is executed instead\n",
    "\n",
    "Apparently, when writing the data to a file, it has to be processed in chunks, see http://docs.python-requests.org/en/latest/user/quickstart/#raw-response-content "
   ]
  },
  {
   "cell_type": "code",
   "execution_count": 79,
   "metadata": {
    "collapsed": false
   },
   "outputs": [],
   "source": [
    "def download(full_url, filename, filetype):\n",
    "    \"\"\"download and save file from URL and retrieve the original filename.\"\"\"    \n",
    "    logger.info('attempting download of:')\n",
    "    logger.info(filename)\n",
    "    logger.info(full_url)\n",
    "    resp = requests.get(full_url, stream = True)\n",
    "    try:\n",
    "        pre_original_filename = resp.headers['content-disposition'].split('filename=')[-1]\n",
    "        original_filename = pre_original_filename.replace('\"','').replace(';','')\n",
    "    except KeyError:\n",
    "        logger.info('filename not specified in header')\n",
    "        begin_filename = full_url.rfind('/') + 1\n",
    "        if full_url.rfind('?') == -1:\n",
    "            end_filename = None\n",
    "        else:\n",
    "            end_filename = full_url.rfind('?')\n",
    "        original_filename = full_url[begin_filename:end_filename]\n",
    "    logger.info('original_filename:')\n",
    "    logger.info(original_filename)\n",
    "    full_filename = path + filename + '[' + original_filename + '].' + filetype\n",
    "    with open(full_filename, 'wb') as output_file:\n",
    "        for chunk in resp.iter_content(1024):\n",
    "            output_file.write(chunk)"
   ]
  },
  {
   "cell_type": "markdown",
   "metadata": {},
   "source": [
    "# Extension for rrule\n"
   ]
  },
  {
   "cell_type": "code",
   "execution_count": 29,
   "metadata": {
    "collapsed": false
   },
   "outputs": [],
   "source": [
    "rules = {'YEARLY': YEARLY,\n",
    "         'MONTHLY': MONTHLY,\n",
    "         'DAILY': DAILY}"
   ]
  },
  {
   "cell_type": "markdown",
   "metadata": {},
   "source": [
    "# Iterate over sources\n",
    "\n",
    "Here we iterate over the sources and technology (wind/solar) entries specified above and download the data for all periods (depending on whats specified under 'bundle' either years, days or months) "
   ]
  },
  {
   "cell_type": "code",
   "execution_count": 81,
   "metadata": {
    "collapsed": false,
    "scrolled": true
   },
   "outputs": [
    {
     "name": "stderr",
     "output_type": "stream",
     "text": [
      "INFO:notebook:attempting download of:\n",
      "INFO:notebook:Fingrid_wind_2014-11-01_2014-12-01\n",
      "INFO:notebook:http://www.fingrid.fi/en/electricity-market/load-and-generation/windpower/Pages/default.aspx/Excel/TimeSeries.xls?beginDate=20150101&endDate=20151231&variables=H4sIAAAAAAAEAO29B2AcSZYlJi9tynt_SvVK1-B0oQiAYBMk2JBAEOzBiM3mkuwdaUcjKasqgcplVmVdZhZAzO2dvPfee--999577733ujudTif33_8_XGZkAWz2zkrayZ4hgKrIHz9-fB8_Ih7_ZFYX2aTMmyP769nyvDp6_CJb5EfPzn7_N1999fzsJ788--L49_99vv3m8V3-_PHZ8jKv25_MynV-dJ6VTf74rv_RY_7xrKoXWfu6rYvlxdGPj378x3ce3-1_8firZdG-yd-1R198d353_viu_fvxm6It86PvFstZuqqu8jq9yJd5nbVFtUy3uPWdx3el0ePnxTI_qcqqTu96f3y7XZRHP_7k5MnDHeo8_Pjx63l19eWyvH62btd1_jRrMzOWyDdA3aeP_bM5-n8AhQmq0kUBAAA1&cultureId=en-US&dataTimePrecision=5\n",
      "INFO:notebook:filename not specified in header\n",
      "INFO:notebook:original_filename:\n",
      "INFO:notebook:TimeSeries.xls\n",
      "INFO:notebook:attempting download of:\n",
      "INFO:notebook:Fingrid_wind_2014-12-01_2015-01-01\n",
      "INFO:notebook:http://www.fingrid.fi/en/electricity-market/load-and-generation/windpower/Pages/default.aspx/Excel/TimeSeries.xls?beginDate=20150101&endDate=20151231&variables=H4sIAAAAAAAEAO29B2AcSZYlJi9tynt_SvVK1-B0oQiAYBMk2JBAEOzBiM3mkuwdaUcjKasqgcplVmVdZhZAzO2dvPfee--999577733ujudTif33_8_XGZkAWz2zkrayZ4hgKrIHz9-fB8_Ih7_ZFYX2aTMmyP769nyvDp6_CJb5EfPzn7_N1999fzsJ788--L49_99vv3m8V3-_PHZ8jKv25_MynV-dJ6VTf74rv_RY_7xrKoXWfu6rYvlxdGPj378x3ce3-1_8firZdG-yd-1R198d353_viu_fvxm6It86PvFstZuqqu8jq9yJd5nbVFtUy3uPWdx3el0ePnxTI_qcqqTu96f3y7XZRHP_7k5MnDHeo8_Pjx63l19eWyvH62btd1_jRrMzOWyDdA3aeP_bM5-n8AhQmq0kUBAAA1&cultureId=en-US&dataTimePrecision=5\n",
      "INFO:notebook:filename not specified in header\n",
      "INFO:notebook:original_filename:\n",
      "INFO:notebook:TimeSeries.xls\n"
     ]
    }
   ],
   "source": [
    "for source, tech in conf.items():\n",
    "    for tech, param in tech.items():\n",
    "        i = 0\n",
    "        if source == 'TransnetBW': #TransnetBW just counts the months backwards, this requires a different approach\n",
    "            for count in range(0,71): #iterates over range from 0 to 70\n",
    "                i = make_url_TransnetBW(i, param['url_template'], param['filetype'], count, source, tech)\n",
    "            continue #the following steps are skipped for TransnetBW\n",
    "        start = param['start']\n",
    "        if not param['end'] == 'recent':\n",
    "        #if type(param['end']) == 'datetime.date':\n",
    "            end = param['end']\n",
    "        else:\n",
    "            end = datetime(2014,12,31)\n",
    "        if param['bundle'] == 'complete':\n",
    "            i = make_url(i, param['url_template'], param['filetype'], source, tech, start, end)\n",
    "        else:\n",
    "            break_dates = rrule(rules[param['bundle']], dtstart = start, until = end)\n",
    "            for date in break_dates:\n",
    "                p_start = date.replace(day = 1)\n",
    "                if param['bundle'] == 'YEARLY':\n",
    "                    p_end = p_start + relativedelta(years = 1)\n",
    "                if param['bundle'] == 'MONTHLY':\n",
    "                    p_end = p_start + relativedelta(months = 1)\n",
    "                    if source == 'Elia':\n",
    "                        p_start = p_start - relativedelta(days = 1) \n",
    "                        p_end = p_end - relativedelta(days = 1)\n",
    "                i = make_url(i, param['url_template'], param['filetype'], source, tech, p_start, p_end)         "
   ]
  },
  {
   "cell_type": "markdown",
   "metadata": {
    "collapsed": true
   },
   "source": [
    "To Do:\n",
    "\n",
    "* Original Dateinamen abfragen\n",
    "* p_end eleganter festlegen\n",
    "* logging Funktion verbessern\n",
    "* welcher Dateityp in .zip?\n",
    "    * Das muss das Script nicht wissen\n",
    "* bei end date 31.12 statt 01.01.\n",
    "* TransnetBW  und normalen Download integrieren"
   ]
  },
  {
   "cell_type": "code",
   "execution_count": 21,
   "metadata": {
    "collapsed": false
   },
   "outputs": [
    {
     "name": "stdout",
     "output_type": "stream",
     "text": [
      "{'X-Powered-By': 'Servlet/2.5 JSP/2.1', 'Server': 'Apache/2.2.15 (Red Hat)', 'Date': 'Tue, 17 Nov 2015 01:19:57 GMT', 'Keep-Alive': 'timeout=5, max=100', 'Content-Type': 'application/zip', 'Content-Disposition': 'attachment; filename=RealisationDonneesProduction_2014.zip;', 'Set-Cookie': 'BIGipServerEC_PROD_Pool=2334885130.26911.0000; path=/', 'Transfer-Encoding': 'chunked', 'Connection': 'Keep-Alive'}\n",
      "!!python/object:requests.structures.CaseInsensitiveDict\n",
      "_store:\n",
      "  connection: !!python/tuple [Connection, Keep-Alive]\n",
      "  content-disposition: !!python/tuple [Content-Disposition, attachment; filename=RealisationDonneesProduction_2014.zip;]\n",
      "  content-type: !!python/tuple [Content-Type, application/zip]\n",
      "  date: !!python/tuple [Date, 'Tue, 17 Nov 2015 01:19:57 GMT']\n",
      "  keep-alive: !!python/tuple [Keep-Alive, 'timeout=5, max=100']\n",
      "  server: !!python/tuple [Server, Apache/2.2.15 (Red Hat)]\n",
      "  set-cookie: !!python/tuple [Set-Cookie, BIGipServerEC_PROD_Pool=2334885130.26911.0000;\n",
      "      path=/]\n",
      "  transfer-encoding: !!python/tuple [Transfer-Encoding, chunked]\n",
      "  x-powered-by: !!python/tuple [X-Powered-By, Servlet/2.5 JSP/2.1]\n",
      "\n"
     ]
    }
   ],
   "source": [
    "file = requests.get('http://clients.rte-france.com/servlets/RealProdServlet?annee=2014', stream = True)\n",
    "original_filename = file.headers\n",
    "print(original_filename)\n",
    "print(yaml.dump(original_filename))"
   ]
  },
  {
   "cell_type": "code",
   "execution_count": 22,
   "metadata": {
    "collapsed": false
   },
   "outputs": [
    {
     "name": "stdout",
     "output_type": "stream",
     "text": [
      "{'Server': 'Channel OEMAG1', 'Last-Modified': 'Thu, 14 Mar 2013 16:08:19 GMT', 'X-Varnish': '1871952460', 'Date': 'Tue, 17 Nov 2015 01:20:00 GMT', 'ETag': '\"c1130-19ed41-4d7e4bb2322c0\"', 'Content-Type': 'application/vnd.openxmlformats-officedocument.spreadsheetml.sheet', 'Transfer-Encoding': 'chunked', 'Accept-Ranges': 'bytes', 'Connection': 'Keep-Alive', 'Cache-Control': 'max-age=0', 'Expires': 'Tue, 17 Nov 2015 01:20:00 GMT'}\n",
      "!!python/object:requests.structures.CaseInsensitiveDict\n",
      "_store:\n",
      "  accept-ranges: !!python/tuple [Accept-Ranges, bytes]\n",
      "  cache-control: !!python/tuple [Cache-Control, max-age=0]\n",
      "  connection: !!python/tuple [Connection, Keep-Alive]\n",
      "  content-type: !!python/tuple [Content-Type, application/vnd.openxmlformats-officedocument.spreadsheetml.sheet]\n",
      "  date: !!python/tuple [Date, 'Tue, 17 Nov 2015 01:20:00 GMT']\n",
      "  etag: !!python/tuple [ETag, '\"c1130-19ed41-4d7e4bb2322c0\"']\n",
      "  expires: !!python/tuple [Expires, 'Tue, 17 Nov 2015 01:20:00 GMT']\n",
      "  last-modified: !!python/tuple [Last-Modified, 'Thu, 14 Mar 2013 16:08:19 GMT']\n",
      "  server: !!python/tuple [Server, Channel OEMAG1]\n",
      "  transfer-encoding: !!python/tuple [Transfer-Encoding, chunked]\n",
      "  x-varnish: !!python/tuple [X-Varnish, '1871952460']\n",
      "\n"
     ]
    }
   ],
   "source": [
    "file = requests.get('http://www.oem-ag.at/fileadmin/user_upload/Dokumente/statistik/winderzeugung/winderzeugung_2012.xlsx', stream = True)\n",
    "original_filename = file.headers\n",
    "print(original_filename)\n",
    "print(yaml.dump(original_filename))\n"
   ]
  },
  {
   "cell_type": "code",
   "execution_count": 18,
   "metadata": {
    "collapsed": false
   },
   "outputs": [
    {
     "name": "stdout",
     "output_type": "stream",
     "text": [
      "{'set-cookie': 'JSESSIONID=A6E952DDB298FB58A825FE61C89510C7; Path=/site', 'server': 'Apache', 'vary': 'Accept-Encoding,User-Agent', 'content-length': '3002', 'keep-alive': 'timeout=5, max=100', 'content-encoding': 'gzip', 'content-type': 'text/x-csv;charset=UTF-8', 'connection': 'Keep-Alive', 'content-disposition': 'attachment; filename=\"Export_Juli-2005.csv\"', 'date': 'Wed, 11 Nov 2015 17:09:17 GMT'}\n",
      "!!python/object:requests.structures.CaseInsensitiveDict\n",
      "_store:\n",
      "  connection: !!python/tuple [connection, Keep-Alive]\n",
      "  content-disposition: !!python/tuple [content-disposition, attachment; filename=\"Export_Juli-2005.csv\"]\n",
      "  content-encoding: !!python/tuple [content-encoding, gzip]\n",
      "  content-length: !!python/tuple [content-length, '3002']\n",
      "  content-type: !!python/tuple [content-type, text/x-csv;charset=UTF-8]\n",
      "  date: !!python/tuple [date, 'Wed, 11 Nov 2015 17:09:17 GMT']\n",
      "  keep-alive: !!python/tuple [keep-alive, 'timeout=5, max=100']\n",
      "  server: !!python/tuple [server, Apache]\n",
      "  set-cookie: !!python/tuple [set-cookie, JSESSIONID=A6E952DDB298FB58A825FE61C89510C7;\n",
      "      Path=/site]\n",
      "  vary: !!python/tuple [vary, 'Accept-Encoding,User-Agent']\n",
      "\n"
     ]
    },
    {
     "data": {
      "text/plain": [
       "'Export_Juli-2005.csv'"
      ]
     },
     "execution_count": 18,
     "metadata": {},
     "output_type": "execute_result"
    }
   ],
   "source": [
    "file = requests.get('http://www.tennettso.de/site/de/phpbridge?commandpath=Tatsaechliche_und_prognostizierte_Windenergieeinspeisung%2FmonthDataSheetCsv.php&querystring=monat%3D2005-07&contenttype=text%2Fx-csv', stream = True)\n",
    "original_headers = file.headers\n",
    "print(original_headers)\n",
    "print(yaml.dump(original_headers))\n",
    "original_filename = file.headers['content-disposition'].split('filename=')[-1]\n",
    "#print(original_filename)\n",
    "original_filename.replace('\"','')\n",
    "#print(original_filename)"
   ]
  }
 ],
 "metadata": {
  "kernelspec": {
   "display_name": "Python 3",
   "language": "python",
   "name": "python3"
  },
  "language_info": {
   "codemirror_mode": {
    "name": "ipython",
    "version": 3
   },
   "file_extension": ".py",
   "mimetype": "text/x-python",
   "name": "python",
   "nbconvert_exporter": "python",
   "pygments_lexer": "ipython3",
   "version": "3.4.3"
  }
 },
 "nbformat": 4,
 "nbformat_minor": 0
}
