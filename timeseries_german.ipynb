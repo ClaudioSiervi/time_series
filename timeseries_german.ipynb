{
 "cells": [
  {
   "cell_type": "markdown",
   "metadata": {},
   "source": [
    "# Open Power System Data"
   ]
  },
  {
   "cell_type": "markdown",
   "metadata": {},
   "source": [
    "## Timeseries data"
   ]
  },
  {
   "cell_type": "markdown",
   "metadata": {},
   "source": [
    "This is a python script that downloads and processes renewables in-feed data from the German TSOs Amprion and TransnetBW.\n",
    "The Ouput is one CSV file containing all the data."
   ]
  },
  {
   "cell_type": "markdown",
   "metadata": {},
   "source": [
    "## Table of Contents\n",
    "* [1. Settings](#1.-Settings)\n",
    "\t* [1.1 Libraries](#1.1-Libraries)\n",
    "\t* [1.2 Folder path](#1.2-Folder-path)\n",
    "\t* [1.3 Parameters for download sources](#1.3-Parameters-for-download-sources)\n",
    "* [2. Download](#2.-Download)\n",
    "\t* [2.1 Download funtions](#2.1-Download-funtions)\n",
    "\t* [2.2 Download loop](#2.2-Download-loop)\n",
    "* [3. Process the data](#3.-Process-the-data)\n",
    "\t* [3.1 Read function](#3.1-Read-function)\n",
    "\t* [3.2 reading files one by one](#3.2-reading-files-one-by-one)\n",
    "\t* [3.3 Display the Dataset](#3.3-Display-the-Dataset)\n",
    "* [4. Save csv file to disk](#4.-Save-csv-file-to-disk)\n",
    "* [Notes](#Notes)\n"
   ]
  },
  {
   "cell_type": "markdown",
   "metadata": {},
   "source": [
    "# 1. Settings"
   ]
  },
  {
   "cell_type": "markdown",
   "metadata": {},
   "source": [
    "## 1.1 Libraries"
   ]
  },
  {
   "cell_type": "markdown",
   "metadata": {},
   "source": [
    "Loading some python libraries"
   ]
  },
  {
   "cell_type": "code",
   "execution_count": null,
   "metadata": {
    "collapsed": true
   },
   "outputs": [],
   "source": [
    "import yaml\n",
    "import requests\n",
    "import logging\n",
    "logger = logging.getLogger('log')\n",
    "logger.setLevel('INFO')\n",
    "import os\n",
    "from dateutil.rrule import *\n",
    "from dateutil.relativedelta import *\n",
    "from datetime import datetime\n",
    "import numpy as np\n",
    "import pandas as pd"
   ]
  },
  {
   "cell_type": "markdown",
   "metadata": {},
   "source": [
    "## 1.2 Folder path"
   ]
  },
  {
   "cell_type": "markdown",
   "metadata": {},
   "source": [
    "This section creates folders inside the notebook's directory on the users computer for the downloaded data and the outputfiles."
   ]
  },
  {
   "cell_type": "code",
   "execution_count": null,
   "metadata": {
    "collapsed": false
   },
   "outputs": [],
   "source": [
    "downloadpath = 'downloads/'\n",
    "outputpath = 'output/'\n",
    "outputfile = 'timeseries_german.csv'\n",
    "if not os.path.exists(downloadpath): os.makedirs(downloadpath)\n",
    "if not os.path.exists(outputpath): os.makedirs(outputpath)"
   ]
  },
  {
   "cell_type": "markdown",
   "metadata": {},
   "source": [
    "## 1.3 Parameters for download sources"
   ]
  },
  {
   "cell_type": "markdown",
   "metadata": {},
   "source": [
    "This is a python dictionary containing input parameters needed to generate the URLs belonging to the data sources"
   ]
  },
  {
   "cell_type": "code",
   "execution_count": null,
   "metadata": {
    "collapsed": false
   },
   "outputs": [],
   "source": [
    "conf = \"\"\"\n",
    "    50hertz: \n",
    "        wind: \n",
    "            url_template: http://ws.50hertz.com/web01/api/WindPowerForecast/DownloadFile?fileName={u_start:%Y}.csv&callback=?\n",
    "            bundle: YEARLY\n",
    "            start: 2005-01-01\n",
    "            end: recent\n",
    "            filetype: csv\n",
    "        pv: \n",
    "            url_template: http://ws.50hertz.com/web01/api/PhotovoltaicForecast/DownloadFile?fileName={u_start:%Y}.csv&callback=?\n",
    "            bundle: YEARLY\n",
    "            start: 2012-01-01\n",
    "            end: recent\n",
    "            filetype: csv\n",
    "    Amprion:\n",
    "        wind: \n",
    "            url_template: http://amprion.de/applications/applicationfiles/winddaten2.php?mode=download&format=csv&start={u_start.day}.{u_start.month}.{u_start.year}&end={u_end.day}.{u_end.month}.{u_end.year}\n",
    "            bundle: complete\n",
    "            start: 2008-01-04\n",
    "            end: recent\n",
    "            filetype: csv\n",
    "        pv: \n",
    "            url_template: http://amprion.de/applications/applicationfiles/PV_einspeisung.php?mode=download&format=csv&start={u_start.day}.{u_start.month}.{u_start.year}&end={u_end.day}.{u_end.month}.{u_end.year}\n",
    "            bundle: complete\n",
    "            start: 2010-01-07\n",
    "            end: recent\n",
    "            filetype: csv\n",
    "    TransnetBW: \n",
    "        wind: \n",
    "            url_template: https://www.transnetbw.de/de/kennzahlen/erneuerbare-energien/windenergie?app=wind&activeTab=csv&selectMonatDownload={month}&view=1&download=true\n",
    "            bundle: special\n",
    "            start: 2010-01-01\n",
    "            end: recent\n",
    "            filetype: csv\n",
    "        pv: \n",
    "            url_template: https://www.transnetbw.de/de/kennzahlen/erneuerbare-energien/fotovoltaik?app=solar&activeTab=csv&selectMonatDownload={month}&view=1&download=true\n",
    "            bundle: special\n",
    "            start: 2011-01-01\n",
    "            end: recent\n",
    "            filetype: csv\n",
    "    TenneT: \n",
    "        wind: \n",
    "            url_template: http://www.tennettso.de/site/de/phpbridge?commandpath=Tatsaechliche_und_prognostizierte_Windenergieeinspeisung%2FmonthDataSheetCsv.php&querystring=monat%3D{u_start:%Y-%m}&contenttype=text%2Fx-csv\n",
    "            bundle: MONTHLY\n",
    "            start: 2006-01-01\n",
    "            end: recent\n",
    "            filetype: csv        \n",
    "        pv: \n",
    "            url_template: http://www.tennettso.de/site/de/phpbridge?commandpath=Tatsaechliche_und_prognostizierte_Solarenergieeinspeisung%2FmonthDataSheetCsv.php&sub=total&querystring=monat%3D{u_start:%Y-%m}&contenttype=text%2Fx-csv\n",
    "            bundle: MONTHLY\n",
    "            start: 2010-01-01\n",
    "            end: recent\n",
    "            filetype: csv  \n",
    "\"\"\"\n",
    "conf = yaml.load(conf)"
   ]
  },
  {
   "cell_type": "code",
   "execution_count": null,
   "metadata": {
    "collapsed": true
   },
   "outputs": [],
   "source": [
    "conf = \"\"\"\n",
    "    TenneT: \n",
    "        wind: \n",
    "            url_template: http://www.tennettso.de/site/de/phpbridge?commandpath=Tatsaechliche_und_prognostizierte_Windenergieeinspeisung%2FmonthDataSheetCsv.php&querystring=monat%3D{u_start:%Y-%m}&contenttype=text%2Fx-csv\n",
    "            bundle: MONTHLY\n",
    "            start: 2006-01-01\n",
    "            end: recent\n",
    "            filetype: csv        \n",
    "        pv: \n",
    "            url_template: http://www.tennettso.de/site/de/phpbridge?commandpath=Tatsaechliche_und_prognostizierte_Solarenergieeinspeisung%2FmonthDataSheetCsv.php&sub=total&querystring=monat%3D{u_start:%Y-%m}&contenttype=text%2Fx-csv\n",
    "            bundle: MONTHLY\n",
    "            start: 2010-01-01\n",
    "            end: recent\n",
    "            filetype: csv   \n",
    "\"\"\"\n",
    "conf = yaml.load(conf)"
   ]
  },
  {
   "cell_type": "markdown",
   "metadata": {},
   "source": [
    "# 2. Download"
   ]
  },
  {
   "cell_type": "markdown",
   "metadata": {},
   "source": [
    "## 2.1 Download funtions"
   ]
  },
  {
   "cell_type": "markdown",
   "metadata": {},
   "source": [
    "In this section we define some functions that generate URLS from parameters"
   ]
  },
  {
   "cell_type": "code",
   "execution_count": null,
   "metadata": {
    "collapsed": true
   },
   "outputs": [],
   "source": [
    "def make_url(url_template, filetype, source, tech, start, end):\n",
    "    \"\"\"construct URLs from a template, filling in start- and enddates and call download funtion.\"\"\"    \n",
    "    filename = source+'_'+tech+'_'+start.strftime('%Y-%m-%d')+'_'+end.strftime('%Y-%m-%d')\n",
    "    full_url = url_template.format(u_start = start, u_end = end)\n",
    "    download(full_url, filename, filetype)"
   ]
  },
  {
   "cell_type": "code",
   "execution_count": null,
   "metadata": {
    "collapsed": true
   },
   "outputs": [],
   "source": [
    "def make_url_TransnetBW(url_template, filetype, count, source, tech):\n",
    "    \"\"\"construct URLs from a template, filling in counter and call download funtion.\"\"\"   \n",
    "    filename = source+'_'+tech+'_'+str(count)\n",
    "    full_url = url_template.format(month = count)\n",
    "    download(full_url, filename, filetype)"
   ]
  },
  {
   "cell_type": "markdown",
   "metadata": {},
   "source": [
    "This function does the actual download"
   ]
  },
  {
   "cell_type": "code",
   "execution_count": null,
   "metadata": {
    "collapsed": true
   },
   "outputs": [],
   "source": [
    "def download(full_url, filename, filetype):\n",
    "    \"\"\"download and save file from URL and log original filename.\"\"\"    \n",
    "    logger.info('Attempting download of:')\n",
    "    logger.info(filename)\n",
    "    logger.info('From URL:')    \n",
    "    logger.info(full_url)\n",
    "    full_filename = downloadpath+filename+'.'+filetype\n",
    "    if os.path.exists(full_filename):\n",
    "        logger.info('Filename already exists. Skip to next.')\n",
    "    else:\n",
    "        resp = requests.get(full_url, stream = True)\n",
    "        original_filename = resp.headers['content-disposition'].split('filename=')[-1]\n",
    "        logger.info('original_filename:')\n",
    "        logger.info(original_filename)\n",
    "        with open(full_filename, 'wb') as output_file:\n",
    "            for chunk in resp.iter_content(1024):\n",
    "                output_file.write(chunk)"
   ]
  },
  {
   "cell_type": "markdown",
   "metadata": {},
   "source": [
    "## 2.2 Download loop"
   ]
  },
  {
   "cell_type": "markdown",
   "metadata": {},
   "source": [
    "Here we iterate over the sources and technology (wind/solar) entries specified above and download the data for a specified period, in this case the year 2014."
   ]
  },
  {
   "cell_type": "code",
   "execution_count": null,
   "metadata": {
    "collapsed": true
   },
   "outputs": [],
   "source": [
    "rules = {'YEARLY': YEARLY,\n",
    "         'MONTHLY': MONTHLY,\n",
    "         'DAILY': DAILY}"
   ]
  },
  {
   "cell_type": "code",
   "execution_count": null,
   "metadata": {
    "collapsed": false
   },
   "outputs": [],
   "source": [
    "for source, tech in conf.items():\n",
    "    for tech, param in tech.items():\n",
    "        if source == 'TransnetBW': # TransnetBW just counts the months backwards, this requires a different approach\n",
    "            for count in range(12,24): # iterate over range from 12 to 23, this are the months of 2014\n",
    "                make_url_TransnetBW(param['url_template'], param['filetype'], count, source, tech)\n",
    "        else:\n",
    "            start = param['start']\n",
    "        \n",
    "            if param['end'] == 'recent':\n",
    "                end = datetime(2014,12,31)\n",
    "            else:\n",
    "                end = param['end']\n",
    "#            start = datetime(2014,1,1)\n",
    "#            end = datetime(2014,12,31)\n",
    "\n",
    "            if param['bundle'] == 'complete':\n",
    "                make_url(param['url_template'], param['filetype'], source, tech, start, end)\n",
    "            else:\n",
    "                break_dates = rrule(rules[param['bundle']], dtstart = start, until = end)\n",
    "                for date in break_dates:\n",
    "                    p_start = date.replace(day = 1)\n",
    "                    if param['bundle'] == 'YEARLY':\n",
    "                        p_end = p_start + relativedelta(years = 1)\n",
    "                    if param['bundle'] == 'MONTHLY':\n",
    "                        p_end = p_start + relativedelta(months = 1)\n",
    "\n",
    "                    make_url(param['url_template'], param['filetype'], source, tech, p_start, p_end)         "
   ]
  },
  {
   "cell_type": "markdown",
   "metadata": {},
   "source": [
    "# 3. Process the data"
   ]
  },
  {
   "cell_type": "markdown",
   "metadata": {},
   "source": [
    "We want to merge the downloadet files into one big CSV file. Since every TSO provides the data in a different format, this requires custom read functionality for every source."
   ]
  },
  {
   "cell_type": "markdown",
   "metadata": {},
   "source": [
    "## 3.1 Read function"
   ]
  },
  {
   "cell_type": "code",
   "execution_count": null,
   "metadata": {
    "collapsed": false
   },
   "outputs": [],
   "source": [
    "def readData(filePath, source, tech):\n",
    "    \"\"\"Read data from a CSV file taking into account source peculiarities\"\"\"\n",
    "\n",
    "    actual_col = source+'_'+tech+'_actual'\n",
    "    forecast_col = source+'_'+tech+'_forecast'   \n",
    "    \n",
    "    if os.path.getsize(filePath) < 128:\n",
    "        logger.info(\"file is smaller than 128 Byte, which means it's probably empty\")\n",
    "        return pd.DataFrame() # return an empty DataFrame \n",
    "    \n",
    "    elif source == 'TransnetBW':\n",
    "        data = pd.read_csv(\n",
    "            filePath,\n",
    "            sep = \";\",\n",
    "            header = 0,\n",
    "            index_col = \"dt_index\",\n",
    "            names = ['input_date', 'input_time', forecast_col, actual_col],\n",
    "            parse_dates = {'dt_index' : ['input_date', 'input_time',]},\n",
    "            date_parser = None,         \n",
    "            dayfirst = True,\n",
    "#            decimal = ',', #shouln't be relevant\n",
    "#            thousands = '.',\n",
    "            converters = None,\n",
    "            usecols = [0,1,4,5],\n",
    "        )\n",
    "        \n",
    "        data.index = data.index.tz_localize('Europe/Berlin', ambiguous='infer')\n",
    "        \n",
    "    elif source == 'Amprion':\n",
    "        data = pd.read_csv(\n",
    "            filePath,\n",
    "            sep = \";\",\n",
    "            header = 0,\n",
    "            index_col = 'dt_index',\n",
    "            names = ['input_date', 'input_time', forecast_col, actual_col],\n",
    "            parse_dates = {'dt_index' : ['input_date', 'input_time']},\n",
    "            date_parser = None,\n",
    "            dayfirst = True,\n",
    "#            decimal = ',', #shouln't be relevant\n",
    "#            thousands = '.',\n",
    "            converters = {'input_time' : lambda x: x[:5]},\n",
    "            usecols = [0,1,2,3],        \n",
    "        )\n",
    "        \n",
    "        dst_arr = np.ones(len(data.index), dtype=bool)        \n",
    "        data.index = data.index.tz_localize('Europe/Berlin', ambiguous=dst_arr)\n",
    "\n",
    "    if source == '50hertz':\n",
    "        data = pd.read_csv(\n",
    "            filePath,\n",
    "            sep = \";\",\n",
    "            header = 3,\n",
    "            index_col = 'dt_index',\n",
    "            names = ['input_date', 'input_time', actual_col],\n",
    "            parse_dates = {'dt_index' : ['input_date', 'input_time']},\n",
    "            date_parser = None,\n",
    "            dayfirst = True,\n",
    "            decimal = ',',\n",
    "            thousands = '.',\n",
    "            converters = {'input_time' : lambda x: x[:5]},\n",
    "            usecols = [0,1,3],\n",
    "#            engine = 'c', # only the C-engine allows to set the dtype parameter\n",
    "#            dtype = 'str', # python uses float as the datatype, this sometimes causes changes in the last decimal place\n",
    "        )\n",
    "        \n",
    "#        if not 2006 > pd.to_datetime(data.index.values[0]).year > 2015: # True outside of the interval. Until 2006 as well as  in 2015, only the B-hour in October is present, the A-hour is missing in the data \n",
    "        if pd.to_datetime(data.index.values[0]).year not in range(2007,2015):\n",
    "            dst_arr = np.zeros(len(data.index), dtype=bool)\n",
    "            data.index = data.index.tz_localize('Europe/Berlin', ambiguous=dst_arr)\n",
    "        else:\n",
    "            data.index = data.index.tz_localize('Europe/Berlin', ambiguous='infer')\n",
    "            \n",
    "    if source == 'TenneT':\n",
    "        data = pd.read_csv(\n",
    "            filePath,\n",
    "            sep = \";\",\n",
    "            encoding = 'latin_1',\n",
    "            header = 3,\n",
    "            index_col = None,\n",
    "            names=['input_date', 'position' ,forecast_col, actual_col, source+'_'+tech+'_offshore_share'],\n",
    "            parse_dates = False,\n",
    "            date_parser = None,\n",
    "            dayfirst = True,\n",
    "#            decimal = ',',\n",
    "#            thousands = '.',\n",
    "            converters = None,          \n",
    "            usecols = list(range(5)),\n",
    "        )\n",
    "        \n",
    "        data['input_date'].fillna(method='ffill', limit = 100, inplace=True)\n",
    "        \n",
    "        for i in range(len(data.index)):\n",
    "            if data['position'][i] > 96:\n",
    "                logger.info('%s th quarter-hour at %s, position %s',data['position'][i], data.ix[i,'input_date'], (i))  \n",
    "\n",
    "                if (data['position'] == 101).any():\n",
    "                    if data['position'][i] == 101: \n",
    "                        #data = data.drop(i-101+13)\n",
    "                        data = data[~((data['input_date'] == data['input_date'][i]) & (data['position'] == 13))]\n",
    "                        slicer = data[(data['input_date'] == data['input_date'][i]) & (data['position'] >= 13)].index\n",
    "                        data.loc[slicer, 'position'] = data['position'] - 5\n",
    "                    \n",
    "                elif data['position'][i] == 100:\n",
    "                    slicer = data[(data['input_date'] == data['input_date'][i]) & (data['position'] >= 13)].index\n",
    "                    data.loc[slicer, 'position'] = data['position'] - 4     \n",
    "                \n",
    "            elif data['position'][i] == 92 and ((i == len(data.index)-1) or (data['position'][i+1] == 1)):\n",
    "                slicer = data[(data['input_date'] == data['input_date'][i]) & (data['position'] >= 9)].index\n",
    "                data.loc[slicer, 'position'] = data['position'] + 4\n",
    "        \n",
    "        data['hour'] = (np.trunc((data['position']-1)/4)).astype(int).astype(str)\n",
    "        data['minute'] = (((data['position']-1)%4)*15).astype(int).astype(str)\n",
    "        data['dt_index'] = data['input_date']+' '+data['hour']+':'+data['minute']\n",
    "        data['dt_index'] = pd.to_datetime(data['dt_index'], dayfirst = True)\n",
    "        data.set_index('dt_index',inplace=True)\n",
    "\n",
    "        for crucial_date in pd.to_datetime(['2006-03-26','2008-03-30','2009-03-29']).date:\n",
    "            if data.index[0].year == crucial_date.year:\n",
    "                data = data[~((data.index.date == crucial_date) & (data.index.hour == 2))]\n",
    "        \n",
    "        data.index = data.index.tz_localize('Europe/Berlin', ambiguous='infer')\n",
    "\n",
    "#        data = data.drop(['position', 'input_date', 'hour', 'minute'], axis=1)\n",
    "        if tech == 'wind':\n",
    "            data = data[[actual_col, forecast_col, source+'_'+tech+'_offshore_share']]\n",
    "        if tech == 'pv':\n",
    "            data = data[[actual_col, forecast_col]]\n",
    "\n",
    "    return data"
   ]
  },
  {
   "cell_type": "markdown",
   "metadata": {},
   "source": [
    "## 3.2 reading files one by one"
   ]
  },
  {
   "cell_type": "markdown",
   "metadata": {},
   "source": [
    "For each source/TSO and technology specified in the conf dict, this section finds all the downloaded files in the downloads folder and then calls the readData function with the relevant parameters on each file.\n",
    "The datasets returned by the read function are then merged into one large dataset."
   ]
  },
  {
   "cell_type": "code",
   "execution_count": null,
   "metadata": {
    "collapsed": false
   },
   "outputs": [],
   "source": [
    "resultDataSet = pd.DataFrame()\n",
    "for source, tech in conf.items():\n",
    "    for tech, param in tech.items():\n",
    "        for filename in os.listdir(downloadpath):\n",
    "            if source in filename:\n",
    "                if tech in filename:\n",
    "                    logger.info('reading %s', filename)\n",
    "                    dataToAdd = readData(downloadpath + filename, source, tech)\n",
    "                    resultDataSet = resultDataSet.combine_first(dataToAdd)"
   ]
  },
  {
   "cell_type": "markdown",
   "metadata": {},
   "source": [
    "## 3.3 Display the Dataset"
   ]
  },
  {
   "cell_type": "markdown",
   "metadata": {},
   "source": [
    "This section can be executed to display a preview of the merged dataset."
   ]
  },
  {
   "cell_type": "code",
   "execution_count": null,
   "metadata": {
    "collapsed": false,
    "scrolled": true
   },
   "outputs": [],
   "source": [
    "resultDataSet"
   ]
  },
  {
   "cell_type": "markdown",
   "metadata": {},
   "source": [
    "# 4. Save csv file to disk"
   ]
  },
  {
   "cell_type": "markdown",
   "metadata": {},
   "source": [
    "Finally, we write the data to csv format and save it in the directory specified in the settings section."
   ]
  },
  {
   "cell_type": "code",
   "execution_count": null,
   "metadata": {
    "collapsed": false
   },
   "outputs": [],
   "source": [
    "resultDataSet.to_csv(outputpath+outputfile, sep=';')"
   ]
  },
  {
   "cell_type": "markdown",
   "metadata": {},
   "source": [
    "# Notes"
   ]
  },
  {
   "cell_type": "markdown",
   "metadata": {},
   "source": [
    "* boolean slicing mit not\n",
    "* Am Anfang eine Box mit Userinputs wie path, zeitraum (könnte man auch mit GUI machen)\n",
    "* Einlesen unabhängig von Ordnerstruktur\n",
    "* Ordnerstruktur visualisieren\n",
    "\n",
    "* TransnetBW Fehler (falsche Stundenangaben) 29.03.2015 03:30 - 05:00 wurde behoben in TransnetBW_wind_8(mwindeinsp_ist_prognose_2015_03.csv)_KORRIGIERT.csv\n",
    "\n",
    "* datetime.timedelta instead of dateutil.relativedelta\n",
    "\n",
    "* bei end date 31.12 statt 01.01.\n",
    "* TransnetBW  und normalen Download integrieren\n",
    "\n",
    "* p_end eleganter festlegen"
   ]
  }
 ],
 "metadata": {
  "kernelspec": {
   "display_name": "Python 3",
   "language": "python",
   "name": "python3"
  },
  "language_info": {
   "codemirror_mode": {
    "name": "ipython",
    "version": 3
   },
   "file_extension": ".py",
   "mimetype": "text/x-python",
   "name": "python",
   "nbconvert_exporter": "python",
   "pygments_lexer": "ipython3",
   "version": "3.4.3"
  }
 },
 "nbformat": 4,
 "nbformat_minor": 0
}
