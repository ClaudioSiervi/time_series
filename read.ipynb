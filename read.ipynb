{
 "cells": [
  {
   "cell_type": "markdown",
   "metadata": {},
   "source": [
    "# Reading the downloaded files"
   ]
  },
  {
   "cell_type": "markdown",
   "metadata": {},
   "source": [
    "# Table of Contents\n",
    "* [1. Settings](#1.-Settings)\n",
    "\t* [1.1 Libraries](#1.1-Libraries)\n",
    "* [2. Parameters for individual data sources](#2.-Parameters-for-individual-data-sources)\n",
    "\t* [2.1 '50Hertz](#2.1-'50Hertz)\n",
    "\t* [2.2 Amprion](#2.2-Amprion)\n",
    "\t* [2.3 TenneT](#2.3-TenneT)\n",
    "\t* [2.4 TransnetBW](#2.4-TransnetBW)\n",
    "* [3. Reading files one by one](#3.-Reading-files-one-by-one)\n",
    "\t* [3.1 Create an empty DataFrame](#3.1-Create-an-empty-DataFrame)\n",
    "\t* [3.2 Apply the processing function one-by-one](#3.2-Apply-the-processing-function-one-by-one)\n"
   ]
  },
  {
   "cell_type": "markdown",
   "metadata": {},
   "source": [
    "# 1. Settings"
   ]
  },
  {
   "cell_type": "markdown",
   "metadata": {},
   "source": [
    "## 1.1 Libraries"
   ]
  },
  {
   "cell_type": "markdown",
   "metadata": {},
   "source": [
    "Loading some python libraries."
   ]
  },
  {
   "cell_type": "code",
   "execution_count": 42,
   "metadata": {
    "collapsed": true
   },
   "outputs": [],
   "source": [
    "from datetime import datetime, date\n",
    "import pytz\n",
    "import yaml\n",
    "import os\n",
    "import numpy as np\n",
    "import pandas as pd\n",
    "import logging"
   ]
  },
  {
   "cell_type": "markdown",
   "metadata": {},
   "source": [
    "Set up a log."
   ]
  },
  {
   "cell_type": "code",
   "execution_count": 43,
   "metadata": {
    "collapsed": true
   },
   "outputs": [],
   "source": [
    "logger = logging.getLogger('log')\n",
    "logger.setLevel('INFO')"
   ]
  },
  {
   "cell_type": "markdown",
   "metadata": {},
   "source": [
    "# 2. Parameters for individual data sources"
   ]
  },
  {
   "cell_type": "markdown",
   "metadata": {},
   "source": [
    "This section contains a python dictionary indicating which datasources there are and which data types they provide"
   ]
  },
  {
   "cell_type": "code",
   "execution_count": 46,
   "metadata": {
    "collapsed": false
   },
   "outputs": [],
   "source": [
    "conf = \"\"\"\n",
    "ENTSO-E: [Data_Portal]\n",
    "50Hertz: [wind, pv]\n",
    "Amprion: [wind, pv]\n",
    "TenneT: [wind, pv]\n",
    "TransnetBW: [wind, pv]\n",
    "\"\"\"\n",
    "conf = yaml.load(conf)"
   ]
  },
  {
   "cell_type": "code",
   "execution_count": 48,
   "metadata": {
    "collapsed": true
   },
   "outputs": [],
   "source": [
    "def read_entso(filepath, tech):\n",
    "    data = pd.read_excel(\n",
    "        io=filepath,\n",
    "        header=9,\n",
    "        skiprows=None,\n",
    "        index_col=[0, 1],\n",
    "        parse_cols = None #None means: parse all columns\n",
    "        )\n",
    "    \n",
    "    dst_transition_times = [d.replace(hour=2) for d in pytz.timezone(\n",
    "            'Europe/Berlin')._utc_transition_times[1:]]\n",
    "    \n",
    "    # The original data has days and countries in the rows and hours in the\n",
    "    # columns.  This rearranges the table, mapping hours on the rows and\n",
    "    # countries on the columns.  \n",
    "    data = data.stack(level=None).unstack(level='Country').reset_index()    \n",
    "    # The information on the hour of the day a datapoint belongs to has been\n",
    "    # put in a new column named 'level_1' by the DataFrame.stack() method.  \n",
    "    data.rename(columns={'level_1': 'raw_hour'}, inplace=True)\n",
    "    \n",
    "    # Truncate the hours column after 2 characters and replace letters \n",
    "    # which are there to indicate the order during fall dst-transition.      \n",
    "    data['hour'] = data['raw_hour'].str[:2].str.replace('A','').str.replace('B','')\n",
    "    # Hours are indexed 1-24 by ENTSO-E, but pandas requires 0-23, so we deduct 1.\n",
    "    data['hour'] = (data['hour'].astype(int) - 1).astype(str)\n",
    "    \n",
    "    data['dt_index'] = pd.to_datetime(data['Day']+' '+data['hour']+':00')\n",
    "    data.set_index('dt_index', inplace=True)    \n",
    "    \n",
    "    # Drop 2nd occurence of 03:00 appearing in October data except for autumn\n",
    "    # dst-transition\n",
    "    data = data[~((data['raw_hour'] == '3B:00:00') & ~(\n",
    "                data.index.isin(dst_transition_times)))]\n",
    "    # Drop 03:00 for (spring) dst-transition. October data is unaffected because\n",
    "    # the format is 3A:00/3B:00 \n",
    "    data = data[~((data['raw_hour'] == '03:00:00') & (\n",
    "                data.index.isin(dst_transition_times)))]\n",
    "    \n",
    "    data.index = data.index.tz_localize('Europe/Berlin', ambiguous='infer')\n",
    "    data.drop(['Day', 'hour', 'raw_hour'], axis=1, inplace=True)\n",
    "    data.rename(columns=lambda country: 'load_' + country, inplace=True)\n",
    "    data = data.replace(to_replace='n.a.', value=np.nan)\n",
    "    \n",
    "    return data"
   ]
  },
  {
   "cell_type": "markdown",
   "metadata": {},
   "source": [
    "## 2.1 '50Hertz"
   ]
  },
  {
   "cell_type": "code",
   "execution_count": 49,
   "metadata": {
    "collapsed": true
   },
   "outputs": [],
   "source": [
    "def read_hertz(filepath, tech):\n",
    "    data = pd.read_csv(\n",
    "        filepath,\n",
    "        sep=';',\n",
    "        header=3,\n",
    "        index_col='dt_index',\n",
    "        names=[\n",
    "            'date',\n",
    "            'time',\n",
    "            tech + '_DE50hertz_actual'\n",
    "            ],\n",
    "        parse_dates={'dt_index': ['date', 'time']},\n",
    "        date_parser=None,\n",
    "        dayfirst=True,\n",
    "        decimal=',',\n",
    "        thousands='.',\n",
    "        # truncate values in 'time' column after 5th character\n",
    "        converters={'time': lambda x: x[:5]},\n",
    "        usecols=[0, 1, 3],\n",
    "    )\n",
    "    \n",
    "    # Until 2006 as well as  in 2015, during the fall dst-transistion, only the \n",
    "    # wintertime hour (marked by a B in the data) is reported, the summertime \n",
    "    # hour, (marked by an A) is missing in the data.  \n",
    "    # dst_arr is a boolean array consisting only of \"False\" entries, telling \n",
    "    # python to treat the hour from 2:00 to 2:59 as wintertime.\n",
    "    if pd.to_datetime(data.index.values[0]).year not in range(2007,2015):\n",
    "        dst_arr = np.zeros(len(data.index), dtype=bool)\n",
    "        data.index = data.index.tz_localize('Europe/Berlin', ambiguous=dst_arr)\n",
    "    else:\n",
    "        data.index = data.index.tz_localize('Europe/Berlin', ambiguous='infer')\n",
    "    \n",
    "    return data            "
   ]
  },
  {
   "cell_type": "markdown",
   "metadata": {},
   "source": [
    "## 2.2 Amprion"
   ]
  },
  {
   "cell_type": "code",
   "execution_count": 59,
   "metadata": {
    "collapsed": true
   },
   "outputs": [],
   "source": [
    "def read_amprion(filepath, tech):\n",
    "    data = pd.read_csv(\n",
    "        filepath,\n",
    "        sep=';',\n",
    "        header=0,\n",
    "        index_col='dt_index',\n",
    "        names=[\n",
    "            'date',\n",
    "            'time',\n",
    "            tech + '_DEamprion_forecast',\n",
    "            tech + '_DEamprion_actual'\n",
    "            ],\n",
    "        parse_dates={'dt_index' : ['date', 'time']},\n",
    "        date_parser=None,\n",
    "        dayfirst=True,\n",
    "#        decimal=',', #shouldn't be relevant\n",
    "        thousands=None,\n",
    "        # Truncate values in 'time' column after 5th character.\n",
    "        converters={'time': lambda x: x[:5]},\n",
    "        usecols=[0, 1, 2, 3],        \n",
    "    )\n",
    "\n",
    "    index1 = data.index[data.index.year <= 2009]\n",
    "    index1 = index1.tz_localize('Europe/Berlin', ambiguous='infer')\n",
    "    \n",
    "    # In the years after 2009, during the fall dst-transistion, only the\n",
    "    # summertime hour is reported, the wintertime hour is missing in the data.  \n",
    "    # dst_arr is a boolean array consisting only of \"True\" entries, telling \n",
    "    # python to treat the hour from 2:00 to 2:59 as summertime.\n",
    "    index2 = data.index[data.index.year > 2009]\n",
    "    dst_arr = np.ones(len(index2), dtype=bool)\n",
    "    index2 = index2.tz_localize('Europe/Berlin', ambiguous=dst_arr)        \n",
    "    data.index = index1.append(index2)\n",
    "    \n",
    "    return data"
   ]
  },
  {
   "cell_type": "markdown",
   "metadata": {},
   "source": [
    "## 2.3 TenneT"
   ]
  },
  {
   "cell_type": "markdown",
   "metadata": {},
   "source": [
    "The Tennet Data doesn't feature a time column. Instead, the quarter-hourly data entries for each day are numbered by their position, creating an index ranging...\n",
    "* from 1 to 96 on normal days,\n",
    "* from 1 to 92 on spring dst-transition dates,\n",
    "* from 1 to 100 on fall dst-transition days.\n",
    "\n",
    "This index can be used to compute a timestamp. However, there are a couple of errors in the data, which is why a lot of exceptions need to be specified."
   ]
  },
  {
   "cell_type": "code",
   "execution_count": 52,
   "metadata": {
    "collapsed": true
   },
   "outputs": [],
   "source": [
    "def read_tennet(filepath, tech):\n",
    "    data = pd.read_csv(\n",
    "        filepath,\n",
    "        sep=';',\n",
    "        encoding='latin_1',\n",
    "        header=3,\n",
    "        index_col=None,\n",
    "        names=[\n",
    "            'date',\n",
    "            'position',\n",
    "            tech + '_DEtennet_forecast',\n",
    "            tech + '_DEtennet_actual',\n",
    "            tech + '_DEtennet_offshore_share'\n",
    "            ],\n",
    "        parse_dates=False,\n",
    "        date_parser=None,\n",
    "        dayfirst=True,\n",
    "#       decimal=',', #shouldn't be relevant\n",
    "        thousands=None,\n",
    "        converters=None,          \n",
    "        usecols=[0, 1, 2, 3, 4],\n",
    "    )\n",
    "\n",
    "    data['date'].fillna(method='ffill', limit = 100, inplace=True)\n",
    "\n",
    "    for i in range(len(data.index)):\n",
    "        # On the day in March when summertime begins, shift the data forward by\n",
    "        # 1 hour, beginning with the 9th quarter-hour, so the index runs again\n",
    "        # up to 96\n",
    "        if (data['position'][i] == 92 and (\n",
    "                (i == len(data.index)-1) or\n",
    "                (data['position'][i + 1] == 1)\n",
    "                )\n",
    "           ):\n",
    "            slicer = data[\n",
    "                (data['date'] == data['date'][i]) &\n",
    "                (data['position'] >= 9)\n",
    "                ].index\n",
    "            data.loc[slicer, 'position'] = data['position'] + 4\n",
    "\n",
    "        if data['position'][i] > 96: # True when summertime ends in October\n",
    "            logger.info('%s th quarter-hour at %s, position %s',data[\n",
    "                    'position'][i], data.ix[i,'date'], (i))  \n",
    "\n",
    "            # Instead of having the quarter-hours' index run up to 100, we want \n",
    "            # to have it set back by 1 hour beginning from the 13th\n",
    "            # quarter-hour, ending at 96\n",
    "            if (data['position'][i] == 100 and not\n",
    "                    (data['position'] == 101).any()):                    \n",
    "                slicer = data[\n",
    "                    (data['date'] == data['date'][i]) &\n",
    "                    (data['position'] >= 13)\n",
    "                    ].index\n",
    "                data.loc[slicer, 'position'] = data['position'] - 4                     \n",
    "\n",
    "            # In 2011 and 2012, there are 101 qaurter hours on the day the \n",
    "            # summertime ends, so 1 too many.  From looking at the data, we\n",
    "            # inferred that the 13'th quarter hour is the culprit, so we drop\n",
    "            # that.  The following entries for that day need to be shifted.\n",
    "            elif data['position'][i] == 101: \n",
    "                data = data[~(\n",
    "                    (data['date'] == data['date'][i]) &\n",
    "                    (data['position'] == 13)\n",
    "                    )]\n",
    "                slicer = data[\n",
    "                    (data['date'] == data['date'][i]) &\n",
    "                    (data['position'] >= 13)\n",
    "                    ].index\n",
    "                data.loc[slicer, 'position'] = data['position'] - 5         \n",
    "\n",
    "    # On 2012-03-25, there are 94 entries, where entries 8 and 10 are probably\n",
    "    # wrong.\n",
    "    if data['date'][0] == '2012-03-01':\n",
    "        data = data[~(\n",
    "            (data['date'] == '2012-03-25') & (\n",
    "                (data['position'] == 8) |\n",
    "                (data['position'] == 10)\n",
    "                )\n",
    "            )]\n",
    "        slicer = data[\n",
    "            (data['date'] == '2012-03-25') & \n",
    "            (data['position'] >= 9)\n",
    "            ].index\n",
    "        data.loc[slicer, 'position'] = [8] + list(range(13, 97))        \n",
    "\n",
    "    # On 2012-09-27, there are 97 entries.  Probably, just the 97th entry is wrong.\n",
    "    if data['date'][0] == '2012-09-01':\n",
    "        data = data[~(\n",
    "            (data['date'] == '2012-09-27') &\n",
    "            (data['position'] == 97)\n",
    "            )]          \n",
    "\n",
    "    # Here we compute the timestamp from the position and generate the\n",
    "    # datetime-index\n",
    "    data['hour'] = (np.trunc((data['position']-1)/4)).astype(int).astype(str)\n",
    "    data['minute'] = (((data['position']-1)%4)*15).astype(int).astype(str)\n",
    "    data['dt_index'] = pd.to_datetime(\n",
    "        data['date'] + ' ' +\n",
    "        data['hour'] + ':' +\n",
    "        data['minute'],\n",
    "        dayfirst = True\n",
    "        )\n",
    "    data.set_index('dt_index',inplace=True)\n",
    "\n",
    "    # In the years 2006, 2008, and 2009, the dst-transition hour in March\n",
    "    # appears as empty rows in the data.  We delete it from the set in order to\n",
    "    # make the timezone localization work.  \n",
    "    for crucial_date in pd.to_datetime([\n",
    "            '2006-03-26',\n",
    "            '2008-03-30',\n",
    "            '2009-03-29'\n",
    "            ]).date:\n",
    "        if data.index[0].year == crucial_date.year:\n",
    "            data = data[~(\n",
    "                (data.index.date == crucial_date) &\n",
    "                (data.index.hour == 2)\n",
    "                )]\n",
    "\n",
    "    data.index = data.index.tz_localize('Europe/Berlin', ambiguous='infer')\n",
    "\n",
    "    data.drop(['position', 'date', 'hour', 'minute'], axis=1, inplace=True)\n",
    "    if tech == 'pv':\n",
    "        data.drop('pv_DEtennet_offshore_share', axis=1, inplace=True)\n",
    "\n",
    "    return data"
   ]
  },
  {
   "cell_type": "markdown",
   "metadata": {},
   "source": [
    "## 2.4 TransnetBW"
   ]
  },
  {
   "cell_type": "code",
   "execution_count": 62,
   "metadata": {
    "collapsed": true
   },
   "outputs": [],
   "source": [
    "def read_transnetbw(filepath, tech):\n",
    "    data = pd.read_csv(\n",
    "        filepath,\n",
    "        sep=';',\n",
    "        header=0,\n",
    "        index_col='dt_index',\n",
    "        names=[\n",
    "            'date',\n",
    "            'time',\n",
    "            source + '_' + tech + '_forecast',\n",
    "            source + '_' + tech + '_actual'\n",
    "            ],\n",
    "        parse_dates={'dt_index': ['date', 'time']},\n",
    "        date_parser=None,         \n",
    "        dayfirst=True,\n",
    "        decimal=',',\n",
    "        thousands=None,\n",
    "        converters=None,\n",
    "        usecols=[2, 3, 4, 5],\n",
    "    )\n",
    "\n",
    "    # the time taken from column 3 indicates the end of the respective period.\n",
    "    # to construct the index, however, we need the beginning, so we shift the \n",
    "    # data by 1 period.  \n",
    "    data = data.shift(periods=-1, axis='index')\n",
    "    data.index = data.index.tz_localize('Europe/Berlin', ambiguous='infer')\n",
    "    # 'ambigous' refers to how the October dst-transition hour is handled.  \n",
    "    # ‘infer’ will attempt to infer dst-transition hours based on order.\n",
    "        \n",
    "    return data"
   ]
  },
  {
   "cell_type": "markdown",
   "metadata": {},
   "source": [
    "# 3. Reading files one by one"
   ]
  },
  {
   "cell_type": "markdown",
   "metadata": {},
   "source": [
    "## 3.1 Create an empty DataFrame"
   ]
  },
  {
   "cell_type": "markdown",
   "metadata": {},
   "source": [
    "Create an empty DataFrame / reset the DataFrame"
   ]
  },
  {
   "cell_type": "code",
   "execution_count": 54,
   "metadata": {
    "collapsed": true
   },
   "outputs": [],
   "source": [
    "downloadpath = 'downloads2'"
   ]
  },
  {
   "cell_type": "code",
   "execution_count": 64,
   "metadata": {
    "collapsed": true
   },
   "outputs": [],
   "source": [
    "data_set = pd.DataFrame()"
   ]
  },
  {
   "cell_type": "markdown",
   "metadata": {},
   "source": [
    "## 3.2 Apply the processing function one-by-one"
   ]
  },
  {
   "cell_type": "markdown",
   "metadata": {},
   "source": [
    "For each source/TSO and technology specified in the conf dict, this section finds all the downloaded files in the downloads folder and then calls the matching readData function.\n",
    "The datasets returned by the read function are then merged into one large dataset."
   ]
  },
  {
   "cell_type": "code",
   "execution_count": 65,
   "metadata": {
    "collapsed": false
   },
   "outputs": [
    {
     "name": "stderr",
     "output_type": "stream",
     "text": [
      "INFO:log:reading TenneT wind Export_Januar-2006.csv\n",
      "INFO:log:reading TenneT wind Export_Februar-2006.csv\n",
      "INFO:log:reading TenneT wind Export_Maerz-2006.csv\n",
      "INFO:log:reading TenneT wind Export_April-2006.csv\n",
      "INFO:log:reading TenneT wind Export_Mai-2006.csv\n",
      "INFO:log:reading TenneT wind Export_Juni-2006.csv\n",
      "INFO:log:reading TenneT wind Export_Juli-2006.csv\n",
      "INFO:log:reading TenneT wind Export_August-2006.csv\n",
      "INFO:log:reading TenneT wind Export_September-2006.csv\n",
      "INFO:log:reading TenneT wind Export_Oktober-2006.csv\n",
      "INFO:log:97 th quarter-hour at 2006-10-29, position 2784\n",
      "INFO:log:98 th quarter-hour at 2006-10-29, position 2785\n",
      "INFO:log:99 th quarter-hour at 2006-10-29, position 2786\n",
      "INFO:log:100 th quarter-hour at 2006-10-29, position 2787\n",
      "INFO:log:reading TenneT wind Export_November-2006.csv\n",
      "INFO:log:reading TenneT wind Export_Dezember-2006.csv\n",
      "INFO:log:reading TenneT wind Export_Januar-2007.csv\n",
      "INFO:log:reading TenneT wind Export_Februar-2007.csv\n",
      "INFO:log:reading TenneT wind Export_Maerz-2007.csv\n",
      "INFO:log:reading TenneT wind Export_April-2007.csv\n",
      "INFO:log:reading TenneT wind Export_Mai-2007.csv\n",
      "INFO:log:reading TenneT wind Export_Juni-2007.csv\n",
      "INFO:log:reading TenneT wind Export_Juli-2007.csv\n",
      "INFO:log:reading TenneT wind Export_August-2007.csv\n",
      "INFO:log:reading TenneT wind Export_September-2007.csv\n",
      "INFO:log:reading TenneT wind Export_Oktober-2007.csv\n",
      "INFO:log:97 th quarter-hour at 2007-10-28, position 2688\n",
      "INFO:log:98 th quarter-hour at 2007-10-28, position 2689\n",
      "INFO:log:99 th quarter-hour at 2007-10-28, position 2690\n",
      "INFO:log:100 th quarter-hour at 2007-10-28, position 2691\n",
      "INFO:log:reading TenneT wind Export_November-2007.csv\n",
      "INFO:log:reading TenneT wind Export_Dezember-2007.csv\n",
      "INFO:log:reading TenneT wind Export_Januar-2008.csv\n",
      "INFO:log:reading TenneT wind Export_Februar-2008.csv\n",
      "INFO:log:reading TenneT wind Export_Maerz-2008.csv\n",
      "INFO:log:reading TenneT wind Export_April-2008.csv\n",
      "INFO:log:reading TenneT wind Export_Mai-2008.csv\n",
      "INFO:log:reading TenneT wind Export_Juni-2008.csv\n",
      "INFO:log:reading TenneT wind Export_Juli-2008.csv\n",
      "INFO:log:reading TenneT wind Export_August-2008.csv\n",
      "INFO:log:reading TenneT wind Export_September-2008.csv\n",
      "INFO:log:reading TenneT wind Export_Oktober-2008.csv\n",
      "INFO:log:97 th quarter-hour at 2008-10-26, position 2496\n",
      "INFO:log:98 th quarter-hour at 2008-10-26, position 2497\n",
      "INFO:log:99 th quarter-hour at 2008-10-26, position 2498\n",
      "INFO:log:100 th quarter-hour at 2008-10-26, position 2499\n",
      "INFO:log:reading TenneT wind Export_November-2008.csv\n",
      "INFO:log:reading TenneT wind Export_Dezember-2008.csv\n",
      "INFO:log:reading TenneT wind Export_Januar-2009.csv\n",
      "INFO:log:reading TenneT wind Export_Februar-2009.csv\n",
      "INFO:log:reading TenneT wind Export_Maerz-2009.csv\n",
      "INFO:log:reading TenneT wind Export_April-2009.csv\n",
      "INFO:log:reading TenneT wind Export_Mai-2009.csv\n",
      "INFO:log:reading TenneT wind Export_Juni-2009.csv\n",
      "INFO:log:reading TenneT wind Export_Juli-2009.csv\n",
      "INFO:log:reading TenneT wind Export_August-2009.csv\n",
      "INFO:log:reading TenneT wind Export_September-2009.csv\n",
      "INFO:log:reading TenneT wind Export_Oktober-2009.csv\n",
      "INFO:log:97 th quarter-hour at 2009-10-25, position 2400\n",
      "INFO:log:98 th quarter-hour at 2009-10-25, position 2401\n",
      "INFO:log:99 th quarter-hour at 2009-10-25, position 2402\n",
      "INFO:log:100 th quarter-hour at 2009-10-25, position 2403\n",
      "INFO:log:reading TenneT wind Export_November-2009.csv\n",
      "INFO:log:reading TenneT wind Export_Dezember-2009.csv\n",
      "INFO:log:reading TenneT wind Export_Januar-2010.csv\n",
      "INFO:log:reading TenneT wind Export_Februar-2010.csv\n",
      "INFO:log:reading TenneT wind Export_Maerz-2010.csv\n",
      "INFO:log:reading TenneT wind Export_April-2010.csv\n",
      "INFO:log:reading TenneT wind Export_Mai-2010.csv\n",
      "INFO:log:reading TenneT wind Export_Juni-2010.csv\n",
      "INFO:log:reading TenneT wind Export_Juli-2010.csv\n",
      "INFO:log:reading TenneT wind Export_August-2010.csv\n",
      "INFO:log:reading TenneT wind Export_September-2010.csv\n",
      "INFO:log:reading TenneT wind Export_Oktober-2010.csv\n",
      "INFO:log:97 th quarter-hour at 2010-10-31, position 2976\n",
      "INFO:log:98 th quarter-hour at 2010-10-31, position 2977\n",
      "INFO:log:99 th quarter-hour at 2010-10-31, position 2978\n",
      "INFO:log:100 th quarter-hour at 2010-10-31, position 2979\n",
      "INFO:log:reading TenneT wind Export_November-2010.csv\n",
      "INFO:log:reading TenneT wind Export_Dezember-2010.csv\n",
      "INFO:log:reading TenneT wind Export_Januar-2011.csv\n",
      "INFO:log:reading TenneT wind Export_Februar-2011.csv\n",
      "INFO:log:reading TenneT wind Export_Maerz-2011.csv\n",
      "INFO:log:reading TenneT wind Export_April-2011.csv\n",
      "INFO:log:reading TenneT wind Export_Mai-2011.csv\n",
      "INFO:log:reading TenneT wind Export_Juni-2011.csv\n",
      "INFO:log:reading TenneT wind Export_Juli-2011.csv\n",
      "INFO:log:reading TenneT wind Export_August-2011.csv\n",
      "INFO:log:reading TenneT wind Export_September-2011.csv\n",
      "INFO:log:reading TenneT wind Export_Oktober-2011.csv\n",
      "INFO:log:97 th quarter-hour at 2011-10-30, position 2880\n",
      "INFO:log:98 th quarter-hour at 2011-10-30, position 2881\n",
      "INFO:log:99 th quarter-hour at 2011-10-30, position 2882\n",
      "INFO:log:100 th quarter-hour at 2011-10-30, position 2883\n",
      "INFO:log:101 th quarter-hour at 2011-10-30, position 2884\n",
      "INFO:log:reading TenneT wind Export_November-2011.csv\n",
      "INFO:log:reading TenneT wind Export_Dezember-2011.csv\n",
      "INFO:log:reading TenneT wind Export_Januar-2012.csv\n",
      "INFO:log:reading TenneT wind Export_Februar-2012.csv\n",
      "INFO:log:reading TenneT wind Export_Maerz-2012.csv\n",
      "INFO:log:reading TenneT wind Export_April-2012.csv\n",
      "INFO:log:reading TenneT wind Export_Mai-2012.csv\n",
      "INFO:log:reading TenneT wind Export_Juni-2012.csv\n",
      "INFO:log:reading TenneT wind Export_Juli-2012.csv\n",
      "INFO:log:reading TenneT wind Export_August-2012.csv\n",
      "INFO:log:reading TenneT wind Export_September-2012.csv\n",
      "INFO:log:97 th quarter-hour at 2012-09-27, position 2592\n",
      "INFO:log:reading TenneT wind Export_Oktober-2012.csv\n",
      "INFO:log:97 th quarter-hour at 2012-10-28, position 2688\n",
      "INFO:log:98 th quarter-hour at 2012-10-28, position 2689\n",
      "INFO:log:99 th quarter-hour at 2012-10-28, position 2690\n",
      "INFO:log:100 th quarter-hour at 2012-10-28, position 2691\n",
      "INFO:log:101 th quarter-hour at 2012-10-28, position 2692\n",
      "INFO:log:reading TenneT wind Export_November-2012.csv\n",
      "INFO:log:reading TenneT wind Export_Dezember-2012.csv\n",
      "INFO:log:reading TenneT wind Export_Januar-2013.csv\n",
      "INFO:log:reading TenneT wind Export_Februar-2013.csv\n",
      "INFO:log:reading TenneT wind Export_Maerz-2013.csv\n",
      "INFO:log:reading TenneT wind Export_April-2013.csv\n",
      "INFO:log:reading TenneT wind Export_Mai-2013.csv\n",
      "INFO:log:reading TenneT wind Export_Juni-2013.csv\n",
      "INFO:log:reading TenneT wind Export_Juli-2013.csv\n",
      "INFO:log:reading TenneT wind Export_August-2013.csv\n",
      "INFO:log:reading TenneT wind Export_September-2013.csv\n",
      "INFO:log:reading TenneT wind Export_Oktober-2013.csv\n",
      "INFO:log:97 th quarter-hour at 2013-10-27, position 2592\n",
      "INFO:log:98 th quarter-hour at 2013-10-27, position 2593\n",
      "INFO:log:99 th quarter-hour at 2013-10-27, position 2594\n",
      "INFO:log:100 th quarter-hour at 2013-10-27, position 2595\n",
      "INFO:log:reading TenneT wind Export_November-2013.csv\n",
      "INFO:log:reading TenneT wind Export_Dezember-2013.csv\n",
      "INFO:log:reading TenneT wind Export_Januar-2014.csv\n",
      "INFO:log:reading TenneT wind Export_Februar-2014.csv\n",
      "INFO:log:reading TenneT wind Export_Maerz-2014.csv\n",
      "INFO:log:reading TenneT wind Export_April-2014.csv\n",
      "INFO:log:reading TenneT wind Export_Mai-2014.csv\n",
      "INFO:log:reading TenneT wind Export_Juni-2014.csv\n",
      "INFO:log:reading TenneT wind Export_Juli-2014.csv\n",
      "INFO:log:reading TenneT wind Export_August-2014.csv\n",
      "INFO:log:reading TenneT wind Export_September-2014.csv\n",
      "INFO:log:reading TenneT wind Export_Oktober-2014.csv\n",
      "INFO:log:97 th quarter-hour at 2014-10-26, position 2496\n",
      "INFO:log:98 th quarter-hour at 2014-10-26, position 2497\n",
      "INFO:log:99 th quarter-hour at 2014-10-26, position 2498\n",
      "INFO:log:100 th quarter-hour at 2014-10-26, position 2499\n",
      "INFO:log:reading TenneT wind Export_November-2014.csv\n",
      "INFO:log:reading TenneT wind Export_Dezember-2014.csv\n",
      "INFO:log:reading TenneT wind Export_Januar-2015.csv\n",
      "INFO:log:reading TenneT wind Export_Februar-2015.csv\n",
      "INFO:log:reading TenneT wind Export_Maerz-2015.csv\n",
      "INFO:log:reading TenneT wind Export_April-2015.csv\n",
      "INFO:log:reading TenneT wind Export_Mai-2015.csv\n",
      "INFO:log:reading TenneT wind Export_Juni-2015.csv\n",
      "INFO:log:reading TenneT wind Export_Juli-2015.csv\n",
      "INFO:log:reading TenneT wind Export_August-2015.csv\n",
      "INFO:log:reading TenneT wind Export_September-2015.csv\n",
      "INFO:log:reading TenneT wind Export_Oktober-2015.csv\n",
      "INFO:log:97 th quarter-hour at 2015-10-25, position 2400\n",
      "INFO:log:98 th quarter-hour at 2015-10-25, position 2401\n",
      "INFO:log:99 th quarter-hour at 2015-10-25, position 2402\n",
      "INFO:log:100 th quarter-hour at 2015-10-25, position 2403\n",
      "INFO:log:reading TenneT wind Export_November-2015.csv\n",
      "INFO:log:reading TenneT wind Export_Dezember-2015.csv\n",
      "INFO:log:reading TenneT pv Export_Januar-2010.csv\n",
      "INFO:log:reading TenneT pv Export_Februar-2010.csv\n",
      "INFO:log:reading TenneT pv Export_Maerz-2010.csv\n",
      "INFO:log:reading TenneT pv Export_April-2010.csv\n",
      "INFO:log:reading TenneT pv Export_Mai-2010.csv\n",
      "INFO:log:reading TenneT pv Export_Juni-2010.csv\n",
      "INFO:log:reading TenneT pv Export_Juli-2010.csv\n",
      "INFO:log:reading TenneT pv Export_August-2010.csv\n",
      "INFO:log:reading TenneT pv Export_September-2010.csv\n",
      "INFO:log:reading TenneT pv Export_Oktober-2010.csv\n",
      "INFO:log:97 th quarter-hour at 2010-10-31, position 2976\n",
      "INFO:log:98 th quarter-hour at 2010-10-31, position 2977\n",
      "INFO:log:99 th quarter-hour at 2010-10-31, position 2978\n",
      "INFO:log:100 th quarter-hour at 2010-10-31, position 2979\n",
      "INFO:log:reading TenneT pv Export_November-2010.csv\n",
      "INFO:log:reading TenneT pv Export_Dezember-2010.csv\n",
      "INFO:log:reading TenneT pv Export_Januar-2011.csv\n",
      "INFO:log:reading TenneT pv Export_Februar-2011.csv\n",
      "INFO:log:reading TenneT pv Export_Maerz-2011.csv\n",
      "INFO:log:reading TenneT pv Export_April-2011.csv\n",
      "INFO:log:reading TenneT pv Export_Mai-2011.csv\n",
      "INFO:log:reading TenneT pv Export_Juni-2011.csv\n",
      "INFO:log:reading TenneT pv Export_Juli-2011.csv\n",
      "INFO:log:reading TenneT pv Export_August-2011.csv\n",
      "INFO:log:reading TenneT pv Export_September-2011.csv\n",
      "INFO:log:reading TenneT pv Export_Oktober-2011.csv\n",
      "INFO:log:97 th quarter-hour at 2011-10-30, position 2880\n",
      "INFO:log:98 th quarter-hour at 2011-10-30, position 2881\n",
      "INFO:log:99 th quarter-hour at 2011-10-30, position 2882\n",
      "INFO:log:100 th quarter-hour at 2011-10-30, position 2883\n",
      "INFO:log:101 th quarter-hour at 2011-10-30, position 2884\n",
      "INFO:log:reading TenneT pv Export_November-2011.csv\n",
      "INFO:log:reading TenneT pv Export_Dezember-2011.csv\n",
      "INFO:log:reading TenneT pv Export_Januar-2012.csv\n",
      "INFO:log:reading TenneT pv Export_Februar-2012.csv\n",
      "INFO:log:reading TenneT pv Export_Maerz-2012.csv\n",
      "INFO:log:reading TenneT pv Export_April-2012.csv\n",
      "INFO:log:reading TenneT pv Export_Mai-2012.csv\n",
      "INFO:log:reading TenneT pv Export_Juni-2012.csv\n",
      "INFO:log:reading TenneT pv Export_Juli-2012.csv\n",
      "INFO:log:reading TenneT pv Export_August-2012.csv\n",
      "INFO:log:reading TenneT pv Export_September-2012.csv\n",
      "INFO:log:97 th quarter-hour at 2012-09-27, position 2592\n",
      "INFO:log:reading TenneT pv Export_Oktober-2012.csv\n",
      "INFO:log:97 th quarter-hour at 2012-10-28, position 2688\n",
      "INFO:log:98 th quarter-hour at 2012-10-28, position 2689\n",
      "INFO:log:99 th quarter-hour at 2012-10-28, position 2690\n",
      "INFO:log:100 th quarter-hour at 2012-10-28, position 2691\n",
      "INFO:log:101 th quarter-hour at 2012-10-28, position 2692\n",
      "INFO:log:reading TenneT pv Export_November-2012.csv\n",
      "INFO:log:reading TenneT pv Export_Dezember-2012.csv\n",
      "INFO:log:reading TenneT pv Export_Januar-2013.csv\n",
      "INFO:log:reading TenneT pv Export_Februar-2013.csv\n",
      "INFO:log:reading TenneT pv Export_Maerz-2013.csv\n",
      "INFO:log:reading TenneT pv Export_April-2013.csv\n",
      "INFO:log:reading TenneT pv Export_Mai-2013.csv\n",
      "INFO:log:reading TenneT pv Export_Juni-2013.csv\n",
      "INFO:log:reading TenneT pv Export_Juli-2013.csv\n",
      "INFO:log:reading TenneT pv Export_August-2013.csv\n",
      "INFO:log:reading TenneT pv Export_September-2013.csv\n",
      "INFO:log:reading TenneT pv Export_Oktober-2013.csv\n",
      "INFO:log:97 th quarter-hour at 2013-10-27, position 2592\n",
      "INFO:log:98 th quarter-hour at 2013-10-27, position 2593\n",
      "INFO:log:99 th quarter-hour at 2013-10-27, position 2594\n",
      "INFO:log:100 th quarter-hour at 2013-10-27, position 2595\n",
      "INFO:log:reading TenneT pv Export_November-2013.csv\n",
      "INFO:log:reading TenneT pv Export_Dezember-2013.csv\n",
      "INFO:log:reading TenneT pv Export_Januar-2014.csv\n",
      "INFO:log:reading TenneT pv Export_Februar-2014.csv\n",
      "INFO:log:reading TenneT pv Export_Maerz-2014.csv\n",
      "INFO:log:reading TenneT pv Export_April-2014.csv\n",
      "INFO:log:reading TenneT pv Export_Mai-2014.csv\n",
      "INFO:log:reading TenneT pv Export_Juni-2014.csv\n",
      "INFO:log:reading TenneT pv Export_Juli-2014.csv\n",
      "INFO:log:reading TenneT pv Export_August-2014.csv\n",
      "INFO:log:reading TenneT pv Export_September-2014.csv\n",
      "INFO:log:reading TenneT pv Export_Oktober-2014.csv\n",
      "INFO:log:97 th quarter-hour at 2014-10-26, position 2496\n",
      "INFO:log:98 th quarter-hour at 2014-10-26, position 2497\n",
      "INFO:log:99 th quarter-hour at 2014-10-26, position 2498\n",
      "INFO:log:100 th quarter-hour at 2014-10-26, position 2499\n",
      "INFO:log:reading TenneT pv Export_November-2014.csv\n",
      "INFO:log:reading TenneT pv Export_Dezember-2014.csv\n",
      "INFO:log:reading TenneT pv Export_Januar-2015.csv\n",
      "INFO:log:reading TenneT pv Export_Februar-2015.csv\n",
      "INFO:log:reading TenneT pv Export_Maerz-2015.csv\n",
      "INFO:log:reading TenneT pv Export_April-2015.csv\n",
      "INFO:log:reading TenneT pv Export_Mai-2015.csv\n",
      "INFO:log:reading TenneT pv Export_Juni-2015.csv\n",
      "INFO:log:reading TenneT pv Export_Juli-2015.csv\n",
      "INFO:log:reading TenneT pv Export_August-2015.csv\n",
      "INFO:log:reading TenneT pv Export_September-2015.csv\n",
      "INFO:log:reading TenneT pv Export_Oktober-2015.csv\n",
      "INFO:log:97 th quarter-hour at 2015-10-25, position 2400\n",
      "INFO:log:98 th quarter-hour at 2015-10-25, position 2401\n",
      "INFO:log:99 th quarter-hour at 2015-10-25, position 2402\n",
      "INFO:log:100 th quarter-hour at 2015-10-25, position 2403\n",
      "INFO:log:reading TenneT pv Export_November-2015.csv\n",
      "INFO:log:reading TenneT pv Export_Dezember-2015.csv\n",
      "INFO:log:reading Amprion wind winddaten2_04.01.2008_31.12.2015.csv\n",
      "INFO:log:reading Amprion pv Photovoltaik_07.01.2010_31.12.2015.csv\n",
      "INFO:log:reading TransnetBW wind mwindeinsp_ist_prognose_2010_01.csv\n",
      "INFO:log:reading TransnetBW wind mwindeinsp_ist_prognose_2010_02.csv\n",
      "INFO:log:reading TransnetBW wind mwindeinsp_ist_prognose_2010_03.csv\n",
      "INFO:log:reading TransnetBW wind mwindeinsp_ist_prognose_2010_04.csv\n",
      "INFO:log:reading TransnetBW wind mwindeinsp_ist_prognose_2010_05.csv\n",
      "INFO:log:reading TransnetBW wind mwindeinsp_ist_prognose_2010_06.csv\n",
      "INFO:log:reading TransnetBW wind mwindeinsp_ist_prognose_2010_07.csv\n",
      "INFO:log:reading TransnetBW wind mwindeinsp_ist_prognose_2010_08.csv\n",
      "INFO:log:reading TransnetBW wind mwindeinsp_ist_prognose_2010_09.csv\n",
      "INFO:log:reading TransnetBW wind mwindeinsp_ist_prognose_2010_10.csv\n",
      "INFO:log:reading TransnetBW wind mwindeinsp_ist_prognose_2010_11.csv\n",
      "INFO:log:reading TransnetBW wind mwindeinsp_ist_prognose_2010_12.csv\n",
      "INFO:log:reading TransnetBW wind mwindeinsp_ist_prognose_2011_01.csv\n",
      "INFO:log:reading TransnetBW wind mwindeinsp_ist_prognose_2011_02.csv\n",
      "INFO:log:reading TransnetBW wind mwindeinsp_ist_prognose_2011_03.csv\n",
      "INFO:log:reading TransnetBW wind mwindeinsp_ist_prognose_2011_04.csv\n",
      "INFO:log:reading TransnetBW wind mwindeinsp_ist_prognose_2011_05.csv\n",
      "INFO:log:reading TransnetBW wind mwindeinsp_ist_prognose_2011_06.csv\n",
      "INFO:log:reading TransnetBW wind mwindeinsp_ist_prognose_2011_07.csv\n",
      "INFO:log:reading TransnetBW wind mwindeinsp_ist_prognose_2011_08.csv\n",
      "INFO:log:reading TransnetBW wind mwindeinsp_ist_prognose_2011_09.csv\n",
      "INFO:log:reading TransnetBW wind mwindeinsp_ist_prognose_2011_10.csv\n",
      "INFO:log:reading TransnetBW wind mwindeinsp_ist_prognose_2011_11.csv\n",
      "INFO:log:reading TransnetBW wind mwindeinsp_ist_prognose_2011_12.csv\n",
      "INFO:log:reading TransnetBW wind mwindeinsp_ist_prognose_2012_01.csv\n",
      "INFO:log:reading TransnetBW wind mwindeinsp_ist_prognose_2012_02.csv\n",
      "INFO:log:reading TransnetBW wind mwindeinsp_ist_prognose_2012_03.csv\n",
      "INFO:log:reading TransnetBW wind mwindeinsp_ist_prognose_2012_04.csv\n",
      "INFO:log:reading TransnetBW wind mwindeinsp_ist_prognose_2012_05.csv\n",
      "INFO:log:reading TransnetBW wind mwindeinsp_ist_prognose_2012_06.csv\n",
      "INFO:log:reading TransnetBW wind mwindeinsp_ist_prognose_2012_07.csv\n",
      "INFO:log:reading TransnetBW wind mwindeinsp_ist_prognose_2012_08.csv\n",
      "INFO:log:reading TransnetBW wind mwindeinsp_ist_prognose_2012_09.csv\n",
      "INFO:log:reading TransnetBW wind mwindeinsp_ist_prognose_2012_10.csv\n",
      "INFO:log:reading TransnetBW wind mwindeinsp_ist_prognose_2012_11.csv\n",
      "INFO:log:reading TransnetBW wind mwindeinsp_ist_prognose_2012_12.csv\n",
      "INFO:log:reading TransnetBW wind mwindeinsp_ist_prognose_2013_01.csv\n",
      "INFO:log:reading TransnetBW wind mwindeinsp_ist_prognose_2013_02.csv\n",
      "INFO:log:reading TransnetBW wind mwindeinsp_ist_prognose_2013_03.csv\n",
      "INFO:log:reading TransnetBW wind mwindeinsp_ist_prognose_2013_04.csv\n",
      "INFO:log:reading TransnetBW wind mwindeinsp_ist_prognose_2013_05.csv\n",
      "INFO:log:reading TransnetBW wind mwindeinsp_ist_prognose_2013_06.csv\n",
      "INFO:log:reading TransnetBW wind mwindeinsp_ist_prognose_2013_07.csv\n",
      "INFO:log:reading TransnetBW wind mwindeinsp_ist_prognose_2013_08.csv\n",
      "INFO:log:reading TransnetBW wind mwindeinsp_ist_prognose_2013_09.csv\n",
      "INFO:log:reading TransnetBW wind mwindeinsp_ist_prognose_2013_10.csv\n",
      "INFO:log:reading TransnetBW wind mwindeinsp_ist_prognose_2013_11.csv\n",
      "INFO:log:reading TransnetBW wind mwindeinsp_ist_prognose_2013_12.csv\n",
      "INFO:log:reading TransnetBW wind mwindeinsp_ist_prognose_2014_01.csv\n",
      "INFO:log:reading TransnetBW wind mwindeinsp_ist_prognose_2014_02.csv\n",
      "INFO:log:reading TransnetBW wind mwindeinsp_ist_prognose_2014_03.csv\n",
      "INFO:log:reading TransnetBW wind mwindeinsp_ist_prognose_2014_04.csv\n",
      "INFO:log:reading TransnetBW wind mwindeinsp_ist_prognose_2014_05.csv\n",
      "INFO:log:reading TransnetBW wind mwindeinsp_ist_prognose_2014_06.csv\n",
      "INFO:log:reading TransnetBW wind mwindeinsp_ist_prognose_2014_07.csv\n",
      "INFO:log:reading TransnetBW wind mwindeinsp_ist_prognose_2014_08.csv\n",
      "INFO:log:reading TransnetBW wind mwindeinsp_ist_prognose_2014_09.csv\n",
      "INFO:log:reading TransnetBW wind mwindeinsp_ist_prognose_2014_10.csv\n",
      "INFO:log:reading TransnetBW wind mwindeinsp_ist_prognose_2014_11.csv\n",
      "INFO:log:reading TransnetBW wind mwindeinsp_ist_prognose_2014_12.csv\n",
      "INFO:log:reading TransnetBW wind mwindeinsp_ist_prognose_2015_01.csv\n",
      "INFO:log:reading TransnetBW wind mwindeinsp_ist_prognose_2015_02.csv\n",
      "INFO:log:reading TransnetBW wind mwindeinsp_ist_prognose_2015_03.csv\n",
      "INFO:log:reading TransnetBW wind mwindeinsp_ist_prognose_2015_04.csv\n",
      "INFO:log:reading TransnetBW wind mwindeinsp_ist_prognose_2015_05.csv\n",
      "INFO:log:reading TransnetBW wind mwindeinsp_ist_prognose_2015_06.csv\n",
      "INFO:log:reading TransnetBW wind mwindeinsp_ist_prognose_2015_07.csv\n",
      "INFO:log:reading TransnetBW wind mwindeinsp_ist_prognose_2015_08.csv\n",
      "INFO:log:reading TransnetBW wind mwindeinsp_ist_prognose_2015_09.csv\n",
      "INFO:log:reading TransnetBW wind mwindeinsp_ist_prognose_2015_10.csv\n",
      "INFO:log:reading TransnetBW wind mwindeinsp_ist_prognose_2015_11.csv\n",
      "INFO:log:reading TransnetBW wind mwindeinsp_ist_prognose_2015_12.csv\n",
      "INFO:log:reading TransnetBW pv msolar_ist_prognose_2011_01.csv\n",
      "INFO:log:reading TransnetBW pv msolar_ist_prognose_2011_02.csv\n",
      "INFO:log:reading TransnetBW pv msolar_ist_prognose_2011_03.csv\n",
      "INFO:log:reading TransnetBW pv msolar_ist_prognose_2011_04.csv\n",
      "INFO:log:reading TransnetBW pv msolar_ist_prognose_2011_05.csv\n",
      "INFO:log:reading TransnetBW pv msolar_ist_prognose_2011_06.csv\n",
      "INFO:log:reading TransnetBW pv msolar_ist_prognose_2011_07.csv\n",
      "INFO:log:reading TransnetBW pv msolar_ist_prognose_2011_08.csv\n",
      "INFO:log:reading TransnetBW pv msolar_ist_prognose_2011_09.csv\n",
      "INFO:log:reading TransnetBW pv msolar_ist_prognose_2011_10.csv\n",
      "INFO:log:reading TransnetBW pv msolar_ist_prognose_2011_11.csv\n",
      "INFO:log:reading TransnetBW pv msolar_ist_prognose_2011_12.csv\n",
      "INFO:log:reading TransnetBW pv msolar_ist_prognose_2012_01.csv\n",
      "INFO:log:reading TransnetBW pv msolar_ist_prognose_2012_02.csv\n",
      "INFO:log:reading TransnetBW pv msolar_ist_prognose_2012_03.csv\n",
      "INFO:log:reading TransnetBW pv msolar_ist_prognose_2012_04.csv\n",
      "INFO:log:reading TransnetBW pv msolar_ist_prognose_2012_05.csv\n",
      "INFO:log:reading TransnetBW pv msolar_ist_prognose_2012_06.csv\n",
      "INFO:log:reading TransnetBW pv msolar_ist_prognose_2012_07.csv\n",
      "INFO:log:reading TransnetBW pv msolar_ist_prognose_2012_08.csv\n",
      "INFO:log:reading TransnetBW pv msolar_ist_prognose_2012_09.csv\n",
      "INFO:log:reading TransnetBW pv msolar_ist_prognose_2012_10.csv\n",
      "INFO:log:reading TransnetBW pv msolar_ist_prognose_2012_11.csv\n",
      "INFO:log:reading TransnetBW pv msolar_ist_prognose_2012_12.csv\n",
      "INFO:log:reading TransnetBW pv msolar_ist_prognose_2013_01.csv\n",
      "INFO:log:reading TransnetBW pv msolar_ist_prognose_2013_02.csv\n",
      "INFO:log:reading TransnetBW pv msolar_ist_prognose_2013_03.csv\n",
      "INFO:log:reading TransnetBW pv msolar_ist_prognose_2013_04.csv\n",
      "INFO:log:reading TransnetBW pv msolar_ist_prognose_2013_05.csv\n",
      "INFO:log:reading TransnetBW pv msolar_ist_prognose_2013_06.csv\n",
      "INFO:log:reading TransnetBW pv msolar_ist_prognose_2013_07.csv\n",
      "INFO:log:reading TransnetBW pv msolar_ist_prognose_2013_08.csv\n",
      "INFO:log:reading TransnetBW pv msolar_ist_prognose_2013_09.csv\n",
      "INFO:log:reading TransnetBW pv msolar_ist_prognose_2013_10.csv\n",
      "INFO:log:reading TransnetBW pv msolar_ist_prognose_2013_11.csv\n",
      "INFO:log:reading TransnetBW pv msolar_ist_prognose_2013_12.csv\n",
      "INFO:log:reading TransnetBW pv msolar_ist_prognose_2014_01.csv\n",
      "INFO:log:reading TransnetBW pv msolar_ist_prognose_2014_02.csv\n",
      "INFO:log:reading TransnetBW pv msolar_ist_prognose_2014_03.csv\n",
      "INFO:log:reading TransnetBW pv msolar_ist_prognose_2014_04.csv\n",
      "INFO:log:reading TransnetBW pv msolar_ist_prognose_2014_05.csv\n",
      "INFO:log:reading TransnetBW pv msolar_ist_prognose_2014_06.csv\n",
      "INFO:log:reading TransnetBW pv msolar_ist_prognose_2014_07.csv\n",
      "INFO:log:reading TransnetBW pv msolar_ist_prognose_2014_08.csv\n",
      "INFO:log:reading TransnetBW pv msolar_ist_prognose_2014_09.csv\n",
      "INFO:log:reading TransnetBW pv msolar_ist_prognose_2014_10.csv\n",
      "INFO:log:reading TransnetBW pv msolar_ist_prognose_2014_11.csv\n",
      "INFO:log:reading TransnetBW pv msolar_ist_prognose_2014_12.csv\n",
      "INFO:log:reading TransnetBW pv msolar_ist_prognose_2015_01.csv\n",
      "INFO:log:reading TransnetBW pv msolar_ist_prognose_2015_02.csv\n",
      "INFO:log:reading TransnetBW pv msolar_ist_prognose_2015_03.csv\n",
      "INFO:log:reading TransnetBW pv msolar_ist_prognose_2015_04.csv\n",
      "INFO:log:reading TransnetBW pv msolar_ist_prognose_2015_05.csv\n",
      "INFO:log:reading TransnetBW pv msolar_ist_prognose_2015_06.csv\n",
      "INFO:log:reading TransnetBW pv msolar_ist_prognose_2015_07.csv\n",
      "INFO:log:reading TransnetBW pv msolar_ist_prognose_2015_08.csv\n",
      "INFO:log:reading TransnetBW pv msolar_ist_prognose_2015_09.csv\n",
      "INFO:log:reading TransnetBW pv msolar_ist_prognose_2015_10.csv\n",
      "INFO:log:reading TransnetBW pv msolar_ist_prognose_2015_11.csv\n",
      "INFO:log:reading TransnetBW pv msolar_ist_prognose_2015_12.csv\n",
      "INFO:log:reading ENTSO-E Data_Portal Statistics.xls\n",
      "INFO:log:reading ENTSO-E Data_Portal Statistics.xls\n"
     ]
    },
    {
     "name": "stdout",
     "output_type": "stream",
     "text": [
      "WARNING *** OLE2 inconsistency: SSCS size is 0 but SSAT size is non-zero\n",
      "WARNING *** OLE2 inconsistency: SSCS size is 0 but SSAT size is non-zero"
     ]
    },
    {
     "name": "stderr",
     "output_type": "stream",
     "text": [
      "INFO:log:reading ENTSO-E Data_Portal Statistics.xls\n"
     ]
    },
    {
     "name": "stdout",
     "output_type": "stream",
     "text": [
      "\n",
      "WARNING *** OLE2 inconsistency: SSCS size is 0 but SSAT size is non-zero"
     ]
    },
    {
     "name": "stderr",
     "output_type": "stream",
     "text": [
      "INFO:log:reading ENTSO-E Data_Portal Statistics.xls\n"
     ]
    },
    {
     "name": "stdout",
     "output_type": "stream",
     "text": [
      "\n",
      "WARNING *** OLE2 inconsistency: SSCS size is 0 but SSAT size is non-zero"
     ]
    },
    {
     "name": "stderr",
     "output_type": "stream",
     "text": [
      "INFO:log:reading ENTSO-E Data_Portal Statistics.xls\n"
     ]
    },
    {
     "name": "stdout",
     "output_type": "stream",
     "text": [
      "\n",
      "WARNING *** OLE2 inconsistency: SSCS size is 0 but SSAT size is non-zero"
     ]
    },
    {
     "name": "stderr",
     "output_type": "stream",
     "text": [
      "INFO:log:reading ENTSO-E Data_Portal Statistics.xls\n"
     ]
    },
    {
     "name": "stdout",
     "output_type": "stream",
     "text": [
      "\n",
      "WARNING *** OLE2 inconsistency: SSCS size is 0 but SSAT size is non-zero"
     ]
    },
    {
     "name": "stderr",
     "output_type": "stream",
     "text": [
      "INFO:log:reading ENTSO-E Data_Portal Statistics.xls\n"
     ]
    },
    {
     "name": "stdout",
     "output_type": "stream",
     "text": [
      "\n",
      "WARNING *** OLE2 inconsistency: SSCS size is 0 but SSAT size is non-zero"
     ]
    },
    {
     "name": "stderr",
     "output_type": "stream",
     "text": [
      "INFO:log:reading ENTSO-E Data_Portal Statistics.xls\n"
     ]
    },
    {
     "name": "stdout",
     "output_type": "stream",
     "text": [
      "\n",
      "WARNING *** OLE2 inconsistency: SSCS size is 0 but SSAT size is non-zero"
     ]
    },
    {
     "name": "stderr",
     "output_type": "stream",
     "text": [
      "INFO:log:reading ENTSO-E Data_Portal Statistics.xls\n"
     ]
    },
    {
     "name": "stdout",
     "output_type": "stream",
     "text": [
      "\n",
      "WARNING *** OLE2 inconsistency: SSCS size is 0 but SSAT size is non-zero"
     ]
    },
    {
     "name": "stderr",
     "output_type": "stream",
     "text": [
      "INFO:log:reading ENTSO-E Data_Portal Statistics.xls\n"
     ]
    },
    {
     "name": "stdout",
     "output_type": "stream",
     "text": [
      "\n",
      "WARNING *** OLE2 inconsistency: SSCS size is 0 but SSAT size is non-zero"
     ]
    },
    {
     "name": "stderr",
     "output_type": "stream",
     "text": [
      "INFO:log:reading ENTSO-E Data_Portal Statistics.xls\n"
     ]
    },
    {
     "name": "stdout",
     "output_type": "stream",
     "text": [
      "\n",
      "WARNING *** OLE2 inconsistency: SSCS size is 0 but SSAT size is non-zero"
     ]
    },
    {
     "name": "stderr",
     "output_type": "stream",
     "text": [
      "INFO:log:reading ENTSO-E Data_Portal Statistics.xls\n"
     ]
    },
    {
     "name": "stdout",
     "output_type": "stream",
     "text": [
      "\n",
      "WARNING *** OLE2 inconsistency: SSCS size is 0 but SSAT size is non-zero"
     ]
    },
    {
     "name": "stderr",
     "output_type": "stream",
     "text": [
      "INFO:log:reading ENTSO-E Data_Portal Statistics.xls\n"
     ]
    },
    {
     "name": "stdout",
     "output_type": "stream",
     "text": [
      "\n",
      "WARNING *** OLE2 inconsistency: SSCS size is 0 but SSAT size is non-zero"
     ]
    },
    {
     "name": "stderr",
     "output_type": "stream",
     "text": [
      "INFO:log:reading ENTSO-E Data_Portal Statistics.xls\n"
     ]
    },
    {
     "name": "stdout",
     "output_type": "stream",
     "text": [
      "\n",
      "WARNING *** OLE2 inconsistency: SSCS size is 0 but SSAT size is non-zero"
     ]
    },
    {
     "name": "stderr",
     "output_type": "stream",
     "text": [
      "INFO:log:reading ENTSO-E Data_Portal Statistics.xls\n"
     ]
    },
    {
     "name": "stdout",
     "output_type": "stream",
     "text": [
      "\n",
      "WARNING *** OLE2 inconsistency: SSCS size is 0 but SSAT size is non-zero"
     ]
    },
    {
     "name": "stderr",
     "output_type": "stream",
     "text": [
      "INFO:log:reading ENTSO-E Data_Portal Statistics.xls\n"
     ]
    },
    {
     "name": "stdout",
     "output_type": "stream",
     "text": [
      "\n",
      "WARNING *** OLE2 inconsistency: SSCS size is 0 but SSAT size is non-zero"
     ]
    },
    {
     "name": "stderr",
     "output_type": "stream",
     "text": [
      "INFO:log:reading ENTSO-E Data_Portal Statistics.xls\n"
     ]
    },
    {
     "name": "stdout",
     "output_type": "stream",
     "text": [
      "\n",
      "WARNING *** OLE2 inconsistency: SSCS size is 0 but SSAT size is non-zero"
     ]
    },
    {
     "name": "stderr",
     "output_type": "stream",
     "text": [
      "INFO:log:reading ENTSO-E Data_Portal Statistics.xls\n"
     ]
    },
    {
     "name": "stdout",
     "output_type": "stream",
     "text": [
      "\n",
      "WARNING *** OLE2 inconsistency: SSCS size is 0 but SSAT size is non-zero"
     ]
    },
    {
     "name": "stderr",
     "output_type": "stream",
     "text": [
      "INFO:log:reading ENTSO-E Data_Portal Statistics.xls\n"
     ]
    },
    {
     "name": "stdout",
     "output_type": "stream",
     "text": [
      "\n",
      "WARNING *** OLE2 inconsistency: SSCS size is 0 but SSAT size is non-zero"
     ]
    },
    {
     "name": "stderr",
     "output_type": "stream",
     "text": [
      "INFO:log:reading ENTSO-E Data_Portal Statistics.xls\n"
     ]
    },
    {
     "name": "stdout",
     "output_type": "stream",
     "text": [
      "\n",
      "WARNING *** OLE2 inconsistency: SSCS size is 0 but SSAT size is non-zero"
     ]
    },
    {
     "name": "stderr",
     "output_type": "stream",
     "text": [
      "INFO:log:reading ENTSO-E Data_Portal Statistics.xls\n"
     ]
    },
    {
     "name": "stdout",
     "output_type": "stream",
     "text": [
      "\n",
      "WARNING *** OLE2 inconsistency: SSCS size is 0 but SSAT size is non-zero"
     ]
    },
    {
     "name": "stderr",
     "output_type": "stream",
     "text": [
      "INFO:log:reading ENTSO-E Data_Portal Statistics.xls\n"
     ]
    },
    {
     "name": "stdout",
     "output_type": "stream",
     "text": [
      "\n",
      "WARNING *** OLE2 inconsistency: SSCS size is 0 but SSAT size is non-zero"
     ]
    },
    {
     "name": "stderr",
     "output_type": "stream",
     "text": [
      "INFO:log:reading ENTSO-E Data_Portal Statistics.xls\n"
     ]
    },
    {
     "name": "stdout",
     "output_type": "stream",
     "text": [
      "\n",
      "WARNING *** OLE2 inconsistency: SSCS size is 0 but SSAT size is non-zero"
     ]
    },
    {
     "name": "stderr",
     "output_type": "stream",
     "text": [
      "INFO:log:reading ENTSO-E Data_Portal Statistics.xls\n"
     ]
    },
    {
     "name": "stdout",
     "output_type": "stream",
     "text": [
      "\n",
      "WARNING *** OLE2 inconsistency: SSCS size is 0 but SSAT size is non-zero"
     ]
    },
    {
     "name": "stderr",
     "output_type": "stream",
     "text": [
      "INFO:log:reading ENTSO-E Data_Portal Statistics.xls\n"
     ]
    },
    {
     "name": "stdout",
     "output_type": "stream",
     "text": [
      "\n",
      "WARNING *** OLE2 inconsistency: SSCS size is 0 but SSAT size is non-zero"
     ]
    },
    {
     "name": "stderr",
     "output_type": "stream",
     "text": [
      "INFO:log:reading ENTSO-E Data_Portal Statistics.xls\n"
     ]
    },
    {
     "name": "stdout",
     "output_type": "stream",
     "text": [
      "\n",
      "WARNING *** OLE2 inconsistency: SSCS size is 0 but SSAT size is non-zero"
     ]
    },
    {
     "name": "stderr",
     "output_type": "stream",
     "text": [
      "INFO:log:reading ENTSO-E Data_Portal Statistics.xls\n"
     ]
    },
    {
     "name": "stdout",
     "output_type": "stream",
     "text": [
      "\n",
      "WARNING *** OLE2 inconsistency: SSCS size is 0 but SSAT size is non-zero"
     ]
    },
    {
     "name": "stderr",
     "output_type": "stream",
     "text": [
      "INFO:log:reading ENTSO-E Data_Portal Statistics.xls\n"
     ]
    },
    {
     "name": "stdout",
     "output_type": "stream",
     "text": [
      "\n",
      "WARNING *** OLE2 inconsistency: SSCS size is 0 but SSAT size is non-zero"
     ]
    },
    {
     "name": "stderr",
     "output_type": "stream",
     "text": [
      "INFO:log:reading ENTSO-E Data_Portal Statistics.xls\n"
     ]
    },
    {
     "name": "stdout",
     "output_type": "stream",
     "text": [
      "\n",
      "WARNING *** OLE2 inconsistency: SSCS size is 0 but SSAT size is non-zero"
     ]
    },
    {
     "name": "stderr",
     "output_type": "stream",
     "text": [
      "INFO:log:reading ENTSO-E Data_Portal Statistics.xls\n"
     ]
    },
    {
     "name": "stdout",
     "output_type": "stream",
     "text": [
      "\n",
      "WARNING *** OLE2 inconsistency: SSCS size is 0 but SSAT size is non-zero"
     ]
    },
    {
     "name": "stderr",
     "output_type": "stream",
     "text": [
      "INFO:log:reading ENTSO-E Data_Portal Statistics.xls\n"
     ]
    },
    {
     "name": "stdout",
     "output_type": "stream",
     "text": [
      "\n",
      "WARNING *** OLE2 inconsistency: SSCS size is 0 but SSAT size is non-zero"
     ]
    },
    {
     "name": "stderr",
     "output_type": "stream",
     "text": [
      "INFO:log:reading ENTSO-E Data_Portal Statistics.xls\n"
     ]
    },
    {
     "name": "stdout",
     "output_type": "stream",
     "text": [
      "\n",
      "WARNING *** OLE2 inconsistency: SSCS size is 0 but SSAT size is non-zero"
     ]
    },
    {
     "name": "stderr",
     "output_type": "stream",
     "text": [
      "INFO:log:reading ENTSO-E Data_Portal Statistics.xls\n"
     ]
    },
    {
     "name": "stdout",
     "output_type": "stream",
     "text": [
      "\n",
      "WARNING *** OLE2 inconsistency: SSCS size is 0 but SSAT size is non-zero"
     ]
    },
    {
     "name": "stderr",
     "output_type": "stream",
     "text": [
      "INFO:log:reading ENTSO-E Data_Portal Statistics.xls\n"
     ]
    },
    {
     "name": "stdout",
     "output_type": "stream",
     "text": [
      "\n",
      "WARNING *** OLE2 inconsistency: SSCS size is 0 but SSAT size is non-zero"
     ]
    },
    {
     "name": "stderr",
     "output_type": "stream",
     "text": [
      "INFO:log:reading ENTSO-E Data_Portal Statistics.xls\n"
     ]
    },
    {
     "name": "stdout",
     "output_type": "stream",
     "text": [
      "\n",
      "WARNING *** OLE2 inconsistency: SSCS size is 0 but SSAT size is non-zero"
     ]
    },
    {
     "name": "stderr",
     "output_type": "stream",
     "text": [
      "INFO:log:reading ENTSO-E Data_Portal Statistics.xls\n"
     ]
    },
    {
     "name": "stdout",
     "output_type": "stream",
     "text": [
      "\n",
      "WARNING *** OLE2 inconsistency: SSCS size is 0 but SSAT size is non-zero"
     ]
    },
    {
     "name": "stderr",
     "output_type": "stream",
     "text": [
      "INFO:log:reading ENTSO-E Data_Portal Statistics.xls\n"
     ]
    },
    {
     "name": "stdout",
     "output_type": "stream",
     "text": [
      "\n",
      "WARNING *** OLE2 inconsistency: SSCS size is 0 but SSAT size is non-zero"
     ]
    },
    {
     "name": "stderr",
     "output_type": "stream",
     "text": [
      "INFO:log:reading ENTSO-E Data_Portal Statistics.xls\n"
     ]
    },
    {
     "name": "stdout",
     "output_type": "stream",
     "text": [
      "\n",
      "WARNING *** OLE2 inconsistency: SSCS size is 0 but SSAT size is non-zero"
     ]
    },
    {
     "name": "stderr",
     "output_type": "stream",
     "text": [
      "INFO:log:reading ENTSO-E Data_Portal Statistics.xls\n"
     ]
    },
    {
     "name": "stdout",
     "output_type": "stream",
     "text": [
      "\n",
      "WARNING *** OLE2 inconsistency: SSCS size is 0 but SSAT size is non-zero"
     ]
    },
    {
     "name": "stderr",
     "output_type": "stream",
     "text": [
      "INFO:log:reading ENTSO-E Data_Portal Statistics.xls\n"
     ]
    },
    {
     "name": "stdout",
     "output_type": "stream",
     "text": [
      "\n",
      "WARNING *** OLE2 inconsistency: SSCS size is 0 but SSAT size is non-zero"
     ]
    },
    {
     "name": "stderr",
     "output_type": "stream",
     "text": [
      "INFO:log:reading ENTSO-E Data_Portal Statistics.xls\n"
     ]
    },
    {
     "name": "stdout",
     "output_type": "stream",
     "text": [
      "\n",
      "WARNING *** OLE2 inconsistency: SSCS size is 0 but SSAT size is non-zero"
     ]
    },
    {
     "name": "stderr",
     "output_type": "stream",
     "text": [
      "INFO:log:reading ENTSO-E Data_Portal Statistics.xls\n"
     ]
    },
    {
     "name": "stdout",
     "output_type": "stream",
     "text": [
      "\n",
      "WARNING *** OLE2 inconsistency: SSCS size is 0 but SSAT size is non-zero"
     ]
    },
    {
     "name": "stderr",
     "output_type": "stream",
     "text": [
      "INFO:log:reading ENTSO-E Data_Portal Statistics.xls\n"
     ]
    },
    {
     "name": "stdout",
     "output_type": "stream",
     "text": [
      "\n",
      "WARNING *** OLE2 inconsistency: SSCS size is 0 but SSAT size is non-zero"
     ]
    },
    {
     "name": "stderr",
     "output_type": "stream",
     "text": [
      "INFO:log:reading ENTSO-E Data_Portal Statistics.xls\n"
     ]
    },
    {
     "name": "stdout",
     "output_type": "stream",
     "text": [
      "\n",
      "WARNING *** OLE2 inconsistency: SSCS size is 0 but SSAT size is non-zero"
     ]
    },
    {
     "name": "stderr",
     "output_type": "stream",
     "text": [
      "INFO:log:reading ENTSO-E Data_Portal Statistics.xls\n"
     ]
    },
    {
     "name": "stdout",
     "output_type": "stream",
     "text": [
      "\n",
      "WARNING *** OLE2 inconsistency: SSCS size is 0 but SSAT size is non-zero"
     ]
    },
    {
     "name": "stderr",
     "output_type": "stream",
     "text": [
      "INFO:log:reading ENTSO-E Data_Portal Statistics.xls\n"
     ]
    },
    {
     "name": "stdout",
     "output_type": "stream",
     "text": [
      "\n",
      "WARNING *** OLE2 inconsistency: SSCS size is 0 but SSAT size is non-zero"
     ]
    },
    {
     "name": "stderr",
     "output_type": "stream",
     "text": [
      "INFO:log:reading ENTSO-E Data_Portal Statistics.xls\n"
     ]
    },
    {
     "name": "stdout",
     "output_type": "stream",
     "text": [
      "\n",
      "WARNING *** OLE2 inconsistency: SSCS size is 0 but SSAT size is non-zero"
     ]
    },
    {
     "name": "stderr",
     "output_type": "stream",
     "text": [
      "INFO:log:reading ENTSO-E Data_Portal Statistics.xls\n"
     ]
    },
    {
     "name": "stdout",
     "output_type": "stream",
     "text": [
      "\n",
      "WARNING *** OLE2 inconsistency: SSCS size is 0 but SSAT size is non-zero"
     ]
    },
    {
     "name": "stderr",
     "output_type": "stream",
     "text": [
      "INFO:log:reading ENTSO-E Data_Portal Statistics.xls\n"
     ]
    },
    {
     "name": "stdout",
     "output_type": "stream",
     "text": [
      "\n",
      "WARNING *** OLE2 inconsistency: SSCS size is 0 but SSAT size is non-zero"
     ]
    },
    {
     "name": "stderr",
     "output_type": "stream",
     "text": [
      "INFO:log:reading ENTSO-E Data_Portal Statistics.xls\n"
     ]
    },
    {
     "name": "stdout",
     "output_type": "stream",
     "text": [
      "\n",
      "WARNING *** OLE2 inconsistency: SSCS size is 0 but SSAT size is non-zero"
     ]
    },
    {
     "name": "stderr",
     "output_type": "stream",
     "text": [
      "INFO:log:reading ENTSO-E Data_Portal Statistics.xls\n"
     ]
    },
    {
     "name": "stdout",
     "output_type": "stream",
     "text": [
      "\n",
      "WARNING *** OLE2 inconsistency: SSCS size is 0 but SSAT size is non-zero"
     ]
    },
    {
     "name": "stderr",
     "output_type": "stream",
     "text": [
      "INFO:log:reading ENTSO-E Data_Portal Statistics.xls\n"
     ]
    },
    {
     "name": "stdout",
     "output_type": "stream",
     "text": [
      "\n",
      "WARNING *** OLE2 inconsistency: SSCS size is 0 but SSAT size is non-zero"
     ]
    },
    {
     "name": "stderr",
     "output_type": "stream",
     "text": [
      "INFO:log:reading ENTSO-E Data_Portal Statistics.xls\n"
     ]
    },
    {
     "name": "stdout",
     "output_type": "stream",
     "text": [
      "\n",
      "WARNING *** OLE2 inconsistency: SSCS size is 0 but SSAT size is non-zero"
     ]
    },
    {
     "name": "stderr",
     "output_type": "stream",
     "text": [
      "INFO:log:reading ENTSO-E Data_Portal Statistics.xls\n"
     ]
    },
    {
     "name": "stdout",
     "output_type": "stream",
     "text": [
      "\n",
      "WARNING *** OLE2 inconsistency: SSCS size is 0 but SSAT size is non-zero"
     ]
    },
    {
     "name": "stderr",
     "output_type": "stream",
     "text": [
      "INFO:log:reading ENTSO-E Data_Portal Statistics.xls\n"
     ]
    },
    {
     "name": "stdout",
     "output_type": "stream",
     "text": [
      "\n",
      "WARNING *** OLE2 inconsistency: SSCS size is 0 but SSAT size is non-zero"
     ]
    },
    {
     "name": "stderr",
     "output_type": "stream",
     "text": [
      "INFO:log:reading ENTSO-E Data_Portal Statistics.xls\n"
     ]
    },
    {
     "name": "stdout",
     "output_type": "stream",
     "text": [
      "\n",
      "WARNING *** OLE2 inconsistency: SSCS size is 0 but SSAT size is non-zero"
     ]
    },
    {
     "name": "stderr",
     "output_type": "stream",
     "text": [
      "INFO:log:reading ENTSO-E Data_Portal Statistics.xls\n"
     ]
    },
    {
     "name": "stdout",
     "output_type": "stream",
     "text": [
      "\n",
      "WARNING *** OLE2 inconsistency: SSCS size is 0 but SSAT size is non-zero"
     ]
    },
    {
     "name": "stderr",
     "output_type": "stream",
     "text": [
      "INFO:log:reading ENTSO-E Data_Portal Statistics.xls\n"
     ]
    },
    {
     "name": "stdout",
     "output_type": "stream",
     "text": [
      "\n",
      "WARNING *** OLE2 inconsistency: SSCS size is 0 but SSAT size is non-zero"
     ]
    },
    {
     "name": "stderr",
     "output_type": "stream",
     "text": [
      "INFO:log:reading ENTSO-E Data_Portal Statistics.xls\n"
     ]
    },
    {
     "name": "stdout",
     "output_type": "stream",
     "text": [
      "\n",
      "WARNING *** OLE2 inconsistency: SSCS size is 0 but SSAT size is non-zero"
     ]
    },
    {
     "name": "stderr",
     "output_type": "stream",
     "text": [
      "INFO:log:reading ENTSO-E Data_Portal Statistics.xls\n"
     ]
    },
    {
     "name": "stdout",
     "output_type": "stream",
     "text": [
      "\n",
      "WARNING *** OLE2 inconsistency: SSCS size is 0 but SSAT size is non-zero"
     ]
    },
    {
     "name": "stderr",
     "output_type": "stream",
     "text": [
      "INFO:log:reading ENTSO-E Data_Portal Statistics.xls\n"
     ]
    },
    {
     "name": "stdout",
     "output_type": "stream",
     "text": [
      "\n",
      "WARNING *** OLE2 inconsistency: SSCS size is 0 but SSAT size is non-zero"
     ]
    },
    {
     "name": "stderr",
     "output_type": "stream",
     "text": [
      "INFO:log:reading ENTSO-E Data_Portal Statistics.xls\n"
     ]
    },
    {
     "name": "stdout",
     "output_type": "stream",
     "text": [
      "\n",
      "WARNING *** OLE2 inconsistency: SSCS size is 0 but SSAT size is non-zero"
     ]
    },
    {
     "name": "stderr",
     "output_type": "stream",
     "text": [
      "INFO:log:reading ENTSO-E Data_Portal Statistics.xls\n"
     ]
    },
    {
     "name": "stdout",
     "output_type": "stream",
     "text": [
      "\n",
      "WARNING *** OLE2 inconsistency: SSCS size is 0 but SSAT size is non-zero"
     ]
    },
    {
     "name": "stderr",
     "output_type": "stream",
     "text": [
      "INFO:log:reading ENTSO-E Data_Portal Statistics.xls\n"
     ]
    },
    {
     "name": "stdout",
     "output_type": "stream",
     "text": [
      "\n",
      "WARNING *** OLE2 inconsistency: SSCS size is 0 but SSAT size is non-zero"
     ]
    },
    {
     "name": "stderr",
     "output_type": "stream",
     "text": [
      "INFO:log:reading ENTSO-E Data_Portal Statistics.xls\n"
     ]
    },
    {
     "name": "stdout",
     "output_type": "stream",
     "text": [
      "\n",
      "WARNING *** OLE2 inconsistency: SSCS size is 0 but SSAT size is non-zero"
     ]
    },
    {
     "name": "stderr",
     "output_type": "stream",
     "text": [
      "INFO:log:reading ENTSO-E Data_Portal Statistics.xls\n"
     ]
    },
    {
     "name": "stdout",
     "output_type": "stream",
     "text": [
      "\n",
      "WARNING *** OLE2 inconsistency: SSCS size is 0 but SSAT size is non-zero"
     ]
    },
    {
     "name": "stderr",
     "output_type": "stream",
     "text": [
      "INFO:log:reading ENTSO-E Data_Portal Statistics.xls\n"
     ]
    },
    {
     "name": "stdout",
     "output_type": "stream",
     "text": [
      "\n",
      "WARNING *** OLE2 inconsistency: SSCS size is 0 but SSAT size is non-zero"
     ]
    },
    {
     "name": "stderr",
     "output_type": "stream",
     "text": [
      "INFO:log:reading ENTSO-E Data_Portal Statistics.xls\n"
     ]
    },
    {
     "name": "stdout",
     "output_type": "stream",
     "text": [
      "\n",
      "WARNING *** OLE2 inconsistency: SSCS size is 0 but SSAT size is non-zero"
     ]
    },
    {
     "name": "stderr",
     "output_type": "stream",
     "text": [
      "INFO:log:reading ENTSO-E Data_Portal Statistics.xls\n"
     ]
    },
    {
     "name": "stdout",
     "output_type": "stream",
     "text": [
      "\n",
      "WARNING *** OLE2 inconsistency: SSCS size is 0 but SSAT size is non-zero"
     ]
    },
    {
     "name": "stderr",
     "output_type": "stream",
     "text": [
      "INFO:log:reading ENTSO-E Data_Portal Statistics.xls\n"
     ]
    },
    {
     "name": "stdout",
     "output_type": "stream",
     "text": [
      "\n",
      "WARNING *** OLE2 inconsistency: SSCS size is 0 but SSAT size is non-zero"
     ]
    },
    {
     "name": "stderr",
     "output_type": "stream",
     "text": [
      "INFO:log:reading ENTSO-E Data_Portal Statistics.xls\n"
     ]
    },
    {
     "name": "stdout",
     "output_type": "stream",
     "text": [
      "\n",
      "WARNING *** OLE2 inconsistency: SSCS size is 0 but SSAT size is non-zero"
     ]
    },
    {
     "name": "stderr",
     "output_type": "stream",
     "text": [
      "INFO:log:reading ENTSO-E Data_Portal Statistics.xls\n"
     ]
    },
    {
     "name": "stdout",
     "output_type": "stream",
     "text": [
      "\n",
      "WARNING *** OLE2 inconsistency: SSCS size is 0 but SSAT size is non-zero"
     ]
    },
    {
     "name": "stderr",
     "output_type": "stream",
     "text": [
      "INFO:log:reading ENTSO-E Data_Portal Statistics.xls\n"
     ]
    },
    {
     "name": "stdout",
     "output_type": "stream",
     "text": [
      "\n",
      "WARNING *** OLE2 inconsistency: SSCS size is 0 but SSAT size is non-zero"
     ]
    },
    {
     "name": "stderr",
     "output_type": "stream",
     "text": [
      "INFO:log:reading ENTSO-E Data_Portal Statistics.xls\n"
     ]
    },
    {
     "name": "stdout",
     "output_type": "stream",
     "text": [
      "\n",
      "WARNING *** OLE2 inconsistency: SSCS size is 0 but SSAT size is non-zero"
     ]
    },
    {
     "name": "stderr",
     "output_type": "stream",
     "text": [
      "INFO:log:reading ENTSO-E Data_Portal Statistics.xls\n"
     ]
    },
    {
     "name": "stdout",
     "output_type": "stream",
     "text": [
      "\n",
      "WARNING *** OLE2 inconsistency: SSCS size is 0 but SSAT size is non-zero"
     ]
    },
    {
     "name": "stderr",
     "output_type": "stream",
     "text": [
      "INFO:log:reading ENTSO-E Data_Portal Statistics.xls\n"
     ]
    },
    {
     "name": "stdout",
     "output_type": "stream",
     "text": [
      "\n",
      "WARNING *** OLE2 inconsistency: SSCS size is 0 but SSAT size is non-zero"
     ]
    },
    {
     "name": "stderr",
     "output_type": "stream",
     "text": [
      "INFO:log:reading ENTSO-E Data_Portal Statistics.xls\n"
     ]
    },
    {
     "name": "stdout",
     "output_type": "stream",
     "text": [
      "\n",
      "WARNING *** OLE2 inconsistency: SSCS size is 0 but SSAT size is non-zero"
     ]
    },
    {
     "name": "stderr",
     "output_type": "stream",
     "text": [
      "INFO:log:reading ENTSO-E Data_Portal Statistics.xls\n"
     ]
    },
    {
     "name": "stdout",
     "output_type": "stream",
     "text": [
      "\n",
      "WARNING *** OLE2 inconsistency: SSCS size is 0 but SSAT size is non-zero"
     ]
    },
    {
     "name": "stderr",
     "output_type": "stream",
     "text": [
      "INFO:log:reading ENTSO-E Data_Portal Statistics.xls\n"
     ]
    },
    {
     "name": "stdout",
     "output_type": "stream",
     "text": [
      "\n",
      "WARNING *** OLE2 inconsistency: SSCS size is 0 but SSAT size is non-zero"
     ]
    },
    {
     "name": "stderr",
     "output_type": "stream",
     "text": [
      "INFO:log:reading ENTSO-E Data_Portal Statistics.xls\n"
     ]
    },
    {
     "name": "stdout",
     "output_type": "stream",
     "text": [
      "\n",
      "WARNING *** OLE2 inconsistency: SSCS size is 0 but SSAT size is non-zero"
     ]
    },
    {
     "name": "stderr",
     "output_type": "stream",
     "text": [
      "INFO:log:reading ENTSO-E Data_Portal Statistics.xls\n"
     ]
    },
    {
     "name": "stdout",
     "output_type": "stream",
     "text": [
      "\n",
      "WARNING *** OLE2 inconsistency: SSCS size is 0 but SSAT size is non-zero"
     ]
    },
    {
     "name": "stderr",
     "output_type": "stream",
     "text": [
      "INFO:log:reading ENTSO-E Data_Portal Statistics.xls\n"
     ]
    },
    {
     "name": "stdout",
     "output_type": "stream",
     "text": [
      "\n",
      "WARNING *** OLE2 inconsistency: SSCS size is 0 but SSAT size is non-zero"
     ]
    },
    {
     "name": "stderr",
     "output_type": "stream",
     "text": [
      "INFO:log:reading ENTSO-E Data_Portal Statistics.xls\n"
     ]
    },
    {
     "name": "stdout",
     "output_type": "stream",
     "text": [
      "\n",
      "WARNING *** OLE2 inconsistency: SSCS size is 0 but SSAT size is non-zero"
     ]
    },
    {
     "name": "stderr",
     "output_type": "stream",
     "text": [
      "INFO:log:reading ENTSO-E Data_Portal Statistics.xls\n"
     ]
    },
    {
     "name": "stdout",
     "output_type": "stream",
     "text": [
      "\n",
      "WARNING *** OLE2 inconsistency: SSCS size is 0 but SSAT size is non-zero"
     ]
    },
    {
     "name": "stderr",
     "output_type": "stream",
     "text": [
      "INFO:log:reading ENTSO-E Data_Portal Statistics.xls\n"
     ]
    },
    {
     "name": "stdout",
     "output_type": "stream",
     "text": [
      "\n",
      "WARNING *** OLE2 inconsistency: SSCS size is 0 but SSAT size is non-zero"
     ]
    },
    {
     "name": "stderr",
     "output_type": "stream",
     "text": [
      "INFO:log:reading ENTSO-E Data_Portal Statistics.xls\n"
     ]
    },
    {
     "name": "stdout",
     "output_type": "stream",
     "text": [
      "\n",
      "WARNING *** OLE2 inconsistency: SSCS size is 0 but SSAT size is non-zero"
     ]
    },
    {
     "name": "stderr",
     "output_type": "stream",
     "text": [
      "INFO:log:reading ENTSO-E Data_Portal Statistics.xls\n"
     ]
    },
    {
     "name": "stdout",
     "output_type": "stream",
     "text": [
      "\n",
      "WARNING *** OLE2 inconsistency: SSCS size is 0 but SSAT size is non-zero"
     ]
    },
    {
     "name": "stderr",
     "output_type": "stream",
     "text": [
      "INFO:log:reading ENTSO-E Data_Portal Statistics.xls\n"
     ]
    },
    {
     "name": "stdout",
     "output_type": "stream",
     "text": [
      "\n",
      "WARNING *** OLE2 inconsistency: SSCS size is 0 but SSAT size is non-zero"
     ]
    },
    {
     "name": "stderr",
     "output_type": "stream",
     "text": [
      "INFO:log:reading ENTSO-E Data_Portal Statistics.xls\n"
     ]
    },
    {
     "name": "stdout",
     "output_type": "stream",
     "text": [
      "\n",
      "WARNING *** OLE2 inconsistency: SSCS size is 0 but SSAT size is non-zero"
     ]
    },
    {
     "name": "stderr",
     "output_type": "stream",
     "text": [
      "INFO:log:reading ENTSO-E Data_Portal Statistics.xls\n"
     ]
    },
    {
     "name": "stdout",
     "output_type": "stream",
     "text": [
      "\n",
      "WARNING *** OLE2 inconsistency: SSCS size is 0 but SSAT size is non-zero"
     ]
    },
    {
     "name": "stderr",
     "output_type": "stream",
     "text": [
      "INFO:log:reading ENTSO-E Data_Portal Statistics.xls\n"
     ]
    },
    {
     "name": "stdout",
     "output_type": "stream",
     "text": [
      "\n",
      "WARNING *** OLE2 inconsistency: SSCS size is 0 but SSAT size is non-zero"
     ]
    },
    {
     "name": "stderr",
     "output_type": "stream",
     "text": [
      "INFO:log:reading ENTSO-E Data_Portal Statistics.xls\n"
     ]
    },
    {
     "name": "stdout",
     "output_type": "stream",
     "text": [
      "\n",
      "WARNING *** OLE2 inconsistency: SSCS size is 0 but SSAT size is non-zero"
     ]
    },
    {
     "name": "stderr",
     "output_type": "stream",
     "text": [
      "INFO:log:reading ENTSO-E Data_Portal Statistics.xls\n"
     ]
    },
    {
     "name": "stdout",
     "output_type": "stream",
     "text": [
      "\n",
      "WARNING *** OLE2 inconsistency: SSCS size is 0 but SSAT size is non-zero"
     ]
    },
    {
     "name": "stderr",
     "output_type": "stream",
     "text": [
      "INFO:log:reading ENTSO-E Data_Portal Statistics.xls\n"
     ]
    },
    {
     "name": "stdout",
     "output_type": "stream",
     "text": [
      "\n",
      "WARNING *** OLE2 inconsistency: SSCS size is 0 but SSAT size is non-zero"
     ]
    },
    {
     "name": "stderr",
     "output_type": "stream",
     "text": [
      "INFO:log:reading ENTSO-E Data_Portal Statistics.xls\n"
     ]
    },
    {
     "name": "stdout",
     "output_type": "stream",
     "text": [
      "\n",
      "WARNING *** OLE2 inconsistency: SSCS size is 0 but SSAT size is non-zero"
     ]
    },
    {
     "name": "stderr",
     "output_type": "stream",
     "text": [
      "INFO:log:reading ENTSO-E Data_Portal Statistics.xls\n"
     ]
    },
    {
     "name": "stdout",
     "output_type": "stream",
     "text": [
      "\n",
      "WARNING *** OLE2 inconsistency: SSCS size is 0 but SSAT size is non-zero"
     ]
    },
    {
     "name": "stderr",
     "output_type": "stream",
     "text": [
      "INFO:log:reading ENTSO-E Data_Portal Statistics.xls\n"
     ]
    },
    {
     "name": "stdout",
     "output_type": "stream",
     "text": [
      "\n",
      "WARNING *** OLE2 inconsistency: SSCS size is 0 but SSAT size is non-zero"
     ]
    },
    {
     "name": "stderr",
     "output_type": "stream",
     "text": [
      "INFO:log:reading ENTSO-E Data_Portal Statistics.xls\n"
     ]
    },
    {
     "name": "stdout",
     "output_type": "stream",
     "text": [
      "\n",
      "WARNING *** OLE2 inconsistency: SSCS size is 0 but SSAT size is non-zero"
     ]
    },
    {
     "name": "stderr",
     "output_type": "stream",
     "text": [
      "INFO:log:reading ENTSO-E Data_Portal Statistics.xls\n"
     ]
    },
    {
     "name": "stdout",
     "output_type": "stream",
     "text": [
      "\n",
      "WARNING *** OLE2 inconsistency: SSCS size is 0 but SSAT size is non-zero"
     ]
    },
    {
     "name": "stderr",
     "output_type": "stream",
     "text": [
      "INFO:log:reading ENTSO-E Data_Portal Statistics.xls\n"
     ]
    },
    {
     "name": "stdout",
     "output_type": "stream",
     "text": [
      "\n",
      "WARNING *** OLE2 inconsistency: SSCS size is 0 but SSAT size is non-zero"
     ]
    },
    {
     "name": "stderr",
     "output_type": "stream",
     "text": [
      "INFO:log:reading ENTSO-E Data_Portal Statistics.xls\n"
     ]
    },
    {
     "name": "stdout",
     "output_type": "stream",
     "text": [
      "\n",
      "WARNING *** OLE2 inconsistency: SSCS size is 0 but SSAT size is non-zero"
     ]
    },
    {
     "name": "stderr",
     "output_type": "stream",
     "text": [
      "INFO:log:reading ENTSO-E Data_Portal Statistics.xls\n"
     ]
    },
    {
     "name": "stdout",
     "output_type": "stream",
     "text": [
      "\n",
      "WARNING *** OLE2 inconsistency: SSCS size is 0 but SSAT size is non-zero"
     ]
    },
    {
     "name": "stderr",
     "output_type": "stream",
     "text": [
      "INFO:log:reading ENTSO-E Data_Portal Statistics.xls\n"
     ]
    },
    {
     "name": "stdout",
     "output_type": "stream",
     "text": [
      "\n",
      "WARNING *** OLE2 inconsistency: SSCS size is 0 but SSAT size is non-zero"
     ]
    },
    {
     "name": "stderr",
     "output_type": "stream",
     "text": [
      "INFO:log:reading ENTSO-E Data_Portal Statistics.xls\n"
     ]
    },
    {
     "name": "stdout",
     "output_type": "stream",
     "text": [
      "\n",
      "WARNING *** OLE2 inconsistency: SSCS size is 0 but SSAT size is non-zero"
     ]
    },
    {
     "name": "stderr",
     "output_type": "stream",
     "text": [
      "INFO:log:reading ENTSO-E Data_Portal Statistics.xls\n"
     ]
    },
    {
     "name": "stdout",
     "output_type": "stream",
     "text": [
      "\n",
      "WARNING *** OLE2 inconsistency: SSCS size is 0 but SSAT size is non-zero"
     ]
    },
    {
     "name": "stderr",
     "output_type": "stream",
     "text": [
      "INFO:log:reading ENTSO-E Data_Portal Statistics.xls\n"
     ]
    },
    {
     "name": "stdout",
     "output_type": "stream",
     "text": [
      "\n",
      "WARNING *** OLE2 inconsistency: SSCS size is 0 but SSAT size is non-zero"
     ]
    },
    {
     "name": "stderr",
     "output_type": "stream",
     "text": [
      "INFO:log:reading ENTSO-E Data_Portal Statistics.xls\n"
     ]
    },
    {
     "name": "stdout",
     "output_type": "stream",
     "text": [
      "\n",
      "WARNING *** OLE2 inconsistency: SSCS size is 0 but SSAT size is non-zero"
     ]
    },
    {
     "name": "stderr",
     "output_type": "stream",
     "text": [
      "INFO:log:reading ENTSO-E Data_Portal Statistics.xls\n"
     ]
    },
    {
     "name": "stdout",
     "output_type": "stream",
     "text": [
      "\n",
      "WARNING *** OLE2 inconsistency: SSCS size is 0 but SSAT size is non-zero"
     ]
    },
    {
     "name": "stderr",
     "output_type": "stream",
     "text": [
      "INFO:log:reading ENTSO-E Data_Portal Statistics.xls\n"
     ]
    },
    {
     "name": "stdout",
     "output_type": "stream",
     "text": [
      "\n",
      "WARNING *** OLE2 inconsistency: SSCS size is 0 but SSAT size is non-zero"
     ]
    },
    {
     "name": "stderr",
     "output_type": "stream",
     "text": [
      "INFO:log:reading ENTSO-E Data_Portal Statistics.xls\n"
     ]
    },
    {
     "name": "stdout",
     "output_type": "stream",
     "text": [
      "\n",
      "WARNING *** OLE2 inconsistency: SSCS size is 0 but SSAT size is non-zero"
     ]
    },
    {
     "name": "stderr",
     "output_type": "stream",
     "text": [
      "INFO:log:reading ENTSO-E Data_Portal Statistics.xls\n"
     ]
    },
    {
     "name": "stdout",
     "output_type": "stream",
     "text": [
      "\n",
      "WARNING *** OLE2 inconsistency: SSCS size is 0 but SSAT size is non-zero"
     ]
    },
    {
     "name": "stderr",
     "output_type": "stream",
     "text": [
      "INFO:log:reading ENTSO-E Data_Portal Statistics.xls\n"
     ]
    },
    {
     "name": "stdout",
     "output_type": "stream",
     "text": [
      "\n",
      "WARNING *** OLE2 inconsistency: SSCS size is 0 but SSAT size is non-zero"
     ]
    },
    {
     "name": "stderr",
     "output_type": "stream",
     "text": [
      "INFO:log:reading ENTSO-E Data_Portal Statistics.xls\n"
     ]
    },
    {
     "name": "stdout",
     "output_type": "stream",
     "text": [
      "\n",
      "WARNING *** OLE2 inconsistency: SSCS size is 0 but SSAT size is non-zero"
     ]
    },
    {
     "name": "stderr",
     "output_type": "stream",
     "text": [
      "INFO:log:reading ENTSO-E Data_Portal Statistics.xls\n"
     ]
    },
    {
     "name": "stdout",
     "output_type": "stream",
     "text": [
      "\n",
      "WARNING *** OLE2 inconsistency: SSCS size is 0 but SSAT size is non-zero"
     ]
    },
    {
     "name": "stderr",
     "output_type": "stream",
     "text": [
      "INFO:log:reading ENTSO-E Data_Portal Statistics.xls\n"
     ]
    },
    {
     "name": "stdout",
     "output_type": "stream",
     "text": [
      "\n",
      "WARNING *** OLE2 inconsistency: SSCS size is 0 but SSAT size is non-zero"
     ]
    },
    {
     "name": "stderr",
     "output_type": "stream",
     "text": [
      "INFO:log:reading ENTSO-E Data_Portal Statistics.xls\n"
     ]
    },
    {
     "name": "stdout",
     "output_type": "stream",
     "text": [
      "\n",
      "WARNING *** OLE2 inconsistency: SSCS size is 0 but SSAT size is non-zero"
     ]
    },
    {
     "name": "stderr",
     "output_type": "stream",
     "text": [
      "INFO:log:reading ENTSO-E Data_Portal Statistics.xls\n"
     ]
    },
    {
     "name": "stdout",
     "output_type": "stream",
     "text": [
      "\n",
      "WARNING *** OLE2 inconsistency: SSCS size is 0 but SSAT size is non-zero"
     ]
    },
    {
     "name": "stderr",
     "output_type": "stream",
     "text": [
      "INFO:log:reading ENTSO-E Data_Portal Statistics.xls\n"
     ]
    },
    {
     "name": "stdout",
     "output_type": "stream",
     "text": [
      "\n",
      "WARNING *** OLE2 inconsistency: SSCS size is 0 but SSAT size is non-zero"
     ]
    },
    {
     "name": "stderr",
     "output_type": "stream",
     "text": [
      "INFO:log:reading ENTSO-E Data_Portal Statistics.xls\n"
     ]
    },
    {
     "name": "stdout",
     "output_type": "stream",
     "text": [
      "\n",
      "WARNING *** OLE2 inconsistency: SSCS size is 0 but SSAT size is non-zero"
     ]
    },
    {
     "name": "stderr",
     "output_type": "stream",
     "text": [
      "INFO:log:reading ENTSO-E Data_Portal Statistics.xls\n"
     ]
    },
    {
     "name": "stdout",
     "output_type": "stream",
     "text": [
      "\n",
      "WARNING *** OLE2 inconsistency: SSCS size is 0 but SSAT size is non-zero"
     ]
    },
    {
     "name": "stderr",
     "output_type": "stream",
     "text": [
      "INFO:log:reading 50Hertz wind 2005.csv\n",
      "INFO:log:reading 50Hertz wind 2006.csv\n",
      "INFO:log:reading 50Hertz wind 2007.csv\n",
      "INFO:log:reading 50Hertz wind 2008.csv\n",
      "INFO:log:reading 50Hertz wind 2009.csv\n",
      "INFO:log:reading 50Hertz wind 2010.csv\n",
      "INFO:log:reading 50Hertz wind 2011.csv\n",
      "INFO:log:reading 50Hertz wind 2012.csv\n",
      "INFO:log:reading 50Hertz wind 2013.csv\n",
      "INFO:log:reading 50Hertz wind 2014.csv\n",
      "INFO:log:reading 50Hertz wind 2015.csv\n",
      "INFO:log:reading 50Hertz pv 2012.csv\n",
      "INFO:log:reading 50Hertz pv 2013.csv\n",
      "INFO:log:reading 50Hertz pv 2014.csv\n",
      "INFO:log:reading 50Hertz pv 2015.csv\n"
     ]
    },
    {
     "name": "stdout",
     "output_type": "stream",
     "text": [
      "\n"
     ]
    }
   ],
   "source": [
    "for source, techlist in conf.items():\n",
    "    for tech in techlist:\n",
    "        for subdir in os.listdir(os.path.join(downloadpath, source, tech)):\n",
    "            files = os.listdir(os.path.join(downloadpath, source, tech, subdir))\n",
    "            if len(files) == 1:\n",
    "                logger.info('reading %s %s %s', source, tech, files[0])\n",
    "                filepath = os.path.join(downloadpath, source, tech, subdir, files[0])\n",
    "                if os.path.getsize(filepath) < 128:\n",
    "                    logger.info('file is smaller than 128 Byte,' +\n",
    "                            'which means it is probably empty')\n",
    "                else:\n",
    "                    if source == 'ENTSO-E':\n",
    "                        data_to_add = read_entso(filepath, tech)\n",
    "                    elif source == 'Svenska_Kraftnaet':\n",
    "                        data_to_add = read_svenskakraftnaet(filepath, source, tech)\n",
    "                    elif source == '50Hertz':\n",
    "                        data_to_add = read_hertz(filepath, tech)\n",
    "                    elif source == 'Amprion':\n",
    "                        data_to_add = read_amprion(filepath, tech)\n",
    "                    elif source == 'TenneT':\n",
    "                        data_to_add = read_tennet(filepath, tech)\n",
    "                    elif source == 'TransnetBW':\n",
    "                        data_to_add = read_transnetbw(filepath, tech)\n",
    "\n",
    "                    data_set = data_set.combine_first(data_to_add)"
   ]
  },
  {
   "cell_type": "code",
   "execution_count": 66,
   "metadata": {
    "collapsed": false
   },
   "outputs": [
    {
     "data": {
      "text/html": [
       "<div>\n",
       "<table border=\"1\" class=\"dataframe\">\n",
       "  <thead>\n",
       "    <tr style=\"text-align: right;\">\n",
       "      <th></th>\n",
       "      <th>TransnetBW_pv_actual</th>\n",
       "      <th>TransnetBW_pv_forecast</th>\n",
       "      <th>TransnetBW_wind_actual</th>\n",
       "      <th>TransnetBW_wind_forecast</th>\n",
       "      <th>load_AT</th>\n",
       "      <th>load_BA</th>\n",
       "      <th>load_BE</th>\n",
       "      <th>load_BG</th>\n",
       "      <th>load_CH</th>\n",
       "      <th>load_CS</th>\n",
       "      <th>...</th>\n",
       "      <th>pv_DEamprion_actual</th>\n",
       "      <th>pv_DEamprion_forecast</th>\n",
       "      <th>pv_DEtennet_actual</th>\n",
       "      <th>pv_DEtennet_forecast</th>\n",
       "      <th>wind_DE50hertz_actual</th>\n",
       "      <th>wind_DEamprion_actual</th>\n",
       "      <th>wind_DEamprion_forecast</th>\n",
       "      <th>wind_DEtennet_actual</th>\n",
       "      <th>wind_DEtennet_forecast</th>\n",
       "      <th>wind_DEtennet_offshore_share</th>\n",
       "    </tr>\n",
       "    <tr>\n",
       "      <th>dt_index</th>\n",
       "      <th></th>\n",
       "      <th></th>\n",
       "      <th></th>\n",
       "      <th></th>\n",
       "      <th></th>\n",
       "      <th></th>\n",
       "      <th></th>\n",
       "      <th></th>\n",
       "      <th></th>\n",
       "      <th></th>\n",
       "      <th></th>\n",
       "      <th></th>\n",
       "      <th></th>\n",
       "      <th></th>\n",
       "      <th></th>\n",
       "      <th></th>\n",
       "      <th></th>\n",
       "      <th></th>\n",
       "      <th></th>\n",
       "      <th></th>\n",
       "      <th></th>\n",
       "    </tr>\n",
       "  </thead>\n",
       "  <tbody>\n",
       "    <tr>\n",
       "      <th>2005-01-01 00:00:00+01:00</th>\n",
       "      <td>NaN</td>\n",
       "      <td>NaN</td>\n",
       "      <td>NaN</td>\n",
       "      <td>NaN</td>\n",
       "      <td>NaN</td>\n",
       "      <td>NaN</td>\n",
       "      <td>NaN</td>\n",
       "      <td>NaN</td>\n",
       "      <td>NaN</td>\n",
       "      <td>NaN</td>\n",
       "      <td>...</td>\n",
       "      <td>NaN</td>\n",
       "      <td>NaN</td>\n",
       "      <td>NaN</td>\n",
       "      <td>NaN</td>\n",
       "      <td>1243</td>\n",
       "      <td>NaN</td>\n",
       "      <td>NaN</td>\n",
       "      <td>NaN</td>\n",
       "      <td>NaN</td>\n",
       "      <td>NaN</td>\n",
       "    </tr>\n",
       "    <tr>\n",
       "      <th>2005-01-01 00:15:00+01:00</th>\n",
       "      <td>NaN</td>\n",
       "      <td>NaN</td>\n",
       "      <td>NaN</td>\n",
       "      <td>NaN</td>\n",
       "      <td>NaN</td>\n",
       "      <td>NaN</td>\n",
       "      <td>NaN</td>\n",
       "      <td>NaN</td>\n",
       "      <td>NaN</td>\n",
       "      <td>NaN</td>\n",
       "      <td>...</td>\n",
       "      <td>NaN</td>\n",
       "      <td>NaN</td>\n",
       "      <td>NaN</td>\n",
       "      <td>NaN</td>\n",
       "      <td>1243</td>\n",
       "      <td>NaN</td>\n",
       "      <td>NaN</td>\n",
       "      <td>NaN</td>\n",
       "      <td>NaN</td>\n",
       "      <td>NaN</td>\n",
       "    </tr>\n",
       "    <tr>\n",
       "      <th>2005-01-01 00:30:00+01:00</th>\n",
       "      <td>NaN</td>\n",
       "      <td>NaN</td>\n",
       "      <td>NaN</td>\n",
       "      <td>NaN</td>\n",
       "      <td>NaN</td>\n",
       "      <td>NaN</td>\n",
       "      <td>NaN</td>\n",
       "      <td>NaN</td>\n",
       "      <td>NaN</td>\n",
       "      <td>NaN</td>\n",
       "      <td>...</td>\n",
       "      <td>NaN</td>\n",
       "      <td>NaN</td>\n",
       "      <td>NaN</td>\n",
       "      <td>NaN</td>\n",
       "      <td>1243</td>\n",
       "      <td>NaN</td>\n",
       "      <td>NaN</td>\n",
       "      <td>NaN</td>\n",
       "      <td>NaN</td>\n",
       "      <td>NaN</td>\n",
       "    </tr>\n",
       "    <tr>\n",
       "      <th>2005-01-01 00:45:00+01:00</th>\n",
       "      <td>NaN</td>\n",
       "      <td>NaN</td>\n",
       "      <td>NaN</td>\n",
       "      <td>NaN</td>\n",
       "      <td>NaN</td>\n",
       "      <td>NaN</td>\n",
       "      <td>NaN</td>\n",
       "      <td>NaN</td>\n",
       "      <td>NaN</td>\n",
       "      <td>NaN</td>\n",
       "      <td>...</td>\n",
       "      <td>NaN</td>\n",
       "      <td>NaN</td>\n",
       "      <td>NaN</td>\n",
       "      <td>NaN</td>\n",
       "      <td>1243</td>\n",
       "      <td>NaN</td>\n",
       "      <td>NaN</td>\n",
       "      <td>NaN</td>\n",
       "      <td>NaN</td>\n",
       "      <td>NaN</td>\n",
       "    </tr>\n",
       "    <tr>\n",
       "      <th>2005-01-01 01:00:00+01:00</th>\n",
       "      <td>NaN</td>\n",
       "      <td>NaN</td>\n",
       "      <td>NaN</td>\n",
       "      <td>NaN</td>\n",
       "      <td>NaN</td>\n",
       "      <td>NaN</td>\n",
       "      <td>NaN</td>\n",
       "      <td>NaN</td>\n",
       "      <td>NaN</td>\n",
       "      <td>NaN</td>\n",
       "      <td>...</td>\n",
       "      <td>NaN</td>\n",
       "      <td>NaN</td>\n",
       "      <td>NaN</td>\n",
       "      <td>NaN</td>\n",
       "      <td>1270</td>\n",
       "      <td>NaN</td>\n",
       "      <td>NaN</td>\n",
       "      <td>NaN</td>\n",
       "      <td>NaN</td>\n",
       "      <td>NaN</td>\n",
       "    </tr>\n",
       "  </tbody>\n",
       "</table>\n",
       "<p>5 rows × 53 columns</p>\n",
       "</div>"
      ],
      "text/plain": [
       "                           TransnetBW_pv_actual  TransnetBW_pv_forecast  \\\n",
       "dt_index                                                                  \n",
       "2005-01-01 00:00:00+01:00                   NaN                     NaN   \n",
       "2005-01-01 00:15:00+01:00                   NaN                     NaN   \n",
       "2005-01-01 00:30:00+01:00                   NaN                     NaN   \n",
       "2005-01-01 00:45:00+01:00                   NaN                     NaN   \n",
       "2005-01-01 01:00:00+01:00                   NaN                     NaN   \n",
       "\n",
       "                           TransnetBW_wind_actual  TransnetBW_wind_forecast  \\\n",
       "dt_index                                                                      \n",
       "2005-01-01 00:00:00+01:00                     NaN                       NaN   \n",
       "2005-01-01 00:15:00+01:00                     NaN                       NaN   \n",
       "2005-01-01 00:30:00+01:00                     NaN                       NaN   \n",
       "2005-01-01 00:45:00+01:00                     NaN                       NaN   \n",
       "2005-01-01 01:00:00+01:00                     NaN                       NaN   \n",
       "\n",
       "                           load_AT  load_BA  load_BE  load_BG  load_CH  \\\n",
       "dt_index                                                                 \n",
       "2005-01-01 00:00:00+01:00      NaN      NaN      NaN      NaN      NaN   \n",
       "2005-01-01 00:15:00+01:00      NaN      NaN      NaN      NaN      NaN   \n",
       "2005-01-01 00:30:00+01:00      NaN      NaN      NaN      NaN      NaN   \n",
       "2005-01-01 00:45:00+01:00      NaN      NaN      NaN      NaN      NaN   \n",
       "2005-01-01 01:00:00+01:00      NaN      NaN      NaN      NaN      NaN   \n",
       "\n",
       "                           load_CS              ...               \\\n",
       "dt_index                                        ...                \n",
       "2005-01-01 00:00:00+01:00      NaN              ...                \n",
       "2005-01-01 00:15:00+01:00      NaN              ...                \n",
       "2005-01-01 00:30:00+01:00      NaN              ...                \n",
       "2005-01-01 00:45:00+01:00      NaN              ...                \n",
       "2005-01-01 01:00:00+01:00      NaN              ...                \n",
       "\n",
       "                           pv_DEamprion_actual  pv_DEamprion_forecast  \\\n",
       "dt_index                                                                \n",
       "2005-01-01 00:00:00+01:00                  NaN                    NaN   \n",
       "2005-01-01 00:15:00+01:00                  NaN                    NaN   \n",
       "2005-01-01 00:30:00+01:00                  NaN                    NaN   \n",
       "2005-01-01 00:45:00+01:00                  NaN                    NaN   \n",
       "2005-01-01 01:00:00+01:00                  NaN                    NaN   \n",
       "\n",
       "                           pv_DEtennet_actual  pv_DEtennet_forecast  \\\n",
       "dt_index                                                              \n",
       "2005-01-01 00:00:00+01:00                 NaN                   NaN   \n",
       "2005-01-01 00:15:00+01:00                 NaN                   NaN   \n",
       "2005-01-01 00:30:00+01:00                 NaN                   NaN   \n",
       "2005-01-01 00:45:00+01:00                 NaN                   NaN   \n",
       "2005-01-01 01:00:00+01:00                 NaN                   NaN   \n",
       "\n",
       "                           wind_DE50hertz_actual  wind_DEamprion_actual  \\\n",
       "dt_index                                                                  \n",
       "2005-01-01 00:00:00+01:00                   1243                    NaN   \n",
       "2005-01-01 00:15:00+01:00                   1243                    NaN   \n",
       "2005-01-01 00:30:00+01:00                   1243                    NaN   \n",
       "2005-01-01 00:45:00+01:00                   1243                    NaN   \n",
       "2005-01-01 01:00:00+01:00                   1270                    NaN   \n",
       "\n",
       "                           wind_DEamprion_forecast  wind_DEtennet_actual  \\\n",
       "dt_index                                                                   \n",
       "2005-01-01 00:00:00+01:00                      NaN                   NaN   \n",
       "2005-01-01 00:15:00+01:00                      NaN                   NaN   \n",
       "2005-01-01 00:30:00+01:00                      NaN                   NaN   \n",
       "2005-01-01 00:45:00+01:00                      NaN                   NaN   \n",
       "2005-01-01 01:00:00+01:00                      NaN                   NaN   \n",
       "\n",
       "                           wind_DEtennet_forecast  \\\n",
       "dt_index                                            \n",
       "2005-01-01 00:00:00+01:00                     NaN   \n",
       "2005-01-01 00:15:00+01:00                     NaN   \n",
       "2005-01-01 00:30:00+01:00                     NaN   \n",
       "2005-01-01 00:45:00+01:00                     NaN   \n",
       "2005-01-01 01:00:00+01:00                     NaN   \n",
       "\n",
       "                           wind_DEtennet_offshore_share  \n",
       "dt_index                                                 \n",
       "2005-01-01 00:00:00+01:00                           NaN  \n",
       "2005-01-01 00:15:00+01:00                           NaN  \n",
       "2005-01-01 00:30:00+01:00                           NaN  \n",
       "2005-01-01 00:45:00+01:00                           NaN  \n",
       "2005-01-01 01:00:00+01:00                           NaN  \n",
       "\n",
       "[5 rows x 53 columns]"
      ]
     },
     "execution_count": 66,
     "metadata": {},
     "output_type": "execute_result"
    }
   ],
   "source": [
    "data_set.head()"
   ]
  },
  {
   "cell_type": "code",
   "execution_count": 67,
   "metadata": {
    "collapsed": false
   },
   "outputs": [],
   "source": [
    "data_set.to_csv('raw_data.csv', sep=',', float_format='%.2f', decimal='.', date_format='%Y-%m-%dT%H:%M:%S%z')"
   ]
  }
 ],
 "metadata": {
  "kernelspec": {
   "display_name": "Python 3",
   "language": "python",
   "name": "python3"
  },
  "language_info": {
   "codemirror_mode": {
    "name": "ipython",
    "version": 3
   },
   "file_extension": ".py",
   "mimetype": "text/x-python",
   "name": "python",
   "nbconvert_exporter": "python",
   "pygments_lexer": "ipython3",
   "version": "3.4.3"
  }
 },
 "nbformat": 4,
 "nbformat_minor": 0
}
