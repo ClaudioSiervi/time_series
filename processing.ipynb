{
 "cells": [
  {
   "cell_type": "markdown",
   "metadata": {},
   "source": [
    "# 1. Processing"
   ]
  },
  {
   "cell_type": "markdown",
   "metadata": {},
   "source": [
    "Part of the project [Open Power System Data](http://open-power-system-data.org/).\n",
    "\n",
    "Find the latest version of this notebook an [GitHub](https://github.com/Open-Power-System-Data/datapackage_timeseries/blob/master/processing.ipynb)\n",
    "\n",
    "Go back to the main notebook ([GitHub](https://github.com/Open-Power-System-Data/datapackage_timeseries/blob/master/main.ipynb) / [local copy](main.ipynb))\n",
    "\n",
    "This notebook processes the data combined by the read script ([GitHub](https://github.com/Open-Power-System-Data/datapackage_timeseries/blob/master/read.ipynb) / [local copy](read.ipynb))."
   ]
  },
  {
   "cell_type": "markdown",
   "metadata": {},
   "source": [
    "# Table of Contents\n",
    "* [1. Processing](#1.-Processing)\n",
    "* [2. Preparations](#2.-Preparations)\n",
    "\t* [2.1 Libraries](#2.1-Libraries)\n",
    "\t* [2.2 Set up a log.](#2.2-Set-up-a-log.)\n",
    "\t* [2.3 Load raw data](#2.3-Load-raw-data)\n",
    "* [3. Own calculations](#3.-Own-calculations)\n",
    "\t* [3.1 Missing Data Handling](#3.1-Missing-Data-Handling)\n",
    "\t* [3.2 Aggregate German data from individual TSOs](#3.2-Aggregate-German-data-from-individual-TSOs)\n",
    "\t* [3.3 Create hourly data from 15' data](#3.3-Create-hourly-data-from-15'-data)\n",
    "* [4. Create metadata](#4.-Create-metadata)\n",
    "\t* [4.1 General metadata](#4.1-General-metadata)\n",
    "\t* [4.2 Columns-specific metadata](#4.2-Columns-specific-metadata)\n",
    "* [5. Write the data to disk](#5.-Write-the-data-to-disk)\n",
    "\t* [5.1 Write to SQL-database](#5.1-Write-to-SQL-database)\n",
    "\t* [5.2 Write to Excel](#5.2-Write-to-Excel)\n",
    "\t* [5.3 Write to CSV](#5.3-Write-to-CSV)\n",
    "* [6. Plausibility checks](#6.-Plausibility-checks)\n"
   ]
  },
  {
   "cell_type": "markdown",
   "metadata": {},
   "source": [
    "# 2. Preparations"
   ]
  },
  {
   "cell_type": "markdown",
   "metadata": {},
   "source": [
    "## 2.1 Libraries"
   ]
  },
  {
   "cell_type": "markdown",
   "metadata": {},
   "source": [
    "This notebook makes use of the [pycountry](https://pypi.python.org/pypi/pycountry) library that is not part of Anaconda. Install it with with `pip install pycountry` from your command line."
   ]
  },
  {
   "cell_type": "code",
   "execution_count": null,
   "metadata": {
    "collapsed": false
   },
   "outputs": [],
   "source": [
    "from datetime import timedelta\n",
    "import pandas as pd\n",
    "import numpy as np\n",
    "import logging\n",
    "import pycountry\n",
    "import json\n",
    "import sqlite3\n",
    "import copy\n",
    "from itertools import chain\n",
    "import logging"
   ]
  },
  {
   "cell_type": "code",
   "execution_count": null,
   "metadata": {
    "collapsed": true
   },
   "outputs": [],
   "source": [
    "HEADERS = ['variable', 'country', 'attribute', 'source', 'web']"
   ]
  },
  {
   "cell_type": "markdown",
   "metadata": {},
   "source": [
    "## 2.2 Set up a log."
   ]
  },
  {
   "cell_type": "code",
   "execution_count": null,
   "metadata": {
    "collapsed": false
   },
   "outputs": [],
   "source": [
    "logger = logging.getLogger('log')\n",
    "logger.setLevel('INFO')"
   ]
  },
  {
   "cell_type": "markdown",
   "metadata": {},
   "source": [
    "## 2.3 Load raw data"
   ]
  },
  {
   "cell_type": "markdown",
   "metadata": {},
   "source": [
    "Load the dataset compiled by the read-script ([local copy](read.ipynb#) / [GitHub](https://github.com/Open-Power-System-Data/datapackage_timeseries/blob/master/read.ipynb))"
   ]
  },
  {
   "cell_type": "code",
   "execution_count": null,
   "metadata": {
    "collapsed": false
   },
   "outputs": [],
   "source": [
    "data_sets = {}\n",
    "for res_key in ['15min', '60min']:\n",
    "    filename = 'raw_data_' + res_key + '.csv'\n",
    "    try:\n",
    "        data_sets[res_key] = pd.read_csv(\n",
    "            filename,\n",
    "            header=[0,1,2,3,4],\n",
    "            index_col=0,\n",
    "            parse_dates=True\n",
    "            )\n",
    "    except Exception:\n",
    "        logging.error('Error reading file: {}'.format(filename))"
   ]
  },
  {
   "cell_type": "markdown",
   "metadata": {},
   "source": [
    "# 3. Own calculations"
   ]
  },
  {
   "cell_type": "markdown",
   "metadata": {},
   "source": [
    "## 3.1 Missing Data Handling"
   ]
  },
  {
   "cell_type": "markdown",
   "metadata": {},
   "source": [
    "Patch missing data. At this stage, only implemented for 15 minute resolution solar/wind in-feed data from german TSOs. Small gaps (up to 2 hours) are filled by linear interpolation. For the generation timeseries, larger gaps are guessed by up-/down scaling the data from other balancing areas to fit the expected magnitude of the missing data.\n",
    "\n",
    "The locations of missing data are stored in the nan_table DataFrame."
   ]
  },
  {
   "cell_type": "code",
   "execution_count": null,
   "metadata": {
    "collapsed": false
   },
   "outputs": [],
   "source": [
    "def patcher(frame):\n",
    "    '''Search for missing values in a DataFrame and apply custom patching.'''\n",
    "    nan_table = pd.DataFrame()\n",
    "    patched = pd.DataFrame()\n",
    "    one_period = frame.index[1] - frame.index[0]\n",
    "    for col_name, col in frame.iteritems():\n",
    "        df = col.to_frame()\n",
    "\n",
    "        # tag all occurences of NaN in the data (but not before first actual entry or after last one)\n",
    "        df['tag'] = ((df.index >= df.first_valid_index()) &\n",
    "                     (df.index <= df.last_valid_index()) &\n",
    "                     df.isnull().transpose().as_matrix()).transpose()\n",
    "\n",
    "        # make another DF to hold info about each region\n",
    "        nan_regs = pd.DataFrame()\n",
    "\n",
    "        # first row of consecutive region is a True preceded by a False in tags\n",
    "        nan_regs['start_idx'] = df.index[df['tag'] & ~ df['tag'].shift(1).fillna(False)]\n",
    "\n",
    "        # last row of consecutive region is a False preceded by a True   \n",
    "        nan_regs['till_idx'] = df.index[df['tag'] & ~ df['tag'].shift(-1).fillna(False)] \n",
    "\n",
    "        if not df['tag'].any():\n",
    "            logger.info('%s : nothing to patch in this column', col_name[0:3])\n",
    "            df.drop('tag', axis=1, inplace=True)\n",
    "            nan_idx = pd.MultiIndex.from_arrays([[0, 0, 0, 0], ['count', 'span', 'start_idx', 'till_idx']])\n",
    "            nan_list = pd.DataFrame(index=nan_idx, columns=df.columns)\n",
    "        else:\n",
    "            # how long is each region\n",
    "            nan_regs['span'] = nan_regs['till_idx'] - nan_regs['start_idx'] + one_period\n",
    "            nan_regs['count'] = (nan_regs['span'] / one_period)\n",
    "            # sort the info DF to put longest missing region on top\n",
    "            nan_regs = nan_regs.sort_values('count', ascending=False).reset_index(drop=True)\n",
    "            \n",
    "            df.drop('tag', axis=1, inplace=True)\n",
    "            nan_list = nan_regs.stack().to_frame()\n",
    "            nan_list.columns = df.columns\n",
    "\n",
    "            for i, row in nan_regs.iterrows():\n",
    "                j = 0\n",
    "                # interpolate missing value spans up to 2 hours\n",
    "                if row['span'] <= timedelta(hours=2):\n",
    "                    if i + 1 == len(nan_regs):\n",
    "                        logger.info('%s : \\n        interpolated %s '\n",
    "                                    'up-to-2-hour-spans of NaNs',\n",
    "                                    col_name[0:3], i + 1 - j)\n",
    "                    to_fill = slice(row['start_idx'] - one_period,\n",
    "                                     row['till_idx'] + one_period)\n",
    "                    df.iloc[:,0].loc[to_fill] = df.iloc[:,0].loc[to_fill].interpolate()\n",
    "\n",
    "                # guess missing value spans longer than one hour based on other tsos\n",
    "                elif col_name[1][:2] == 'DE' and col_name[2] == 'generation':\n",
    "                    j += 1\n",
    "#                    logger.info('guessed %s entries after %s', row['count'], row['start_idx'])\n",
    "                    day_before = pd.DatetimeIndex(freq='15min',\n",
    "                                                  start=row['start_idx'] - timedelta(hours=24),\n",
    "                                                  end=row['start_idx'] - one_period)\n",
    "\n",
    "                    to_fill = pd.DatetimeIndex(freq='15min',\n",
    "                                                start=row['start_idx'],\n",
    "                                                end=row['till_idx'])\n",
    "\n",
    "                    # other_tsos = [c[1] for c in compact.drop(col_name, axis=1).loc[:,(col_name[0],slice(None),col_name[2])].columns.tolist()]\n",
    "                    other_tsos = [tso for tso in ['DE50hertz', 'DEamprion', 'DEtennet', 'DEtransnetbw'] if tso != col_name[1]]\n",
    "                    \n",
    "                    # select columns with data for same technology (wind/solar) but from other TSOs\n",
    "                    similar = frame.loc[:,(col_name[0],other_tsos,col_name[2])]\n",
    "                    # calculate the sum using columns without NaNs the day \n",
    "                    # before or during the period to be guessed\n",
    "                    similar = similar.dropna(axis=1, how='any', subset=day_before.append(to_fill)).sum(axis=1)\n",
    "                    # calculate scaling factor for other TSO data\n",
    "                    factor =  similar.loc[day_before].sum(axis=0) / df.loc[day_before,:].sum(axis=0)\n",
    "                    \n",
    "                    guess = similar.loc[to_fill] / float(factor)\n",
    "                    df.iloc[:,0].loc[to_fill] = guess\n",
    "                    a = float(df.iloc[:,0].loc[row['start_idx'] - one_period])\n",
    "                    b = float(df.iloc[:,0].loc[row['start_idx']])\n",
    "                    if a == 0:\n",
    "                        deviation = '{} absolut'.format(a - b)\n",
    "                    else:\n",
    "                        deviation = '{:.2f} %'.format((a - b) / a * 100)\n",
    "                    logger.info('%s : \\n        '\n",
    "                                'guessed %s entries after %s \\n        '\n",
    "                                'last non-missing: %s \\n        '\n",
    "                                'first guessed: %s \\n        '\n",
    "                                'deviation of first guess from last known value: %s', \n",
    "                                col_name[0:3], row['count'], row['start_idx'],\n",
    "                                a, b, deviation)                  \n",
    "\n",
    "        if len(nan_table) == 0:\n",
    "            nan_table = nan_list\n",
    "        else:\n",
    "            nan_table = nan_table.combine_first(nan_list)\n",
    "\n",
    "        if len(patched) == 0:\n",
    "            patched = df\n",
    "        else:\n",
    "            patched = patched.combine_first(df)\n",
    "            \n",
    "    nan_table.columns.names = HEADERS\n",
    "    patched.columns.names = HEADERS\n",
    "\n",
    "    return patched, nan_table"
   ]
  },
  {
   "cell_type": "markdown",
   "metadata": {},
   "source": [
    "Patch the 15 minutes dataset and display the location of missing Data in the original data."
   ]
  },
  {
   "cell_type": "code",
   "execution_count": null,
   "metadata": {
    "collapsed": false,
    "scrolled": true
   },
   "outputs": [],
   "source": [
    "patched, nan_table = patcher(data_sets['15min'])\n",
    "#nan_table#.loc[(slice(None),['count','start_idx']),:]"
   ]
  },
  {
   "cell_type": "markdown",
   "metadata": {},
   "source": [
    "Execute this to see whether there is still missing data. This is the case for some of the forecast columns."
   ]
  },
  {
   "cell_type": "code",
   "execution_count": null,
   "metadata": {
    "collapsed": false,
    "scrolled": true
   },
   "outputs": [],
   "source": [
    "patched2, nan_table2 = patcher(patched)\n",
    "nan_table2.loc[(slice(None),['count','start_idx']),:]"
   ]
  },
  {
   "cell_type": "markdown",
   "metadata": {},
   "source": [
    "Execute this to see an example of where the data has been patched."
   ]
  },
  {
   "cell_type": "code",
   "execution_count": null,
   "metadata": {
    "collapsed": false,
    "scrolled": true
   },
   "outputs": [],
   "source": [
    "data_sets['15min'].loc['2015-10-24 23:00:00':'2015-10-25 03:00:00', 'wind']"
   ]
  },
  {
   "cell_type": "code",
   "execution_count": null,
   "metadata": {
    "collapsed": false,
    "scrolled": true
   },
   "outputs": [],
   "source": [
    "patched.loc['2015-10-24 23:00:00':'2015-10-25 03:00:00', 'wind']"
   ]
  },
  {
   "cell_type": "markdown",
   "metadata": {},
   "source": [
    "Replace the untreated data set with the patched one."
   ]
  },
  {
   "cell_type": "code",
   "execution_count": null,
   "metadata": {
    "collapsed": true
   },
   "outputs": [],
   "source": [
    "data_sets['15min'] = patched"
   ]
  },
  {
   "cell_type": "markdown",
   "metadata": {},
   "source": [
    "## 3.2 Aggregate German data from individual TSOs"
   ]
  },
  {
   "cell_type": "markdown",
   "metadata": {},
   "source": [
    "The wind and solar in-feed data for the 4 German balancing areas is summed up and stored in in new columns, which are then used to calculate profiles, that is, the share of wind/solar capacity producing at a given time. The column headers are created in the fashion introduced in the read script."
   ]
  },
  {
   "cell_type": "code",
   "execution_count": null,
   "metadata": {
    "collapsed": false,
    "scrolled": true
   },
   "outputs": [],
   "source": [
    "web = 'http://data.open-power-system-data.org/datapackage_timeseries'\n",
    "for tech in ['wind', 'solar']:\n",
    "    for attribute in ['generation', 'forecast']:\n",
    "        sum_col = pd.Series()\n",
    "        for tso in ['DE50hertz', 'DEamprion', 'DEtennet', 'DEtransnetbw']:\n",
    "            try:\n",
    "                add_col = data_sets['15min'][tech, tso, attribute]\n",
    "                if len(sum_col) == 0:\n",
    "                    sum_col = add_col\n",
    "                else:\n",
    "                    sum_col = sum_col + add_col.values\n",
    "            except KeyError:\n",
    "                pass\n",
    "                \n",
    "        # Create a new MultiIndex\n",
    "        tuples = [(tech, 'DE', attribute, 'own calculation', web)]\n",
    "        columns = pd.MultiIndex.from_tuples(tuples, names=HEADERS)\n",
    "        sum_col.columns = columns\n",
    "        data_sets['15min'] = data_sets['15min'].combine_first(sum_col)\n",
    "        \n",
    "        # Calculate the profile column\n",
    "        try:\n",
    "            if attribute == 'generation':\n",
    "                profile_col = sum_col.values / data_sets['15min'][tech, 'DE', 'capacity']\n",
    "                tuples = [(tech, 'DE', 'profile', 'own calculation', web)]\n",
    "                columns = pd.MultiIndex.from_tuples(tuples, names=HEADERS)\n",
    "                profile_col.columns = columns\n",
    "                data_sets['15min'] = data_sets['15min'].combine_first(profile_col)\n",
    "        except KeyError:\n",
    "            pass  # FIXME"
   ]
  },
  {
   "cell_type": "markdown",
   "metadata": {},
   "source": [
    "New columns for the aggregated data have been added to the 15 minutes dataset."
   ]
  },
  {
   "cell_type": "code",
   "execution_count": null,
   "metadata": {
    "collapsed": false,
    "scrolled": true
   },
   "outputs": [],
   "source": [
    "data_sets['15min']"
   ]
  },
  {
   "cell_type": "markdown",
   "metadata": {},
   "source": [
    "## 3.3 Create hourly data from 15' data"
   ]
  },
  {
   "cell_type": "markdown",
   "metadata": {},
   "source": [
    "The German renewables in-feed data comes in 15-minute intervals. We resample it to hourly intervals in order to match the load data from ENTSO-E."
   ]
  },
  {
   "cell_type": "code",
   "execution_count": null,
   "metadata": {
    "collapsed": false
   },
   "outputs": [],
   "source": [
    "resampled = data_sets['15min'].resample('H').mean()\n",
    "try:\n",
    "    data_sets['60min'] = data_sets['60min'].combine_first(resampled)\n",
    "except KeyError:\n",
    "    data_sets['60min'] = resampled"
   ]
  },
  {
   "cell_type": "markdown",
   "metadata": {},
   "source": [
    "New columns for the resampled data have been added to the 60 minutes dataset."
   ]
  },
  {
   "cell_type": "code",
   "execution_count": null,
   "metadata": {
    "collapsed": false,
    "scrolled": true
   },
   "outputs": [],
   "source": [
    "data_sets['60min']"
   ]
  },
  {
   "cell_type": "markdown",
   "metadata": {},
   "source": [
    "# 4. Create metadata"
   ]
  },
  {
   "cell_type": "markdown",
   "metadata": {},
   "source": [
    "In this part, we create the metadata that will document the data output in CSV format. The metadata we be stored in JSON format, which is very much like a python dictionary."
   ]
  },
  {
   "cell_type": "markdown",
   "metadata": {},
   "source": [
    "## 4.1 General metadata"
   ]
  },
  {
   "cell_type": "markdown",
   "metadata": {},
   "source": [
    "First, we define the general metadata for the timeseries datapackage"
   ]
  },
  {
   "cell_type": "code",
   "execution_count": null,
   "metadata": {
    "collapsed": false
   },
   "outputs": [],
   "source": [
    "metadata = {\n",
    "    'name': 'opsd-timeseries',\n",
    "    'title': 'Time-series data: load, wind and solar, prices',\n",
    "    'description': 'This data package contains different kinds of timeseries '\n",
    "        'data relevant for power system modelling. Currently, the data '\n",
    "        'includes hourly electricity consumption (load) for 36 European '\n",
    "        'countries, wind and solar power generation from German transmission '\n",
    "        'system operators for every quarter hour, and daily wind and solar '\n",
    "        'capacity data. We use '\n",
    "        'this data to calculate Germany-wide renewables in-feed and profile '\n",
    "        'timeseries. We plan to include more data sources in the future. '\n",
    "        'While some of the wind in-feed data dates back to '\n",
    "        '2005, the full dataset is only available from 2012 onwards. The '\n",
    "        'data has been downloaded from the sources, resampled and merged in '\n",
    "        'a large CSV file with hourly resolution. Additionally, the data '\n",
    "        'available at a higher resolution (German renewables in-feed, 15 '\n",
    "        'minutes) is provided in a separate file. All data processing is '\n",
    "        'conducted in python and pandas and has been documented in the '\n",
    "        'Jupyter notebooks linked below.',\n",
    "    'opsd-jupyter-notebook-url': 'https://github.com/Open-Power-System-Data/'\n",
    "        'datapackage_timeseries/blob/master/main.ipynb',\n",
    "    'version': '2016-03-30',\n",
    "    'opsd-changes-to-last-version': 'Added missing data handling to patch '\n",
    "        'gaps in the data from German TSOs',\n",
    "    'keywords': [\n",
    "        'timeseries','electricity','in-feed','capacity','renewables', 'wind',\n",
    "        'solar','load','tso','europe','germany'\n",
    "        ],\n",
    "    'geographical-scope': 'Europe/Germany',\n",
    "    'licenses': [{\n",
    "        'url': 'http://example.com/license/url/here',\n",
    "        'version': '1.0',\n",
    "        'name': 'License Name Here',\n",
    "        'id': 'license-id-from-open'\n",
    "        }],\n",
    "    'views': [{}],\n",
    "    'sources': [{\n",
    "        'name': 'See the \"Source\" column in the field documentation'\n",
    "        }],\n",
    "    'maintainers': [{\n",
    "        'web': 'http://example.com/',\n",
    "        'name': 'Jonathan Muehlenpfordt',\n",
    "        'email': 'muehlenpfordt@neon-energie.de'\n",
    "        }],\n",
    "    'resources': [{ # The following is an example of how the file-specific metadata is \n",
    "        'path': 'path_to.csv', # structured. The actual metadata is created below\n",
    "        'format': 'csv',\n",
    "        'mediatype': 'text/csv',\n",
    "        'schema': {\n",
    "            'fields': [{\n",
    "                'name': 'load_AT_actual',\n",
    "                'description': 'Consumption in Austria in MW',\n",
    "                'type': 'number',\n",
    "                'source': {\n",
    "                    'name': 'Example',\n",
    "                    'web': 'http://www.example.com'\n",
    "                    },\n",
    "                'opsd-properties': {\n",
    "                    'Country': 'AT',\n",
    "                    'Variable': 'load',\n",
    "                    }\n",
    "                }]\n",
    "            }\n",
    "        }]\n",
    "    }\n",
    "\n",
    "indexfield = {\n",
    "    'name': 'timestamp',\n",
    "    'description': 'Start of timeperiod in UTC',\n",
    "    'type': 'datetime',\n",
    "    'format': 'YYYY-MM-DDThh:mm:ssZ'\n",
    "    }\n",
    "\n",
    "descriptions = {\n",
    "    'load': 'Consumption in {geo} in MW',\n",
    "    'generation': 'Actual {tech} generation in {geo} in MW',\n",
    "    'forecast': '{tech} day-ahead generation forecast in {geo} in MW',\n",
    "    'capacity': '{tech} capacity in {geo} in MW',\n",
    "    'profile': 'Share of {tech} capacity producing in {geo}',\n",
    "    'offshoreshare': '{tech} actual offshore generation in {geo} in MW'\n",
    "    }"
   ]
  },
  {
   "cell_type": "markdown",
   "metadata": {},
   "source": [
    "## 4.2 Columns-specific metadata"
   ]
  },
  {
   "cell_type": "markdown",
   "metadata": {},
   "source": [
    "For each dataset/outputfile, the metadata has an entry in the \"resources\" list that describes the file/dataset. The main part of each entry is the \"schema\" dictionary, consisting of a list of \"fields\", meaning the columns in the dataset. The first field is the timestamp index of the dataset. For the other fields, we iterate over the columns of the MultiIndex index of the datasets to contruct the corresponding metadata.\n",
    "\n",
    "At the same time, a copy of the datasets is created that has a single line column index instead of the MultiIndex."
   ]
  },
  {
   "cell_type": "code",
   "execution_count": null,
   "metadata": {
    "collapsed": false,
    "scrolled": true
   },
   "outputs": [],
   "source": [
    "data_sets_singleindex = copy.deepcopy(data_sets)##########################\n",
    "resources = []\n",
    "for res_key, data_set in data_sets.items():\n",
    "    columns_singleindex = [] ####################\n",
    "    fields = [indexfield]\n",
    "    for col in data_set.columns:\n",
    "        h = {k: v for k, v in zip(HEADERS, col)}\n",
    "        if len(h['country']) > 2:\n",
    "            geo = h['country'] + ' control area'\n",
    "        elif h['country'] == 'NI':\n",
    "            geo = 'Northern Ireland'\n",
    "        elif h['country'] == 'CS':\n",
    "            geo = 'Serbia and Montenegro'\n",
    "        else:\n",
    "            geo = pycountry.countries.get(alpha2=h['country']).name\n",
    "\n",
    "        field = {}    \n",
    "        field['description'] = descriptions[h['attribute']].format(\n",
    "            tech=h['variable'], geo=geo)\n",
    "        field['type'] = 'number'\n",
    "        field['source'] = {\n",
    "            'name': h['source'],\n",
    "            'web': h['web']\n",
    "            }\n",
    "        field['opsd-properties'] = {\n",
    "            'Country': h['country'],\n",
    "            'Variable': h['variable'],\n",
    "            }\n",
    "        components = [h['variable'], h['country']]\n",
    "        if not h['variable'] == 'load':\n",
    "            components.append(h['attribute'])\n",
    "            field['opsd-properties']['Attribute'] = h['attribute']\n",
    "        field['name'] = '_'.join(components)\n",
    "        columns_singleindex.append(field['name'])\n",
    "        fields.append(field)\n",
    "        \n",
    "    resource = {\n",
    "        'path': 'timeseries' + res_key + '.csv',\n",
    "        'format': 'csv',\n",
    "        'mediatype': 'text/csv',\n",
    "        'alternative_formats': [\n",
    "        {\n",
    "          'path': 'timeseries' + res_key + '.csv',\n",
    "          'stacking': 'Singleindex',\n",
    "          'format': 'csv'\n",
    "        },\n",
    "        {\n",
    "          'path': 'timeseries' + res_key + '.xlsx',\n",
    "          'stacking': 'Singleindex',\n",
    "          'format': 'xlsx'\n",
    "        },\n",
    "        {\n",
    "          'path': 'timeseries' + res_key + '_multiindex.xlsx',\n",
    "          'stacking': 'Multiindex',\n",
    "          'format': 'xlsx'\n",
    "        },\n",
    "        {\n",
    "          'path': 'timeseries' + res_key + '_multiindex.csv',\n",
    "          'stacking': 'Multiindex',\n",
    "          'format': 'csv'\n",
    "        },\n",
    "        {\n",
    "          'path': 'timeseries' + res_key + '_stacked.csv',\n",
    "          'stacking': 'Stacked',\n",
    "          'format': 'csv'\n",
    "        }\n",
    "      ],        \n",
    "        'schema': {'fields': fields}\n",
    "        }       \n",
    "    resources.append(resource)\n",
    "    data_sets_singleindex[res_key].columns = columns_singleindex ###############\n",
    "    \n",
    "metadata['resources'] = resources"
   ]
  },
  {
   "cell_type": "markdown",
   "metadata": {},
   "source": [
    "Execute this to write the metadata to disk"
   ]
  },
  {
   "cell_type": "code",
   "execution_count": null,
   "metadata": {
    "collapsed": true
   },
   "outputs": [],
   "source": [
    "datapackage_json = json.dumps(metadata, indent=2, separators=(',', ': '))\n",
    "with open('datapackage.json', 'w') as f:\n",
    "    f.write(datapackage_json)"
   ]
  },
  {
   "cell_type": "markdown",
   "metadata": {},
   "source": [
    "# 5. Write the data to disk"
   ]
  },
  {
   "cell_type": "markdown",
   "metadata": {},
   "source": [
    "Finally, we want to write the data to the output files and save it in the directory of this notebook. First, we prepare different shapes of the dataset."
   ]
  },
  {
   "cell_type": "code",
   "execution_count": null,
   "metadata": {
    "collapsed": false
   },
   "outputs": [],
   "source": [
    "data_sets_multiindex = {}\n",
    "data_sets_stacked = {}\n",
    "for res_key in ['15min', '60min']:\n",
    "    data_sets_multiindex[res_key + '_multiindex'] = data_sets[res_key]\n",
    "    \n",
    "    stacked = data_sets[res_key].copy()\n",
    "    stacked.columns = stacked.columns.droplevel(['source', 'web'])\n",
    "    stacked = stacked.transpose().stack(dropna=True).to_frame(name='data')\n",
    "    data_sets_stacked[res_key + '_stacked'] = stacked"
   ]
  },
  {
   "cell_type": "markdown",
   "metadata": {},
   "source": [
    "## 5.1 Write to SQL-database"
   ]
  },
  {
   "cell_type": "markdown",
   "metadata": {},
   "source": [
    "This file format is required for the filtering function on the OPSD website. This takes about 30 seconds to complete."
   ]
  },
  {
   "cell_type": "code",
   "execution_count": null,
   "metadata": {
    "collapsed": false
   },
   "outputs": [],
   "source": [
    "def write_sql(path):\n",
    "    for res_key, data_set in data_sets_singleindex.items():\n",
    "        table = 'timeseries' + res_key\n",
    "        ds = data_set.copy()\n",
    "        ds.index = ds.index.strftime('%Y-%m-%dT%H:%M:%SZ')\n",
    "        ds.to_sql(table, sqlite3.connect(path),\n",
    "                  if_exists='replace', index_label='timestamp')\n",
    "    return\n",
    "\n",
    "write_sql('data.sqlite')"
   ]
  },
  {
   "cell_type": "markdown",
   "metadata": {},
   "source": [
    "## 5.2 Write to Excel"
   ]
  },
  {
   "cell_type": "markdown",
   "metadata": {},
   "source": [
    "This takes about 15 Minutes to complete."
   ]
  },
  {
   "cell_type": "code",
   "execution_count": null,
   "metadata": {
    "collapsed": false
   },
   "outputs": [],
   "source": [
    "def write_excel():\n",
    "    for res_key, data_set in chain(data_sets_singleindex.items(),\n",
    "                                   data_sets_multiindex.items()):\n",
    "        f = 'timeseries' + res_key\n",
    "        data_set.to_excel(f+ '.xlsx', float_format='%.2f')\n",
    "write_excel()"
   ]
  },
  {
   "cell_type": "markdown",
   "metadata": {},
   "source": [
    "## 5.3 Write to CSV"
   ]
  },
  {
   "cell_type": "markdown",
   "metadata": {},
   "source": [
    "This takes about 10 minutes to complete."
   ]
  },
  {
   "cell_type": "code",
   "execution_count": null,
   "metadata": {
    "collapsed": false
   },
   "outputs": [],
   "source": [
    "def write_csv():\n",
    "    for res_key, data_set in chain(data_sets_singleindex.items(),\n",
    "                                   data_sets_multiindex.items(),\n",
    "                                   data_sets_stacked.items()):\n",
    "        f = 'timeseries' + res_key\n",
    "        data_set.to_csv(f + '.csv', float_format='%.2f',\n",
    "                        date_format='%Y-%m-%dT%H:%M:%SZ')\n",
    "write_csv()"
   ]
  },
  {
   "cell_type": "markdown",
   "metadata": {},
   "source": [
    "# 6. Plausibility checks"
   ]
  },
  {
   "cell_type": "markdown",
   "metadata": {},
   "source": [
    "work in progress"
   ]
  },
  {
   "cell_type": "code",
   "execution_count": null,
   "metadata": {
    "collapsed": false,
    "scrolled": true
   },
   "outputs": [],
   "source": [
    "# pv = compact.xs(('solar'), level=('variable'), axis=1, drop_level=False)\n",
    "# pv.index = pd.MultiIndex.from_arrays([pv.index.date, pv.index.time], names=['date','time'])\n",
    "# pv"
   ]
  },
  {
   "cell_type": "code",
   "execution_count": null,
   "metadata": {
    "collapsed": false,
    "scrolled": true
   },
   "outputs": [],
   "source": [
    "# pv.groupby(level='time').max()"
   ]
  },
  {
   "cell_type": "code",
   "execution_count": null,
   "metadata": {
    "collapsed": false,
    "scrolled": true
   },
   "outputs": [],
   "source": [
    "# pv.unstack().idxmax().to_frame().unstack().transpose()"
   ]
  }
 ],
 "metadata": {
  "kernelspec": {
   "display_name": "Python 3",
   "language": "python",
   "name": "python3"
  },
  "language_info": {
   "codemirror_mode": {
    "name": "ipython",
    "version": 3
   },
   "file_extension": ".py",
   "mimetype": "text/x-python",
   "name": "python",
   "nbconvert_exporter": "python",
   "pygments_lexer": "ipython3",
   "version": "3.5.1"
  }
 },
 "nbformat": 4,
 "nbformat_minor": 0
}
