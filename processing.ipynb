{
 "cells": [
  {
   "cell_type": "markdown",
   "metadata": {
    "nbpresent": {
     "id": "fdd7071a-0bcf-48c5-9ed7-772ab69e59df"
    }
   },
   "source": [
    "<table style=\"width:100%; background-color: #D9EDF7\">\n",
    "  <tr>\n",
    "    <td style=\"border: 1px solid #CFCFCF\">\n",
    "      <b>Time series: Processing notebook</b>\n",
    "      <ul>\n",
    "        <li><a href=\"main.ipynb\">Main notebook</a></li>\n",
    "        <li>Processing Notebook</li>\n",
    "      </ul>\n",
    "      <br>This Notebook is part of the <a href=\"http://data.open-power-system-data.org/time_series\">Time series Datapackage</a> of <a href=\"http://open-power-system-data.org\">Open Power System Data</a>.\n",
    "    </td>\n",
    "  </tr>\n",
    "</table>"
   ]
  },
  {
   "cell_type": "markdown",
   "metadata": {
    "nbpresent": {
     "id": "7c736530-7e78-4477-90ad-9b8230ce0cba"
    }
   },
   "source": [
    "# Table of Contents\n",
    "* [1. Introductory Notes](#1.-Introductory-Notes)\n",
    "* [2. Settings](#2.-Settings)\n",
    "\t* [2.1 Import Python libraries](#2.1-Import-Python-libraries)\n",
    "* [3. Download](#3.-Download)\n",
    "\t* [3.1 Select scope](#3.1-Select-scope)\n",
    "\t* [3.2 Automatic download (for all sources except Energinet.dk)](#3.2-Automatic-download-%28for-all-sources-except-Energinet.dk%29)\n",
    "\t* [3.3 Manual download (Energinet.dk)](#3.3-Manual-download-%28Energinet.dk%29)\n",
    "* [4. Read](#4.-Read)\n",
    "* [5. Processing](#5.-Processing)\n",
    "\t* [5.1 Missing Data Handling](#5.1-Missing-Data-Handling)\n",
    "\t* [5.2 Plausibility checks (not implemented)](#5.2-Plausibility-checks-%28not-implemented%29)\n",
    "\t* [5.3 Mark treated data (not implemented)](#5.3-Mark-treated-data-%28not-implemented%29)\n",
    "\t* [5.4 Rescale load data with data from www.ag-energiebilanzen.de (not implemented)](#5.4-Rescale-load-data-with-data-from-www.ag-energiebilanzen.de-%28not-implemented%29)\n",
    "\t* [5.5 Country specific calculations](#5.5-Country-specific-calculations)\n",
    "\t\t* [5.5.1 Calculate onshore wind generation for TenneT Germany](#5.5.1-Calculate-onshore-wind-generation-for-TenneT-Germany)\n",
    "\t\t* [5.5.2 Aggregate German data from individual TSOs](#5.5.2-Aggregate-German-data-from-individual-TSOs)\n",
    "\t* [5.6 Create hourly data from 15' data](#5.6-Create-hourly-data-from-15'-data)\n",
    "\t* [5.7 Insert a column with Central European (Summer-)time. (Not implemented)](#5.7-Insert-a-column-with-Central-European-%28Summer-%29time.-%28Not-implemented%29)\n",
    "* [6. Create metadata](#6.-Create-metadata)\n",
    "\t* [6.1 General metadata](#6.1-General-metadata)\n",
    "\t* [6.2 Columns-specific metadata](#6.2-Columns-specific-metadata)\n",
    "* [7. Write data to disk](#7.-Write-data-to-disk)\n",
    "\t* [7.1 Different shapes](#7.1-Different-shapes)\n",
    "\t* [7.2 Write to SQL-database](#7.2-Write-to-SQL-database)\n",
    "\t* [7.3 Write to Excel](#7.3-Write-to-Excel)\n",
    "\t* [7.4 Write to CSV](#7.4-Write-to-CSV)\n"
   ]
  },
  {
   "cell_type": "markdown",
   "metadata": {
    "nbpresent": {
     "id": "bba7a58e-f3b2-4d3b-9617-d734c369084f"
    }
   },
   "source": [
    "# 1. Introductory Notes\n",
    "\n",
    "This Notebook handles misssing and implausible data, performs calculations and aggragations and creates the output files. "
   ]
  },
  {
   "cell_type": "markdown",
   "metadata": {
    "nbpresent": {
     "id": "ba6b62da-6cee-476b-a563-c945f3fd0f79"
    }
   },
   "source": [
    "# 2. Settings"
   ]
  },
  {
   "cell_type": "markdown",
   "metadata": {
    "nbpresent": {
     "id": "b09e9686-eda0-441b-b6d9-a78c9b3a05b3"
    }
   },
   "source": [
    "This section: load libraries, select scope. Takes <1s to run."
   ]
  },
  {
   "cell_type": "markdown",
   "metadata": {
    "nbpresent": {
     "id": "2b838df4-f987-4ae4-a132-9c898e3ffab1"
    }
   },
   "source": [
    "## 2.1 Import Python libraries"
   ]
  },
  {
   "cell_type": "markdown",
   "metadata": {
    "nbpresent": {
     "id": "d4e82608-1ad1-4c51-8285-929a5a92c5b6"
    }
   },
   "source": [
    "This section: load libraries and set up a log.\n",
    "\n",
    "Note that this notebook makes use of the [pycountry](https://pypi.python.org/pypi/pycountry) library that is not part of Anaconda. Install it with with `pip install pycountry` from your command line."
   ]
  },
  {
   "cell_type": "code",
   "execution_count": null,
   "metadata": {
    "collapsed": false,
    "nbpresent": {
     "id": "c0035fc6-ff1d-44d8-a3fd-b4c08f53be71"
    }
   },
   "outputs": [],
   "source": [
    "from datetime import datetime, date, timedelta\n",
    "import pandas as pd\n",
    "import numpy as np\n",
    "import logging\n",
    "import pycountry\n",
    "import json\n",
    "import sqlite3\n",
    "import yaml\n",
    "import itertools\n",
    "\n",
    "from timeseries_scripts.read import read\n",
    "from timeseries_scripts.download import download \n",
    "\n",
    "# reload modules with execution of any code, to avoid having to restart \n",
    "# the kernel after editing timeseries_scripts\n",
    "%load_ext autoreload\n",
    "%autoreload 2 \n",
    "\n",
    "logger = logging.getLogger('log')\n",
    "logger.setLevel('INFO')"
   ]
  },
  {
   "cell_type": "markdown",
   "metadata": {
    "nbpresent": {
     "id": "bbf88315-ab62-4a6a-9ea5-aca3bc901fcb"
    }
   },
   "source": [
    "# 3. Download"
   ]
  },
  {
   "cell_type": "markdown",
   "metadata": {
    "nbpresent": {
     "id": "1aa64ff9-3b0d-4d71-a353-494059e56005"
    }
   },
   "source": [
    "This section: download data. This is likely to take several hours to run."
   ]
  },
  {
   "cell_type": "markdown",
   "metadata": {
    "nbpresent": {
     "id": "1562965a-7d74-4c1c-8251-4d82847f294a"
    }
   },
   "source": [
    "\n",
    "Download sources are in `config/sources.yml`, which specifies, for each source, the variables (such as wind and solar generation) alongside all the parameters necessary to execute the downloads.\n",
    "\n",
    "First, a data directory is created on your local computer. Then, download parameters for each data source are defined, including the URL. These parameters are then turned into a YAML-string. Finally, the download is executed one by one. If all data needs to be downloaded, this usually takes several hours.\n",
    "\n",
    "Each file is saved under it's original filename. Note that the original file names are often not self-explanatory (called \"data\" or \"January\"). The files content is revealed by its place in the directory structure."
   ]
  },
  {
   "cell_type": "markdown",
   "metadata": {
    "nbpresent": {
     "id": "8ed60fdb-284d-43db-b802-8e5c405b8e84"
    }
   },
   "source": [
    "## 3.1 Select scope"
   ]
  },
  {
   "cell_type": "markdown",
   "metadata": {
    "nbpresent": {
     "id": "bcdec027-6aa8-4ff4-87c6-dec466cbffe8"
    }
   },
   "source": [
    "This section: select the time range and the data sources for download. Default: all data sources implemented, full time range available."
   ]
  },
  {
   "cell_type": "code",
   "execution_count": null,
   "metadata": {
    "collapsed": false,
    "nbpresent": {
     "id": "f3008d47-ec89-40d0-85ee-776d110f3bb4"
    }
   },
   "outputs": [],
   "source": [
    "# Optionally: Specify the beginning and end of the interval for which to attempt\n",
    "# the download. If None, all available data will be downloaded\n",
    "start_from_user = None  # i.e. date(2016, 1, 1)\n",
    "end_from_user = date(2012, 1, 31) #None  # i.e. date(2016, 1, 31)\n",
    "\n",
    "sources_yaml_path = 'input_parameters/sources.yml'\n",
    "out_path = 'original_data'\n",
    "\n",
    "# Optionally, specify a subset to download/read, e.g. subset=['TenneT', '50Hertz']\n",
    "subset = ['50Hertz', 'Amprion', 'TenneT', 'TransnetBW', 'Elia', 'ENTSO-E',\n",
    "          'OPSD', 'Svenska Kraftnaet', 'Energinet.dk', 'CEPS', 'PSE']\n",
    "subset = ['CEPS']"
   ]
  },
  {
   "cell_type": "markdown",
   "metadata": {
    "nbpresent": {
     "id": "e08368cb-021f-453a-b201-a8d48bc8e4c4"
    }
   },
   "source": [
    "## 3.2 Automatic download (for all sources except Energinet.dk)"
   ]
  },
  {
   "cell_type": "code",
   "execution_count": null,
   "metadata": {
    "collapsed": false,
    "nbpresent": {
     "id": "0c1eb987-6d5f-4e3d-9248-df80b9f37a49"
    },
    "scrolled": false
   },
   "outputs": [],
   "source": [
    "download(sources_yaml_path, \n",
    "         out_path, \n",
    "         start_from_user=start_from_user, \n",
    "         end_from_user=end_from_user, \n",
    "         subset=subset)"
   ]
  },
  {
   "cell_type": "markdown",
   "metadata": {
    "nbpresent": {
     "id": "bae7810a-d4af-4021-a9ab-c4b772a2bd53"
    }
   },
   "source": [
    "## 3.3 Manual download (Energinet.dk)"
   ]
  },
  {
   "cell_type": "markdown",
   "metadata": {
    "nbpresent": {
     "id": "a69f8271-e1fc-4e64-814c-4210fb80c006"
    }
   },
   "source": [
    "Energinet.dk data needs to be downloaded manually from http://www.energinet.dk/en/el/engrosmarked/udtraek-af-markedsdata/Sider/default.aspx\n",
    "Check The following Boxes and then press the \"Get extract\"-button at the end of the page:\n",
    "\n",
    "Period<br>\n",
    "Get data from: 01-01-2000 To: Today<br>\n",
    "all months\n",
    "\n",
    "Data columns <br>\n",
    "Elspot Price, Currency Code/MWh\n",
    "\n",
    "- DK-West\n",
    "- DK-East\n",
    "- Norway\n",
    "- Sweden (SE)\n",
    "- Sweden (SE3)\n",
    "- Sweden (SE4)\n",
    "- DE European Power Exchange\n",
    "\n",
    "Production and consumption, MWh/h\n",
    "\n",
    "- DK-West: Wind power production\n",
    "- DK-West: Solar cell production (estimated)\n",
    "- DK-East: Wind power production\n",
    "- DK-East: Solar cell production (estimated)\n",
    "- DK: Wind power production (onshore)\n",
    "- DK: Wind power production (offshore)\n",
    "\n",
    "Data format:<br>\n",
    "Currency code EUR<br>\n",
    "Decimal format English number Format (period as decimal separator)<br>\n",
    "Date format Other date format(YYYY-MM-DD)<br>\n",
    "Recieve to Excel<br>"
   ]
  },
  {
   "cell_type": "markdown",
   "metadata": {
    "nbpresent": {
     "id": "d0b353e7-179d-4556-bdd2-270192c830fb"
    }
   },
   "source": [
    "# 4. Read"
   ]
  },
  {
   "cell_type": "markdown",
   "metadata": {
    "nbpresent": {
     "id": "d223207e-2b0e-49ec-8bf6-af2969ee5b28"
    }
   },
   "source": [
    "This section: Read each downloaded file into a pandas-DataFrame and merge data from different sources if it has the same time resolution. Takes about 30 minutes to run."
   ]
  },
  {
   "cell_type": "markdown",
   "metadata": {
    "nbpresent": {
     "id": "1300cbb2-efde-4844-b08c-fed092023e38"
    }
   },
   "source": [
    "These are the names of the rows at the top of the data used to store metadata internally. In the output data, this information will be moved to the datapackage.json File."
   ]
  },
  {
   "cell_type": "code",
   "execution_count": null,
   "metadata": {
    "collapsed": false,
    "nbpresent": {
     "id": "4dc92cc3-c01d-4c83-9252-80958edbe0f9"
    }
   },
   "outputs": [],
   "source": [
    "headers = ['variable', 'region', 'attribute', 'source', 'web']"
   ]
  },
  {
   "cell_type": "code",
   "execution_count": null,
   "metadata": {
    "collapsed": false
   },
   "outputs": [],
   "source": [
    "%%time\n",
    "out_path = 'original_data'\n",
    "data_sets = {'15min': pd.DataFrame(), '60min': pd.DataFrame()}\n",
    "\n",
    "for key, data_to_add in read(sources_yaml_path, out_path, headers, subset=subset):\n",
    "    if len(data_sets[key]) == 0:\n",
    "        data_sets[key] = data_to_add\n",
    "    else:\n",
    "        data_sets[key] = data_sets[key].combine_first(data_to_add)"
   ]
  },
  {
   "cell_type": "code",
   "execution_count": null,
   "metadata": {
    "collapsed": true
   },
   "outputs": [],
   "source": [
    "#reindex with a synthetic index that is sure to be continous in order to expose gaps in the data\n",
    "no_gaps = pd.DatetimeIndex(start=data_sets[param_dict['resolution']].index[0],\n",
    "                           end=data_sets[param_dict['resolution']].index[-1],\n",
    "                           freq=param_dict['resolution'])\n",
    "data_sets[param_dict['resolution']] = data_sets[param_dict['resolution']].reindex(index=no_gaps)"
   ]
  },
  {
   "cell_type": "markdown",
   "metadata": {
    "nbpresent": {
     "id": "be24bc5f-e281-43bf-853a-e7130d20d2e8"
    }
   },
   "source": [
    "Display the first five columns of the dataframes to get an impression of them."
   ]
  },
  {
   "cell_type": "code",
   "execution_count": null,
   "metadata": {
    "collapsed": false,
    "nbpresent": {
     "id": "28b0b2ec-c15f-4baf-97ab-1993ec8e896f"
    },
    "scrolled": true
   },
   "outputs": [],
   "source": [
    "data_sets['15min'].head()"
   ]
  },
  {
   "cell_type": "code",
   "execution_count": null,
   "metadata": {
    "collapsed": false,
    "nbpresent": {
     "id": "76252720-3414-4d87-bc6d-17cab0f0aa6b"
    },
    "scrolled": true
   },
   "outputs": [],
   "source": [
    "data_sets['60min'].head()"
   ]
  },
  {
   "cell_type": "markdown",
   "metadata": {
    "nbpresent": {
     "id": "019c8ae9-8934-4074-adfd-278acd212152"
    }
   },
   "source": [
    "Uncomment the following cell to save the DataFrames created by the read function to disk. This way you have the raw data to fall back to if something goes wrong in the ramainder of this notebook."
   ]
  },
  {
   "cell_type": "code",
   "execution_count": null,
   "metadata": {
    "collapsed": false,
    "nbpresent": {
     "id": "dd20b384-c4be-46ec-b513-92250ade2b91"
    }
   },
   "outputs": [],
   "source": [
    "#data_sets['15min'].to_pickle('data_sets_15.pickle')\n",
    "#data_sets['60min'].to_pickle('data_sets_60.pickle')"
   ]
  },
  {
   "cell_type": "markdown",
   "metadata": {
    "nbpresent": {
     "id": "fb7aac79-4fb0-4ecd-a5bd-95d07edb218b"
    }
   },
   "source": [
    "Uncomment this to load the DataFrames saved above"
   ]
  },
  {
   "cell_type": "code",
   "execution_count": null,
   "metadata": {
    "collapsed": false,
    "nbpresent": {
     "id": "8c71e9ef-0f5b-4a78-89c5-081737c52d64"
    }
   },
   "outputs": [],
   "source": [
    "data_sets = {}\n",
    "data_sets['15min'] = pd.read_pickle('data_sets_15.pickle')\n",
    "data_sets['60min'] = pd.read_pickle('data_sets_60.pickle')"
   ]
  },
  {
   "cell_type": "code",
   "execution_count": null,
   "metadata": {
    "collapsed": false,
    "nbpresent": {
     "id": "92f78b00-c84c-4d75-9a23-e57843a427c9"
    }
   },
   "outputs": [],
   "source": [
    "data_sets['60min'].loc['2001-12-31 21:00':,'price']"
   ]
  },
  {
   "cell_type": "markdown",
   "metadata": {
    "nbpresent": {
     "id": "026c6ad8-0422-4887-9361-8e45ae33e0c6"
    }
   },
   "source": [
    "# 5. Processing"
   ]
  },
  {
   "cell_type": "markdown",
   "metadata": {
    "nbpresent": {
     "id": "c446157a-7872-491b-a9c4-0336b87568a6"
    }
   },
   "source": [
    "This section: missing data handling, aggregation of sub-national to national data, aggregate 15'-data to 60'-resolution. Takes XX hours to run."
   ]
  },
  {
   "cell_type": "markdown",
   "metadata": {
    "nbpresent": {
     "id": "0c13e5eb-d8e3-425d-982e-2a25c364cdc5"
    }
   },
   "source": [
    "## 5.1 Missing Data Handling"
   ]
  },
  {
   "cell_type": "markdown",
   "metadata": {
    "nbpresent": {
     "id": "81d4d772-d3c7-4e07-a0a7-49afb3bdf8f6"
    }
   },
   "source": [
    "Patch missing data. At this stage, only implemented for 15 minute resolution solar/wind in-feed data from German TSOs. Small gaps (up to 2 hours) are filled by linear interpolation. For the generation timeseries, larger gaps are guessed by up-/down scaling the data from other balancing areas to fit the expected magnitude of the missing data.\n",
    "\n",
    "The locations of missing data are stored in the nan_table DataFrame."
   ]
  },
  {
   "cell_type": "code",
   "execution_count": null,
   "metadata": {
    "collapsed": false,
    "nbpresent": {
     "id": "314c2c94-7676-43fc-b22c-9b915e786d47"
    }
   },
   "outputs": [],
   "source": [
    "def find_NaN(frame, patch=False):\n",
    "    '''\n",
    "    Search for missing values in a DataFrame and optionally apply further \n",
    "    functions on each column.\n",
    "    Returns the DataFrame with gaps patched and another DataFrame containing\n",
    "    information about missing data.\n",
    "    \n",
    "    Parameters\n",
    "    ----------    \n",
    "    frame : pandas.core.frame.DataFrame\n",
    "        DataFrame to inspect and possibly patch\n",
    "    patch : boolean, optional\n",
    "        If False, return unaltered DataFrame,\n",
    "        if True, return patched DataFrame\n",
    "    \n",
    "    '''\n",
    "    nan_table = pd.DataFrame()\n",
    "    patched = pd.DataFrame()\n",
    "    one_period = frame.index[1] - frame.index[0]\n",
    "    for col_name, col in frame.iteritems():\n",
    "        col = col.to_frame()  # kann man colname wieder an df drankleben? df sollte col heißen\n",
    "\n",
    "        # tag all occurences of NaN in the data\n",
    "        # (but not before first or after last actual entry)\n",
    "        col['tag'] = (\n",
    "            (col.index >= col.first_valid_index()) &\n",
    "            (col.index <= col.last_valid_index()) &\n",
    "            col.isnull().transpose().as_matrix()\n",
    "        ).transpose()\n",
    "\n",
    "        # make another DF to hold info about each region\n",
    "        nan_regs = pd.DataFrame()\n",
    "\n",
    "        # first row of consecutive region is a True preceded by a False in tags\n",
    "        nan_regs['start_idx'] = col.index[\n",
    "            col['tag'] & ~ \n",
    "            col['tag'].shift(1).fillna(False)]\n",
    "\n",
    "        # last row of consecutive region is a False preceded by a True   \n",
    "        nan_regs['till_idx'] = col.index[\n",
    "            col['tag'] & ~ \n",
    "            col['tag'].shift(-1).fillna(False)] \n",
    "        \n",
    "        if not col['tag'].any():\n",
    "            logger.info('%s : nothing to patch in this column', col_name[0:3])\n",
    "            col.drop('tag', axis=1, inplace=True)\n",
    "            nan_idx = pd.MultiIndex.from_arrays([\n",
    "                    [0, 0, 0, 0],\n",
    "                    ['count', 'span', 'start_idx', 'till_idx']])\n",
    "            nan_list = pd.DataFrame(index=nan_idx, columns=col.columns)\n",
    "            \n",
    "        else:\n",
    "            # how long is each region\n",
    "            nan_regs['span'] = (\n",
    "                nan_regs['till_idx'] - nan_regs['start_idx'] + one_period)\n",
    "            nan_regs['count'] = (nan_regs['span'] / one_period)\n",
    "            # sort the nan_regs DataFtame to put longest missing region on top\n",
    "            nan_regs = nan_regs.sort_values(\n",
    "                'count', ascending=False).reset_index(drop=True)\n",
    "            \n",
    "            col.drop('tag', axis=1, inplace=True)\n",
    "            nan_list = nan_regs.stack().to_frame()\n",
    "            nan_list.columns = col.columns\n",
    "            \n",
    "            if patch:\n",
    "                col = choose_fill_method(\n",
    "                    col, col_name, nan_regs, frame, one_period)\n",
    "                \n",
    "        if len(patched) == 0:\n",
    "            patched = col\n",
    "        else:\n",
    "            patched = patched.combine_first(col)\n",
    "\n",
    "        if len(nan_table) == 0:\n",
    "            nan_table = nan_list\n",
    "        else:\n",
    "            nan_table = nan_table.combine_first(nan_list)\n",
    "\n",
    "    nan_table.columns.names = headers\n",
    "    patched.columns.names = headers\n",
    "\n",
    "    return patched, nan_table\n",
    "\n",
    "\n",
    "def choose_fill_method(col, col_name, nan_regs, frame, one_period):\n",
    "    '''\n",
    "    Choose how a region of missing values should be treated. Returns\n",
    "    the column with all nan_regs treated.\n",
    "        \n",
    "    Parameters\n",
    "    ----------  \n",
    "    col : pandas.core.frame.DataFrame\n",
    "        A column from frame as a separate DataFrame \n",
    "    col_name : str\n",
    "        DataFrame to inspect\n",
    "    nan_regs : : pandas.core.frame.DataFrame\n",
    "        DataFrame with each row representing a region of missing data in col\n",
    "    frame : pandas.core.frame.DataFrame\n",
    "        DataFrame to patch\n",
    "    one_period : pandas.tslib.Timedelta\n",
    "        Time resolution of frame and col (15/60 minutes)\n",
    "        \n",
    "    '''\n",
    "    for i, nan_region in nan_regs.iterrows():\n",
    "        j = 0\n",
    "        # Interpolate missing value spans up to 2 hours\n",
    "        if nan_region['span'] <= timedelta(hours=2):\n",
    "            col = my_interpolate(i, j, nan_region, col, col_name, nan_regs, one_period)\n",
    "        # Guess missing value spans longer than one hour based on other tsos\n",
    "        # (Only for German wind and solar generation data)\n",
    "        elif col_name[1][:2] == 'DE' and col_name[2] == 'generation':\n",
    "            j += 1\n",
    "            col = impute(nan_region, col, col_name, nan_regs, frame, one_period)\n",
    "    \n",
    "    return col\n",
    "\n",
    "\n",
    "def my_interpolate(i, j, nan_region, col, col_name, nan_regs, one_period):\n",
    "    '''\n",
    "    Interpolate one missing value region in one column as described by \n",
    "    nan_region. Returns the column as a pandas.DataFrame.\n",
    "    \n",
    "    Parameters\n",
    "    ----------\n",
    "    i : int\n",
    "        Counter for total number of regions of missing data\n",
    "    j : int\n",
    "        Counter for number regions of missing data not treated by by this\n",
    "        function\n",
    "    nan_region : pandas.core.series.Series\n",
    "        Contains information on one region of missing data in col\n",
    "    col : pandas.core.frame.DataFrame\n",
    "        A column from frame as a separate DataFrame \n",
    "    col_name : str\n",
    "        DataFrame to inspect\n",
    "    nan_regs : : pandas.core.frame.DataFrame\n",
    "        DataFrame with each row representing a region of missing data in col\n",
    "    one_period : pandas.tslib.Timedelta\n",
    "        Time resolution of frame and col (15/60 minutes)\n",
    "    \n",
    "    '''\n",
    "    if i + 1 == len(nan_regs):\n",
    "        logger.info('%s : \\n\\t '\n",
    "                    'interpolated %s up-to-2-hour-spans of NaNs',\n",
    "                    col_name[0:3], i + 1 - j)\n",
    "        \n",
    "    to_fill = slice(nan_region['start_idx'] - one_period,\n",
    "                    nan_region['till_idx'] + one_period)\n",
    "    col.iloc[:,0].loc[to_fill] = col.iloc[:,0].loc[to_fill].interpolate()\n",
    "    \n",
    "    return col\n",
    "\n",
    "\n",
    "def impute(nan_region, col, col_name, nan_regs, frame, one_period):\n",
    "    '''\n",
    "    Impute missing value spans longer than one hour based on other TSOs.\n",
    "        \n",
    "    Parameters\n",
    "    ----------\n",
    "    nan_region : pandas.core.series.Series\n",
    "        Contains information on one region of missing data in col\n",
    "    col : pandas.DataFrame\n",
    "        A column from frame as a separate DataFrame \n",
    "    col_name : str\n",
    "        DataFrame to inspect\n",
    "    nan_regs : : pandas.DataFrame\n",
    "        DataFrame with each row representing a region of missing data in col\n",
    "    frame : pandas.DataFrame\n",
    "        DataFrame to patch\n",
    "    one_period : pandas.tslib.Timedelta\n",
    "        Time resolution of frame and col (15/60 minutes)\n",
    "    \n",
    "    '''\n",
    "    #logger.info('guessed %s entries after %s', row['count'], row['start_idx'])\n",
    "    day_before = pd.DatetimeIndex(\n",
    "        freq='15min',\n",
    "        start=nan_region['start_idx'] - timedelta(hours=24),\n",
    "        end=nan_region['start_idx'] - one_period)\n",
    "\n",
    "    to_fill = pd.DatetimeIndex(\n",
    "        freq='15min',\n",
    "        start=nan_region['start_idx'],\n",
    "        end=nan_region['till_idx'])\n",
    "\n",
    "    # other_tsos = [c[1] for c in compact.drop(col_name, axis=1).loc[:,(col_name[0],slice(None),col_name[2])].columns.tolist()]\n",
    "    other_tsos = [\n",
    "        tso for tso in ['DE-50Hertz', 'DE-Amprion', 'DE-TenneT', 'DE-TransnetBW']\n",
    "        if tso != col_name[1]]\n",
    "\n",
    "    # select columns with data for same technology (wind/solar) but from other TSOs\n",
    "    similar = frame.loc[:,(col_name[0],other_tsos,col_name[2])]\n",
    "    # calculate the sum using columns without NaNs the day \n",
    "    # before or during the period to be guessed\n",
    "    similar = similar.dropna(\n",
    "        axis=1,\n",
    "        how='any',\n",
    "        subset=day_before.append(to_fill)\n",
    "    ).sum(axis=1)\n",
    "    # calculate scaling factor for other TSO data\n",
    "    factor =  similar.loc[day_before].sum(axis=0) / col.loc[day_before,:].sum(axis=0)\n",
    "\n",
    "    guess = similar.loc[to_fill] / float(factor)\n",
    "    col.iloc[:,0].loc[to_fill] = guess\n",
    "    a = float(col.iloc[:,0].loc[nan_region['start_idx'] - one_period])\n",
    "    b = float(col.iloc[:,0].loc[nan_region['start_idx']])\n",
    "    if a == 0:\n",
    "        deviation = '{} absolut'.format(a - b)\n",
    "    else:\n",
    "        deviation = '{:.2f} %'.format((a - b) / a * 100)\n",
    "    logger.info(\n",
    "        '%s : \\n        '\n",
    "        'guessed %s entries after %s \\n        '\n",
    "        'last non-missing: %s \\n        '\n",
    "        'first guessed: %s \\n        '\n",
    "        'deviation of first guess from last known value: %s',\n",
    "        col_name[0:3], nan_region['count'], nan_region['start_idx'], a, b, deviation\n",
    "    )                      \n",
    "    return col"
   ]
  },
  {
   "cell_type": "markdown",
   "metadata": {
    "nbpresent": {
     "id": "533cd53f-eb8f-4699-bbf7-72ad1cf90325"
    }
   },
   "source": [
    "Patch the 15 minutes dataset and display the location of missing Data in the original data."
   ]
  },
  {
   "cell_type": "code",
   "execution_count": null,
   "metadata": {
    "collapsed": false,
    "nbpresent": {
     "id": "33602355-28cb-4d5c-b97e-fe59b9b48883"
    },
    "scrolled": true
   },
   "outputs": [],
   "source": [
    "# FRAUKE: Hier und bei den beiden nachfolgenden Befehlen kommt bei mir ein Fehler:\n",
    "# IndexError: index 1 is out of bounds for axis 0 with size 0\n",
    "# Ich hatte nur das Svenska Data set ausgewählt, liegt vermutlich daran\n",
    "# Wäre gut hier trotzdem kein Fehler zu bekommen\n",
    "patched60, nan_table60 = find_NaN(data_sets['60min'], patch=True)"
   ]
  },
  {
   "cell_type": "markdown",
   "metadata": {
    "nbpresent": {
     "id": "4c5c4893-5098-47df-8e68-51b13f5fd484"
    }
   },
   "source": [
    "Show the complete table of regions of missing values"
   ]
  },
  {
   "cell_type": "code",
   "execution_count": null,
   "metadata": {
    "collapsed": false,
    "nbpresent": {
     "id": "b5207ca6-4a72-40b6-8afd-3123f66ae323"
    },
    "scrolled": true
   },
   "outputs": [],
   "source": [
    "nan_table60"
   ]
  },
  {
   "cell_type": "markdown",
   "metadata": {
    "nbpresent": {
     "id": "dbd5c3ca-724e-43c1-9f74-39ef86f0f79f"
    }
   },
   "source": [
    "Execute this to see whether there is still missing data. This is the case for some of the forecast columns."
   ]
  },
  {
   "cell_type": "code",
   "execution_count": null,
   "metadata": {
    "collapsed": false,
    "nbpresent": {
     "id": "6d362671-e152-4dd0-83ae-5b3e6e747b05"
    },
    "scrolled": true
   },
   "outputs": [],
   "source": [
    "patched2, nan_table2 = find_NaN(patched)\n",
    "nan_table2"
   ]
  },
  {
   "cell_type": "markdown",
   "metadata": {
    "nbpresent": {
     "id": "345c31ec-fa0b-4859-a930-8b7c20f1e1bf"
    }
   },
   "source": [
    "Execute this to see an example of where the data has been patched."
   ]
  },
  {
   "cell_type": "code",
   "execution_count": null,
   "metadata": {
    "collapsed": false,
    "nbpresent": {
     "id": "97688e1c-4f23-4ead-bfde-4867d93c85a1"
    },
    "scrolled": true
   },
   "outputs": [],
   "source": [
    "# FRAUKE: Ist da immer ein Fehler? Könnte man da nicht den ersten gefundenen\n",
    "# und gefüllten Fehler nehmen?\n",
    "data_sets['15min'].loc['2015-10-24 23:00:00':'2015-10-25 03:00:00', 'wind-onshore']"
   ]
  },
  {
   "cell_type": "code",
   "execution_count": null,
   "metadata": {
    "collapsed": false,
    "nbpresent": {
     "id": "87f3e784-dde7-4bd7-abec-a20ebb551ac7"
    }
   },
   "outputs": [],
   "source": [
    "patched.loc['2015-10-24 23:00:00':'2015-10-25 03:00:00', 'wind']"
   ]
  },
  {
   "cell_type": "markdown",
   "metadata": {
    "nbpresent": {
     "id": "d92cc2d9-705d-4e6f-8c6e-4e53a9758ea3"
    }
   },
   "source": [
    "Replace the untreated data set with the patched one."
   ]
  },
  {
   "cell_type": "code",
   "execution_count": null,
   "metadata": {
    "collapsed": false,
    "nbpresent": {
     "id": "5693b1d9-2a7f-4cf2-a59a-ef5fd4eb2abf"
    }
   },
   "outputs": [],
   "source": [
    "data_sets['60min'] = patched60"
   ]
  },
  {
   "cell_type": "markdown",
   "metadata": {
    "nbpresent": {
     "id": "192a09e4-fda0-4131-a691-c621c4076c14"
    }
   },
   "source": [
    "## 5.2 Plausibility checks (not implemented)"
   ]
  },
  {
   "cell_type": "code",
   "execution_count": null,
   "metadata": {
    "collapsed": true,
    "nbpresent": {
     "id": "6cf30c9c-48fa-4b7c-8ce1-4a2c4a759664"
    }
   },
   "outputs": [],
   "source": [
    "# pv = compact.xs(('solar'), level=('variable'), axis=1, drop_level=False)\n",
    "# pv.index = pd.MultiIndex.from_arrays([pv.index.date, pv.index.time], names=['date','time'])\n",
    "# pv\n",
    "\n",
    "# pv.groupby(level='time').max()\n",
    "\n",
    "# pv.unstack().idxmax().to_frame().unstack().transpose()"
   ]
  },
  {
   "cell_type": "markdown",
   "metadata": {
    "nbpresent": {
     "id": "1bdc2042-5dea-4f82-a7f1-cfdec4cac9f1"
    }
   },
   "source": [
    "## 5.3 Mark treated data (not implemented)"
   ]
  },
  {
   "cell_type": "markdown",
   "metadata": {
    "nbpresent": {
     "id": "87584d71-659d-4e15-a12c-89d65f964762"
    }
   },
   "source": [
    "## 5.4 Rescale load data with data from www.ag-energiebilanzen.de (not implemented)"
   ]
  },
  {
   "cell_type": "markdown",
   "metadata": {
    "nbpresent": {
     "id": "abd61a95-68e4-4bf2-9f1f-ef010b4cd288"
    }
   },
   "source": [
    "## 5.5 Country specific calculations"
   ]
  },
  {
   "cell_type": "markdown",
   "metadata": {
    "nbpresent": {
     "id": "0a2cc638-d6f5-4f7f-a044-fb61d20cf4ad"
    }
   },
   "source": [
    "### 5.5.1 Calculate onshore wind generation for TenneT Germany"
   ]
  },
  {
   "cell_type": "code",
   "execution_count": null,
   "metadata": {
    "collapsed": false,
    "nbpresent": {
     "id": "bf3ed17a-caaa-42d6-82ea-85209fd349b7"
    },
    "scrolled": true
   },
   "outputs": [],
   "source": [
    "new_col_header = ('wind-onshore', 'DE-TenneT', 'generation',\n",
    "                  'own calculation', 'own calculation')\n",
    "\n",
    "data_sets['15min'][new_col_header] = (\n",
    "    data_sets['15min'][('wind-total', 'DE-TenneT', 'generation')] - \n",
    "    data_sets['15min'][('wind-offshore', 'DE-TenneT', 'generation')])"
   ]
  },
  {
   "cell_type": "code",
   "execution_count": null,
   "metadata": {
    "collapsed": false,
    "nbpresent": {
     "id": "ff7cdcc9-101c-4779-bf4e-c5fce0f7efbc"
    }
   },
   "outputs": [],
   "source": [
    "# DELETE THIS \n",
    "# some more display options...sortlevel() solves the error where .loc[] requires\n",
    "# a lexsortet index \n",
    "data_sets['15min'].sortlevel(axis=1).loc[:,('wind-offshore', slice(None), 'generation')]\n",
    "data_sets['15min'].sortlevel(axis=1).loc[:,(slice(None), 'DE-50Hertz', 'generation')]\n",
    "data_sets['15min'].drop('solar', axis=1, level=0).xs('DE-TenneT', axis=1, level=1)['2015':]"
   ]
  },
  {
   "cell_type": "markdown",
   "metadata": {
    "nbpresent": {
     "id": "cbcd1b7c-6c9c-4d1a-ab70-28276b421805"
    }
   },
   "source": [
    "### 5.5.2 Aggregate German data from individual TSOs and calculate availabilities/profiles"
   ]
  },
  {
   "cell_type": "markdown",
   "metadata": {
    "nbpresent": {
     "id": "9ab0116d-402b-444b-acf2-925388a9886b"
    }
   },
   "source": [
    "The wind and solar in-feed data for the 4 German balancing areas is summed up and stored in in new columns, which are then used to calculate profiles, that is, the share of wind/solar capacity producing at a given time. The column headers are created in the fashion introduced in the read script."
   ]
  },
  {
   "cell_type": "code",
   "execution_count": null,
   "metadata": {
    "collapsed": false,
    "nbpresent": {
     "id": "26a83b1c-682d-43ec-bb70-12a096089508"
    }
   },
   "outputs": [],
   "source": [
    "# FRAUKE: Funktioniert da auch wenn man die Deutschen Daten gar nicht alle \n",
    "# ausgewählt hat oder kommt dann ein Fehler? Falls vieles drauf basiert, dass\n",
    "# die deutschen Daten mit dabei sind, könntest Du auch oben bei der Auswahl\n",
    "# include_sources klar machen, dass die auf jeden Fall dabei sein müssen\n",
    "# FRAUKE: Im Text vor dieser Zelle verstehe ich nicht was die profiles sind\n",
    "# Einspeisung / Load für jeden Zeitschritt?\n",
    "for tech in ['solar', 'wind-onshore', 'wind-offshore']:\n",
    "    for attribute in ['generation']:  #, 'forecast']:\n",
    "        sum_col = pd.Series()\n",
    "        for tso in ['DE-50Hertz', 'DE-Amprion', 'DE-TenneT', 'DE-TransnetBW']:\n",
    "            try:\n",
    "                add_col = data_sets['15min'][tech, tso, attribute]\n",
    "                if len(sum_col) == 0:\n",
    "                    sum_col = add_col\n",
    "                else:\n",
    "                    sum_col = sum_col + add_col.values\n",
    "            except KeyError: # Occurs i.e. for Amprion and TransnetBW, which\n",
    "                # don't have offshore\n",
    "                pass\n",
    "                \n",
    "        # Create a new MultiIndex\n",
    "        tuples = [(tech, 'DE', attribute, 'own calculation', 'own calculation')]\n",
    "        columns = pd.MultiIndex.from_tuples(tuples, names=headers)\n",
    "        sum_col.columns = columns\n",
    "        data_sets['15min'] = data_sets['15min'].combine_first(sum_col)\n",
    "        \n",
    "        # Calculate the profile column\n",
    "        try:\n",
    "            if attribute == 'generation':\n",
    "                profile_col = sum_col.values / data_sets['15min'][tech, 'DE', 'capacity']\n",
    "                tuples = [(tech, 'DE', 'profile', 'own calculation', 'own calculation')]\n",
    "                columns = pd.MultiIndex.from_tuples(tuples, names=headers)\n",
    "                profile_col.columns = columns\n",
    "                data_sets['15min'] = data_sets['15min'].combine_first(profile_col)\n",
    "        except KeyError:\n",
    "            pass  # FIXME Jan: FIXME! JONATHAN: This step requires now capacities\n",
    "        # seperately for on- and offshore from Flensburg"
   ]
  },
  {
   "cell_type": "markdown",
   "metadata": {
    "nbpresent": {
     "id": "de071e5f-c9a3-4bec-9539-0db184c58fdc"
    }
   },
   "source": [
    "New columns for the aggregated data have been added to the 15 minutes dataset."
   ]
  },
  {
   "cell_type": "code",
   "execution_count": null,
   "metadata": {
    "collapsed": false,
    "nbpresent": {
     "id": "1d1306cb-7c1e-4893-a80f-fbfe9fb70db8"
    }
   },
   "outputs": [],
   "source": [
    "# FRAUKE: bei 50Hertz gibt es noch immer NaN gleich am Anfang\n",
    "data_sets['15min'].head()"
   ]
  },
  {
   "cell_type": "markdown",
   "metadata": {
    "nbpresent": {
     "id": "4e311f14-5124-47fd-9f94-0a866e9a6f71"
    }
   },
   "source": [
    "## 5.6 Create hourly data from 15' data"
   ]
  },
  {
   "cell_type": "markdown",
   "metadata": {
    "nbpresent": {
     "id": "882bf163-9e93-44a4-9c51-a3ce0c32b4f4"
    }
   },
   "source": [
    "The German renewables in-feed data comes in 15-minute intervals. We resample it to hourly intervals in order to match the load data from ENTSO-E."
   ]
  },
  {
   "cell_type": "code",
   "execution_count": null,
   "metadata": {
    "collapsed": false,
    "nbpresent": {
     "id": "c19e3eb9-feca-4e94-9035-580aa07189ba"
    }
   },
   "outputs": [],
   "source": [
    "# FRAUKE: Hier kommt bei mir ein Fehler als ich es mit nur dem 50Hertz\n",
    "# Datensatz probiert habe\n",
    "resampled = data_sets['15min'].resample('H').mean()\n",
    "try:\n",
    "    data_sets['60min'] = data_sets['60min'].combine_first(resampled)\n",
    "except KeyError:\n",
    "    data_sets['60min'] = resampled"
   ]
  },
  {
   "cell_type": "markdown",
   "metadata": {
    "nbpresent": {
     "id": "1f0f54e1-5469-42d4-a1c2-c36d310c6598"
    }
   },
   "source": [
    "New columns for the resampled data have been added to the 60 minutes dataset."
   ]
  },
  {
   "cell_type": "code",
   "execution_count": null,
   "metadata": {
    "collapsed": false,
    "nbpresent": {
     "id": "86354dcb-6a7f-4a2d-878a-2bf60b2a3507"
    },
    "scrolled": true
   },
   "outputs": [],
   "source": [
    "data_sets['60min'].head()"
   ]
  },
  {
   "cell_type": "markdown",
   "metadata": {
    "nbpresent": {
     "id": "dea911fb-326f-46a6-a009-57af147d4be4"
    }
   },
   "source": [
    "## 5.7 Insert a column with Central European (Summer-)time. (Not implemented)"
   ]
  },
  {
   "cell_type": "code",
   "execution_count": null,
   "metadata": {
    "collapsed": false,
    "nbpresent": {
     "id": "b1550779-53cc-498d-980b-7aa253974c91"
    }
   },
   "outputs": [],
   "source": [
    "# Still causes some problems, not recommended\n",
    "#for res_key, df in data_sets.items():\n",
    "#    if not df.empty:\n",
    "#        df.insert(0, 'cet-timestamp', df.index.tz_localize('UTC').tz_convert('Europe/Brussels'))"
   ]
  },
  {
   "cell_type": "markdown",
   "metadata": {
    "nbpresent": {
     "id": "4e625ea7-c448-45fe-85b2-026157ad24c0"
    }
   },
   "source": [
    "# 6. Create metadata"
   ]
  },
  {
   "cell_type": "markdown",
   "metadata": {
    "nbpresent": {
     "id": "38b6a454-31c4-4112-971f-da8271131d54"
    }
   },
   "source": [
    "This section: create the metadata, both general and column-specific. All metadata we be stored as a JSON file. Takes <1s to run."
   ]
  },
  {
   "cell_type": "markdown",
   "metadata": {
    "nbpresent": {
     "id": "828c536c-c470-49af-a2cf-8c59813c91f4"
    }
   },
   "source": [
    "## 6.1 General metadata"
   ]
  },
  {
   "cell_type": "markdown",
   "metadata": {
    "nbpresent": {
     "id": "16cf9512-9db3-4e61-9f40-9a6434122a91"
    }
   },
   "source": [
    "First, we define the general metadata for the timeseries datapackage"
   ]
  },
  {
   "cell_type": "code",
   "execution_count": null,
   "metadata": {
    "collapsed": false,
    "nbpresent": {
     "id": "322c6873-2363-4623-b09d-22bc8fde625d"
    }
   },
   "outputs": [],
   "source": [
    "metadata_head = '''\n",
    "name: opsd-timeseries\n",
    "\n",
    "title: 'Time-series data: load, wind and solar, prices'\n",
    "\n",
    "description: This data package contains different kinds of timeseries\n",
    "    data relevant for power system modelling, namely electricity consumption \n",
    "    (load) for 36 European countries as well as wind and solar power generation\n",
    "    and capacities and prices for a growing subset of countries. \n",
    "    The timeseries become available at different points in time depending on the\n",
    "    sources. The full dataset is only available from 2012 onwards. The\n",
    "    data has been downloaded from the sources, resampled and merged in\n",
    "    a large CSV file with hourly resolution. Additionally, the data\n",
    "    available at a higher resolution (Some renewables in-feed, 15\n",
    "    minutes) is provided in a separate file. All data processing is\n",
    "    conducted in python and pandas and has been documented in the\n",
    "    Jupyter notebooks linked below.\n",
    "opsd-jupyter-notebook-url: https://github.com/Open-Power-System-Data/datapackage_timeseries/blob/2016-07-14/main.ipynb\n",
    "\n",
    "version: '2016-07-14'\n",
    "\n",
    "opsd-changes-to-last-version: Included data from Energinet.DK, Elia and \n",
    "    Svenska Kraftnaet\n",
    "\n",
    "keywords:\n",
    "    - timeseries\n",
    "    - electricity\n",
    "    - in-feed\n",
    "    - capacity\n",
    "    - renewables\n",
    "    - wind\n",
    "    - solar\n",
    "    - load\n",
    "    - tso\n",
    "    - europe\n",
    "    - germany\n",
    "\n",
    "geographical-scope: Europe\n",
    "\n",
    "licenses: \n",
    "    - url: http://example.com/license/url/here\n",
    "      version: 1.0\n",
    "      name: License Name Here\n",
    "      id: license-id-from-open\n",
    "\n",
    "views: \n",
    "    - {}\n",
    "\n",
    "maintainers:\n",
    "    - web: http://example.com/\n",
    "      name: Jonathan Muehlenpfordt\n",
    "      email: muehlenpfordt@neon-energie.de\n",
    "\n",
    "resources:\n",
    "'''\n",
    "\n",
    "source_template = '''\n",
    "    - name: {source}\n",
    "      web: {web}\n",
    "'''\n",
    "\n",
    "resource_template = '''\n",
    "    - path: timeseries{res_key}.csv\n",
    "      format: csv\n",
    "      mediatype: text/csv\n",
    "      alternative_formats:\n",
    "          - path: timeseries{res_key}.csv\n",
    "            stacking: Singleindex\n",
    "            format: csv\n",
    "          - path: timeseries{res_key}.xlsx\n",
    "            stacking: Singleindex\n",
    "            format: xlsx\n",
    "          - path: timeseries{res_key}_multiindex.xlsx\n",
    "            stacking: Multiindex\n",
    "            format: xlsx\n",
    "          - path: timeseries{res_key}_multiindex.csv\n",
    "            stacking: Multiindex\n",
    "            format: csv\n",
    "          - path: timeseries{res_key}_stacked.csv\n",
    "            stacking: Stacked\n",
    "            format: csv\n",
    "      schema:\n",
    "          fields:\n",
    "'''\n",
    "\n",
    "indexfield = '''\n",
    "            - name: timestamp\n",
    "              description: Start of timeperiod in UTC\n",
    "              type: datetime\n",
    "              format: YYYY-MM-DDThh:mm:ssZ\n",
    "'''\n",
    "\n",
    "field_template = '''\n",
    "            - name: {variable}_{region}_{attribute}\n",
    "              description: {description}\n",
    "              type: number (float)\n",
    "              source:\n",
    "                  name: {source}\n",
    "                  web: {web}\n",
    "              opsd-properties: \n",
    "                  Region: {region}\n",
    "                  Variable: {variable}\n",
    "                  Attribute: {attribute}\n",
    "'''\n",
    "\n",
    "descriptions_template = '''\n",
    "load: Consumption in {geo} in MW\n",
    "generation: Actual {tech} generation in {geo} in MW\n",
    "actual: Actual {tech} generation in {geo} in MW\n",
    "forecast: {tech} day-ahead generation forecast in {geo} in MW\n",
    "capacity: {tech} capacity in {geo} in MW\n",
    "profile: Share of {tech} capacity producing in {geo}\n",
    "offshoreshare: {tech} actual offshore generation in {geo} in MW\n",
    "EPEX: lalala\n",
    "Elspot: dududu\n",
    "'''"
   ]
  },
  {
   "cell_type": "markdown",
   "metadata": {
    "nbpresent": {
     "id": "1e524284-52af-46e1-a20f-d4a516f97d1f"
    }
   },
   "source": [
    "## 6.2 Columns-specific metadata"
   ]
  },
  {
   "cell_type": "markdown",
   "metadata": {
    "nbpresent": {
     "id": "2cd6bd44-9d39-442b-a307-9faa96d09eb0"
    }
   },
   "source": [
    "For each dataset/outputfile, the metadata has an entry in the \"resources\" list that describes the file/dataset. The main part of each entry is the \"schema\" dictionary, consisting of a list of \"fields\", meaning the columns in the dataset. The first field is the timestamp index of the dataset. For the other fields, we iterate over the columns of the MultiIndex index of the datasets to contruct the corresponding metadata."
   ]
  },
  {
   "cell_type": "code",
   "execution_count": null,
   "metadata": {
    "collapsed": false,
    "nbpresent": {
     "id": "4b818dde-0771-4959-9663-d03a3c59f4ac"
    }
   },
   "outputs": [],
   "source": [
    "resource_list = '' # list of files included in the datapackage\n",
    "source_list = '' # list of sources were data comes from\n",
    "for res_key, df in data_sets.items():\n",
    "    field_list = indexfield # list of of columns in a file, starting with the index field\n",
    "    for col in df.columns: # create \n",
    "        h = {k: v for k, v in zip(headers, col)}\n",
    "        if len(h['region']) > 2:\n",
    "            geo = h['region'] + ' control area'\n",
    "        elif h['region'] == 'NI':\n",
    "            geo = 'Northern Ireland'\n",
    "        elif h['region'] == 'CS':\n",
    "            geo = 'Serbia and Montenegro'\n",
    "        else:\n",
    "            geo = pycountry.countries.get(alpha2=h['region']).name\n",
    "\n",
    "        descriptions = yaml.load(\n",
    "            descriptions_template.format(tech=h['variable'], geo=geo)\n",
    "            )\n",
    "        h['description'] = descriptions[h['attribute']]\n",
    "        field_list = field_list + field_template.format(**h)\n",
    "        source_list = source_list + source_template.format(**h)\n",
    "    resource_list = resource_list + resource_template.format(res_key=res_key) + field_list\n",
    "\n",
    "# Remove duplicates from sources_list. set() returns unique values from a \n",
    "# collection, butit cannot compare dicts. Since source_list is a list of of \n",
    "# dicts, this requires some juggling with data types\n",
    "source_list = [dict(tupleized) \n",
    "               for tupleized in set(tuple(entry.items())\n",
    "                                    for entry in yaml.load(source_list))] \n",
    "\n",
    "metadata = yaml.load(metadata_head)\n",
    "metadata['sources'] = source_list\n",
    "metadata['resources'] = yaml.load(resource_list)"
   ]
  },
  {
   "cell_type": "markdown",
   "metadata": {
    "nbpresent": {
     "id": "ef6972f8-d9a9-48e9-be37-3c61441f9c61"
    }
   },
   "source": [
    "Execute this to write the metadata to disk"
   ]
  },
  {
   "cell_type": "code",
   "execution_count": null,
   "metadata": {
    "collapsed": false,
    "nbpresent": {
     "id": "7d22eb27-f984-460e-afdc-52e688493703"
    }
   },
   "outputs": [],
   "source": [
    "datapackage_json = json.dumps(metadata, indent=2, separators=(',', ': '))\n",
    "with open('datapackage.json', 'w') as f:\n",
    "    f.write(datapackage_json)"
   ]
  },
  {
   "cell_type": "markdown",
   "metadata": {
    "nbpresent": {
     "id": "fa919796-a7f6-4556-aeed-181ddc6028ac"
    }
   },
   "source": [
    "# 7. Write data to disk"
   ]
  },
  {
   "cell_type": "markdown",
   "metadata": {
    "nbpresent": {
     "id": "1b3c9199-ce14-4487-939d-656f60c14df3"
    }
   },
   "source": [
    "This section: Save as [Data Package](http://data.okfn.org/doc/tabular-data-package) (data in CSV, metadata in JSON file). All files are saved in the directory of this notebook. Alternative file formats (SQL, XLSX) are also exported. Takes about 1 hour to run."
   ]
  },
  {
   "cell_type": "markdown",
   "metadata": {
    "nbpresent": {
     "id": "47c1efa2-d93f-4d13-81d7-8f64dadeff3f"
    }
   },
   "source": [
    "## 7.1 Different shapes"
   ]
  },
  {
   "cell_type": "markdown",
   "metadata": {
    "nbpresent": {
     "id": "a753ac43-a0f4-44bc-a89d-1ccaaf48289a"
    }
   },
   "source": [
    "Data are provided in three different \"shapes\": \n",
    "* Singleindex (easy to read for humans, compatible with datapackage standard, small file size) \n",
    "* Multiindex (easy to read into GAMS, not compatible with datapackage standard, small file size) \n",
    "* Stacked (compatible with data package standard, large file size, many rows, too many for Excel) "
   ]
  },
  {
   "cell_type": "code",
   "execution_count": null,
   "metadata": {
    "collapsed": false,
    "nbpresent": {
     "id": "769225c6-31f5-4db8-8d91-32a3f983489c"
    },
    "scrolled": false
   },
   "outputs": [],
   "source": [
    "data_sets_singleindex = {}\n",
    "data_sets_multiindex = {}\n",
    "data_sets_stacked = {}\n",
    "for res_key, df in data_sets.items():\n",
    "    if not df.empty:\n",
    "        df_singleindex = df.copy()\n",
    "        # Jan: List comprehensions are usually one-liner.\n",
    "        # use first 3 levels of multiindex to create singleindex\n",
    "        df_singleindex.columns = ['_'.join(col[0:3])\n",
    "                                  for col\n",
    "                                  in df.columns.values\n",
    "                                 ]\n",
    "        data_sets_singleindex[res_key] = df_singleindex\n",
    "\n",
    "        data_sets_multiindex[res_key + '_multiindex'] = df\n",
    "\n",
    "        stacked = df.copy()\n",
    "        stacked.columns = stacked.columns.droplevel(['source', 'web'])\n",
    "        stacked = stacked.transpose().stack(dropna=True).to_frame(name='data')\n",
    "        data_sets_stacked[res_key + '_stacked'] = stacked"
   ]
  },
  {
   "cell_type": "markdown",
   "metadata": {
    "nbpresent": {
     "id": "84f1822e-3aa6-42c4-a424-5dc5ab6fa56f"
    }
   },
   "source": [
    "## 7.2 Write to SQL-database"
   ]
  },
  {
   "cell_type": "markdown",
   "metadata": {
    "nbpresent": {
     "id": "3bb78fa9-5309-46b6-b945-68dcb654a567"
    }
   },
   "source": [
    "This file format is required for the filtering function on the OPSD website. This takes about 30 seconds to complete."
   ]
  },
  {
   "cell_type": "code",
   "execution_count": null,
   "metadata": {
    "collapsed": false,
    "nbpresent": {
     "id": "fd35212c-ec5c-4fcf-9897-4608742d1bf8"
    }
   },
   "outputs": [],
   "source": [
    "%%time \n",
    "for res_key, df in data_sets_singleindex.items():\n",
    "    f = 'timeseries' + res_key\n",
    "    df = df.copy()\n",
    "    df.index = df.index.strftime('%Y-%m-%dT%H:%M:%SZ')\n",
    "    df.to_sql(f, sqlite3.connect(f + '.sqlite'),\n",
    "              if_exists='replace', index_label='timestamp')"
   ]
  },
  {
   "cell_type": "markdown",
   "metadata": {
    "nbpresent": {
     "id": "143b39aa-dd2e-4923-be56-bb6c4706837d"
    }
   },
   "source": [
    "## 7.3 Write to Excel"
   ]
  },
  {
   "cell_type": "markdown",
   "metadata": {
    "nbpresent": {
     "id": "ef7763f5-9bbc-40b8-8cee-829131b40336"
    }
   },
   "source": [
    "This takes about 15 Minutes to complete."
   ]
  },
  {
   "cell_type": "code",
   "execution_count": null,
   "metadata": {
    "collapsed": false,
    "nbpresent": {
     "id": "9e84c62a-7bd6-4319-89dd-409574dda234"
    }
   },
   "outputs": [],
   "source": [
    "%%time\n",
    "# itertoools.chain() allows iterating over multiple dicts at once\n",
    "for res_key, df in itertools.chain( \n",
    "        #data_sets_singleindex.items(),\n",
    "        data_sets_multiindex.items()\n",
    "    ):\n",
    "    f = 'timeseries' + res_key\n",
    "    df.to_excel(f + '.xlsx', float_format='%.2f', merge_cells=True) #merge_cells=False)\""
   ]
  },
  {
   "cell_type": "markdown",
   "metadata": {
    "nbpresent": {
     "id": "454ee5f5-e8f1-4088-94e9-e846f48ee75b"
    }
   },
   "source": [
    "## 7.4 Write to CSV"
   ]
  },
  {
   "cell_type": "markdown",
   "metadata": {
    "nbpresent": {
     "id": "279e3306-6dea-454d-bec8-0c826509ecd1"
    }
   },
   "source": [
    "This takes about 10 minutes to complete."
   ]
  },
  {
   "cell_type": "code",
   "execution_count": null,
   "metadata": {
    "collapsed": false,
    "nbpresent": {
     "id": "89449c49-608d-488d-8bc8-077c64bc26c7"
    }
   },
   "outputs": [],
   "source": [
    "%%time\n",
    "for res_key, df in itertools.chain(\n",
    "        data_sets_singleindex.items(),\n",
    "        data_sets_multiindex.items(),\n",
    "        #data_sets_stacked.items()\n",
    "    ):\n",
    "    f = 'timeseries' + res_key\n",
    "    df.to_csv(f + '.csv', float_format='%.2f', date_format='%Y-%m-%dT%H:%M:%SZ')"
   ]
  },
  {
   "cell_type": "markdown",
   "metadata": {
    "nbpresent": {
     "id": "738cdcf3-4f42-4203-8a86-fa8383543213"
    }
   },
   "source": [
    "# References\n",
    "\n"
   ]
  }
 ],
 "metadata": {
  "anaconda-cloud": {},
  "kernelspec": {
   "display_name": "Python 3",
   "language": "python",
   "name": "python3"
  },
  "language_info": {
   "codemirror_mode": {
    "name": "ipython",
    "version": 3
   },
   "file_extension": ".py",
   "mimetype": "text/x-python",
   "name": "python",
   "nbconvert_exporter": "python",
   "pygments_lexer": "ipython3",
   "version": "3.5.2"
  },
  "nbpresent": {
   "slides": {
    "f6b300bf-88b5-4dea-951e-c926a9ea8287": {
     "id": "f6b300bf-88b5-4dea-951e-c926a9ea8287",
     "prev": "f96dd4bc-93a6-4014-b85f-a43061cf5688",
     "regions": {
      "dc486e18-7547-4610-99c0-55dfb5553f62": {
       "attrs": {
        "height": 1,
        "width": 1,
        "x": 0,
        "y": 0
       },
       "content": {
        "cell": "c0035fc6-ff1d-44d8-a3fd-b4c08f53be71",
        "part": "source"
       },
       "id": "dc486e18-7547-4610-99c0-55dfb5553f62"
      }
     }
    },
    "f96dd4bc-93a6-4014-b85f-a43061cf5688": {
     "id": "f96dd4bc-93a6-4014-b85f-a43061cf5688",
     "prev": null,
     "regions": {
      "657c3ad3-2fcf-4c8e-a527-de3d0a46fa4e": {
       "attrs": {
        "height": 1,
        "width": 1,
        "x": 0,
        "y": 0
       },
       "content": {
        "cell": "1562965a-7d74-4c1c-8251-4d82847f294a",
        "part": "source"
       },
       "id": "657c3ad3-2fcf-4c8e-a527-de3d0a46fa4e"
      }
     }
    }
   },
   "themes": {}
  }
 },
 "nbformat": 4,
 "nbformat_minor": 0
}
