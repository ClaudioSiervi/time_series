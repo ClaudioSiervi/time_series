{
 "cells": [
  {
   "cell_type": "code",
   "execution_count": 2,
   "metadata": {
    "collapsed": true
   },
   "outputs": [],
   "source": [
    "from datetime import datetime, date, timedelta, time\n",
    "import pandas as pd\n",
    "import numpy as np\n",
    "import logging\n",
    "import json\n",
    "import sqlite3\n",
    "import yaml\n",
    "import itertools\n",
    "import os\n",
    "import pytz\n",
    "import hashlib\n",
    "from shutil import copyfile"
   ]
  },
  {
   "cell_type": "code",
   "execution_count": 29,
   "metadata": {
    "collapsed": true
   },
   "outputs": [],
   "source": [
    "url='url'\n",
    "filepath='C:/Users/Neon/Desktop/GitHub/download_entsoe/2017_2_AggregatedGenerationPerType.csv'\n",
    "headers = ['region', 'variable', 'attribute', 'source', 'subsource','region_type','web']"
   ]
  },
  {
   "cell_type": "code",
   "execution_count": null,
   "metadata": {
    "collapsed": false
   },
   "outputs": [],
   "source": [
    "df.drop(['year', 'month', 'day', 'AreaTypeCode', 'SubmissionTS'], axis=1, inplace=True)\n",
    "df.rename(columns ={'ActualConsumption': 'consumption', 'ActualGenerationOutput': 'generation'},inplace=True)"
   ]
  },
  {
   "cell_type": "code",
   "execution_count": null,
   "metadata": {
    "collapsed": false,
    "scrolled": true
   },
   "outputs": [],
   "source": [
    "df.set_index(['MapCode','ProductionType_Name','AreaName'],append=True, inplace=True)"
   ]
  },
  {
   "cell_type": "code",
   "execution_count": null,
   "metadata": {
    "collapsed": false,
    "scrolled": false
   },
   "outputs": [],
   "source": [
    "df=df.unstack('MapCode')\n",
    "df=df.unstack('ProductionType_Name')\n",
    "df=df.unstack('AreaName')"
   ]
  },
  {
   "cell_type": "code",
   "execution_count": null,
   "metadata": {
    "collapsed": false
   },
   "outputs": [],
   "source": [
    "df=pd.concat([df], keys=['ENTSO-E'], names=['source', 'attribute', 'region', 'variable', 'subsource'],axis=1)"
   ]
  },
  {
   "cell_type": "code",
   "execution_count": null,
   "metadata": {
    "collapsed": false
   },
   "outputs": [],
   "source": [
    "df=pd.concat([df], keys= url, names=['web'], axis=1)"
   ]
  },
  {
   "cell_type": "code",
   "execution_count": null,
   "metadata": {
    "collapsed": false
   },
   "outputs": [],
   "source": [
    "df=df.reorder_levels(('region','variable','attribute','source','subsource','web'), axis=1)"
   ]
  },
  {
   "cell_type": "code",
   "execution_count": null,
   "metadata": {
    "collapsed": false,
    "scrolled": true
   },
   "outputs": [],
   "source": [
    "df"
   ]
  },
  {
   "cell_type": "code",
   "execution_count": null,
   "metadata": {
    "collapsed": false
   },
   "outputs": [],
   "source": [
    "colmap = {\n",
    "        'ActualGenerationOutput': {\n",
    "            'region': '{df.MapCode}',\n",
    "            'variable': '{ProductionType_Name}',\n",
    "            'attribute': 'generation',\n",
    "            'source': 'ENTSO-E',\n",
    "            'subsource': '{AreaName}',\n",
    "            'web': url\n",
    "        },\n",
    "        'ActualConsumption': {\n",
    "            'region': '{df.MapCode}',\n",
    "            'variable': '{ProductionType_Name}',\n",
    "            'attribute': 'consumption',\n",
    "            'source': 'ENTSO-E',\n",
    "            'subsource': '{AreaName}',\n",
    "            'web': url\n",
    "        }\n",
    "    }\n",
    "\n",
    "    # Drop any column not in colmap\n",
    "#df = df[list(colmap.keys())]\n",
    "\n",
    "    # Create the MultiIndex\n",
    "#tuples = [tuple(colmap[col][level] for level in headers)\n",
    "         # for col in df.columns]\n",
    "df.columns = pd.MultiIndex.from_arrays([df.MapCode,df.ProductionType_Name,[],'ENTSO-E',df.AreaName, url], names=headers)"
   ]
  },
  {
   "cell_type": "code",
   "execution_count": null,
   "metadata": {
    "collapsed": false,
    "scrolled": true
   },
   "outputs": [],
   "source": [
    "url='url'\n",
    "filepath='C:/Users/Neon/Desktop/GitHub/download_entsoe/2017_2_AggregatedGenerationPerType.csv'\n",
    "headers = ['region', 'variable', 'attribute', 'source', 'subsource', 'web']\n",
    "variable_name='var'\n",
    "df = pd.read_csv(\n",
    "        filepath,\n",
    "        sep='\\t',\n",
    "        encoding='utf-16',\n",
    "        header=0,\n",
    "        index_col='DateTime',\n",
    "        parse_dates=True,\n",
    "        nrows=20,\n",
    "    )"
   ]
  },
  {
   "cell_type": "code",
   "execution_count": null,
   "metadata": {
    "collapsed": false
   },
   "outputs": [],
   "source": [
    "colmap = {\n",
    "        'ActualGenerationOutput': {\n",
    "            'region': '{MapCode}',\n",
    "            'variable': '{ProductionType_Name}',\n",
    "            'attribute': 'generation',\n",
    "            'source': 'ENTSO-E',\n",
    "            'subsource': '{AreaName}',\n",
    "            'web': url\n",
    "        },\n",
    "        'ActualConsumption': {\n",
    "            'region': '{MapCode}',\n",
    "            'variable': '{ProductionType_Name}',\n",
    "            'attribute': 'consumption',\n",
    "            'source': 'ENTSO-E',\n",
    "            'subsource': '{AreaName}',\n",
    "            'web': url\n",
    "        }\n",
    "    }"
   ]
  },
  {
   "cell_type": "code",
   "execution_count": null,
   "metadata": {
    "collapsed": false
   },
   "outputs": [],
   "source": [
    "df.drop(['year', 'month', 'day', 'AreaTypeCode', 'SubmissionTS'], axis=1, inplace=True)"
   ]
  },
  {
   "cell_type": "code",
   "execution_count": null,
   "metadata": {
    "collapsed": false,
    "scrolled": true
   },
   "outputs": [],
   "source": [
    "tuples = [tuple(colmap[col][level].format(MapCode=MapCode, ProductionType_Name=ProductionType_Name, AreaName=AreaName, AreaTypeCode=AreaTypeCode)\n",
    "for level in headers) for col in df.columns]"
   ]
  },
  {
   "cell_type": "code",
   "execution_count": null,
   "metadata": {
    "collapsed": true
   },
   "outputs": [],
   "source": [
    "df = df[[key for key in colmap.keys() if key in df.columns]]"
   ]
  },
  {
   "cell_type": "code",
   "execution_count": null,
   "metadata": {
    "collapsed": false
   },
   "outputs": [],
   "source": [
    "tuples"
   ]
  },
  {
   "cell_type": "code",
   "execution_count": null,
   "metadata": {
    "collapsed": false
   },
   "outputs": [],
   "source": [
    "df.columns = pd.MultiIndex.from_tuples(tuples, names=headers,)"
   ]
  },
  {
   "cell_type": "code",
   "execution_count": null,
   "metadata": {
    "collapsed": false,
    "scrolled": true
   },
   "outputs": [],
   "source": [
    "tuples = [tuple(colmap[level].format(MapCode=col1,ProductionType_Name=col2,AreaName=col3)\n",
    "                    for level in headers) for [col1, col2, col3] in df.columns]\n"
   ]
  },
  {
   "cell_type": "code",
   "execution_count": null,
   "metadata": {
    "collapsed": true
   },
   "outputs": [],
   "source": [
    "df.columns = pd.MultiIndex.from_tuples(tuples, names=headers)"
   ]
  },
  {
   "cell_type": "code",
   "execution_count": null,
   "metadata": {
    "collapsed": false
   },
   "outputs": [],
   "source": [
    "colmap = {\n",
    "        'ActualGenerationOutput': {\n",
    "            'region': df.MapCode.values,\n",
    "            'variable': df.ProductionType_Name.values,\n",
    "            'attribute': 'generation',\n",
    "            'source': 'ENTSO-E',\n",
    "            'subsource': df.AreaName.values,\n",
    "            'web': url\n",
    "        },\n",
    "        'ActualConsumption': {\n",
    "            'region': df.MapCode.values,\n",
    "            'variable': df.ProductionType_Name.values,\n",
    "            'attribute': 'consumption',\n",
    "            'source': 'ENTSO-E',\n",
    "            'subsource': df.AreaName.values,\n",
    "            'web': url\n",
    "        }\n",
    "    }"
   ]
  },
  {
   "cell_type": "code",
   "execution_count": null,
   "metadata": {
    "collapsed": false
   },
   "outputs": [],
   "source": [
    "df"
   ]
  },
  {
   "cell_type": "code",
   "execution_count": null,
   "metadata": {
    "collapsed": true
   },
   "outputs": [],
   "source": [
    "df = df[list(colmap.keys())]"
   ]
  },
  {
   "cell_type": "code",
   "execution_count": null,
   "metadata": {
    "collapsed": false
   },
   "outputs": [],
   "source": [
    "tuples = [tuple(colmap[col].format(region=MapCode, ProductionType_Name=ProductionType_Name, AreaName=AreaName) for col in df.columns)]"
   ]
  },
  {
   "cell_type": "code",
   "execution_count": null,
   "metadata": {
    "collapsed": false
   },
   "outputs": [],
   "source": [
    "df.columns = pd.MultiIndex.from_tuples(tuples, names=headers)"
   ]
  },
  {
   "cell_type": "code",
   "execution_count": 30,
   "metadata": {
    "collapsed": false
   },
   "outputs": [],
   "source": [
    "df = pd.read_csv(\n",
    "        filepath,\n",
    "        sep='\\t',\n",
    "        encoding='utf-16',\n",
    "        header=0,\n",
    "        index_col='DateTime',\n",
    "        parse_dates=True,\n",
    "        nrows=20,\n",
    "        )"
   ]
  },
  {
   "cell_type": "code",
   "execution_count": 31,
   "metadata": {
    "collapsed": false
   },
   "outputs": [
    {
     "data": {
      "text/plain": [
       "(None,)"
      ]
     },
     "execution_count": 31,
     "metadata": {},
     "output_type": "execute_result"
    }
   ],
   "source": [
    "df.drop(['year', 'month', 'day'], axis=1, inplace=True),"
   ]
  },
  {
   "cell_type": "code",
   "execution_count": 42,
   "metadata": {
    "collapsed": false
   },
   "outputs": [],
   "source": [
    "colmap = {\n",
    "    'ActualGenerationOutput': {\n",
    "        'region': '{MapCode}',\n",
    "        'variable': '{ProductionType_Name}',\n",
    "        'attribute': 'generation',\n",
    "        'source': 'ENTSO-E',\n",
    "        'subsource': '{AreaName}',\n",
    "        'region_type': '{AreaTypeCode}',\n",
    "        'web': url,\n",
    "    },\n",
    "    'ActualConsumption': {\n",
    "        'region': '{MapCode}',\n",
    "        'variable': '{ProductionType_Name}',\n",
    "        'attribute': 'consumption',\n",
    "        'source': 'ENTSO-E',\n",
    "        'subsource': '{AreaName}',\n",
    "        'region_type': '{AreaTypeCode}',\n",
    "        'web': url,\n",
    "    }\n",
    "}\n"
   ]
  },
  {
   "cell_type": "code",
   "execution_count": 43,
   "metadata": {
    "collapsed": false
   },
   "outputs": [],
   "source": [
    "MapCode=df['MapCode'],\n",
    "ProductionType_Name=df['ProductionType_Name'],\n",
    "AreaName=df['AreaName'],\n",
    "AreaTypeCode=df['AreaTypeCode'],"
   ]
  },
  {
   "cell_type": "code",
   "execution_count": 45,
   "metadata": {
    "collapsed": false
   },
   "outputs": [
    {
     "ename": "KeyError",
     "evalue": "'AreaTypeCode'",
     "output_type": "error",
     "traceback": [
      "\u001b[1;31m---------------------------------------------------------------------------\u001b[0m",
      "\u001b[1;31mKeyError\u001b[0m                                  Traceback (most recent call last)",
      "\u001b[1;32m<ipython-input-45-36234056e0c6>\u001b[0m in \u001b[0;36m<module>\u001b[1;34m()\u001b[0m\n\u001b[0;32m      3\u001b[0m     \u001b[0mProductionType_Name\u001b[0m\u001b[1;33m=\u001b[0m\u001b[0mProductionType_Name\u001b[0m\u001b[1;33m,\u001b[0m\u001b[1;33m\u001b[0m\u001b[0m\n\u001b[0;32m      4\u001b[0m     AreaName=AreaName)\n\u001b[1;32m----> 5\u001b[1;33m     for level in headers) for col in df.columns]\n\u001b[0m",
      "\u001b[1;32m<ipython-input-45-36234056e0c6>\u001b[0m in \u001b[0;36m<listcomp>\u001b[1;34m(.0)\u001b[0m\n\u001b[0;32m      3\u001b[0m     \u001b[0mProductionType_Name\u001b[0m\u001b[1;33m=\u001b[0m\u001b[0mProductionType_Name\u001b[0m\u001b[1;33m,\u001b[0m\u001b[1;33m\u001b[0m\u001b[0m\n\u001b[0;32m      4\u001b[0m     AreaName=AreaName)\n\u001b[1;32m----> 5\u001b[1;33m     for level in headers) for col in df.columns]\n\u001b[0m",
      "\u001b[1;32m<ipython-input-45-36234056e0c6>\u001b[0m in \u001b[0;36m<genexpr>\u001b[1;34m(.0)\u001b[0m\n\u001b[0;32m      3\u001b[0m     \u001b[0mProductionType_Name\u001b[0m\u001b[1;33m=\u001b[0m\u001b[0mProductionType_Name\u001b[0m\u001b[1;33m,\u001b[0m\u001b[1;33m\u001b[0m\u001b[0m\n\u001b[0;32m      4\u001b[0m     AreaName=AreaName)\n\u001b[1;32m----> 5\u001b[1;33m     for level in headers) for col in df.columns]\n\u001b[0m",
      "\u001b[1;31mKeyError\u001b[0m: 'AreaTypeCode'"
     ]
    }
   ],
   "source": [
    "tuples = [tuple(colmap[col][level].format(\n",
    "    MapCode=MapCode, \n",
    "    ProductionType_Name=ProductionType_Name, \n",
    "    AreaName=AreaName, AreaTypeCode=AreaTypeCode)\n",
    "    for level in headers) for col in df.columns]"
   ]
  },
  {
   "cell_type": "code",
   "execution_count": 39,
   "metadata": {
    "collapsed": false,
    "scrolled": true
   },
   "outputs": [
    {
     "data": {
      "text/plain": [
       "DateTime\n",
       "2017-02-01 12:15:00               HU\n",
       "2017-02-01 12:15:00               HU\n",
       "2017-02-01 18:15:00               HU\n",
       "2017-02-01 10:00:00               HU\n",
       "2017-02-01 11:45:00               HU\n",
       "2017-02-23 03:00:00    DE_TransnetBW\n",
       "2017-02-23 15:00:00    DE_TransnetBW\n",
       "2017-02-23 16:45:00    DE_TransnetBW\n",
       "2017-02-23 09:15:00    DE_TransnetBW\n",
       "2017-02-23 00:30:00    DE_TransnetBW\n",
       "2017-02-23 01:30:00    DE_TransnetBW\n",
       "2017-02-23 16:30:00    DE_TransnetBW\n",
       "2017-02-10 09:30:00    DE_TransnetBW\n",
       "2017-02-10 04:45:00    DE_TransnetBW\n",
       "2017-02-10 15:45:00    DE_TransnetBW\n",
       "2017-02-10 18:00:00    DE_TransnetBW\n",
       "2017-02-10 01:00:00    DE_TransnetBW\n",
       "2017-02-10 01:00:00    DE_TransnetBW\n",
       "2017-02-10 22:00:00    DE_TransnetBW\n",
       "2017-02-10 17:30:00    DE_TransnetBW\n",
       "Name: MapCode, dtype: object"
      ]
     },
     "execution_count": 39,
     "metadata": {},
     "output_type": "execute_result"
    }
   ],
   "source": [
    "df['MapCode']"
   ]
  },
  {
   "cell_type": "code",
   "execution_count": null,
   "metadata": {
    "collapsed": true
   },
   "outputs": [],
   "source": []
  }
 ],
 "metadata": {
  "kernelspec": {
   "display_name": "Python [conda env:opsd_time_series]",
   "language": "python",
   "name": "conda-env-opsd_time_series-py"
  },
  "language_info": {
   "codemirror_mode": {
    "name": "ipython",
    "version": 3
   },
   "file_extension": ".py",
   "mimetype": "text/x-python",
   "name": "python",
   "nbconvert_exporter": "python",
   "pygments_lexer": "ipython3",
   "version": "3.5.3"
  }
 },
 "nbformat": 4,
 "nbformat_minor": 2
}
