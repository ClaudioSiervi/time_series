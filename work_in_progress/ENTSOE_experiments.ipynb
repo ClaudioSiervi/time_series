{
 "cells": [
  {
   "cell_type": "code",
   "execution_count": null,
   "metadata": {
    "collapsed": true
   },
   "outputs": [],
   "source": [
    "from datetime import datetime, date, timedelta, time\n",
    "import pandas as pd\n",
    "import numpy as np\n",
    "import logging\n",
    "import json\n",
    "import sqlite3\n",
    "import yaml\n",
    "import itertools\n",
    "import os\n",
    "import pytz\n",
    "import hashlib\n",
    "from shutil import copyfile"
   ]
  },
  {
   "cell_type": "code",
   "execution_count": null,
   "metadata": {
    "collapsed": false
   },
   "outputs": [],
   "source": [
    "df.drop(['year', 'month', 'day', 'AreaTypeCode', 'SubmissionTS'], axis=1, inplace=True)\n",
    "df.rename(columns ={'ActualConsumption': 'consumption', 'ActualGenerationOutput': 'generation'},inplace=True)"
   ]
  },
  {
   "cell_type": "code",
   "execution_count": null,
   "metadata": {
    "collapsed": false,
    "scrolled": true
   },
   "outputs": [],
   "source": [
    "df.set_index(['MapCode','ProductionType_Name','AreaName'],append=True, inplace=True)"
   ]
  },
  {
   "cell_type": "code",
   "execution_count": null,
   "metadata": {
    "collapsed": false,
    "scrolled": false
   },
   "outputs": [],
   "source": [
    "df=df.unstack('MapCode')\n",
    "df=df.unstack('ProductionType_Name')\n",
    "df=df.unstack('AreaName')"
   ]
  },
  {
   "cell_type": "code",
   "execution_count": null,
   "metadata": {
    "collapsed": false
   },
   "outputs": [],
   "source": [
    "df=pd.concat([df], keys=['ENTSO-E'], names=['source', 'attribute', 'region', 'variable', 'subsource'],axis=1)"
   ]
  },
  {
   "cell_type": "code",
   "execution_count": null,
   "metadata": {
    "collapsed": false
   },
   "outputs": [],
   "source": [
    "df=pd.concat([df], keys= url, names=['web'], axis=1)"
   ]
  },
  {
   "cell_type": "code",
   "execution_count": null,
   "metadata": {
    "collapsed": false
   },
   "outputs": [],
   "source": [
    "df=df.reorder_levels(('region','variable','attribute','source','subsource','web'), axis=1)"
   ]
  },
  {
   "cell_type": "code",
   "execution_count": null,
   "metadata": {
    "collapsed": false,
    "scrolled": true
   },
   "outputs": [],
   "source": [
    "df"
   ]
  },
  {
   "cell_type": "code",
   "execution_count": null,
   "metadata": {
    "collapsed": false
   },
   "outputs": [],
   "source": [
    "colmap = {\n",
    "        'ActualGenerationOutput': {\n",
    "            'region': '{df.MapCode}',\n",
    "            'variable': '{ProductionType_Name}',\n",
    "            'attribute': 'generation',\n",
    "            'source': 'ENTSO-E',\n",
    "            'subsource': '{AreaName}',\n",
    "            'web': url\n",
    "        },\n",
    "        'ActualConsumption': {\n",
    "            'region': '{df.MapCode}',\n",
    "            'variable': '{ProductionType_Name}',\n",
    "            'attribute': 'consumption',\n",
    "            'source': 'ENTSO-E',\n",
    "            'subsource': '{AreaName}',\n",
    "            'web': url\n",
    "        }\n",
    "    }\n",
    "\n",
    "    # Drop any column not in colmap\n",
    "#df = df[list(colmap.keys())]\n",
    "\n",
    "    # Create the MultiIndex\n",
    "#tuples = [tuple(colmap[col][level] for level in headers)\n",
    "         # for col in df.columns]\n",
    "df.columns = pd.MultiIndex.from_arrays([df.MapCode,df.ProductionType_Name,[],'ENTSO-E',df.AreaName, url], names=headers)"
   ]
  },
  {
   "cell_type": "code",
   "execution_count": 46,
   "metadata": {
    "collapsed": false,
    "scrolled": true
   },
   "outputs": [],
   "source": [
    "url='url'\n",
    "filepath='C:/Users/Neon/Desktop/GitHub/download_entsoe/2017_2_AggregatedGenerationPerType.csv'\n",
    "headers = ['region', 'variable', 'attribute', 'source', 'subsource', 'web']\n",
    "variable_name='var'\n",
    "df = pd.read_csv(\n",
    "        filepath,\n",
    "        sep='\\t',\n",
    "        encoding='utf-16',\n",
    "        header=0,\n",
    "        index_col='DateTime',\n",
    "        parse_dates=True,\n",
    "        nrows=20,\n",
    "    )"
   ]
  },
  {
   "cell_type": "code",
   "execution_count": 47,
   "metadata": {
    "collapsed": false
   },
   "outputs": [],
   "source": [
    "colmap = {\n",
    "        'ActualGenerationOutput': {\n",
    "            'region': '{MapCode}',\n",
    "            'variable': '{ProductionType_Name}',\n",
    "            'attribute': 'generation',\n",
    "            'source': 'ENTSO-E',\n",
    "            'subsource': '{AreaName}',\n",
    "            'web': url\n",
    "        },\n",
    "        'ActualConsumption': {\n",
    "            'region': '{MapCode}',\n",
    "            'variable': '{ProductionType_Name}',\n",
    "            'attribute': 'consumption',\n",
    "            'source': 'ENTSO-E',\n",
    "            'subsource': '{AreaName}',\n",
    "            'web': url\n",
    "        }\n",
    "    }"
   ]
  },
  {
   "cell_type": "code",
   "execution_count": 48,
   "metadata": {
    "collapsed": false
   },
   "outputs": [],
   "source": [
    "df.drop(['year', 'month', 'day', 'AreaTypeCode', 'SubmissionTS'], axis=1, inplace=True)"
   ]
  },
  {
   "cell_type": "code",
   "execution_count": null,
   "metadata": {
    "collapsed": false,
    "scrolled": true
   },
   "outputs": [],
   "source": [
    "tuples = [tuple(colmap[col][level].format(MapCode=MapCode, ProductionType_Name=ProductionType_Name, AreaName=AreaName)\n",
    "for level in headers) for col in df.columns]"
   ]
  },
  {
   "cell_type": "code",
   "execution_count": null,
   "metadata": {
    "collapsed": true
   },
   "outputs": [],
   "source": [
    "df = df[[key for key in colmap.keys() if key in df.columns]]"
   ]
  },
  {
   "cell_type": "code",
   "execution_count": null,
   "metadata": {
    "collapsed": false
   },
   "outputs": [],
   "source": [
    "tuples"
   ]
  },
  {
   "cell_type": "code",
   "execution_count": null,
   "metadata": {
    "collapsed": false
   },
   "outputs": [],
   "source": [
    "df.columns = pd.MultiIndex.from_tuples(tuples, names=headers,)"
   ]
  },
  {
   "cell_type": "code",
   "execution_count": 44,
   "metadata": {
    "collapsed": false,
    "scrolled": true
   },
   "outputs": [
    {
     "ename": "KeyError",
     "evalue": "'region'",
     "output_type": "error",
     "traceback": [
      "\u001b[1;31m---------------------------------------------------------------------------\u001b[0m",
      "\u001b[1;31mKeyError\u001b[0m                                  Traceback (most recent call last)",
      "\u001b[1;32m<ipython-input-44-cb10688827df>\u001b[0m in \u001b[0;36m<module>\u001b[1;34m()\u001b[0m\n\u001b[0;32m      1\u001b[0m tuples = [tuple(colmap[level].format(MapCode=col)\n\u001b[1;32m----> 2\u001b[1;33m                     for level in headers) for col in df.columns]\n\u001b[0m",
      "\u001b[1;32m<ipython-input-44-cb10688827df>\u001b[0m in \u001b[0;36m<listcomp>\u001b[1;34m(.0)\u001b[0m\n\u001b[0;32m      1\u001b[0m tuples = [tuple(colmap[level].format(MapCode=col)\n\u001b[1;32m----> 2\u001b[1;33m                     for level in headers) for col in df.columns]\n\u001b[0m",
      "\u001b[1;32m<ipython-input-44-cb10688827df>\u001b[0m in \u001b[0;36m<genexpr>\u001b[1;34m(.0)\u001b[0m\n\u001b[0;32m      1\u001b[0m tuples = [tuple(colmap[level].format(MapCode=col)\n\u001b[1;32m----> 2\u001b[1;33m                     for level in headers) for col in df.columns]\n\u001b[0m",
      "\u001b[1;31mKeyError\u001b[0m: 'region'"
     ]
    }
   ],
   "source": [
    "tuples = [tuple(colmap[level].format(MapCode=col1,ProductionType_Name=col2,AreaName=col3)\n",
    "                    for level in headers) for [col1, col2, col3] in df.columns]\n"
   ]
  },
  {
   "cell_type": "code",
   "execution_count": null,
   "metadata": {
    "collapsed": true
   },
   "outputs": [],
   "source": [
    "df.columns = pd.MultiIndex.from_tuples(tuples, names=headers)"
   ]
  },
  {
   "cell_type": "code",
   "execution_count": 45,
   "metadata": {
    "collapsed": false
   },
   "outputs": [],
   "source": [
    "colmap = {\n",
    "        'ActualGenerationOutput': {\n",
    "            'region': df.MapCode.values,\n",
    "            'variable': df.ProductionType_Name.values,\n",
    "            'attribute': 'generation',\n",
    "            'source': 'ENTSO-E',\n",
    "            'subsource': df.AreaName.values,\n",
    "            'web': url\n",
    "        },\n",
    "        'ActualConsumption': {\n",
    "            'region': df.MapCode.values,\n",
    "            'variable': df.ProductionType_Name.values,\n",
    "            'attribute': 'consumption',\n",
    "            'source': 'ENTSO-E',\n",
    "            'subsource': df.AreaName.values,\n",
    "            'web': url\n",
    "        }\n",
    "    }"
   ]
  },
  {
   "cell_type": "code",
   "execution_count": 51,
   "metadata": {
    "collapsed": false
   },
   "outputs": [
    {
     "data": {
      "text/html": [
       "<div>\n",
       "<table border=\"1\" class=\"dataframe\">\n",
       "  <thead>\n",
       "    <tr style=\"text-align: right;\">\n",
       "      <th></th>\n",
       "      <th>AreaName</th>\n",
       "      <th>MapCode</th>\n",
       "      <th>ProductionType_Name</th>\n",
       "      <th>ActualConsumption</th>\n",
       "      <th>ActualGenerationOutput</th>\n",
       "    </tr>\n",
       "    <tr>\n",
       "      <th>DateTime</th>\n",
       "      <th></th>\n",
       "      <th></th>\n",
       "      <th></th>\n",
       "      <th></th>\n",
       "      <th></th>\n",
       "    </tr>\n",
       "  </thead>\n",
       "  <tbody>\n",
       "    <tr>\n",
       "      <th>2017-02-01 12:15:00</th>\n",
       "      <td>MAVIR CA</td>\n",
       "      <td>HU</td>\n",
       "      <td>Fossil Gas</td>\n",
       "      <td>0.00</td>\n",
       "      <td>1204.59</td>\n",
       "    </tr>\n",
       "    <tr>\n",
       "      <th>2017-02-01 12:15:00</th>\n",
       "      <td>MAVIR CA</td>\n",
       "      <td>HU</td>\n",
       "      <td>Other renewable</td>\n",
       "      <td>0.00</td>\n",
       "      <td>11.58</td>\n",
       "    </tr>\n",
       "    <tr>\n",
       "      <th>2017-02-01 18:15:00</th>\n",
       "      <td>MAVIR CA</td>\n",
       "      <td>HU</td>\n",
       "      <td>Nuclear</td>\n",
       "      <td>0.00</td>\n",
       "      <td>1415.40</td>\n",
       "    </tr>\n",
       "    <tr>\n",
       "      <th>2017-02-01 10:00:00</th>\n",
       "      <td>MAVIR CA</td>\n",
       "      <td>HU</td>\n",
       "      <td>Fossil Gas</td>\n",
       "      <td>0.00</td>\n",
       "      <td>1079.21</td>\n",
       "    </tr>\n",
       "    <tr>\n",
       "      <th>2017-02-01 11:45:00</th>\n",
       "      <td>MAVIR CA</td>\n",
       "      <td>HU</td>\n",
       "      <td>Fossil Gas</td>\n",
       "      <td>0.00</td>\n",
       "      <td>1076.86</td>\n",
       "    </tr>\n",
       "    <tr>\n",
       "      <th>2017-02-23 03:00:00</th>\n",
       "      <td>TransnetBW CA</td>\n",
       "      <td>DE_TransnetBW</td>\n",
       "      <td>Fossil Oil</td>\n",
       "      <td>5.68</td>\n",
       "      <td>0.00</td>\n",
       "    </tr>\n",
       "    <tr>\n",
       "      <th>2017-02-23 15:00:00</th>\n",
       "      <td>TransnetBW CA</td>\n",
       "      <td>DE_TransnetBW</td>\n",
       "      <td>Fossil Gas</td>\n",
       "      <td>0.00</td>\n",
       "      <td>0.00</td>\n",
       "    </tr>\n",
       "    <tr>\n",
       "      <th>2017-02-23 16:45:00</th>\n",
       "      <td>TransnetBW CA</td>\n",
       "      <td>DE_TransnetBW</td>\n",
       "      <td>Fossil Gas</td>\n",
       "      <td>0.00</td>\n",
       "      <td>0.00</td>\n",
       "    </tr>\n",
       "    <tr>\n",
       "      <th>2017-02-23 09:15:00</th>\n",
       "      <td>TransnetBW CA</td>\n",
       "      <td>DE_TransnetBW</td>\n",
       "      <td>Hydro Water Reservoir</td>\n",
       "      <td>0.00</td>\n",
       "      <td>62.60</td>\n",
       "    </tr>\n",
       "    <tr>\n",
       "      <th>2017-02-23 00:30:00</th>\n",
       "      <td>TransnetBW CA</td>\n",
       "      <td>DE_TransnetBW</td>\n",
       "      <td>Biomass</td>\n",
       "      <td>0.00</td>\n",
       "      <td>510.00</td>\n",
       "    </tr>\n",
       "    <tr>\n",
       "      <th>2017-02-23 01:30:00</th>\n",
       "      <td>TransnetBW CA</td>\n",
       "      <td>DE_TransnetBW</td>\n",
       "      <td>Fossil Gas</td>\n",
       "      <td>0.00</td>\n",
       "      <td>0.00</td>\n",
       "    </tr>\n",
       "    <tr>\n",
       "      <th>2017-02-23 16:30:00</th>\n",
       "      <td>TransnetBW CA</td>\n",
       "      <td>DE_TransnetBW</td>\n",
       "      <td>Hydro Water Reservoir</td>\n",
       "      <td>0.00</td>\n",
       "      <td>55.30</td>\n",
       "    </tr>\n",
       "    <tr>\n",
       "      <th>2017-02-10 09:30:00</th>\n",
       "      <td>TransnetBW CA</td>\n",
       "      <td>DE_TransnetBW</td>\n",
       "      <td>Biomass</td>\n",
       "      <td>0.00</td>\n",
       "      <td>510.00</td>\n",
       "    </tr>\n",
       "    <tr>\n",
       "      <th>2017-02-10 04:45:00</th>\n",
       "      <td>TransnetBW CA</td>\n",
       "      <td>DE_TransnetBW</td>\n",
       "      <td>Biomass</td>\n",
       "      <td>0.00</td>\n",
       "      <td>510.00</td>\n",
       "    </tr>\n",
       "    <tr>\n",
       "      <th>2017-02-10 15:45:00</th>\n",
       "      <td>TransnetBW CA</td>\n",
       "      <td>DE_TransnetBW</td>\n",
       "      <td>Fossil Gas</td>\n",
       "      <td>0.00</td>\n",
       "      <td>0.00</td>\n",
       "    </tr>\n",
       "    <tr>\n",
       "      <th>2017-02-10 18:00:00</th>\n",
       "      <td>TransnetBW CA</td>\n",
       "      <td>DE_TransnetBW</td>\n",
       "      <td>Fossil Oil</td>\n",
       "      <td>5.50</td>\n",
       "      <td>0.00</td>\n",
       "    </tr>\n",
       "    <tr>\n",
       "      <th>2017-02-10 01:00:00</th>\n",
       "      <td>TransnetBW CA</td>\n",
       "      <td>DE_TransnetBW</td>\n",
       "      <td>Nuclear</td>\n",
       "      <td>0.00</td>\n",
       "      <td>1309.27</td>\n",
       "    </tr>\n",
       "    <tr>\n",
       "      <th>2017-02-10 01:00:00</th>\n",
       "      <td>TransnetBW CA</td>\n",
       "      <td>DE_TransnetBW</td>\n",
       "      <td>Other renewable</td>\n",
       "      <td>0.00</td>\n",
       "      <td>8.00</td>\n",
       "    </tr>\n",
       "    <tr>\n",
       "      <th>2017-02-10 22:00:00</th>\n",
       "      <td>TransnetBW CA</td>\n",
       "      <td>DE_TransnetBW</td>\n",
       "      <td>Hydro Run-of-river and poundage</td>\n",
       "      <td>0.00</td>\n",
       "      <td>355.82</td>\n",
       "    </tr>\n",
       "    <tr>\n",
       "      <th>2017-02-10 17:30:00</th>\n",
       "      <td>TransnetBW CA</td>\n",
       "      <td>DE_TransnetBW</td>\n",
       "      <td>Fossil Oil</td>\n",
       "      <td>5.53</td>\n",
       "      <td>0.00</td>\n",
       "    </tr>\n",
       "  </tbody>\n",
       "</table>\n",
       "</div>"
      ],
      "text/plain": [
       "                          AreaName        MapCode  \\\n",
       "DateTime                                            \n",
       "2017-02-01 12:15:00       MAVIR CA             HU   \n",
       "2017-02-01 12:15:00       MAVIR CA             HU   \n",
       "2017-02-01 18:15:00       MAVIR CA             HU   \n",
       "2017-02-01 10:00:00       MAVIR CA             HU   \n",
       "2017-02-01 11:45:00       MAVIR CA             HU   \n",
       "2017-02-23 03:00:00  TransnetBW CA  DE_TransnetBW   \n",
       "2017-02-23 15:00:00  TransnetBW CA  DE_TransnetBW   \n",
       "2017-02-23 16:45:00  TransnetBW CA  DE_TransnetBW   \n",
       "2017-02-23 09:15:00  TransnetBW CA  DE_TransnetBW   \n",
       "2017-02-23 00:30:00  TransnetBW CA  DE_TransnetBW   \n",
       "2017-02-23 01:30:00  TransnetBW CA  DE_TransnetBW   \n",
       "2017-02-23 16:30:00  TransnetBW CA  DE_TransnetBW   \n",
       "2017-02-10 09:30:00  TransnetBW CA  DE_TransnetBW   \n",
       "2017-02-10 04:45:00  TransnetBW CA  DE_TransnetBW   \n",
       "2017-02-10 15:45:00  TransnetBW CA  DE_TransnetBW   \n",
       "2017-02-10 18:00:00  TransnetBW CA  DE_TransnetBW   \n",
       "2017-02-10 01:00:00  TransnetBW CA  DE_TransnetBW   \n",
       "2017-02-10 01:00:00  TransnetBW CA  DE_TransnetBW   \n",
       "2017-02-10 22:00:00  TransnetBW CA  DE_TransnetBW   \n",
       "2017-02-10 17:30:00  TransnetBW CA  DE_TransnetBW   \n",
       "\n",
       "                                  ProductionType_Name  ActualConsumption  \\\n",
       "DateTime                                                                   \n",
       "2017-02-01 12:15:00                       Fossil Gas                0.00   \n",
       "2017-02-01 12:15:00                  Other renewable                0.00   \n",
       "2017-02-01 18:15:00                          Nuclear                0.00   \n",
       "2017-02-01 10:00:00                       Fossil Gas                0.00   \n",
       "2017-02-01 11:45:00                       Fossil Gas                0.00   \n",
       "2017-02-23 03:00:00                       Fossil Oil                5.68   \n",
       "2017-02-23 15:00:00                       Fossil Gas                0.00   \n",
       "2017-02-23 16:45:00                       Fossil Gas                0.00   \n",
       "2017-02-23 09:15:00            Hydro Water Reservoir                0.00   \n",
       "2017-02-23 00:30:00                          Biomass                0.00   \n",
       "2017-02-23 01:30:00                       Fossil Gas                0.00   \n",
       "2017-02-23 16:30:00            Hydro Water Reservoir                0.00   \n",
       "2017-02-10 09:30:00                          Biomass                0.00   \n",
       "2017-02-10 04:45:00                          Biomass                0.00   \n",
       "2017-02-10 15:45:00                       Fossil Gas                0.00   \n",
       "2017-02-10 18:00:00                       Fossil Oil                5.50   \n",
       "2017-02-10 01:00:00                          Nuclear                0.00   \n",
       "2017-02-10 01:00:00                  Other renewable                0.00   \n",
       "2017-02-10 22:00:00  Hydro Run-of-river and poundage                0.00   \n",
       "2017-02-10 17:30:00                       Fossil Oil                5.53   \n",
       "\n",
       "                     ActualGenerationOutput  \n",
       "DateTime                                     \n",
       "2017-02-01 12:15:00                 1204.59  \n",
       "2017-02-01 12:15:00                   11.58  \n",
       "2017-02-01 18:15:00                 1415.40  \n",
       "2017-02-01 10:00:00                 1079.21  \n",
       "2017-02-01 11:45:00                 1076.86  \n",
       "2017-02-23 03:00:00                    0.00  \n",
       "2017-02-23 15:00:00                    0.00  \n",
       "2017-02-23 16:45:00                    0.00  \n",
       "2017-02-23 09:15:00                   62.60  \n",
       "2017-02-23 00:30:00                  510.00  \n",
       "2017-02-23 01:30:00                    0.00  \n",
       "2017-02-23 16:30:00                   55.30  \n",
       "2017-02-10 09:30:00                  510.00  \n",
       "2017-02-10 04:45:00                  510.00  \n",
       "2017-02-10 15:45:00                    0.00  \n",
       "2017-02-10 18:00:00                    0.00  \n",
       "2017-02-10 01:00:00                 1309.27  \n",
       "2017-02-10 01:00:00                    8.00  \n",
       "2017-02-10 22:00:00                  355.82  \n",
       "2017-02-10 17:30:00                    0.00  "
      ]
     },
     "execution_count": 51,
     "metadata": {},
     "output_type": "execute_result"
    }
   ],
   "source": [
    "df"
   ]
  },
  {
   "cell_type": "code",
   "execution_count": null,
   "metadata": {
    "collapsed": true
   },
   "outputs": [],
   "source": [
    "df = df[list(colmap.keys())]"
   ]
  },
  {
   "cell_type": "code",
   "execution_count": 53,
   "metadata": {
    "collapsed": false
   },
   "outputs": [
    {
     "ename": "KeyError",
     "evalue": "'AreaName'",
     "output_type": "error",
     "traceback": [
      "\u001b[1;31m---------------------------------------------------------------------------\u001b[0m",
      "\u001b[1;31mKeyError\u001b[0m                                  Traceback (most recent call last)",
      "\u001b[1;32m<ipython-input-53-30826785d089>\u001b[0m in \u001b[0;36m<module>\u001b[1;34m()\u001b[0m\n\u001b[1;32m----> 1\u001b[1;33m \u001b[0mtuples\u001b[0m \u001b[1;33m=\u001b[0m \u001b[1;33m[\u001b[0m\u001b[0mtuple\u001b[0m\u001b[1;33m(\u001b[0m\u001b[0mcolmap\u001b[0m\u001b[1;33m[\u001b[0m\u001b[0mcol\u001b[0m\u001b[1;33m]\u001b[0m\u001b[1;33m.\u001b[0m\u001b[0mformat\u001b[0m\u001b[1;33m(\u001b[0m\u001b[0mregion\u001b[0m\u001b[1;33m=\u001b[0m\u001b[0mMapCode\u001b[0m\u001b[1;33m,\u001b[0m \u001b[0mProductionType_Name\u001b[0m\u001b[1;33m=\u001b[0m\u001b[0mProductionType_Name\u001b[0m\u001b[1;33m,\u001b[0m \u001b[0mAreaName\u001b[0m\u001b[1;33m=\u001b[0m\u001b[0mAreaName\u001b[0m\u001b[1;33m)\u001b[0m \u001b[1;32mfor\u001b[0m \u001b[0mcol\u001b[0m \u001b[1;32min\u001b[0m \u001b[0mdf\u001b[0m\u001b[1;33m.\u001b[0m\u001b[0mcolumns\u001b[0m\u001b[1;33m)\u001b[0m\u001b[1;33m]\u001b[0m\u001b[1;33m\u001b[0m\u001b[0m\n\u001b[0m",
      "\u001b[1;32m<ipython-input-53-30826785d089>\u001b[0m in \u001b[0;36m<genexpr>\u001b[1;34m(.0)\u001b[0m\n\u001b[1;32m----> 1\u001b[1;33m \u001b[0mtuples\u001b[0m \u001b[1;33m=\u001b[0m \u001b[1;33m[\u001b[0m\u001b[0mtuple\u001b[0m\u001b[1;33m(\u001b[0m\u001b[0mcolmap\u001b[0m\u001b[1;33m[\u001b[0m\u001b[0mcol\u001b[0m\u001b[1;33m]\u001b[0m\u001b[1;33m.\u001b[0m\u001b[0mformat\u001b[0m\u001b[1;33m(\u001b[0m\u001b[0mregion\u001b[0m\u001b[1;33m=\u001b[0m\u001b[0mMapCode\u001b[0m\u001b[1;33m,\u001b[0m \u001b[0mProductionType_Name\u001b[0m\u001b[1;33m=\u001b[0m\u001b[0mProductionType_Name\u001b[0m\u001b[1;33m,\u001b[0m \u001b[0mAreaName\u001b[0m\u001b[1;33m=\u001b[0m\u001b[0mAreaName\u001b[0m\u001b[1;33m)\u001b[0m \u001b[1;32mfor\u001b[0m \u001b[0mcol\u001b[0m \u001b[1;32min\u001b[0m \u001b[0mdf\u001b[0m\u001b[1;33m.\u001b[0m\u001b[0mcolumns\u001b[0m\u001b[1;33m)\u001b[0m\u001b[1;33m]\u001b[0m\u001b[1;33m\u001b[0m\u001b[0m\n\u001b[0m",
      "\u001b[1;31mKeyError\u001b[0m: 'AreaName'"
     ]
    }
   ],
   "source": [
    "tuples = [tuple(colmap[col].format(region=MapCode, ProductionType_Name=ProductionType_Name, AreaName=AreaName) for col in df.columns)]"
   ]
  },
  {
   "cell_type": "code",
   "execution_count": null,
   "metadata": {
    "collapsed": false
   },
   "outputs": [],
   "source": [
    "df.columns = pd.MultiIndex.from_tuples(tuples, names=headers)"
   ]
  },
  {
   "cell_type": "code",
   "execution_count": null,
   "metadata": {
    "collapsed": false
   },
   "outputs": [],
   "source": [
    "df"
   ]
  }
 ],
 "metadata": {
  "kernelspec": {
   "display_name": "Python [conda env:opsd_time_series]",
   "language": "python",
   "name": "conda-env-opsd_time_series-py"
  },
  "language_info": {
   "codemirror_mode": {
    "name": "ipython",
    "version": 3
   },
   "file_extension": ".py",
   "mimetype": "text/x-python",
   "name": "python",
   "nbconvert_exporter": "python",
   "pygments_lexer": "ipython3",
   "version": "3.5.3"
  }
 },
 "nbformat": 4,
 "nbformat_minor": 2
}
