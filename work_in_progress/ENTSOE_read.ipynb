{
 "cells": [
  {
   "cell_type": "code",
   "execution_count": null,
   "metadata": {
    "collapsed": true
   },
   "outputs": [],
   "source": [
    "def read_entsoe(filepath, url, headers):\n",
    "    headers = ['region', 'variable', 'attribute', 'source', 'subsource', 'web']\n",
    "    df = pd.read_csv(\n",
    "        filepath,\n",
    "        sep='\\t',\n",
    "        encoding='utf-16',\n",
    "        header=0,\n",
    "        index_col='DateTime',\n",
    "        parse_dates=True,\n",
    "        nrows=20,\n",
    "        )\n",
    "    \n",
    "    df.drop(['year', 'month', 'day', 'AreaTypeCode', 'SubmissionTS'], axis=1, inplace=True)\n",
    "    df.rename(columns ={'ActualConsumption': 'consumption', 'ActualGenerationOutput': 'generation'},inplace=True)\n",
    "    df.set_index(['MapCode','ProductionType_Name','AreaName'],append=True, inplace=True)\n",
    "    df=df.unstack('MapCode')\n",
    "    df=df.unstack('ProductionType_Name')\n",
    "    df=df.unstack('AreaName')\n",
    "    df=pd.concat([df], keys=['ENTSO-E'], names=['source', 'attribute', 'region', 'variable', 'subsource'],axis=1)\n",
    "    df=pd.concat([df], keys= url, names=['web'], axis=1)\n",
    "    df=df.reorder_levels(('region','variable','attribute','source','subsource','web'), axis=1)\n",
    "    \n",
    "    return df"
   ]
  }
 ],
 "metadata": {
  "kernelspec": {
   "display_name": "Python [conda env:opsd_time_series]",
   "language": "python",
   "name": "conda-env-opsd_time_series-py"
  },
  "language_info": {
   "codemirror_mode": {
    "name": "ipython",
    "version": 3
   },
   "file_extension": ".py",
   "mimetype": "text/x-python",
   "name": "python",
   "nbconvert_exporter": "python",
   "pygments_lexer": "ipython3",
   "version": "3.5.3"
  }
 },
 "nbformat": 4,
 "nbformat_minor": 2
}
