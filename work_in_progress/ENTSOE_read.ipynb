{
 "cells": [
  {
   "cell_type": "code",
   "execution_count": null,
   "metadata": {
    "collapsed": true
   },
   "outputs": [],
   "source": [
    "from datetime import datetime, date, timedelta, time\n",
    "import pandas as pd\n",
    "#import numpy as np\n",
    "#import re\n",
    "#import logging\n",
    "#import json\n",
    "#import sqlite3\n",
    "#import yaml\n",
    "#import itertools\n",
    "#import os\n",
    "#import pytz\n",
    "#import hashlib\n",
    "#from shutil import copyfile"
   ]
  },
  {
   "cell_type": "code",
   "execution_count": null,
   "metadata": {
    "collapsed": true
   },
   "outputs": [],
   "source": [
    "url='url'\n",
    "filepath='C:/Users/Neon/Desktop/GitHub/download_entsoe/2017_2_AggregatedGenerationPerType.csv'\n"
   ]
  },
  {
   "cell_type": "code",
   "execution_count": null,
   "metadata": {
    "collapsed": true
   },
   "outputs": [],
   "source": [
    "def read_entsoe_transparency(filepath, url):\n",
    "\n",
    "    headers = ['region', 'variable', 'attribute', \n",
    "                   'source', 'subsource','region_type','web']\n",
    "\n",
    "    df = pd.read_csv(\n",
    "        filepath,\n",
    "        sep='\\t',\n",
    "        encoding='utf-16',\n",
    "        header=0,\n",
    "        index_col=['DateTime'],\n",
    "        parse_dates=True,\n",
    "        converters={'MapCode': lambda y: y[:2]},\n",
    "        nrows=500,\n",
    "        )\n",
    "\n",
    "    df['AreaName']=[x.replace(' CA','').replace(' BZ','') \n",
    "                    for x in df['AreaName']]\n",
    "\n",
    "    df.drop(['year', 'month', 'day'], \n",
    "            axis=1, inplace=True)\n",
    "    \n",
    "    df.rename(columns ={\n",
    "        'ActualConsumption': 'consumption', \n",
    "        'ActualGenerationOutput': 'generation'},inplace=True)\n",
    "    \n",
    "    df.set_index(\n",
    "        ['MapCode','ProductionType_Name','AreaName','AreaTypeCode'],\n",
    "        append=True, inplace=True)\n",
    "    \n",
    "    df=df.unstack('MapCode')\n",
    "    df=df.unstack('ProductionType_Name')\n",
    "    df=df.unstack('AreaName')\n",
    "    df=df.unstack('AreaTypeCode')\n",
    "    \n",
    "    df=pd.concat(\n",
    "        [df], \n",
    "        keys=['ENTSO-E'], \n",
    "        names=['source', 'attribute', 'region', 'variable', 'subsource','region_type'],\n",
    "        axis=1)\n",
    "    \n",
    "    df=pd.concat([df], keys= url, names=['web'], axis=1)\n",
    "    df=df.reorder_levels(headers, axis=1)\n",
    "    \n",
    "    return df"
   ]
  }
 ],
 "metadata": {
  "kernelspec": {
   "display_name": "Python [conda env:opsd_time_series]",
   "language": "python",
   "name": "conda-env-opsd_time_series-py"
  },
  "language_info": {
   "codemirror_mode": {
    "name": "ipython",
    "version": 3
   },
   "file_extension": ".py",
   "mimetype": "text/x-python",
   "name": "python",
   "nbconvert_exporter": "python",
   "pygments_lexer": "ipython3",
   "version": "3.5.3"
  }
 },
 "nbformat": 4,
 "nbformat_minor": 2
}
