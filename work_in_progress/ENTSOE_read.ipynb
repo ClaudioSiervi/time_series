{
 "cells": [
  {
   "cell_type": "code",
   "execution_count": 133,
   "metadata": {
    "collapsed": true
   },
   "outputs": [],
   "source": [
    "from datetime import datetime, date, timedelta, time\n",
    "import pandas as pd\n",
    "import numpy as np\n",
    "import re\n",
    "#import logging\n",
    "#import json\n",
    "#import sqlite3\n",
    "import yaml\n",
    "import itertools\n",
    "import os\n",
    "import pytz\n",
    "import hashlib\n",
    "from shutil import copyfile"
   ]
  },
  {
   "cell_type": "code",
   "execution_count": 2,
   "metadata": {
    "collapsed": true
   },
   "outputs": [],
   "source": [
    "url='url'\n",
    "filepath='C:/Users/Neon/Desktop/GitHub/download_entsoe/2017_2_AggregatedGenerationPerType.csv'\n",
    "headers = ['region', 'variable', 'attribute', 'source', 'subsource','region_type','web']"
   ]
  },
  {
   "cell_type": "code",
   "execution_count": 18,
   "metadata": {
    "collapsed": true
   },
   "outputs": [],
   "source": [
    "def read_entsoe_transparency(filepath, url, headers):\n",
    "    df = pd.read_csv(\n",
    "        filepath,\n",
    "        sep='\\t',\n",
    "        encoding='utf-16',\n",
    "        header=0,\n",
    "        index_col=['DateTime'],\n",
    "        parse_dates=True,\n",
    "        converters=[{'MapCode': lambda x: x[:2]},\n",
    "                    {'AreaName': lambda x: x.replace(' CA','')},\n",
    "                    {'AreaName': lambda x: x.replace(' BZ','')}],\n",
    "        nrows=20,\n",
    "        )\n",
    "    \n",
    "    df.drop(['year', 'month', 'day', 'AreaTypeCode', 'SubmissionTS'], \n",
    "            axis=1, inplace=True)\n",
    "    df.rename(columns ={\n",
    "        'ActualConsumption': 'consumption', \n",
    "        'ActualGenerationOutput': 'generation'},inplace=True)\n",
    "    df.set_index(\n",
    "        ['MapCode','ProductionType_Name','AreaName','AreaTypeCode'],\n",
    "        append=True, inplace=True)\n",
    "    df=df.unstack('MapCode')\n",
    "    df=df.unstack('ProductionType_Name')\n",
    "    df=df.unstack('AreaName')\n",
    "    df=df.unstack('AreaTypeCode')\n",
    "    df=pd.concat(\n",
    "        [df], \n",
    "        keys=['ENTSO-E'], \n",
    "        names=['source', 'attribute', 'region', 'variable', 'subsource'],\n",
    "        axis=1)\n",
    "    df=pd.concat([df], keys= url, names=['web'], axis=1)\n",
    "    df=df.reorder_levels(headers, axis=1)\n",
    "    \n",
    "    return df"
   ]
  },
  {
   "cell_type": "code",
   "execution_count": 152,
   "metadata": {
    "collapsed": false
   },
   "outputs": [
    {
     "ename": "ValueError",
     "evalue": "Length of values does not match length of index",
     "output_type": "error",
     "traceback": [
      "\u001b[1;31m---------------------------------------------------------------------------\u001b[0m",
      "\u001b[1;31mValueError\u001b[0m                                Traceback (most recent call last)",
      "\u001b[1;32m<ipython-input-152-787afedb2840>\u001b[0m in \u001b[0;36m<module>\u001b[1;34m()\u001b[0m\n\u001b[0;32m     19\u001b[0m \u001b[1;31m#df['AreaName'] = df['AreaName'].map(lambda x: x.replace(' CA','')),\u001b[0m\u001b[1;33m\u001b[0m\u001b[1;33m\u001b[0m\u001b[0m\n\u001b[0;32m     20\u001b[0m \u001b[1;31m#df['AreaName'] = df['AreaName'].map(lambda x: x.replace(' BZ','')),\u001b[0m\u001b[1;33m\u001b[0m\u001b[1;33m\u001b[0m\u001b[0m\n\u001b[1;32m---> 21\u001b[1;33m \u001b[0mdf\u001b[0m\u001b[1;33m[\u001b[0m\u001b[1;34m'AreaName'\u001b[0m\u001b[1;33m]\u001b[0m\u001b[1;33m=\u001b[0m\u001b[1;33m[\u001b[0m\u001b[0mx\u001b[0m\u001b[1;33m.\u001b[0m\u001b[0mreplace\u001b[0m\u001b[1;33m(\u001b[0m\u001b[1;34m' CA'\u001b[0m\u001b[1;33m,\u001b[0m\u001b[1;34m''\u001b[0m\u001b[1;33m)\u001b[0m\u001b[1;33m.\u001b[0m\u001b[0mreplace\u001b[0m\u001b[1;33m(\u001b[0m\u001b[1;34m' BZ'\u001b[0m\u001b[1;33m,\u001b[0m\u001b[1;34m''\u001b[0m\u001b[1;33m)\u001b[0m \u001b[1;32mfor\u001b[0m \u001b[0mx\u001b[0m \u001b[1;32min\u001b[0m \u001b[0mlist\u001b[0m\u001b[1;33m(\u001b[0m\u001b[0mdf\u001b[0m\u001b[1;33m[\u001b[0m\u001b[1;34m'AreaName'\u001b[0m\u001b[1;33m]\u001b[0m\u001b[1;33m)\u001b[0m\u001b[1;33m]\u001b[0m\u001b[1;33m,\u001b[0m\u001b[1;33m\u001b[0m\u001b[0m\n\u001b[0m\u001b[0;32m     22\u001b[0m \u001b[1;33m\u001b[0m\u001b[0m\n\u001b[0;32m     23\u001b[0m df.drop(['year', 'month', 'day'], \n",
      "\u001b[1;32mC:\\Users\\Neon\\Anaconda3\\envs\\opsd_time_series\\lib\\site-packages\\pandas\\core\\frame.py\u001b[0m in \u001b[0;36m__setitem__\u001b[1;34m(self, key, value)\u001b[0m\n\u001b[0;32m   2415\u001b[0m         \u001b[1;32melse\u001b[0m\u001b[1;33m:\u001b[0m\u001b[1;33m\u001b[0m\u001b[0m\n\u001b[0;32m   2416\u001b[0m             \u001b[1;31m# set column\u001b[0m\u001b[1;33m\u001b[0m\u001b[1;33m\u001b[0m\u001b[0m\n\u001b[1;32m-> 2417\u001b[1;33m             \u001b[0mself\u001b[0m\u001b[1;33m.\u001b[0m\u001b[0m_set_item\u001b[0m\u001b[1;33m(\u001b[0m\u001b[0mkey\u001b[0m\u001b[1;33m,\u001b[0m \u001b[0mvalue\u001b[0m\u001b[1;33m)\u001b[0m\u001b[1;33m\u001b[0m\u001b[0m\n\u001b[0m\u001b[0;32m   2418\u001b[0m \u001b[1;33m\u001b[0m\u001b[0m\n\u001b[0;32m   2419\u001b[0m     \u001b[1;32mdef\u001b[0m \u001b[0m_setitem_slice\u001b[0m\u001b[1;33m(\u001b[0m\u001b[0mself\u001b[0m\u001b[1;33m,\u001b[0m \u001b[0mkey\u001b[0m\u001b[1;33m,\u001b[0m \u001b[0mvalue\u001b[0m\u001b[1;33m)\u001b[0m\u001b[1;33m:\u001b[0m\u001b[1;33m\u001b[0m\u001b[0m\n",
      "\u001b[1;32mC:\\Users\\Neon\\Anaconda3\\envs\\opsd_time_series\\lib\\site-packages\\pandas\\core\\frame.py\u001b[0m in \u001b[0;36m_set_item\u001b[1;34m(self, key, value)\u001b[0m\n\u001b[0;32m   2481\u001b[0m \u001b[1;33m\u001b[0m\u001b[0m\n\u001b[0;32m   2482\u001b[0m         \u001b[0mself\u001b[0m\u001b[1;33m.\u001b[0m\u001b[0m_ensure_valid_index\u001b[0m\u001b[1;33m(\u001b[0m\u001b[0mvalue\u001b[0m\u001b[1;33m)\u001b[0m\u001b[1;33m\u001b[0m\u001b[0m\n\u001b[1;32m-> 2483\u001b[1;33m         \u001b[0mvalue\u001b[0m \u001b[1;33m=\u001b[0m \u001b[0mself\u001b[0m\u001b[1;33m.\u001b[0m\u001b[0m_sanitize_column\u001b[0m\u001b[1;33m(\u001b[0m\u001b[0mkey\u001b[0m\u001b[1;33m,\u001b[0m \u001b[0mvalue\u001b[0m\u001b[1;33m)\u001b[0m\u001b[1;33m\u001b[0m\u001b[0m\n\u001b[0m\u001b[0;32m   2484\u001b[0m         \u001b[0mNDFrame\u001b[0m\u001b[1;33m.\u001b[0m\u001b[0m_set_item\u001b[0m\u001b[1;33m(\u001b[0m\u001b[0mself\u001b[0m\u001b[1;33m,\u001b[0m \u001b[0mkey\u001b[0m\u001b[1;33m,\u001b[0m \u001b[0mvalue\u001b[0m\u001b[1;33m)\u001b[0m\u001b[1;33m\u001b[0m\u001b[0m\n\u001b[0;32m   2485\u001b[0m \u001b[1;33m\u001b[0m\u001b[0m\n",
      "\u001b[1;32mC:\\Users\\Neon\\Anaconda3\\envs\\opsd_time_series\\lib\\site-packages\\pandas\\core\\frame.py\u001b[0m in \u001b[0;36m_sanitize_column\u001b[1;34m(self, key, value)\u001b[0m\n\u001b[0;32m   2636\u001b[0m \u001b[1;33m\u001b[0m\u001b[0m\n\u001b[0;32m   2637\u001b[0m             \u001b[1;31m# turn me into an ndarray\u001b[0m\u001b[1;33m\u001b[0m\u001b[1;33m\u001b[0m\u001b[0m\n\u001b[1;32m-> 2638\u001b[1;33m             \u001b[0mvalue\u001b[0m \u001b[1;33m=\u001b[0m \u001b[0m_sanitize_index\u001b[0m\u001b[1;33m(\u001b[0m\u001b[0mvalue\u001b[0m\u001b[1;33m,\u001b[0m \u001b[0mself\u001b[0m\u001b[1;33m.\u001b[0m\u001b[0mindex\u001b[0m\u001b[1;33m,\u001b[0m \u001b[0mcopy\u001b[0m\u001b[1;33m=\u001b[0m\u001b[1;32mFalse\u001b[0m\u001b[1;33m)\u001b[0m\u001b[1;33m\u001b[0m\u001b[0m\n\u001b[0m\u001b[0;32m   2639\u001b[0m             \u001b[1;32mif\u001b[0m \u001b[1;32mnot\u001b[0m \u001b[0misinstance\u001b[0m\u001b[1;33m(\u001b[0m\u001b[0mvalue\u001b[0m\u001b[1;33m,\u001b[0m \u001b[1;33m(\u001b[0m\u001b[0mnp\u001b[0m\u001b[1;33m.\u001b[0m\u001b[0mndarray\u001b[0m\u001b[1;33m,\u001b[0m \u001b[0mIndex\u001b[0m\u001b[1;33m)\u001b[0m\u001b[1;33m)\u001b[0m\u001b[1;33m:\u001b[0m\u001b[1;33m\u001b[0m\u001b[0m\n\u001b[0;32m   2640\u001b[0m                 \u001b[1;32mif\u001b[0m \u001b[0misinstance\u001b[0m\u001b[1;33m(\u001b[0m\u001b[0mvalue\u001b[0m\u001b[1;33m,\u001b[0m \u001b[0mlist\u001b[0m\u001b[1;33m)\u001b[0m \u001b[1;32mand\u001b[0m \u001b[0mlen\u001b[0m\u001b[1;33m(\u001b[0m\u001b[0mvalue\u001b[0m\u001b[1;33m)\u001b[0m \u001b[1;33m>\u001b[0m \u001b[1;36m0\u001b[0m\u001b[1;33m:\u001b[0m\u001b[1;33m\u001b[0m\u001b[0m\n",
      "\u001b[1;32mC:\\Users\\Neon\\Anaconda3\\envs\\opsd_time_series\\lib\\site-packages\\pandas\\core\\series.py\u001b[0m in \u001b[0;36m_sanitize_index\u001b[1;34m(data, index, copy)\u001b[0m\n\u001b[0;32m   2796\u001b[0m \u001b[1;33m\u001b[0m\u001b[0m\n\u001b[0;32m   2797\u001b[0m     \u001b[1;32mif\u001b[0m \u001b[0mlen\u001b[0m\u001b[1;33m(\u001b[0m\u001b[0mdata\u001b[0m\u001b[1;33m)\u001b[0m \u001b[1;33m!=\u001b[0m \u001b[0mlen\u001b[0m\u001b[1;33m(\u001b[0m\u001b[0mindex\u001b[0m\u001b[1;33m)\u001b[0m\u001b[1;33m:\u001b[0m\u001b[1;33m\u001b[0m\u001b[0m\n\u001b[1;32m-> 2798\u001b[1;33m         \u001b[1;32mraise\u001b[0m \u001b[0mValueError\u001b[0m\u001b[1;33m(\u001b[0m\u001b[1;34m'Length of values does not match length of '\u001b[0m \u001b[1;34m'index'\u001b[0m\u001b[1;33m)\u001b[0m\u001b[1;33m\u001b[0m\u001b[0m\n\u001b[0m\u001b[0;32m   2799\u001b[0m \u001b[1;33m\u001b[0m\u001b[0m\n\u001b[0;32m   2800\u001b[0m     \u001b[1;32mif\u001b[0m \u001b[0misinstance\u001b[0m\u001b[1;33m(\u001b[0m\u001b[0mdata\u001b[0m\u001b[1;33m,\u001b[0m \u001b[0mPeriodIndex\u001b[0m\u001b[1;33m)\u001b[0m\u001b[1;33m:\u001b[0m\u001b[1;33m\u001b[0m\u001b[0m\n",
      "\u001b[1;31mValueError\u001b[0m: Length of values does not match length of index"
     ]
    }
   ],
   "source": [
    "df = pd.read_csv(\n",
    "    filepath,\n",
    "    sep='\\t',\n",
    "    encoding='utf-16',\n",
    "    header=0,\n",
    "    index_col=['DateTime'],\n",
    "    parse_dates=True,\n",
    "    converters={'MapCode': lambda y: y[:2],\n",
    "                #'AreaName': (lambda x: x.replace(' CA','')),\n",
    "                #'AreaName': map(lambda x: x.replace(' CA','').rstrip(' BZ')),\n",
    "                #'AreaName': lambda z: z.replace(' BZ',''),\n",
    "                },\n",
    "    nrows=20,\n",
    "    )\n",
    "\n",
    "#df['AreaName'].replace(' CA','',inplace=True),\n",
    "#df['AreaName'].re.sub(' CA',''),\n",
    "#df['AreaName'] = df['AreaName'].map(lambda x: x.rstrip(' CA').rstrip(' BZ')),\n",
    "#df['AreaName'] = df['AreaName'].map(lambda x: x.replace(' CA','')),\n",
    "#df['AreaName'] = df['AreaName'].map(lambda x: x.replace(' BZ','')),\n",
    "df['AreaName']=[x.replace(' CA','').replace(' BZ','') for x in list(df['AreaName'])],\n",
    "\n",
    "df.drop(['year', 'month', 'day'], \n",
    "        axis=1, inplace=True)\n",
    "df.rename(columns ={\n",
    "    'ActualConsumption': 'consumption', \n",
    "    'ActualGenerationOutput': 'generation'},inplace=True)\n",
    "df.set_index(\n",
    "    ['MapCode','ProductionType_Name','AreaName','AreaTypeCode'],\n",
    "    append=True, inplace=True)\n",
    "df=df.unstack('MapCode')\n",
    "df=df.unstack('ProductionType_Name')\n",
    "df=df.unstack('AreaName')\n",
    "df=df.unstack('AreaTypeCode')\n",
    "df=pd.concat(\n",
    "    [df], \n",
    "    keys=['ENTSO-E'], \n",
    "    names=['source', 'attribute', 'region', 'variable', 'subsource','region_type'],\n",
    "    axis=1)\n",
    "df=pd.concat([df], keys= url, names=['web'], axis=1)\n",
    "df=df.reorder_levels(headers, axis=1)"
   ]
  },
  {
   "cell_type": "code",
   "execution_count": 153,
   "metadata": {
    "collapsed": false
   },
   "outputs": [],
   "source": [
    "df = pd.read_csv(\n",
    "    filepath,\n",
    "    sep='\\t',\n",
    "    encoding='utf-16',\n",
    "    header=0,\n",
    "    index_col=['DateTime'],\n",
    "    parse_dates=True,\n",
    "    converters={#'MapCode': lambda y: y[:2],\n",
    "                #'AreaName': (lambda x: x.replace(' CA','')),\n",
    "                #'AreaName': map(lambda x: x.replace(' CA','').rstrip(' BZ')),\n",
    "                #'AreaName': lambda z: z.replace(' BZ',''),\n",
    "                #'AreaName': map(lambda x: x.replace(' CA','').replace(' BZ',''))\n",
    "                },\n",
    "    nrows=500,\n",
    "    )"
   ]
  },
  {
   "cell_type": "code",
   "execution_count": 145,
   "metadata": {
    "collapsed": false
   },
   "outputs": [
    {
     "data": {
      "text/plain": [
       "(500,)"
      ]
     },
     "execution_count": 145,
     "metadata": {},
     "output_type": "execute_result"
    }
   ],
   "source": [
    "#df['AreaName'].replace(' CA','',inplace=True),\n",
    "#df['AreaName']= list(df['AreaName'].map(lambda x: x.replace(' CA','').replace(' BZ',''))),\n",
    "#df['AreaName'].apply(lambda x: x.rstrip(' CA')),\n",
    "#len(df['AreaName'].map(lambda x: x.replace(' CA',''))),\n",
    "#df['AreaName'] = df['AreaName'].map(lambda x: x.replace(' BZ','')),\n",
    "#df['MapCode'] = df['MapCode'].map(lambda y: y[:2]),\n",
    "#df['MapCode'] = [w.replace(' CA','') for w in df['MapCode']],\n",
    "#df['MapCode'] = map(lambda x: str.replace(x, ' CA',''), list(df['MapCode']))"
   ]
  },
  {
   "cell_type": "code",
   "execution_count": 143,
   "metadata": {
    "collapsed": false
   },
   "outputs": [
    {
     "data": {
      "text/plain": [
       "500"
      ]
     },
     "execution_count": 143,
     "metadata": {},
     "output_type": "execute_result"
    }
   ],
   "source": [
    "#s=list(s)\n",
    "#len(df['AreaName'].map(lambda x: re.findall(\" CA\", x)))\n",
    "#len(df['AreaName'].index)"
   ]
  },
  {
   "cell_type": "code",
   "execution_count": 171,
   "metadata": {
    "collapsed": false
   },
   "outputs": [
    {
     "ename": "ValueError",
     "evalue": "Length of values does not match length of index",
     "output_type": "error",
     "traceback": [
      "\u001b[1;31m---------------------------------------------------------------------------\u001b[0m",
      "\u001b[1;31mValueError\u001b[0m                                Traceback (most recent call last)",
      "\u001b[1;32m<ipython-input-171-a6a58819cec3>\u001b[0m in \u001b[0;36m<module>\u001b[1;34m()\u001b[0m\n\u001b[1;32m----> 1\u001b[1;33m \u001b[0mdf\u001b[0m\u001b[1;33m[\u001b[0m\u001b[1;34m'AreaName'\u001b[0m\u001b[1;33m]\u001b[0m\u001b[1;33m=\u001b[0m\u001b[1;33m[\u001b[0m\u001b[0mx\u001b[0m\u001b[1;33m.\u001b[0m\u001b[0mreplace\u001b[0m\u001b[1;33m(\u001b[0m\u001b[1;34m' CA'\u001b[0m\u001b[1;33m,\u001b[0m\u001b[1;34m''\u001b[0m\u001b[1;33m)\u001b[0m\u001b[1;33m.\u001b[0m\u001b[0mreplace\u001b[0m\u001b[1;33m(\u001b[0m\u001b[1;34m' BZ'\u001b[0m\u001b[1;33m,\u001b[0m\u001b[1;34m''\u001b[0m\u001b[1;33m)\u001b[0m \u001b[1;32mfor\u001b[0m \u001b[0mx\u001b[0m \u001b[1;32min\u001b[0m \u001b[0mlist\u001b[0m\u001b[1;33m(\u001b[0m\u001b[0mdf\u001b[0m\u001b[1;33m[\u001b[0m\u001b[1;34m'AreaName'\u001b[0m\u001b[1;33m]\u001b[0m\u001b[1;33m)\u001b[0m\u001b[1;33m]\u001b[0m\u001b[1;33m,\u001b[0m\u001b[1;33m\u001b[0m\u001b[0m\n\u001b[0m",
      "\u001b[1;32mC:\\Users\\Neon\\Anaconda3\\envs\\opsd_time_series\\lib\\site-packages\\pandas\\core\\frame.py\u001b[0m in \u001b[0;36m__setitem__\u001b[1;34m(self, key, value)\u001b[0m\n\u001b[0;32m   2415\u001b[0m         \u001b[1;32melse\u001b[0m\u001b[1;33m:\u001b[0m\u001b[1;33m\u001b[0m\u001b[0m\n\u001b[0;32m   2416\u001b[0m             \u001b[1;31m# set column\u001b[0m\u001b[1;33m\u001b[0m\u001b[1;33m\u001b[0m\u001b[0m\n\u001b[1;32m-> 2417\u001b[1;33m             \u001b[0mself\u001b[0m\u001b[1;33m.\u001b[0m\u001b[0m_set_item\u001b[0m\u001b[1;33m(\u001b[0m\u001b[0mkey\u001b[0m\u001b[1;33m,\u001b[0m \u001b[0mvalue\u001b[0m\u001b[1;33m)\u001b[0m\u001b[1;33m\u001b[0m\u001b[0m\n\u001b[0m\u001b[0;32m   2418\u001b[0m \u001b[1;33m\u001b[0m\u001b[0m\n\u001b[0;32m   2419\u001b[0m     \u001b[1;32mdef\u001b[0m \u001b[0m_setitem_slice\u001b[0m\u001b[1;33m(\u001b[0m\u001b[0mself\u001b[0m\u001b[1;33m,\u001b[0m \u001b[0mkey\u001b[0m\u001b[1;33m,\u001b[0m \u001b[0mvalue\u001b[0m\u001b[1;33m)\u001b[0m\u001b[1;33m:\u001b[0m\u001b[1;33m\u001b[0m\u001b[0m\n",
      "\u001b[1;32mC:\\Users\\Neon\\Anaconda3\\envs\\opsd_time_series\\lib\\site-packages\\pandas\\core\\frame.py\u001b[0m in \u001b[0;36m_set_item\u001b[1;34m(self, key, value)\u001b[0m\n\u001b[0;32m   2481\u001b[0m \u001b[1;33m\u001b[0m\u001b[0m\n\u001b[0;32m   2482\u001b[0m         \u001b[0mself\u001b[0m\u001b[1;33m.\u001b[0m\u001b[0m_ensure_valid_index\u001b[0m\u001b[1;33m(\u001b[0m\u001b[0mvalue\u001b[0m\u001b[1;33m)\u001b[0m\u001b[1;33m\u001b[0m\u001b[0m\n\u001b[1;32m-> 2483\u001b[1;33m         \u001b[0mvalue\u001b[0m \u001b[1;33m=\u001b[0m \u001b[0mself\u001b[0m\u001b[1;33m.\u001b[0m\u001b[0m_sanitize_column\u001b[0m\u001b[1;33m(\u001b[0m\u001b[0mkey\u001b[0m\u001b[1;33m,\u001b[0m \u001b[0mvalue\u001b[0m\u001b[1;33m)\u001b[0m\u001b[1;33m\u001b[0m\u001b[0m\n\u001b[0m\u001b[0;32m   2484\u001b[0m         \u001b[0mNDFrame\u001b[0m\u001b[1;33m.\u001b[0m\u001b[0m_set_item\u001b[0m\u001b[1;33m(\u001b[0m\u001b[0mself\u001b[0m\u001b[1;33m,\u001b[0m \u001b[0mkey\u001b[0m\u001b[1;33m,\u001b[0m \u001b[0mvalue\u001b[0m\u001b[1;33m)\u001b[0m\u001b[1;33m\u001b[0m\u001b[0m\n\u001b[0;32m   2485\u001b[0m \u001b[1;33m\u001b[0m\u001b[0m\n",
      "\u001b[1;32mC:\\Users\\Neon\\Anaconda3\\envs\\opsd_time_series\\lib\\site-packages\\pandas\\core\\frame.py\u001b[0m in \u001b[0;36m_sanitize_column\u001b[1;34m(self, key, value)\u001b[0m\n\u001b[0;32m   2636\u001b[0m \u001b[1;33m\u001b[0m\u001b[0m\n\u001b[0;32m   2637\u001b[0m             \u001b[1;31m# turn me into an ndarray\u001b[0m\u001b[1;33m\u001b[0m\u001b[1;33m\u001b[0m\u001b[0m\n\u001b[1;32m-> 2638\u001b[1;33m             \u001b[0mvalue\u001b[0m \u001b[1;33m=\u001b[0m \u001b[0m_sanitize_index\u001b[0m\u001b[1;33m(\u001b[0m\u001b[0mvalue\u001b[0m\u001b[1;33m,\u001b[0m \u001b[0mself\u001b[0m\u001b[1;33m.\u001b[0m\u001b[0mindex\u001b[0m\u001b[1;33m,\u001b[0m \u001b[0mcopy\u001b[0m\u001b[1;33m=\u001b[0m\u001b[1;32mFalse\u001b[0m\u001b[1;33m)\u001b[0m\u001b[1;33m\u001b[0m\u001b[0m\n\u001b[0m\u001b[0;32m   2639\u001b[0m             \u001b[1;32mif\u001b[0m \u001b[1;32mnot\u001b[0m \u001b[0misinstance\u001b[0m\u001b[1;33m(\u001b[0m\u001b[0mvalue\u001b[0m\u001b[1;33m,\u001b[0m \u001b[1;33m(\u001b[0m\u001b[0mnp\u001b[0m\u001b[1;33m.\u001b[0m\u001b[0mndarray\u001b[0m\u001b[1;33m,\u001b[0m \u001b[0mIndex\u001b[0m\u001b[1;33m)\u001b[0m\u001b[1;33m)\u001b[0m\u001b[1;33m:\u001b[0m\u001b[1;33m\u001b[0m\u001b[0m\n\u001b[0;32m   2640\u001b[0m                 \u001b[1;32mif\u001b[0m \u001b[0misinstance\u001b[0m\u001b[1;33m(\u001b[0m\u001b[0mvalue\u001b[0m\u001b[1;33m,\u001b[0m \u001b[0mlist\u001b[0m\u001b[1;33m)\u001b[0m \u001b[1;32mand\u001b[0m \u001b[0mlen\u001b[0m\u001b[1;33m(\u001b[0m\u001b[0mvalue\u001b[0m\u001b[1;33m)\u001b[0m \u001b[1;33m>\u001b[0m \u001b[1;36m0\u001b[0m\u001b[1;33m:\u001b[0m\u001b[1;33m\u001b[0m\u001b[0m\n",
      "\u001b[1;32mC:\\Users\\Neon\\Anaconda3\\envs\\opsd_time_series\\lib\\site-packages\\pandas\\core\\series.py\u001b[0m in \u001b[0;36m_sanitize_index\u001b[1;34m(data, index, copy)\u001b[0m\n\u001b[0;32m   2796\u001b[0m \u001b[1;33m\u001b[0m\u001b[0m\n\u001b[0;32m   2797\u001b[0m     \u001b[1;32mif\u001b[0m \u001b[0mlen\u001b[0m\u001b[1;33m(\u001b[0m\u001b[0mdata\u001b[0m\u001b[1;33m)\u001b[0m \u001b[1;33m!=\u001b[0m \u001b[0mlen\u001b[0m\u001b[1;33m(\u001b[0m\u001b[0mindex\u001b[0m\u001b[1;33m)\u001b[0m\u001b[1;33m:\u001b[0m\u001b[1;33m\u001b[0m\u001b[0m\n\u001b[1;32m-> 2798\u001b[1;33m         \u001b[1;32mraise\u001b[0m \u001b[0mValueError\u001b[0m\u001b[1;33m(\u001b[0m\u001b[1;34m'Length of values does not match length of '\u001b[0m \u001b[1;34m'index'\u001b[0m\u001b[1;33m)\u001b[0m\u001b[1;33m\u001b[0m\u001b[0m\n\u001b[0m\u001b[0;32m   2799\u001b[0m \u001b[1;33m\u001b[0m\u001b[0m\n\u001b[0;32m   2800\u001b[0m     \u001b[1;32mif\u001b[0m \u001b[0misinstance\u001b[0m\u001b[1;33m(\u001b[0m\u001b[0mdata\u001b[0m\u001b[1;33m,\u001b[0m \u001b[0mPeriodIndex\u001b[0m\u001b[1;33m)\u001b[0m\u001b[1;33m:\u001b[0m\u001b[1;33m\u001b[0m\u001b[0m\n",
      "\u001b[1;31mValueError\u001b[0m: Length of values does not match length of index"
     ]
    }
   ],
   "source": [
    "df['AreaName']=[x.replace(' CA','').replace(' BZ','') for x in list(df['AreaName'])],"
   ]
  },
  {
   "cell_type": "code",
   "execution_count": 159,
   "metadata": {
    "collapsed": true
   },
   "outputs": [
    {
     "data": {
      "text/plain": [
       "DateTime\n",
       "2017-02-01 12:15:00         MAVIR CA\n",
       "2017-02-01 12:15:00         MAVIR CA\n",
       "2017-02-01 18:15:00         MAVIR CA\n",
       "2017-02-01 10:00:00         MAVIR CA\n",
       "2017-02-01 11:45:00         MAVIR CA\n",
       "2017-02-23 03:00:00    TransnetBW CA\n",
       "2017-02-23 15:00:00    TransnetBW CA\n",
       "2017-02-23 16:45:00    TransnetBW CA\n",
       "2017-02-23 09:15:00    TransnetBW CA\n",
       "2017-02-23 00:30:00    TransnetBW CA\n",
       "2017-02-23 01:30:00    TransnetBW CA\n",
       "2017-02-23 16:30:00    TransnetBW CA\n",
       "2017-02-10 09:30:00    TransnetBW CA\n",
       "2017-02-10 04:45:00    TransnetBW CA\n",
       "2017-02-10 15:45:00    TransnetBW CA\n",
       "2017-02-10 18:00:00    TransnetBW CA\n",
       "2017-02-10 01:00:00    TransnetBW CA\n",
       "2017-02-10 01:00:00    TransnetBW CA\n",
       "2017-02-10 22:00:00    TransnetBW CA\n",
       "2017-02-10 17:30:00    TransnetBW CA\n",
       "2017-02-10 01:45:00    TransnetBW CA\n",
       "2017-02-10 06:00:00    TransnetBW CA\n",
       "2017-02-10 01:30:00    TransnetBW CA\n",
       "2017-02-10 07:15:00    TransnetBW CA\n",
       "2017-02-10 14:00:00    TransnetBW CA\n",
       "2017-02-10 06:30:00    TransnetBW CA\n",
       "2017-02-09 02:00:00    TransnetBW CA\n",
       "2017-02-09 18:00:00    TransnetBW CA\n",
       "2017-02-09 07:15:00    TransnetBW CA\n",
       "2017-02-09 17:15:00    TransnetBW CA\n",
       "                           ...      \n",
       "2017-02-13 14:00:00       Elering CA\n",
       "2017-02-19 02:45:00    TransnetBW CA\n",
       "2017-02-09 11:30:00    TransnetBW CA\n",
       "2017-02-10 04:30:00    TransnetBW CA\n",
       "2017-02-10 09:00:00    TransnetBW CA\n",
       "2017-02-10 10:30:00    TransnetBW CA\n",
       "2017-02-10 01:15:00    TransnetBW CA\n",
       "2017-02-10 01:15:00    TransnetBW CA\n",
       "2017-02-10 02:30:00    TransnetBW CA\n",
       "2017-02-10 07:00:00    TransnetBW CA\n",
       "2017-02-10 05:45:00    TransnetBW CA\n",
       "2017-02-10 04:15:00    TransnetBW CA\n",
       "2017-02-10 05:30:00    TransnetBW CA\n",
       "2017-02-10 05:00:00    TransnetBW CA\n",
       "2017-02-10 05:00:00    TransnetBW CA\n",
       "2017-02-10 03:45:00    TransnetBW CA\n",
       "2017-02-10 04:45:00    TransnetBW CA\n",
       "2017-02-10 02:00:00    TransnetBW CA\n",
       "2017-02-10 12:30:00    TransnetBW CA\n",
       "2017-02-10 16:30:00    TransnetBW CA\n",
       "2017-02-10 19:30:00    TransnetBW CA\n",
       "2017-02-10 08:15:00    TransnetBW CA\n",
       "2017-02-10 08:15:00    TransnetBW CA\n",
       "2017-02-10 15:30:00    TransnetBW CA\n",
       "2017-02-10 22:15:00    TransnetBW CA\n",
       "2017-02-09 23:15:00    TransnetBW CA\n",
       "2017-02-10 00:00:00    TransnetBW CA\n",
       "2017-02-10 02:30:00    TransnetBW CA\n",
       "2017-02-07 08:30:00    TenneT GER CA\n",
       "2017-02-07 10:30:00    TenneT GER CA\n",
       "Name: AreaName, dtype: object"
      ]
     },
     "execution_count": 159,
     "metadata": {},
     "output_type": "execute_result"
    }
   ],
   "source": [
    "#df.head()\n",
    "df['AreaName']"
   ]
  },
  {
   "cell_type": "code",
   "execution_count": null,
   "metadata": {
    "collapsed": false
   },
   "outputs": [],
   "source": []
  }
 ],
 "metadata": {
  "kernelspec": {
   "display_name": "Python [conda env:opsd_time_series]",
   "language": "python",
   "name": "conda-env-opsd_time_series-py"
  },
  "language_info": {
   "codemirror_mode": {
    "name": "ipython",
    "version": 3
   },
   "file_extension": ".py",
   "mimetype": "text/x-python",
   "name": "python",
   "nbconvert_exporter": "python",
   "pygments_lexer": "ipython3",
   "version": "3.5.3"
  }
 },
 "nbformat": 4,
 "nbformat_minor": 2
}
