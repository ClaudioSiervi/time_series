{
 "cells": [
  {
   "cell_type": "code",
   "execution_count": 1,
   "metadata": {
    "collapsed": true
   },
   "outputs": [],
   "source": [
    "from datetime import datetime, date, timedelta, time\n",
    "import pandas as pd\n",
    "import numpy as np\n",
    "#import logging\n",
    "#import json\n",
    "#import sqlite3\n",
    "import yaml\n",
    "import itertools\n",
    "import os\n",
    "import pytz\n",
    "import hashlib\n",
    "from shutil import copyfile"
   ]
  },
  {
   "cell_type": "code",
   "execution_count": 2,
   "metadata": {
    "collapsed": true
   },
   "outputs": [],
   "source": [
    "url='url'\n",
    "filepath='C:/Users/Neon/Desktop/GitHub/download_entsoe/2017_2_AggregatedGenerationPerType.csv'\n",
    "headers = ['region', 'variable', 'attribute', 'source', 'subsource','region_type','web']"
   ]
  },
  {
   "cell_type": "code",
   "execution_count": 18,
   "metadata": {
    "collapsed": true
   },
   "outputs": [],
   "source": [
    "def read_entsoe_transparency(filepath, url, headers):\n",
    "    df = pd.read_csv(\n",
    "        filepath,\n",
    "        sep='\\t',\n",
    "        encoding='utf-16',\n",
    "        header=0,\n",
    "        index_col=['DateTime'],\n",
    "        parse_dates=True,\n",
    "        converters=[{'MapCode': lambda x: x[:2]},\n",
    "                    {'AreaName': lambda x: x.replace(' CA','')},\n",
    "                    {'AreaName': lambda x: x.replace(' BZ','')}],\n",
    "        nrows=20,\n",
    "        )\n",
    "    \n",
    "    df.drop(['year', 'month', 'day', 'AreaTypeCode', 'SubmissionTS'], \n",
    "            axis=1, inplace=True)\n",
    "    df.rename(columns ={\n",
    "        'ActualConsumption': 'consumption', \n",
    "        'ActualGenerationOutput': 'generation'},inplace=True)\n",
    "    df.set_index(\n",
    "        ['MapCode','ProductionType_Name','AreaName','AreaTypeCode'],\n",
    "        append=True, inplace=True)\n",
    "    df=df.unstack('MapCode')\n",
    "    df=df.unstack('ProductionType_Name')\n",
    "    df=df.unstack('AreaName')\n",
    "    df=df.unstack('AreaTypeCode')\n",
    "    df=pd.concat(\n",
    "        [df], \n",
    "        keys=['ENTSO-E'], \n",
    "        names=['source', 'attribute', 'region', 'variable', 'subsource'],\n",
    "        axis=1)\n",
    "    df=pd.concat([df], keys= url, names=['web'], axis=1)\n",
    "    df=df.reorder_levels(headers, axis=1)\n",
    "    \n",
    "    return df"
   ]
  },
  {
   "cell_type": "code",
   "execution_count": 57,
   "metadata": {
    "collapsed": false
   },
   "outputs": [
    {
     "ename": "AttributeError",
     "evalue": "'Series' object has no attribute 'rstrip'",
     "output_type": "error",
     "traceback": [
      "\u001b[1;31m---------------------------------------------------------------------------\u001b[0m",
      "\u001b[1;31mAttributeError\u001b[0m                            Traceback (most recent call last)",
      "\u001b[1;32m<ipython-input-57-5482f031cb48>\u001b[0m in \u001b[0;36m<module>\u001b[1;34m()\u001b[0m\n\u001b[0;32m     14\u001b[0m     )\n\u001b[0;32m     15\u001b[0m \u001b[1;33m\u001b[0m\u001b[0m\n\u001b[1;32m---> 16\u001b[1;33m \u001b[0mdf\u001b[0m\u001b[1;33m[\u001b[0m\u001b[1;34m'AreaName'\u001b[0m\u001b[1;33m]\u001b[0m\u001b[1;33m.\u001b[0m\u001b[0mrstrip\u001b[0m\u001b[1;33m(\u001b[0m\u001b[1;34m' CA'\u001b[0m\u001b[1;33m,\u001b[0m\u001b[1;34m''\u001b[0m\u001b[1;33m,\u001b[0m\u001b[0minplace\u001b[0m\u001b[1;33m=\u001b[0m\u001b[1;32mTrue\u001b[0m\u001b[1;33m)\u001b[0m\u001b[1;33m,\u001b[0m\u001b[1;33m\u001b[0m\u001b[0m\n\u001b[0m\u001b[0;32m     17\u001b[0m \u001b[1;31m#df['AreaName'].re.sub(' CA',''),\u001b[0m\u001b[1;33m\u001b[0m\u001b[1;33m\u001b[0m\u001b[0m\n\u001b[0;32m     18\u001b[0m \u001b[1;31m#df['AreaName'] = df['AreaName'].map(lambda x: x.rstrip(' CA').rstrip(' BZ')),\u001b[0m\u001b[1;33m\u001b[0m\u001b[1;33m\u001b[0m\u001b[0m\n",
      "\u001b[1;32mC:\\Users\\Neon\\Anaconda3\\envs\\opsd_time_series\\lib\\site-packages\\pandas\\core\\generic.py\u001b[0m in \u001b[0;36m__getattr__\u001b[1;34m(self, name)\u001b[0m\n\u001b[0;32m   2742\u001b[0m             \u001b[1;32mif\u001b[0m \u001b[0mname\u001b[0m \u001b[1;32min\u001b[0m \u001b[0mself\u001b[0m\u001b[1;33m.\u001b[0m\u001b[0m_info_axis\u001b[0m\u001b[1;33m:\u001b[0m\u001b[1;33m\u001b[0m\u001b[0m\n\u001b[0;32m   2743\u001b[0m                 \u001b[1;32mreturn\u001b[0m \u001b[0mself\u001b[0m\u001b[1;33m[\u001b[0m\u001b[0mname\u001b[0m\u001b[1;33m]\u001b[0m\u001b[1;33m\u001b[0m\u001b[0m\n\u001b[1;32m-> 2744\u001b[1;33m             \u001b[1;32mreturn\u001b[0m \u001b[0mobject\u001b[0m\u001b[1;33m.\u001b[0m\u001b[0m__getattribute__\u001b[0m\u001b[1;33m(\u001b[0m\u001b[0mself\u001b[0m\u001b[1;33m,\u001b[0m \u001b[0mname\u001b[0m\u001b[1;33m)\u001b[0m\u001b[1;33m\u001b[0m\u001b[0m\n\u001b[0m\u001b[0;32m   2745\u001b[0m \u001b[1;33m\u001b[0m\u001b[0m\n\u001b[0;32m   2746\u001b[0m     \u001b[1;32mdef\u001b[0m \u001b[0m__setattr__\u001b[0m\u001b[1;33m(\u001b[0m\u001b[0mself\u001b[0m\u001b[1;33m,\u001b[0m \u001b[0mname\u001b[0m\u001b[1;33m,\u001b[0m \u001b[0mvalue\u001b[0m\u001b[1;33m)\u001b[0m\u001b[1;33m:\u001b[0m\u001b[1;33m\u001b[0m\u001b[0m\n",
      "\u001b[1;31mAttributeError\u001b[0m: 'Series' object has no attribute 'rstrip'"
     ]
    }
   ],
   "source": [
    "df = pd.read_csv(\n",
    "    filepath,\n",
    "    sep='\\t',\n",
    "    encoding='utf-16',\n",
    "    header=0,\n",
    "    index_col=['DateTime'],\n",
    "    parse_dates=True,\n",
    "    converters={'MapCode': lambda y: y[:2],\n",
    "                #'AreaName': (lambda x: x.replace(' CA','')),\n",
    "                #'AreaName': map(lambda x: x.replace(' CA','').rstrip(' BZ')),\n",
    "                #'AreaName': lambda z: z.replace(' BZ',''),\n",
    "                },\n",
    "    nrows=20,\n",
    "    )\n",
    "\n",
    "#df['AreaName'].replace(' CA','',inplace=True),\n",
    "#df['AreaName'].re.sub(' CA',''),\n",
    "#df['AreaName'] = df['AreaName'].map(lambda x: x.rstrip(' CA').rstrip(' BZ')),\n",
    "#\n",
    "\n",
    "df.drop(['year', 'month', 'day'], \n",
    "        axis=1, inplace=True)\n",
    "df.rename(columns ={\n",
    "    'ActualConsumption': 'consumption', \n",
    "    'ActualGenerationOutput': 'generation'},inplace=True)\n",
    "df.set_index(\n",
    "    ['MapCode','ProductionType_Name','AreaName','AreaTypeCode'],\n",
    "    append=True, inplace=True)\n",
    "df=df.unstack('MapCode')\n",
    "df=df.unstack('ProductionType_Name')\n",
    "df=df.unstack('AreaName')\n",
    "df=df.unstack('AreaTypeCode')\n",
    "df=pd.concat(\n",
    "    [df], \n",
    "    keys=['ENTSO-E'], \n",
    "    names=['source', 'attribute', 'region', 'variable', 'subsource','region_type'],\n",
    "    axis=1)\n",
    "df=pd.concat([df], keys= url, names=['web'], axis=1)\n",
    "df=df.reorder_levels(headers, axis=1)"
   ]
  },
  {
   "cell_type": "code",
   "execution_count": 75,
   "metadata": {
    "collapsed": true
   },
   "outputs": [],
   "source": [
    "df = pd.read_csv(\n",
    "    filepath,\n",
    "    sep='\\t',\n",
    "    encoding='utf-16',\n",
    "    header=0,\n",
    "    index_col=['DateTime'],\n",
    "    parse_dates=True,\n",
    "    converters={'MapCode': lambda y: y[:2],\n",
    "                #'AreaName': (lambda x: x.replace(' CA','')),\n",
    "                #'AreaName': map(lambda x: x.replace(' CA','').rstrip(' BZ')),\n",
    "                #'AreaName': lambda z: z.replace(' BZ',''),\n",
    "                },\n",
    "    nrows=20,\n",
    "    )"
   ]
  },
  {
   "cell_type": "code",
   "execution_count": 74,
   "metadata": {
    "collapsed": false
   },
   "outputs": [
    {
     "data": {
      "text/plain": [
       "(None,)"
      ]
     },
     "execution_count": 74,
     "metadata": {},
     "output_type": "execute_result"
    }
   ],
   "source": [
    "df['AreaName'].replace(' CA','',inplace=True),\n",
    "#df['AreaName']=df['AreaName'].apply(lambda x: x.rstrip(' CA')),"
   ]
  },
  {
   "cell_type": "code",
   "execution_count": 72,
   "metadata": {
    "collapsed": false
   },
   "outputs": [
    {
     "data": {
      "text/plain": [
       "DateTime\n",
       "2017-02-01 12:15:00         MAVIR CA\n",
       "2017-02-01 12:15:00         MAVIR CA\n",
       "2017-02-01 18:15:00         MAVIR CA\n",
       "2017-02-01 10:00:00         MAVIR CA\n",
       "2017-02-01 11:45:00         MAVIR CA\n",
       "2017-02-23 03:00:00    TransnetBW CA\n",
       "2017-02-23 15:00:00    TransnetBW CA\n",
       "2017-02-23 16:45:00    TransnetBW CA\n",
       "2017-02-23 09:15:00    TransnetBW CA\n",
       "2017-02-23 00:30:00    TransnetBW CA\n",
       "2017-02-23 01:30:00    TransnetBW CA\n",
       "2017-02-23 16:30:00    TransnetBW CA\n",
       "2017-02-10 09:30:00    TransnetBW CA\n",
       "2017-02-10 04:45:00    TransnetBW CA\n",
       "2017-02-10 15:45:00    TransnetBW CA\n",
       "2017-02-10 18:00:00    TransnetBW CA\n",
       "2017-02-10 01:00:00    TransnetBW CA\n",
       "2017-02-10 01:00:00    TransnetBW CA\n",
       "2017-02-10 22:00:00    TransnetBW CA\n",
       "2017-02-10 17:30:00    TransnetBW CA\n",
       "Name: AreaName, dtype: object"
      ]
     },
     "execution_count": 72,
     "metadata": {},
     "output_type": "execute_result"
    }
   ],
   "source": [
    "#df.head()\n",
    "df['AreaName']"
   ]
  },
  {
   "cell_type": "code",
   "execution_count": null,
   "metadata": {
    "collapsed": false
   },
   "outputs": [],
   "source": []
  }
 ],
 "metadata": {
  "kernelspec": {
   "display_name": "Python [conda env:opsd_time_series]",
   "language": "python",
   "name": "conda-env-opsd_time_series-py"
  },
  "language_info": {
   "codemirror_mode": {
    "name": "ipython",
    "version": 3
   },
   "file_extension": ".py",
   "mimetype": "text/x-python",
   "name": "python",
   "nbconvert_exporter": "python",
   "pygments_lexer": "ipython3",
   "version": "3.5.3"
  }
 },
 "nbformat": 4,
 "nbformat_minor": 2
}
